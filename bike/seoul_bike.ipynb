{
  "nbformat": 4,
  "nbformat_minor": 0,
  "metadata": {
    "colab": {
      "provenance": [],
      "collapsed_sections": [],
      "authorship_tag": "ABX9TyOKs8sXbM9TE2mi/XqBvZsc",
      "include_colab_link": true
    },
    "kernelspec": {
      "name": "python3",
      "display_name": "Python 3"
    },
    "language_info": {
      "name": "python"
    }
  },
  "cells": [
    {
      "cell_type": "markdown",
      "metadata": {
        "id": "view-in-github",
        "colab_type": "text"
      },
      "source": [
        "<a href=\"https://colab.research.google.com/github/Sunnnyyy16/Dacon_study/blob/main/bike/seoul_bike.ipynb\" target=\"_parent\"><img src=\"https://colab.research.google.com/assets/colab-badge.svg\" alt=\"Open In Colab\"/></a>"
      ]
    },
    {
      "cell_type": "markdown",
      "source": [
        "# DACON 서울시 따릉이 대여량 예측 경진대회\n",
        "사이트: https://dacon.io/competitions/open/235576/overview/description\n",
        "\n",
        "# 목차\n",
        "1. 데이터 EDA\n",
        "2. 데이터 전처리\n",
        "3. 모델링\n",
        "4. 결론\n",
        "\n",
        "참고\n",
        "\n",
        "https://dacon.io/competitions/open/235576/codeshare/617?page=1&dtype=recent\n",
        "\n",
        "https://velog.io/@dohy426/LGBM-Regressor-Optuna\n",
        "\n",
        "https://dacon.io/competitions/official/235837/codeshare/3724?page=1&dtype=recent\n",
        "\n",
        "https://dacon.io/competitions/official/235837/codeshare/3687?page=1&dtype=recent"
      ],
      "metadata": {
        "id": "Tv8omtISgTtp"
      }
    },
    {
      "cell_type": "markdown",
      "source": [
        "# 데이터 로드"
      ],
      "metadata": {
        "id": "QniqzSLlg0NB"
      }
    },
    {
      "cell_type": "markdown",
      "source": [
        "서울시 마포구의 날짜별, 시간별 기상상황과 따릉이 대여 수 데이터"
      ],
      "metadata": {
        "id": "PvaZCyGL5S3E"
      }
    },
    {
      "cell_type": "code",
      "execution_count": 1,
      "metadata": {
        "colab": {
          "base_uri": "https://localhost:8080/"
        },
        "id": "k_TEeQlKf-NR",
        "outputId": "70e8783c-83d7-4505-f731-43a5b7910b5f"
      },
      "outputs": [
        {
          "output_type": "stream",
          "name": "stdout",
          "text": [
            "Mounted at /gdrive\n"
          ]
        }
      ],
      "source": [
        "from google.colab import drive\n",
        "drive.mount('/gdrive')"
      ]
    },
    {
      "cell_type": "code",
      "source": [
        "import pandas as pd\n",
        "import numpy as np\n",
        "%matplotlib inline\n",
        "import matplotlib.pyplot as plt\n",
        "import seaborn as sns\n",
        "\n",
        "#경고 메시지 숨기기\n",
        "import warnings\n",
        "warnings.filterwarnings(action='ignore')"
      ],
      "metadata": {
        "id": "0X9MGIS6grJ0"
      },
      "execution_count": 2,
      "outputs": []
    },
    {
      "cell_type": "code",
      "source": [
        "!cp /gdrive/MyDrive/Dacon_study/bike/submission.csv ./\n",
        "!cp /gdrive/MyDrive/Dacon_study/bike/test.csv ./\n",
        "!cp /gdrive/MyDrive/Dacon_study/bike/train.csv ./"
      ],
      "metadata": {
        "id": "izMSUIXDgsTC"
      },
      "execution_count": 3,
      "outputs": []
    },
    {
      "cell_type": "code",
      "source": [
        "train= pd.read_csv('train.csv')\n",
        "test= pd.read_csv('test.csv')"
      ],
      "metadata": {
        "id": "8sKhKlkLgxsJ"
      },
      "execution_count": 38,
      "outputs": []
    },
    {
      "cell_type": "code",
      "source": [
        "train.head()"
      ],
      "metadata": {
        "colab": {
          "base_uri": "https://localhost:8080/",
          "height": 206
        },
        "id": "cHO5b7X0i5kK",
        "outputId": "c1c50cd7-bc97-4191-8a02-5feda9111aff"
      },
      "execution_count": 5,
      "outputs": [
        {
          "output_type": "execute_result",
          "data": {
            "text/plain": [
              "   id  hour  hour_bef_temperature  hour_bef_precipitation  hour_bef_windspeed  \\\n",
              "0   3    20                  16.3                     1.0                 1.5   \n",
              "1   6    13                  20.1                     0.0                 1.4   \n",
              "2   7     6                  13.9                     0.0                 0.7   \n",
              "3   8    23                   8.1                     0.0                 2.7   \n",
              "4   9    18                  29.5                     0.0                 4.8   \n",
              "\n",
              "   hour_bef_humidity  hour_bef_visibility  hour_bef_ozone  hour_bef_pm10  \\\n",
              "0               89.0                576.0           0.027           76.0   \n",
              "1               48.0                916.0           0.042           73.0   \n",
              "2               79.0               1382.0           0.033           32.0   \n",
              "3               54.0                946.0           0.040           75.0   \n",
              "4                7.0               2000.0           0.057           27.0   \n",
              "\n",
              "   hour_bef_pm2.5  count  \n",
              "0            33.0   49.0  \n",
              "1            40.0  159.0  \n",
              "2            19.0   26.0  \n",
              "3            64.0   57.0  \n",
              "4            11.0  431.0  "
            ],
            "text/html": [
              "\n",
              "  <div id=\"df-034cc45f-d9b7-4ce9-960b-233833173db6\">\n",
              "    <div class=\"colab-df-container\">\n",
              "      <div>\n",
              "<style scoped>\n",
              "    .dataframe tbody tr th:only-of-type {\n",
              "        vertical-align: middle;\n",
              "    }\n",
              "\n",
              "    .dataframe tbody tr th {\n",
              "        vertical-align: top;\n",
              "    }\n",
              "\n",
              "    .dataframe thead th {\n",
              "        text-align: right;\n",
              "    }\n",
              "</style>\n",
              "<table border=\"1\" class=\"dataframe\">\n",
              "  <thead>\n",
              "    <tr style=\"text-align: right;\">\n",
              "      <th></th>\n",
              "      <th>id</th>\n",
              "      <th>hour</th>\n",
              "      <th>hour_bef_temperature</th>\n",
              "      <th>hour_bef_precipitation</th>\n",
              "      <th>hour_bef_windspeed</th>\n",
              "      <th>hour_bef_humidity</th>\n",
              "      <th>hour_bef_visibility</th>\n",
              "      <th>hour_bef_ozone</th>\n",
              "      <th>hour_bef_pm10</th>\n",
              "      <th>hour_bef_pm2.5</th>\n",
              "      <th>count</th>\n",
              "    </tr>\n",
              "  </thead>\n",
              "  <tbody>\n",
              "    <tr>\n",
              "      <th>0</th>\n",
              "      <td>3</td>\n",
              "      <td>20</td>\n",
              "      <td>16.3</td>\n",
              "      <td>1.0</td>\n",
              "      <td>1.5</td>\n",
              "      <td>89.0</td>\n",
              "      <td>576.0</td>\n",
              "      <td>0.027</td>\n",
              "      <td>76.0</td>\n",
              "      <td>33.0</td>\n",
              "      <td>49.0</td>\n",
              "    </tr>\n",
              "    <tr>\n",
              "      <th>1</th>\n",
              "      <td>6</td>\n",
              "      <td>13</td>\n",
              "      <td>20.1</td>\n",
              "      <td>0.0</td>\n",
              "      <td>1.4</td>\n",
              "      <td>48.0</td>\n",
              "      <td>916.0</td>\n",
              "      <td>0.042</td>\n",
              "      <td>73.0</td>\n",
              "      <td>40.0</td>\n",
              "      <td>159.0</td>\n",
              "    </tr>\n",
              "    <tr>\n",
              "      <th>2</th>\n",
              "      <td>7</td>\n",
              "      <td>6</td>\n",
              "      <td>13.9</td>\n",
              "      <td>0.0</td>\n",
              "      <td>0.7</td>\n",
              "      <td>79.0</td>\n",
              "      <td>1382.0</td>\n",
              "      <td>0.033</td>\n",
              "      <td>32.0</td>\n",
              "      <td>19.0</td>\n",
              "      <td>26.0</td>\n",
              "    </tr>\n",
              "    <tr>\n",
              "      <th>3</th>\n",
              "      <td>8</td>\n",
              "      <td>23</td>\n",
              "      <td>8.1</td>\n",
              "      <td>0.0</td>\n",
              "      <td>2.7</td>\n",
              "      <td>54.0</td>\n",
              "      <td>946.0</td>\n",
              "      <td>0.040</td>\n",
              "      <td>75.0</td>\n",
              "      <td>64.0</td>\n",
              "      <td>57.0</td>\n",
              "    </tr>\n",
              "    <tr>\n",
              "      <th>4</th>\n",
              "      <td>9</td>\n",
              "      <td>18</td>\n",
              "      <td>29.5</td>\n",
              "      <td>0.0</td>\n",
              "      <td>4.8</td>\n",
              "      <td>7.0</td>\n",
              "      <td>2000.0</td>\n",
              "      <td>0.057</td>\n",
              "      <td>27.0</td>\n",
              "      <td>11.0</td>\n",
              "      <td>431.0</td>\n",
              "    </tr>\n",
              "  </tbody>\n",
              "</table>\n",
              "</div>\n",
              "      <button class=\"colab-df-convert\" onclick=\"convertToInteractive('df-034cc45f-d9b7-4ce9-960b-233833173db6')\"\n",
              "              title=\"Convert this dataframe to an interactive table.\"\n",
              "              style=\"display:none;\">\n",
              "        \n",
              "  <svg xmlns=\"http://www.w3.org/2000/svg\" height=\"24px\"viewBox=\"0 0 24 24\"\n",
              "       width=\"24px\">\n",
              "    <path d=\"M0 0h24v24H0V0z\" fill=\"none\"/>\n",
              "    <path d=\"M18.56 5.44l.94 2.06.94-2.06 2.06-.94-2.06-.94-.94-2.06-.94 2.06-2.06.94zm-11 1L8.5 8.5l.94-2.06 2.06-.94-2.06-.94L8.5 2.5l-.94 2.06-2.06.94zm10 10l.94 2.06.94-2.06 2.06-.94-2.06-.94-.94-2.06-.94 2.06-2.06.94z\"/><path d=\"M17.41 7.96l-1.37-1.37c-.4-.4-.92-.59-1.43-.59-.52 0-1.04.2-1.43.59L10.3 9.45l-7.72 7.72c-.78.78-.78 2.05 0 2.83L4 21.41c.39.39.9.59 1.41.59.51 0 1.02-.2 1.41-.59l7.78-7.78 2.81-2.81c.8-.78.8-2.07 0-2.86zM5.41 20L4 18.59l7.72-7.72 1.47 1.35L5.41 20z\"/>\n",
              "  </svg>\n",
              "      </button>\n",
              "      \n",
              "  <style>\n",
              "    .colab-df-container {\n",
              "      display:flex;\n",
              "      flex-wrap:wrap;\n",
              "      gap: 12px;\n",
              "    }\n",
              "\n",
              "    .colab-df-convert {\n",
              "      background-color: #E8F0FE;\n",
              "      border: none;\n",
              "      border-radius: 50%;\n",
              "      cursor: pointer;\n",
              "      display: none;\n",
              "      fill: #1967D2;\n",
              "      height: 32px;\n",
              "      padding: 0 0 0 0;\n",
              "      width: 32px;\n",
              "    }\n",
              "\n",
              "    .colab-df-convert:hover {\n",
              "      background-color: #E2EBFA;\n",
              "      box-shadow: 0px 1px 2px rgba(60, 64, 67, 0.3), 0px 1px 3px 1px rgba(60, 64, 67, 0.15);\n",
              "      fill: #174EA6;\n",
              "    }\n",
              "\n",
              "    [theme=dark] .colab-df-convert {\n",
              "      background-color: #3B4455;\n",
              "      fill: #D2E3FC;\n",
              "    }\n",
              "\n",
              "    [theme=dark] .colab-df-convert:hover {\n",
              "      background-color: #434B5C;\n",
              "      box-shadow: 0px 1px 3px 1px rgba(0, 0, 0, 0.15);\n",
              "      filter: drop-shadow(0px 1px 2px rgba(0, 0, 0, 0.3));\n",
              "      fill: #FFFFFF;\n",
              "    }\n",
              "  </style>\n",
              "\n",
              "      <script>\n",
              "        const buttonEl =\n",
              "          document.querySelector('#df-034cc45f-d9b7-4ce9-960b-233833173db6 button.colab-df-convert');\n",
              "        buttonEl.style.display =\n",
              "          google.colab.kernel.accessAllowed ? 'block' : 'none';\n",
              "\n",
              "        async function convertToInteractive(key) {\n",
              "          const element = document.querySelector('#df-034cc45f-d9b7-4ce9-960b-233833173db6');\n",
              "          const dataTable =\n",
              "            await google.colab.kernel.invokeFunction('convertToInteractive',\n",
              "                                                     [key], {});\n",
              "          if (!dataTable) return;\n",
              "\n",
              "          const docLinkHtml = 'Like what you see? Visit the ' +\n",
              "            '<a target=\"_blank\" href=https://colab.research.google.com/notebooks/data_table.ipynb>data table notebook</a>'\n",
              "            + ' to learn more about interactive tables.';\n",
              "          element.innerHTML = '';\n",
              "          dataTable['output_type'] = 'display_data';\n",
              "          await google.colab.output.renderOutput(dataTable, element);\n",
              "          const docLink = document.createElement('div');\n",
              "          docLink.innerHTML = docLinkHtml;\n",
              "          element.appendChild(docLink);\n",
              "        }\n",
              "      </script>\n",
              "    </div>\n",
              "  </div>\n",
              "  "
            ]
          },
          "metadata": {},
          "execution_count": 5
        }
      ]
    },
    {
      "cell_type": "markdown",
      "source": [
        "* id : 고유 id\n",
        "* hour : 시간\n",
        "* hour_bef_temperature : 기온\n",
        "* hour_bef_precipitation : 비 오지 않았으면 0, 비 오면 1\n",
        "* hour_bef_windspeed : 풍속(평균)\n",
        "* hour_bef_humidity : 습도\n",
        "* hour_bef_visibility : 시정(視程), 시계(視界)(특정 기상 상태에 따른 가시성을 의미)\n",
        "* hour_bef_ozone : 오존\n",
        "* hour_bef_pm10 : 미세먼지(머리카락 굵기의 1/5에서 1/7 크기의 미세먼지)\n",
        "* hour_bef_pm2.5 : 미세먼지(머리카락 굵기의 1/20에서 1/30 크기의 미세먼지)\n",
        "* count : 시간에 따른 따릉이 대여 수"
      ],
      "metadata": {
        "id": "u3dfAhtVjC7i"
      }
    },
    {
      "cell_type": "code",
      "source": [
        "train['hour'].value_counts()"
      ],
      "metadata": {
        "colab": {
          "base_uri": "https://localhost:8080/"
        },
        "id": "o6WmH8rXomWC",
        "outputId": "d9c1e779-26c4-4e6d-f258-8bf7b55a0520"
      },
      "execution_count": null,
      "outputs": [
        {
          "output_type": "execute_result",
          "data": {
            "text/plain": [
              "20    61\n",
              "4     61\n",
              "5     61\n",
              "11    61\n",
              "22    61\n",
              "19    61\n",
              "15    61\n",
              "7     61\n",
              "8     61\n",
              "10    61\n",
              "1     61\n",
              "14    61\n",
              "9     61\n",
              "3     61\n",
              "2     61\n",
              "18    61\n",
              "23    61\n",
              "6     61\n",
              "12    61\n",
              "13    60\n",
              "17    60\n",
              "16    60\n",
              "0     60\n",
              "21    60\n",
              "Name: hour, dtype: int64"
            ]
          },
          "metadata": {},
          "execution_count": 12
        }
      ]
    },
    {
      "cell_type": "markdown",
      "source": [
        "날짜가 없고 시간만 있어서 정확한 EDA 및 분석이 어려울 것 같다."
      ],
      "metadata": {
        "id": "OLKP-bKtoqnA"
      }
    },
    {
      "cell_type": "markdown",
      "source": [
        "## null값 확인"
      ],
      "metadata": {
        "id": "G9CerMXAg3Nh"
      }
    },
    {
      "cell_type": "code",
      "source": [
        "train.isnull().sum()"
      ],
      "metadata": {
        "colab": {
          "base_uri": "https://localhost:8080/"
        },
        "id": "4IpX-CJug6NB",
        "outputId": "a95b97bd-fc02-4f27-cbc1-aacee217848f"
      },
      "execution_count": null,
      "outputs": [
        {
          "output_type": "execute_result",
          "data": {
            "text/plain": [
              "id                          0\n",
              "hour                        0\n",
              "hour_bef_temperature        2\n",
              "hour_bef_precipitation      2\n",
              "hour_bef_windspeed          9\n",
              "hour_bef_humidity           2\n",
              "hour_bef_visibility         2\n",
              "hour_bef_ozone             76\n",
              "hour_bef_pm10              90\n",
              "hour_bef_pm2.5            117\n",
              "count                       0\n",
              "dtype: int64"
            ]
          },
          "metadata": {},
          "execution_count": 7
        }
      ]
    },
    {
      "cell_type": "markdown",
      "source": [
        "null값 존재 --> 처리 필요"
      ],
      "metadata": {
        "id": "wSWHam2AiIY8"
      }
    },
    {
      "cell_type": "code",
      "source": [
        "test.isnull().sum()"
      ],
      "metadata": {
        "colab": {
          "base_uri": "https://localhost:8080/"
        },
        "id": "qgbDJxKpg8w6",
        "outputId": "59a90a90-b0f2-4693-d1cb-314970fffb0a"
      },
      "execution_count": null,
      "outputs": [
        {
          "output_type": "execute_result",
          "data": {
            "text/plain": [
              "id                         0\n",
              "hour                       0\n",
              "hour_bef_temperature       1\n",
              "hour_bef_precipitation     1\n",
              "hour_bef_windspeed         1\n",
              "hour_bef_humidity          1\n",
              "hour_bef_visibility        1\n",
              "hour_bef_ozone            35\n",
              "hour_bef_pm10             37\n",
              "hour_bef_pm2.5            36\n",
              "dtype: int64"
            ]
          },
          "metadata": {},
          "execution_count": 8
        }
      ]
    },
    {
      "cell_type": "markdown",
      "source": [
        "null값 존재 --> 처리 필요"
      ],
      "metadata": {
        "id": "vbb5sJxdiKsS"
      }
    },
    {
      "cell_type": "markdown",
      "source": [
        "## null값 처리"
      ],
      "metadata": {
        "id": "W7Brzc_toyN7"
      }
    },
    {
      "cell_type": "code",
      "source": [
        "train['hour_bef_temperature'] =train['hour_bef_temperature'].fillna(value=train['hour_bef_temperature'].mean())\n",
        "train['hour_bef_precipitation'] =train['hour_bef_precipitation'].fillna(0)\n",
        "train['hour_bef_windspeed'] =train['hour_bef_windspeed'].fillna(value=train['hour_bef_windspeed'].mean())\n",
        "train['hour_bef_humidity'] =train['hour_bef_humidity'].fillna(value=train['hour_bef_humidity'].mean())\n",
        "train['hour_bef_visibility'] =train['hour_bef_visibility'].fillna(value=train['hour_bef_visibility'].mean())\n",
        "train['hour_bef_ozone'] =train['hour_bef_ozone'].fillna(value=train['hour_bef_ozone'].mean())\n",
        "train['hour_bef_pm10'] =train['hour_bef_pm10'].fillna(value=train['hour_bef_pm10'].mean())\n",
        "train['hour_bef_pm2.5'] =train['hour_bef_pm2.5'].fillna(value=train['hour_bef_pm2.5'].mean())"
      ],
      "metadata": {
        "id": "XyW5xeN4k-9V"
      },
      "execution_count": 39,
      "outputs": []
    },
    {
      "cell_type": "markdown",
      "source": [
        "# 01.데이터 EDA"
      ],
      "metadata": {
        "id": "jN7NkwTlk3Q6"
      }
    },
    {
      "cell_type": "code",
      "source": [
        "# 시간대별 자전거 대여량\n",
        "train.groupby(['hour'])['count'].mean().to_frame().reset_index()"
      ],
      "metadata": {
        "colab": {
          "base_uri": "https://localhost:8080/",
          "height": 802
        },
        "id": "dj8Gl-LX32Su",
        "outputId": "ee3b7735-1795-4c1d-f67e-766dd6f3a4f0"
      },
      "execution_count": null,
      "outputs": [
        {
          "output_type": "execute_result",
          "data": {
            "text/plain": [
              "    hour       count\n",
              "0      0   71.766667\n",
              "1      1   47.606557\n",
              "2      2   31.409836\n",
              "3      3   21.377049\n",
              "4      4   13.524590\n",
              "5      5   13.114754\n",
              "6      6   24.557377\n",
              "7      7   62.360656\n",
              "8      8  136.688525\n",
              "9      9   93.540984\n",
              "10    10   78.803279\n",
              "11    11   88.327869\n",
              "12    12  111.901639\n",
              "13    13  120.050000\n",
              "14    14  134.590164\n",
              "15    15  152.967213\n",
              "16    16  169.100000\n",
              "17    17  187.133333\n",
              "18    18  262.163934\n",
              "19    19  201.606557\n",
              "20    20  164.868852\n",
              "21    21  168.816667\n",
              "22    22  148.245902\n",
              "23    23  103.852459"
            ],
            "text/html": [
              "\n",
              "  <div id=\"df-b02e9aa3-029a-43db-b6d1-90f9dbe5e72c\">\n",
              "    <div class=\"colab-df-container\">\n",
              "      <div>\n",
              "<style scoped>\n",
              "    .dataframe tbody tr th:only-of-type {\n",
              "        vertical-align: middle;\n",
              "    }\n",
              "\n",
              "    .dataframe tbody tr th {\n",
              "        vertical-align: top;\n",
              "    }\n",
              "\n",
              "    .dataframe thead th {\n",
              "        text-align: right;\n",
              "    }\n",
              "</style>\n",
              "<table border=\"1\" class=\"dataframe\">\n",
              "  <thead>\n",
              "    <tr style=\"text-align: right;\">\n",
              "      <th></th>\n",
              "      <th>hour</th>\n",
              "      <th>count</th>\n",
              "    </tr>\n",
              "  </thead>\n",
              "  <tbody>\n",
              "    <tr>\n",
              "      <th>0</th>\n",
              "      <td>0</td>\n",
              "      <td>71.766667</td>\n",
              "    </tr>\n",
              "    <tr>\n",
              "      <th>1</th>\n",
              "      <td>1</td>\n",
              "      <td>47.606557</td>\n",
              "    </tr>\n",
              "    <tr>\n",
              "      <th>2</th>\n",
              "      <td>2</td>\n",
              "      <td>31.409836</td>\n",
              "    </tr>\n",
              "    <tr>\n",
              "      <th>3</th>\n",
              "      <td>3</td>\n",
              "      <td>21.377049</td>\n",
              "    </tr>\n",
              "    <tr>\n",
              "      <th>4</th>\n",
              "      <td>4</td>\n",
              "      <td>13.524590</td>\n",
              "    </tr>\n",
              "    <tr>\n",
              "      <th>5</th>\n",
              "      <td>5</td>\n",
              "      <td>13.114754</td>\n",
              "    </tr>\n",
              "    <tr>\n",
              "      <th>6</th>\n",
              "      <td>6</td>\n",
              "      <td>24.557377</td>\n",
              "    </tr>\n",
              "    <tr>\n",
              "      <th>7</th>\n",
              "      <td>7</td>\n",
              "      <td>62.360656</td>\n",
              "    </tr>\n",
              "    <tr>\n",
              "      <th>8</th>\n",
              "      <td>8</td>\n",
              "      <td>136.688525</td>\n",
              "    </tr>\n",
              "    <tr>\n",
              "      <th>9</th>\n",
              "      <td>9</td>\n",
              "      <td>93.540984</td>\n",
              "    </tr>\n",
              "    <tr>\n",
              "      <th>10</th>\n",
              "      <td>10</td>\n",
              "      <td>78.803279</td>\n",
              "    </tr>\n",
              "    <tr>\n",
              "      <th>11</th>\n",
              "      <td>11</td>\n",
              "      <td>88.327869</td>\n",
              "    </tr>\n",
              "    <tr>\n",
              "      <th>12</th>\n",
              "      <td>12</td>\n",
              "      <td>111.901639</td>\n",
              "    </tr>\n",
              "    <tr>\n",
              "      <th>13</th>\n",
              "      <td>13</td>\n",
              "      <td>120.050000</td>\n",
              "    </tr>\n",
              "    <tr>\n",
              "      <th>14</th>\n",
              "      <td>14</td>\n",
              "      <td>134.590164</td>\n",
              "    </tr>\n",
              "    <tr>\n",
              "      <th>15</th>\n",
              "      <td>15</td>\n",
              "      <td>152.967213</td>\n",
              "    </tr>\n",
              "    <tr>\n",
              "      <th>16</th>\n",
              "      <td>16</td>\n",
              "      <td>169.100000</td>\n",
              "    </tr>\n",
              "    <tr>\n",
              "      <th>17</th>\n",
              "      <td>17</td>\n",
              "      <td>187.133333</td>\n",
              "    </tr>\n",
              "    <tr>\n",
              "      <th>18</th>\n",
              "      <td>18</td>\n",
              "      <td>262.163934</td>\n",
              "    </tr>\n",
              "    <tr>\n",
              "      <th>19</th>\n",
              "      <td>19</td>\n",
              "      <td>201.606557</td>\n",
              "    </tr>\n",
              "    <tr>\n",
              "      <th>20</th>\n",
              "      <td>20</td>\n",
              "      <td>164.868852</td>\n",
              "    </tr>\n",
              "    <tr>\n",
              "      <th>21</th>\n",
              "      <td>21</td>\n",
              "      <td>168.816667</td>\n",
              "    </tr>\n",
              "    <tr>\n",
              "      <th>22</th>\n",
              "      <td>22</td>\n",
              "      <td>148.245902</td>\n",
              "    </tr>\n",
              "    <tr>\n",
              "      <th>23</th>\n",
              "      <td>23</td>\n",
              "      <td>103.852459</td>\n",
              "    </tr>\n",
              "  </tbody>\n",
              "</table>\n",
              "</div>\n",
              "      <button class=\"colab-df-convert\" onclick=\"convertToInteractive('df-b02e9aa3-029a-43db-b6d1-90f9dbe5e72c')\"\n",
              "              title=\"Convert this dataframe to an interactive table.\"\n",
              "              style=\"display:none;\">\n",
              "        \n",
              "  <svg xmlns=\"http://www.w3.org/2000/svg\" height=\"24px\"viewBox=\"0 0 24 24\"\n",
              "       width=\"24px\">\n",
              "    <path d=\"M0 0h24v24H0V0z\" fill=\"none\"/>\n",
              "    <path d=\"M18.56 5.44l.94 2.06.94-2.06 2.06-.94-2.06-.94-.94-2.06-.94 2.06-2.06.94zm-11 1L8.5 8.5l.94-2.06 2.06-.94-2.06-.94L8.5 2.5l-.94 2.06-2.06.94zm10 10l.94 2.06.94-2.06 2.06-.94-2.06-.94-.94-2.06-.94 2.06-2.06.94z\"/><path d=\"M17.41 7.96l-1.37-1.37c-.4-.4-.92-.59-1.43-.59-.52 0-1.04.2-1.43.59L10.3 9.45l-7.72 7.72c-.78.78-.78 2.05 0 2.83L4 21.41c.39.39.9.59 1.41.59.51 0 1.02-.2 1.41-.59l7.78-7.78 2.81-2.81c.8-.78.8-2.07 0-2.86zM5.41 20L4 18.59l7.72-7.72 1.47 1.35L5.41 20z\"/>\n",
              "  </svg>\n",
              "      </button>\n",
              "      \n",
              "  <style>\n",
              "    .colab-df-container {\n",
              "      display:flex;\n",
              "      flex-wrap:wrap;\n",
              "      gap: 12px;\n",
              "    }\n",
              "\n",
              "    .colab-df-convert {\n",
              "      background-color: #E8F0FE;\n",
              "      border: none;\n",
              "      border-radius: 50%;\n",
              "      cursor: pointer;\n",
              "      display: none;\n",
              "      fill: #1967D2;\n",
              "      height: 32px;\n",
              "      padding: 0 0 0 0;\n",
              "      width: 32px;\n",
              "    }\n",
              "\n",
              "    .colab-df-convert:hover {\n",
              "      background-color: #E2EBFA;\n",
              "      box-shadow: 0px 1px 2px rgba(60, 64, 67, 0.3), 0px 1px 3px 1px rgba(60, 64, 67, 0.15);\n",
              "      fill: #174EA6;\n",
              "    }\n",
              "\n",
              "    [theme=dark] .colab-df-convert {\n",
              "      background-color: #3B4455;\n",
              "      fill: #D2E3FC;\n",
              "    }\n",
              "\n",
              "    [theme=dark] .colab-df-convert:hover {\n",
              "      background-color: #434B5C;\n",
              "      box-shadow: 0px 1px 3px 1px rgba(0, 0, 0, 0.15);\n",
              "      filter: drop-shadow(0px 1px 2px rgba(0, 0, 0, 0.3));\n",
              "      fill: #FFFFFF;\n",
              "    }\n",
              "  </style>\n",
              "\n",
              "      <script>\n",
              "        const buttonEl =\n",
              "          document.querySelector('#df-b02e9aa3-029a-43db-b6d1-90f9dbe5e72c button.colab-df-convert');\n",
              "        buttonEl.style.display =\n",
              "          google.colab.kernel.accessAllowed ? 'block' : 'none';\n",
              "\n",
              "        async function convertToInteractive(key) {\n",
              "          const element = document.querySelector('#df-b02e9aa3-029a-43db-b6d1-90f9dbe5e72c');\n",
              "          const dataTable =\n",
              "            await google.colab.kernel.invokeFunction('convertToInteractive',\n",
              "                                                     [key], {});\n",
              "          if (!dataTable) return;\n",
              "\n",
              "          const docLinkHtml = 'Like what you see? Visit the ' +\n",
              "            '<a target=\"_blank\" href=https://colab.research.google.com/notebooks/data_table.ipynb>data table notebook</a>'\n",
              "            + ' to learn more about interactive tables.';\n",
              "          element.innerHTML = '';\n",
              "          dataTable['output_type'] = 'display_data';\n",
              "          await google.colab.output.renderOutput(dataTable, element);\n",
              "          const docLink = document.createElement('div');\n",
              "          docLink.innerHTML = docLinkHtml;\n",
              "          element.appendChild(docLink);\n",
              "        }\n",
              "      </script>\n",
              "    </div>\n",
              "  </div>\n",
              "  "
            ]
          },
          "metadata": {},
          "execution_count": 18
        }
      ]
    },
    {
      "cell_type": "code",
      "source": [
        "plt.figure()\n",
        "sns.lineplot(x='hour', y='count', data=train.groupby(['hour'])['count'].mean().to_frame().reset_index())\n",
        "plt.axvline(x=8,color='r')\n",
        "plt.axvline(x=18,color='r')\n",
        "plt.text(6,150, 'go work')\n",
        "plt.text(16,150, 'leave work')\n",
        "plt.title('bike counts per time')\n",
        "plt.show()"
      ],
      "metadata": {
        "colab": {
          "base_uri": "https://localhost:8080/",
          "height": 295
        },
        "id": "YBK-pGWsiEVf",
        "outputId": "8e657782-ff3d-4814-bade-3e75951341bb"
      },
      "execution_count": null,
      "outputs": [
        {
          "output_type": "display_data",
          "data": {
            "text/plain": [
              "<Figure size 432x288 with 1 Axes>"
            ],
            "image/png": "[encoded data removed]"
          },
          "metadata": {
            "needs_background": "light"
          }
        }
      ]
    },
    {
      "cell_type": "code",
      "source": [
        "# boxplot으로 데이터 분포 확인\n",
        "plt.figure(figsize=(12,16))\n",
        "\n",
        "cols= train.columns[2:]\n",
        "for i in range(len(cols)):\n",
        "  plt.subplot(3,3, i+1)\n",
        "  plt.title(cols[i])\n",
        "  plt.boxplot(train[cols[i]])\n",
        "plt.show()"
      ],
      "metadata": {
        "id": "EGB0hfIY3uei",
        "colab": {
          "base_uri": "https://localhost:8080/",
          "height": 852
        },
        "outputId": "7a6b89e1-071e-4f7c-c71f-d3fc9ae5f805"
      },
      "execution_count": null,
      "outputs": [
        {
          "output_type": "display_data",
          "data": {
            "text/plain": [
              "<Figure size 864x1152 with 9 Axes>"
            ],
            "image/png": "[encoded data removed]"
          },
          "metadata": {
            "needs_background": "light"
          }
        }
      ]
    },
    {
      "cell_type": "code",
      "source": [
        "# histplot으로 데이터 분포 확인\n",
        "plt.figure(figsize=(12,16))\n",
        "\n",
        "cols= train.columns[2:]\n",
        "for i in range(len(cols)):\n",
        "  plt.subplot(3,3, i+1)\n",
        "  plt.title(cols[i])\n",
        "  sns.histplot(train[cols[i]])\n",
        "plt.show()"
      ],
      "metadata": {
        "colab": {
          "base_uri": "https://localhost:8080/",
          "height": 843
        },
        "id": "hiUmru4Dz7YS",
        "outputId": "9591f56f-1e32-42d5-a143-16bc33eaa373"
      },
      "execution_count": null,
      "outputs": [
        {
          "output_type": "display_data",
          "data": {
            "text/plain": [
              "<Figure size 864x1152 with 9 Axes>"
            ],
            "image/png": "[encoded data removed]"
          },
          "metadata": {
            "needs_background": "light"
          }
        }
      ]
    },
    {
      "cell_type": "code",
      "source": [
        "train_corr=train.drop(['id','hour'], axis=1)\n",
        "\n",
        "plt.figure(figsize=(10,10))\n",
        "sns.heatmap(data = train_corr.corr(), annot=True, fmt = '.2f', linewidths=.5)"
      ],
      "metadata": {
        "colab": {
          "base_uri": "https://localhost:8080/",
          "height": 715
        },
        "id": "XfnKlIPn2SmA",
        "outputId": "67286614-4a9a-4189-d427-1578321cfcfc"
      },
      "execution_count": null,
      "outputs": [
        {
          "output_type": "execute_result",
          "data": {
            "text/plain": [
              "<matplotlib.axes._subplots.AxesSubplot at 0x7fa14baa5650>"
            ]
          },
          "metadata": {},
          "execution_count": 38
        },
        {
          "output_type": "display_data",
          "data": {
            "text/plain": [
              "<Figure size 720x720 with 2 Axes>"
            ],
            "image/png": "[encoded data removed]"
          },
          "metadata": {
            "needs_background": "light"
          }
        }
      ]
    },
    {
      "cell_type": "markdown",
      "source": [
        "hour_bef_precipitation은 count에 큰 영향을 주지 않는 것 같다. \n",
        "\n",
        "hour_bef_precipitation : 비 오지 않았으면 0, 비 오면 1\n",
        "\n",
        "비가 와도 아주 조금 오면 따릉이 탈 수도 있음. 강수량이 중요하지 강수유무는 안 중요할 수도"
      ],
      "metadata": {
        "id": "XreEGSj2e7Q9"
      }
    },
    {
      "cell_type": "markdown",
      "source": [
        "# 02.데이터 전처리"
      ],
      "metadata": {
        "id": "U8voJlgmyIh-"
      }
    },
    {
      "cell_type": "markdown",
      "source": [
        "## Feature Engineering\n",
        "\n",
        "feature selection, 이미 있는 feature로 새로운 feature 만들기"
      ],
      "metadata": {
        "id": "zQBzjWVt5hQB"
      }
    },
    {
      "cell_type": "markdown",
      "source": [
        "**불쾌지수 feature**"
      ],
      "metadata": {
        "id": "pESSTPCqJH1a"
      }
    },
    {
      "cell_type": "code",
      "source": [
        "# 불쾌지수 함수 만들기\n",
        "def get_discomfort(humidity,temperature):\n",
        "  discomfort = 0.4*(humidity+temperature) +4.8\n",
        "  \n",
        "  return discomfort"
      ],
      "metadata": {
        "id": "Ik_Mub71GHDT"
      },
      "execution_count": 7,
      "outputs": []
    },
    {
      "cell_type": "code",
      "source": [
        "# 불쾌지수 함수로 새 컬럼 만들기\n",
        "train['discomfort'] = [0]* len(train)\n",
        "\n",
        "for i in range(len(train)):\n",
        "  train.discomfort[i] = get_discomfort(train.hour_bef_humidity[i],train.hour_bef_temperature[i])\n",
        "\n",
        "test['discomfort'] = [0] * len(test)\n",
        "for i in range(len(test)):\n",
        "  test.discomfort[i] = get_discomfort(test.hour_bef_humidity[i],test.hour_bef_temperature[i])"
      ],
      "metadata": {
        "id": "6NUFa04vG3jt"
      },
      "execution_count": 40,
      "outputs": []
    },
    {
      "cell_type": "markdown",
      "source": [
        "**hardship 피쳐 추가**"
      ],
      "metadata": {
        "id": "ZJ8E6OPvJXpu"
      }
    },
    {
      "cell_type": "code",
      "source": [
        "train['hardship'] = train['hour_bef_visibility']* train['hour_bef_windspeed']\n",
        "test['hardship'] = test['hour_bef_visibility']* test['hour_bef_windspeed']"
      ],
      "metadata": {
        "id": "JD6VgBuoJg3_"
      },
      "execution_count": 41,
      "outputs": []
    },
    {
      "cell_type": "code",
      "source": [
        "train.head()"
      ],
      "metadata": {
        "colab": {
          "base_uri": "https://localhost:8080/",
          "height": 270
        },
        "id": "q-qx6ps0IRc6",
        "outputId": "b0611a8e-d86c-428e-8256-ab1fd9492d12"
      },
      "execution_count": 42,
      "outputs": [
        {
          "output_type": "execute_result",
          "data": {
            "text/plain": [
              "   id  hour  hour_bef_temperature  hour_bef_precipitation  hour_bef_windspeed  \\\n",
              "0   3    20                  16.3                     1.0                 1.5   \n",
              "1   6    13                  20.1                     0.0                 1.4   \n",
              "2   7     6                  13.9                     0.0                 0.7   \n",
              "3   8    23                   8.1                     0.0                 2.7   \n",
              "4   9    18                  29.5                     0.0                 4.8   \n",
              "\n",
              "   hour_bef_humidity  hour_bef_visibility  hour_bef_ozone  hour_bef_pm10  \\\n",
              "0               89.0                576.0           0.027           76.0   \n",
              "1               48.0                916.0           0.042           73.0   \n",
              "2               79.0               1382.0           0.033           32.0   \n",
              "3               54.0                946.0           0.040           75.0   \n",
              "4                7.0               2000.0           0.057           27.0   \n",
              "\n",
              "   hour_bef_pm2.5  count  discomfort  hardship  \n",
              "0            33.0   49.0          46     864.0  \n",
              "1            40.0  159.0          32    1282.4  \n",
              "2            19.0   26.0          41     967.4  \n",
              "3            64.0   57.0          29    2554.2  \n",
              "4            11.0  431.0          19    9600.0  "
            ],
            "text/html": [
              "\n",
              "  <div id=\"df-1dcb9f56-aa22-4646-a835-5b8d985c759a\">\n",
              "    <div class=\"colab-df-container\">\n",
              "      <div>\n",
              "<style scoped>\n",
              "    .dataframe tbody tr th:only-of-type {\n",
              "        vertical-align: middle;\n",
              "    }\n",
              "\n",
              "    .dataframe tbody tr th {\n",
              "        vertical-align: top;\n",
              "    }\n",
              "\n",
              "    .dataframe thead th {\n",
              "        text-align: right;\n",
              "    }\n",
              "</style>\n",
              "<table border=\"1\" class=\"dataframe\">\n",
              "  <thead>\n",
              "    <tr style=\"text-align: right;\">\n",
              "      <th></th>\n",
              "      <th>id</th>\n",
              "      <th>hour</th>\n",
              "      <th>hour_bef_temperature</th>\n",
              "      <th>hour_bef_precipitation</th>\n",
              "      <th>hour_bef_windspeed</th>\n",
              "      <th>hour_bef_humidity</th>\n",
              "      <th>hour_bef_visibility</th>\n",
              "      <th>hour_bef_ozone</th>\n",
              "      <th>hour_bef_pm10</th>\n",
              "      <th>hour_bef_pm2.5</th>\n",
              "      <th>count</th>\n",
              "      <th>discomfort</th>\n",
              "      <th>hardship</th>\n",
              "    </tr>\n",
              "  </thead>\n",
              "  <tbody>\n",
              "    <tr>\n",
              "      <th>0</th>\n",
              "      <td>3</td>\n",
              "      <td>20</td>\n",
              "      <td>16.3</td>\n",
              "      <td>1.0</td>\n",
              "      <td>1.5</td>\n",
              "      <td>89.0</td>\n",
              "      <td>576.0</td>\n",
              "      <td>0.027</td>\n",
              "      <td>76.0</td>\n",
              "      <td>33.0</td>\n",
              "      <td>49.0</td>\n",
              "      <td>46</td>\n",
              "      <td>864.0</td>\n",
              "    </tr>\n",
              "    <tr>\n",
              "      <th>1</th>\n",
              "      <td>6</td>\n",
              "      <td>13</td>\n",
              "      <td>20.1</td>\n",
              "      <td>0.0</td>\n",
              "      <td>1.4</td>\n",
              "      <td>48.0</td>\n",
              "      <td>916.0</td>\n",
              "      <td>0.042</td>\n",
              "      <td>73.0</td>\n",
              "      <td>40.0</td>\n",
              "      <td>159.0</td>\n",
              "      <td>32</td>\n",
              "      <td>1282.4</td>\n",
              "    </tr>\n",
              "    <tr>\n",
              "      <th>2</th>\n",
              "      <td>7</td>\n",
              "      <td>6</td>\n",
              "      <td>13.9</td>\n",
              "      <td>0.0</td>\n",
              "      <td>0.7</td>\n",
              "      <td>79.0</td>\n",
              "      <td>1382.0</td>\n",
              "      <td>0.033</td>\n",
              "      <td>32.0</td>\n",
              "      <td>19.0</td>\n",
              "      <td>26.0</td>\n",
              "      <td>41</td>\n",
              "      <td>967.4</td>\n",
              "    </tr>\n",
              "    <tr>\n",
              "      <th>3</th>\n",
              "      <td>8</td>\n",
              "      <td>23</td>\n",
              "      <td>8.1</td>\n",
              "      <td>0.0</td>\n",
              "      <td>2.7</td>\n",
              "      <td>54.0</td>\n",
              "      <td>946.0</td>\n",
              "      <td>0.040</td>\n",
              "      <td>75.0</td>\n",
              "      <td>64.0</td>\n",
              "      <td>57.0</td>\n",
              "      <td>29</td>\n",
              "      <td>2554.2</td>\n",
              "    </tr>\n",
              "    <tr>\n",
              "      <th>4</th>\n",
              "      <td>9</td>\n",
              "      <td>18</td>\n",
              "      <td>29.5</td>\n",
              "      <td>0.0</td>\n",
              "      <td>4.8</td>\n",
              "      <td>7.0</td>\n",
              "      <td>2000.0</td>\n",
              "      <td>0.057</td>\n",
              "      <td>27.0</td>\n",
              "      <td>11.0</td>\n",
              "      <td>431.0</td>\n",
              "      <td>19</td>\n",
              "      <td>9600.0</td>\n",
              "    </tr>\n",
              "  </tbody>\n",
              "</table>\n",
              "</div>\n",
              "      <button class=\"colab-df-convert\" onclick=\"convertToInteractive('df-1dcb9f56-aa22-4646-a835-5b8d985c759a')\"\n",
              "              title=\"Convert this dataframe to an interactive table.\"\n",
              "              style=\"display:none;\">\n",
              "        \n",
              "  <svg xmlns=\"http://www.w3.org/2000/svg\" height=\"24px\"viewBox=\"0 0 24 24\"\n",
              "       width=\"24px\">\n",
              "    <path d=\"M0 0h24v24H0V0z\" fill=\"none\"/>\n",
              "    <path d=\"M18.56 5.44l.94 2.06.94-2.06 2.06-.94-2.06-.94-.94-2.06-.94 2.06-2.06.94zm-11 1L8.5 8.5l.94-2.06 2.06-.94-2.06-.94L8.5 2.5l-.94 2.06-2.06.94zm10 10l.94 2.06.94-2.06 2.06-.94-2.06-.94-.94-2.06-.94 2.06-2.06.94z\"/><path d=\"M17.41 7.96l-1.37-1.37c-.4-.4-.92-.59-1.43-.59-.52 0-1.04.2-1.43.59L10.3 9.45l-7.72 7.72c-.78.78-.78 2.05 0 2.83L4 21.41c.39.39.9.59 1.41.59.51 0 1.02-.2 1.41-.59l7.78-7.78 2.81-2.81c.8-.78.8-2.07 0-2.86zM5.41 20L4 18.59l7.72-7.72 1.47 1.35L5.41 20z\"/>\n",
              "  </svg>\n",
              "      </button>\n",
              "      \n",
              "  <style>\n",
              "    .colab-df-container {\n",
              "      display:flex;\n",
              "      flex-wrap:wrap;\n",
              "      gap: 12px;\n",
              "    }\n",
              "\n",
              "    .colab-df-convert {\n",
              "      background-color: #E8F0FE;\n",
              "      border: none;\n",
              "      border-radius: 50%;\n",
              "      cursor: pointer;\n",
              "      display: none;\n",
              "      fill: #1967D2;\n",
              "      height: 32px;\n",
              "      padding: 0 0 0 0;\n",
              "      width: 32px;\n",
              "    }\n",
              "\n",
              "    .colab-df-convert:hover {\n",
              "      background-color: #E2EBFA;\n",
              "      box-shadow: 0px 1px 2px rgba(60, 64, 67, 0.3), 0px 1px 3px 1px rgba(60, 64, 67, 0.15);\n",
              "      fill: #174EA6;\n",
              "    }\n",
              "\n",
              "    [theme=dark] .colab-df-convert {\n",
              "      background-color: #3B4455;\n",
              "      fill: #D2E3FC;\n",
              "    }\n",
              "\n",
              "    [theme=dark] .colab-df-convert:hover {\n",
              "      background-color: #434B5C;\n",
              "      box-shadow: 0px 1px 3px 1px rgba(0, 0, 0, 0.15);\n",
              "      filter: drop-shadow(0px 1px 2px rgba(0, 0, 0, 0.3));\n",
              "      fill: #FFFFFF;\n",
              "    }\n",
              "  </style>\n",
              "\n",
              "      <script>\n",
              "        const buttonEl =\n",
              "          document.querySelector('#df-1dcb9f56-aa22-4646-a835-5b8d985c759a button.colab-df-convert');\n",
              "        buttonEl.style.display =\n",
              "          google.colab.kernel.accessAllowed ? 'block' : 'none';\n",
              "\n",
              "        async function convertToInteractive(key) {\n",
              "          const element = document.querySelector('#df-1dcb9f56-aa22-4646-a835-5b8d985c759a');\n",
              "          const dataTable =\n",
              "            await google.colab.kernel.invokeFunction('convertToInteractive',\n",
              "                                                     [key], {});\n",
              "          if (!dataTable) return;\n",
              "\n",
              "          const docLinkHtml = 'Like what you see? Visit the ' +\n",
              "            '<a target=\"_blank\" href=https://colab.research.google.com/notebooks/data_table.ipynb>data table notebook</a>'\n",
              "            + ' to learn more about interactive tables.';\n",
              "          element.innerHTML = '';\n",
              "          dataTable['output_type'] = 'display_data';\n",
              "          await google.colab.output.renderOutput(dataTable, element);\n",
              "          const docLink = document.createElement('div');\n",
              "          docLink.innerHTML = docLinkHtml;\n",
              "          element.appendChild(docLink);\n",
              "        }\n",
              "      </script>\n",
              "    </div>\n",
              "  </div>\n",
              "  "
            ]
          },
          "metadata": {},
          "execution_count": 42
        }
      ]
    },
    {
      "cell_type": "markdown",
      "source": [
        "## Standard Scaling"
      ],
      "metadata": {
        "id": "y9qqb50Jh8Bh"
      }
    },
    {
      "cell_type": "markdown",
      "source": [
        "column 값들의 단위 통일"
      ],
      "metadata": {
        "id": "LFPTbwZVWySS"
      }
    },
    {
      "cell_type": "code",
      "source": [
        "#Standard scaler\n",
        "from sklearn.preprocessing import LabelEncoder, StandardScaler, MinMaxScaler\n",
        "scaler= StandardScaler()\n",
        "\n",
        "# 변환 필요 없는 feature는 제외\n",
        "transform_df= train.drop(columns=['id','hour','count'])\n",
        "\n",
        "std_transform_df = scaler.fit_transform(transform_df)\n",
        "train[transform_df.columns] = std_transform_df\n",
        "train.head()"
      ],
      "metadata": {
        "id": "wujUqfJih65n",
        "colab": {
          "base_uri": "https://localhost:8080/",
          "height": 270
        },
        "outputId": "27ceb022-0157-4247-b544-724786d73eb1"
      },
      "execution_count": 43,
      "outputs": [
        {
          "output_type": "execute_result",
          "data": {
            "text/plain": [
              "   id  hour  hour_bef_temperature  hour_bef_precipitation  hour_bef_windspeed  \\\n",
              "0   3    20             -0.079758                5.542327           -0.712785   \n",
              "1   6    13              0.646298               -0.180430           -0.785590   \n",
              "2   7     6             -0.538319               -0.180430           -1.295224   \n",
              "3   8    23             -1.646509               -0.180430            0.160874   \n",
              "4   9    18              2.442329               -0.180430            1.689777   \n",
              "\n",
              "   hour_bef_humidity  hour_bef_visibility  hour_bef_ozone  hour_bef_pm10  \\\n",
              "0           1.806866            -1.423470       -0.639833       0.612115   \n",
              "1          -0.207932            -0.839811        0.150152       0.514599   \n",
              "2           1.315452            -0.039855       -0.323839      -0.818116   \n",
              "3           0.086917            -0.788312        0.044821       0.579610   \n",
              "4          -2.222730             1.021031        0.940137      -0.980642   \n",
              "\n",
              "   hour_bef_pm2.5  count  discomfort  hardship  \n",
              "0        0.189489   49.0    1.918593 -1.002645  \n",
              "1        0.685741  159.0    0.012783 -0.853931  \n",
              "2       -0.803016   26.0    1.237946 -0.965893  \n",
              "3        2.387178   57.0   -0.395605 -0.401888  \n",
              "4       -1.370162  431.0   -1.756898  2.102440  "
            ],
            "text/html": [
              "\n",
              "  <div id=\"df-8b9caf7d-b581-4c53-8572-d8ec27e3f324\">\n",
              "    <div class=\"colab-df-container\">\n",
              "      <div>\n",
              "<style scoped>\n",
              "    .dataframe tbody tr th:only-of-type {\n",
              "        vertical-align: middle;\n",
              "    }\n",
              "\n",
              "    .dataframe tbody tr th {\n",
              "        vertical-align: top;\n",
              "    }\n",
              "\n",
              "    .dataframe thead th {\n",
              "        text-align: right;\n",
              "    }\n",
              "</style>\n",
              "<table border=\"1\" class=\"dataframe\">\n",
              "  <thead>\n",
              "    <tr style=\"text-align: right;\">\n",
              "      <th></th>\n",
              "      <th>id</th>\n",
              "      <th>hour</th>\n",
              "      <th>hour_bef_temperature</th>\n",
              "      <th>hour_bef_precipitation</th>\n",
              "      <th>hour_bef_windspeed</th>\n",
              "      <th>hour_bef_humidity</th>\n",
              "      <th>hour_bef_visibility</th>\n",
              "      <th>hour_bef_ozone</th>\n",
              "      <th>hour_bef_pm10</th>\n",
              "      <th>hour_bef_pm2.5</th>\n",
              "      <th>count</th>\n",
              "      <th>discomfort</th>\n",
              "      <th>hardship</th>\n",
              "    </tr>\n",
              "  </thead>\n",
              "  <tbody>\n",
              "    <tr>\n",
              "      <th>0</th>\n",
              "      <td>3</td>\n",
              "      <td>20</td>\n",
              "      <td>-0.079758</td>\n",
              "      <td>5.542327</td>\n",
              "      <td>-0.712785</td>\n",
              "      <td>1.806866</td>\n",
              "      <td>-1.423470</td>\n",
              "      <td>-0.639833</td>\n",
              "      <td>0.612115</td>\n",
              "      <td>0.189489</td>\n",
              "      <td>49.0</td>\n",
              "      <td>1.918593</td>\n",
              "      <td>-1.002645</td>\n",
              "    </tr>\n",
              "    <tr>\n",
              "      <th>1</th>\n",
              "      <td>6</td>\n",
              "      <td>13</td>\n",
              "      <td>0.646298</td>\n",
              "      <td>-0.180430</td>\n",
              "      <td>-0.785590</td>\n",
              "      <td>-0.207932</td>\n",
              "      <td>-0.839811</td>\n",
              "      <td>0.150152</td>\n",
              "      <td>0.514599</td>\n",
              "      <td>0.685741</td>\n",
              "      <td>159.0</td>\n",
              "      <td>0.012783</td>\n",
              "      <td>-0.853931</td>\n",
              "    </tr>\n",
              "    <tr>\n",
              "      <th>2</th>\n",
              "      <td>7</td>\n",
              "      <td>6</td>\n",
              "      <td>-0.538319</td>\n",
              "      <td>-0.180430</td>\n",
              "      <td>-1.295224</td>\n",
              "      <td>1.315452</td>\n",
              "      <td>-0.039855</td>\n",
              "      <td>-0.323839</td>\n",
              "      <td>-0.818116</td>\n",
              "      <td>-0.803016</td>\n",
              "      <td>26.0</td>\n",
              "      <td>1.237946</td>\n",
              "      <td>-0.965893</td>\n",
              "    </tr>\n",
              "    <tr>\n",
              "      <th>3</th>\n",
              "      <td>8</td>\n",
              "      <td>23</td>\n",
              "      <td>-1.646509</td>\n",
              "      <td>-0.180430</td>\n",
              "      <td>0.160874</td>\n",
              "      <td>0.086917</td>\n",
              "      <td>-0.788312</td>\n",
              "      <td>0.044821</td>\n",
              "      <td>0.579610</td>\n",
              "      <td>2.387178</td>\n",
              "      <td>57.0</td>\n",
              "      <td>-0.395605</td>\n",
              "      <td>-0.401888</td>\n",
              "    </tr>\n",
              "    <tr>\n",
              "      <th>4</th>\n",
              "      <td>9</td>\n",
              "      <td>18</td>\n",
              "      <td>2.442329</td>\n",
              "      <td>-0.180430</td>\n",
              "      <td>1.689777</td>\n",
              "      <td>-2.222730</td>\n",
              "      <td>1.021031</td>\n",
              "      <td>0.940137</td>\n",
              "      <td>-0.980642</td>\n",
              "      <td>-1.370162</td>\n",
              "      <td>431.0</td>\n",
              "      <td>-1.756898</td>\n",
              "      <td>2.102440</td>\n",
              "    </tr>\n",
              "  </tbody>\n",
              "</table>\n",
              "</div>\n",
              "      <button class=\"colab-df-convert\" onclick=\"convertToInteractive('df-8b9caf7d-b581-4c53-8572-d8ec27e3f324')\"\n",
              "              title=\"Convert this dataframe to an interactive table.\"\n",
              "              style=\"display:none;\">\n",
              "        \n",
              "  <svg xmlns=\"http://www.w3.org/2000/svg\" height=\"24px\"viewBox=\"0 0 24 24\"\n",
              "       width=\"24px\">\n",
              "    <path d=\"M0 0h24v24H0V0z\" fill=\"none\"/>\n",
              "    <path d=\"M18.56 5.44l.94 2.06.94-2.06 2.06-.94-2.06-.94-.94-2.06-.94 2.06-2.06.94zm-11 1L8.5 8.5l.94-2.06 2.06-.94-2.06-.94L8.5 2.5l-.94 2.06-2.06.94zm10 10l.94 2.06.94-2.06 2.06-.94-2.06-.94-.94-2.06-.94 2.06-2.06.94z\"/><path d=\"M17.41 7.96l-1.37-1.37c-.4-.4-.92-.59-1.43-.59-.52 0-1.04.2-1.43.59L10.3 9.45l-7.72 7.72c-.78.78-.78 2.05 0 2.83L4 21.41c.39.39.9.59 1.41.59.51 0 1.02-.2 1.41-.59l7.78-7.78 2.81-2.81c.8-.78.8-2.07 0-2.86zM5.41 20L4 18.59l7.72-7.72 1.47 1.35L5.41 20z\"/>\n",
              "  </svg>\n",
              "      </button>\n",
              "      \n",
              "  <style>\n",
              "    .colab-df-container {\n",
              "      display:flex;\n",
              "      flex-wrap:wrap;\n",
              "      gap: 12px;\n",
              "    }\n",
              "\n",
              "    .colab-df-convert {\n",
              "      background-color: #E8F0FE;\n",
              "      border: none;\n",
              "      border-radius: 50%;\n",
              "      cursor: pointer;\n",
              "      display: none;\n",
              "      fill: #1967D2;\n",
              "      height: 32px;\n",
              "      padding: 0 0 0 0;\n",
              "      width: 32px;\n",
              "    }\n",
              "\n",
              "    .colab-df-convert:hover {\n",
              "      background-color: #E2EBFA;\n",
              "      box-shadow: 0px 1px 2px rgba(60, 64, 67, 0.3), 0px 1px 3px 1px rgba(60, 64, 67, 0.15);\n",
              "      fill: #174EA6;\n",
              "    }\n",
              "\n",
              "    [theme=dark] .colab-df-convert {\n",
              "      background-color: #3B4455;\n",
              "      fill: #D2E3FC;\n",
              "    }\n",
              "\n",
              "    [theme=dark] .colab-df-convert:hover {\n",
              "      background-color: #434B5C;\n",
              "      box-shadow: 0px 1px 3px 1px rgba(0, 0, 0, 0.15);\n",
              "      filter: drop-shadow(0px 1px 2px rgba(0, 0, 0, 0.3));\n",
              "      fill: #FFFFFF;\n",
              "    }\n",
              "  </style>\n",
              "\n",
              "      <script>\n",
              "        const buttonEl =\n",
              "          document.querySelector('#df-8b9caf7d-b581-4c53-8572-d8ec27e3f324 button.colab-df-convert');\n",
              "        buttonEl.style.display =\n",
              "          google.colab.kernel.accessAllowed ? 'block' : 'none';\n",
              "\n",
              "        async function convertToInteractive(key) {\n",
              "          const element = document.querySelector('#df-8b9caf7d-b581-4c53-8572-d8ec27e3f324');\n",
              "          const dataTable =\n",
              "            await google.colab.kernel.invokeFunction('convertToInteractive',\n",
              "                                                     [key], {});\n",
              "          if (!dataTable) return;\n",
              "\n",
              "          const docLinkHtml = 'Like what you see? Visit the ' +\n",
              "            '<a target=\"_blank\" href=https://colab.research.google.com/notebooks/data_table.ipynb>data table notebook</a>'\n",
              "            + ' to learn more about interactive tables.';\n",
              "          element.innerHTML = '';\n",
              "          dataTable['output_type'] = 'display_data';\n",
              "          await google.colab.output.renderOutput(dataTable, element);\n",
              "          const docLink = document.createElement('div');\n",
              "          docLink.innerHTML = docLinkHtml;\n",
              "          element.appendChild(docLink);\n",
              "        }\n",
              "      </script>\n",
              "    </div>\n",
              "  </div>\n",
              "  "
            ]
          },
          "metadata": {},
          "execution_count": 43
        }
      ]
    },
    {
      "cell_type": "markdown",
      "source": [
        "# 03.모델 생성 (LGBM) 및 학습"
      ],
      "metadata": {
        "id": "cYiw7X8ByLdQ"
      }
    },
    {
      "cell_type": "markdown",
      "source": [
        "## train, val 데이터셋 split"
      ],
      "metadata": {
        "id": "VZaiYxIF1_Qz"
      }
    },
    {
      "cell_type": "code",
      "source": [
        "# 상관관계가 낮게 나온 hour_bef_precipitation 빼기\n",
        "X = train.drop(['id','hour','count','hour_bef_precipitation'],axis=1)\n",
        "y = train['count']"
      ],
      "metadata": {
        "id": "cP_IwlY7D03R"
      },
      "execution_count": 44,
      "outputs": []
    },
    {
      "cell_type": "code",
      "source": [
        "from sklearn.model_selection import train_test_split\n",
        "# feature engineering 적용 전 데이터\n",
        "train_x, val_x, train_y, val_y = train_test_split(X,y,test_size=.25, random_state=42)"
      ],
      "metadata": {
        "id": "AaB7PNHYD03S"
      },
      "execution_count": 45,
      "outputs": []
    },
    {
      "cell_type": "markdown",
      "source": [
        "## 학습"
      ],
      "metadata": {
        "id": "Qpq_DcJP2OH4"
      }
    },
    {
      "cell_type": "code",
      "source": [
        "# 모델링 라이브러리\n",
        "# 모델링 관련 라이브러리\n",
        "from sklearn.metrics import mean_squared_error, mean_absolute_error, roc_auc_score, precision_score, confusion_matrix, classification_report\n",
        "import lightgbm as lgbm\n",
        "from lightgbm import LGBMRegressor"
      ],
      "metadata": {
        "id": "q5kwS6v3yKbm"
      },
      "execution_count": 13,
      "outputs": []
    },
    {
      "cell_type": "code",
      "source": [
        "def Model(model):\n",
        "    model.fit(train_x,train_y)\n",
        "    score = model.score(val_x,val_y)\n",
        "    model_train_score= model.score(train_x,train_y)\n",
        "    model_test_score=model.score(val_x,val_y)\n",
        "    prediction = model.predict(val_x)\n",
        "    print(\"Testing Score\\n\", score)"
      ],
      "metadata": {
        "id": "Sz7SOvMv16mN"
      },
      "execution_count": 14,
      "outputs": []
    },
    {
      "cell_type": "code",
      "source": [
        "lgbm_reg = LGBMRegressor(n_estimators=200, random_state=42, eval_set=[train_x,train_y])\n",
        "\n",
        "print(len(train_x), len(val_x))\n",
        "lgbm_reg.fit(train_x, train_y)\n",
        "pred = lgbm_reg.predict(val_x)\n",
        "mse= mean_squared_error(val_y,pred)\n",
        "rmse= mse**(1/2)\n",
        "\n",
        "print(\"RMSE : \", rmse)"
      ],
      "metadata": {
        "colab": {
          "base_uri": "https://localhost:8080/"
        },
        "id": "uJ_dp7Yl2mZg",
        "outputId": "5fd8a7b6-207c-4917-84e7-33366bf69e75"
      },
      "execution_count": 46,
      "outputs": [
        {
          "output_type": "stream",
          "name": "stdout",
          "text": [
            "1094 365\n",
            "RMSE :  50.97559599820699\n"
          ]
        }
      ]
    },
    {
      "cell_type": "code",
      "source": [
        "Model(lgbm_reg)"
      ],
      "metadata": {
        "colab": {
          "base_uri": "https://localhost:8080/"
        },
        "id": "V0bCrPFW2v0l",
        "outputId": "612fcb95-08a9-42b5-8123-3ed686fedea8"
      },
      "execution_count": 16,
      "outputs": [
        {
          "output_type": "stream",
          "name": "stdout",
          "text": [
            "Testing Score\n",
            " 0.633393481013721\n"
          ]
        }
      ]
    },
    {
      "cell_type": "code",
      "source": [
        "lgbm.plot_importance(lgbm_reg)"
      ],
      "metadata": {
        "colab": {
          "base_uri": "https://localhost:8080/",
          "height": 313
        },
        "id": "uD-gQNs9em7G",
        "outputId": "900ebd52-88d5-4c53-ff99-d9d7ab8ff0c2"
      },
      "execution_count": 47,
      "outputs": [
        {
          "output_type": "execute_result",
          "data": {
            "text/plain": [
              "<matplotlib.axes._subplots.AxesSubplot at 0x7f22cab758d0>"
            ]
          },
          "metadata": {},
          "execution_count": 47
        },
        {
          "output_type": "display_data",
          "data": {
            "text/plain": [
              "<Figure size 432x288 with 1 Axes>"
            ],
            "image/png": "[encoded data removed]"
          },
          "metadata": {
            "needs_background": "light"
          }
        }
      ]
    },
    {
      "cell_type": "markdown",
      "source": [
        "## 하이퍼파라미터 튜닝 - optuna"
      ],
      "metadata": {
        "id": "draw9UOSj1xX"
      }
    },
    {
      "cell_type": "code",
      "source": [
        "!pip install optuna"
      ],
      "metadata": {
        "id": "BW3FxqbrU96V",
        "colab": {
          "base_uri": "https://localhost:8080/"
        },
        "outputId": "4ae29637-098f-4204-fa23-d62dd2d74490"
      },
      "execution_count": 18,
      "outputs": [
        {
          "output_type": "stream",
          "name": "stdout",
          "text": [
            "Looking in indexes: https://pypi.org/simple, https://us-python.pkg.dev/colab-wheels/public/simple/\n",
            "Collecting optuna\n",
            "  Downloading optuna-3.0.3-py3-none-any.whl (348 kB)\n",
            "\u001b[K     |████████████████████████████████| 348 kB 7.7 MB/s \n",
            "\u001b[?25hCollecting alembic>=1.5.0\n",
            "  Downloading alembic-1.8.1-py3-none-any.whl (209 kB)\n",
            "\u001b[K     |████████████████████████████████| 209 kB 64.7 MB/s \n",
            "\u001b[?25hRequirement already satisfied: scipy<1.9.0,>=1.7.0 in /usr/local/lib/python3.7/dist-packages (from optuna) (1.7.3)\n",
            "Requirement already satisfied: tqdm in /usr/local/lib/python3.7/dist-packages (from optuna) (4.64.1)\n",
            "Collecting cmaes>=0.8.2\n",
            "  Downloading cmaes-0.9.0-py3-none-any.whl (23 kB)\n",
            "Requirement already satisfied: packaging>=20.0 in /usr/local/lib/python3.7/dist-packages (from optuna) (21.3)\n",
            "Requirement already satisfied: importlib-metadata<5.0.0 in /usr/local/lib/python3.7/dist-packages (from optuna) (4.13.0)\n",
            "Requirement already satisfied: numpy in /usr/local/lib/python3.7/dist-packages (from optuna) (1.21.6)\n",
            "Requirement already satisfied: PyYAML in /usr/local/lib/python3.7/dist-packages (from optuna) (6.0)\n",
            "Requirement already satisfied: sqlalchemy>=1.3.0 in /usr/local/lib/python3.7/dist-packages (from optuna) (1.4.43)\n",
            "Collecting colorlog\n",
            "  Downloading colorlog-6.7.0-py2.py3-none-any.whl (11 kB)\n",
            "Collecting cliff\n",
            "  Downloading cliff-3.10.1-py3-none-any.whl (81 kB)\n",
            "\u001b[K     |████████████████████████████████| 81 kB 10.0 MB/s \n",
            "\u001b[?25hCollecting Mako\n",
            "  Downloading Mako-1.2.3-py3-none-any.whl (78 kB)\n",
            "\u001b[K     |████████████████████████████████| 78 kB 7.7 MB/s \n",
            "\u001b[?25hRequirement already satisfied: importlib-resources in /usr/local/lib/python3.7/dist-packages (from alembic>=1.5.0->optuna) (5.10.0)\n",
            "Requirement already satisfied: typing-extensions>=3.6.4 in /usr/local/lib/python3.7/dist-packages (from importlib-metadata<5.0.0->optuna) (4.1.1)\n",
            "Requirement already satisfied: zipp>=0.5 in /usr/local/lib/python3.7/dist-packages (from importlib-metadata<5.0.0->optuna) (3.10.0)\n",
            "Requirement already satisfied: pyparsing!=3.0.5,>=2.0.2 in /usr/local/lib/python3.7/dist-packages (from packaging>=20.0->optuna) (3.0.9)\n",
            "Requirement already satisfied: greenlet!=0.4.17 in /usr/local/lib/python3.7/dist-packages (from sqlalchemy>=1.3.0->optuna) (2.0.1)\n",
            "Collecting pbr!=2.1.0,>=2.0.0\n",
            "  Downloading pbr-5.11.0-py2.py3-none-any.whl (112 kB)\n",
            "\u001b[K     |████████████████████████████████| 112 kB 71.1 MB/s \n",
            "\u001b[?25hCollecting cmd2>=1.0.0\n",
            "  Downloading cmd2-2.4.2-py3-none-any.whl (147 kB)\n",
            "\u001b[K     |████████████████████████████████| 147 kB 58.9 MB/s \n",
            "\u001b[?25hCollecting autopage>=0.4.0\n",
            "  Downloading autopage-0.5.1-py3-none-any.whl (29 kB)\n",
            "Collecting stevedore>=2.0.1\n",
            "  Downloading stevedore-3.5.2-py3-none-any.whl (50 kB)\n",
            "\u001b[K     |████████████████████████████████| 50 kB 5.9 MB/s \n",
            "\u001b[?25hRequirement already satisfied: PrettyTable>=0.7.2 in /usr/local/lib/python3.7/dist-packages (from cliff->optuna) (3.5.0)\n",
            "Requirement already satisfied: attrs>=16.3.0 in /usr/local/lib/python3.7/dist-packages (from cmd2>=1.0.0->cliff->optuna) (22.1.0)\n",
            "Collecting pyperclip>=1.6\n",
            "  Downloading pyperclip-1.8.2.tar.gz (20 kB)\n",
            "Requirement already satisfied: wcwidth>=0.1.7 in /usr/local/lib/python3.7/dist-packages (from cmd2>=1.0.0->cliff->optuna) (0.2.5)\n",
            "Requirement already satisfied: MarkupSafe>=0.9.2 in /usr/local/lib/python3.7/dist-packages (from Mako->alembic>=1.5.0->optuna) (2.0.1)\n",
            "Building wheels for collected packages: pyperclip\n",
            "  Building wheel for pyperclip (setup.py) ... \u001b[?25l\u001b[?25hdone\n",
            "  Created wheel for pyperclip: filename=pyperclip-1.8.2-py3-none-any.whl size=11137 sha256=52a8fb8cc499f8d3a53dd11ec9d7884f40b22931c9fe549179b95b6ace3d3a46\n",
            "  Stored in directory: /root/.cache/pip/wheels/9f/18/84/8f69f8b08169c7bae2dde6bd7daf0c19fca8c8e500ee620a28\n",
            "Successfully built pyperclip\n",
            "Installing collected packages: pyperclip, pbr, stevedore, Mako, cmd2, autopage, colorlog, cmaes, cliff, alembic, optuna\n",
            "Successfully installed Mako-1.2.3 alembic-1.8.1 autopage-0.5.1 cliff-3.10.1 cmaes-0.9.0 cmd2-2.4.2 colorlog-6.7.0 optuna-3.0.3 pbr-5.11.0 pyperclip-1.8.2 stevedore-3.5.2\n"
          ]
        }
      ]
    },
    {
      "cell_type": "code",
      "source": [
        "# Optuna Libraries\n",
        "import optuna\n",
        "from optuna import Trial\n",
        "from optuna.samplers import TPESampler"
      ],
      "metadata": {
        "id": "x91wA6NYFL8O"
      },
      "execution_count": 19,
      "outputs": []
    },
    {
      "cell_type": "code",
      "source": [
        "# random sampler\n",
        "sampler = TPESampler(seed=10)\n",
        "\n",
        "# define function\n",
        "def objective(trial):\n",
        "\n",
        "    lgbm_param = {\n",
        "        'objective': 'regression',\n",
        "        'verbose': -1,\n",
        "        'metric': 'mse', \n",
        "        'num_leaves': trial.suggest_int('num_leaves', 2, 1024, step=1, log=True), \n",
        "        'colsample_bytree': trial.suggest_uniform('colsample_bytree', 0.7, 1.0),\n",
        "        'reg_alpha': trial.suggest_uniform('reg_alpha', 0.0, 1.0),\n",
        "        'reg_lambda': trial.suggest_uniform('reg_lambda', 0.0, 10.0),\n",
        "        'max_depth': trial.suggest_int('max_depth',3, 15),\n",
        "        'learning_rate': trial.suggest_loguniform(\"learning_rate\", 1e-8, 1e-2),\n",
        "        'n_estimators': trial.suggest_int('n_estimators', 100, 3000),\n",
        "        'min_child_samples': trial.suggest_int('min_child_samples', 5, 100),\n",
        "        'subsample': trial.suggest_loguniform('subsample', 0.4, 1),\n",
        "    }\n",
        "\n",
        "    # Generate model\n",
        "    model_lgbm = LGBMRegressor(**lgbm_param)\n",
        "    model_lgbm = model_lgbm.fit(train_x, train_y, eval_set=[(val_x, val_y)], \n",
        "                           verbose=0, early_stopping_rounds=25)\n",
        "                           \n",
        "    # * 평기 지표이다.\n",
        "    # 원하는 평가 지표에 따라 사용하기                        \n",
        "    MSE = mean_squared_error(val_y, model_lgbm.predict(val_x))\n",
        "    return MSE\n",
        "\n",
        "optuna_lgbm = optuna.create_study(direction='minimize', sampler=sampler)\n",
        "\n",
        "# * n_trials의 경우 optuna를 몇번 실행하여 hyper parameter를 찾을 것인지를 정한다.\n",
        "# 50으로 설정해도 유의미한 값이 나온다.\n",
        "optuna_lgbm.optimize(objective, n_trials=100)"
      ],
      "metadata": {
        "colab": {
          "base_uri": "https://localhost:8080/"
        },
        "id": "aUm6HGhiFUxk",
        "outputId": "897a3084-f48c-4ab2-aa54-a5ad9804aeb3"
      },
      "execution_count": 48,
      "outputs": [
        {
          "output_type": "stream",
          "name": "stderr",
          "text": [
            "\u001b[32m[I 2022-11-15 07:24:32,675]\u001b[0m A new study created in memory with name: no-name-cb508a82-b7e7-4a11-aa56-d2f8de7c00a3\u001b[0m\n",
            "\u001b[32m[I 2022-11-15 07:24:32,918]\u001b[0m Trial 0 finished with value: 7077.415477502956 and parameters: {'num_leaves': 230, 'colsample_bytree': 0.7062255848078204, 'reg_alpha': 0.6336482349262754, 'reg_lambda': 7.488038825386118, 'max_depth': 9, 'learning_rate': 2.2324403996622945e-07, 'n_estimators': 674, 'min_child_samples': 78, 'subsample': 0.46704202331689854}. Best is trial 0 with value: 7077.415477502956.\u001b[0m\n",
            "\u001b[32m[I 2022-11-15 07:24:33,276]\u001b[0m Trial 1 finished with value: 3876.6272338543085 and parameters: {'num_leaves': 3, 'colsample_bytree': 0.9056079455103392, 'reg_alpha': 0.9533933461949365, 'reg_lambda': 0.039482663279144514, 'max_depth': 9, 'learning_rate': 0.0007511484404875245, 'n_estimators': 1876, 'min_child_samples': 74, 'subsample': 0.5226478358414336}. Best is trial 1 with value: 3876.6272338543085.\u001b[0m\n",
            "\u001b[32m[I 2022-11-15 07:24:34,281]\u001b[0m Trial 2 finished with value: 6154.935532427598 and parameters: {'num_leaves': 599, 'colsample_bytree': 0.9143727350193072, 'reg_alpha': 0.5425443680112613, 'reg_lambda': 1.4217004760152696, 'max_depth': 7, 'learning_rate': 0.00011086684542255971, 'n_estimators': 1381, 'min_child_samples': 46, 'subsample': 0.7045213978206539}. Best is trial 1 with value: 3876.6272338543085.\u001b[0m\n",
            "\u001b[32m[I 2022-11-15 07:24:35,680]\u001b[0m Trial 3 finished with value: 2847.2697362104977 and parameters: {'num_leaves': 43, 'colsample_bytree': 0.8951191545794401, 'reg_alpha': 0.6010389534045444, 'reg_lambda': 8.052231968327465, 'max_depth': 9, 'learning_rate': 0.00283069634962167, 'n_estimators': 1026, 'min_child_samples': 13, 'subsample': 0.5268907502792566}. Best is trial 3 with value: 2847.2697362104977.\u001b[0m\n",
            "\u001b[32m[I 2022-11-15 07:24:35,825]\u001b[0m Trial 4 finished with value: 5086.789252977505 and parameters: {'num_leaves': 3, 'colsample_bytree': 0.948604397892303, 'reg_alpha': 0.04689631938924976, 'reg_lambda': 6.262871483113925, 'max_depth': 10, 'learning_rate': 0.0008236106883720722, 'n_estimators': 677, 'min_child_samples': 87, 'subsample': 0.5520731753100153}. Best is trial 3 with value: 2847.2697362104977.\u001b[0m\n",
            "\u001b[32m[I 2022-11-15 07:24:35,966]\u001b[0m Trial 5 finished with value: 7073.047281780973 and parameters: {'num_leaves': 207, 'colsample_bytree': 0.7887885120639035, 'reg_alpha': 0.8839364795611863, 'reg_lambda': 3.255116378322488, 'max_depth': 5, 'learning_rate': 2.2655594541621946e-06, 'n_estimators': 371, 'min_child_samples': 83, 'subsample': 0.4594195026585646}. Best is trial 3 with value: 2847.2697362104977.\u001b[0m\n",
            "\u001b[32m[I 2022-11-15 07:24:36,598]\u001b[0m Trial 6 finished with value: 7074.525487589907 and parameters: {'num_leaves': 18, 'colsample_bytree': 0.9832782136716404, 'reg_alpha': 0.9876254749018722, 'reg_lambda': 4.5630454709478405, 'max_depth': 13, 'learning_rate': 3.222884970956972e-07, 'n_estimators': 1832, 'min_child_samples': 91, 'subsample': 0.6528027663077773}. Best is trial 3 with value: 2847.2697362104977.\u001b[0m\n",
            "\u001b[32m[I 2022-11-15 07:24:39,274]\u001b[0m Trial 7 finished with value: 7062.401366462927 and parameters: {'num_leaves': 71, 'colsample_bytree': 0.7117845301676161, 'reg_alpha': 0.3571817586345363, 'reg_lambda': 0.7961309015596418, 'max_depth': 6, 'learning_rate': 9.645302925851516e-07, 'n_estimators': 2344, 'min_child_samples': 8, 'subsample': 0.5928872521372353}. Best is trial 3 with value: 2847.2697362104977.\u001b[0m\n",
            "\u001b[32m[I 2022-11-15 07:24:40,594]\u001b[0m Trial 8 finished with value: 3804.0534448108315 and parameters: {'num_leaves': 12, 'colsample_bytree': 0.8909473429202633, 'reg_alpha': 0.34634715008003303, 'reg_lambda': 0.4309735620499444, 'max_depth': 14, 'learning_rate': 0.00037970255794292015, 'n_estimators': 2647, 'min_child_samples': 45, 'subsample': 0.6966963456486692}. Best is trial 3 with value: 2847.2697362104977.\u001b[0m\n",
            "\u001b[32m[I 2022-11-15 07:24:40,826]\u001b[0m Trial 9 finished with value: 7074.966870233476 and parameters: {'num_leaves': 43, 'colsample_bytree': 0.8793509943888921, 'reg_alpha': 0.2622156611319503, 'reg_lambda': 3.008713089407072, 'max_depth': 3, 'learning_rate': 6.582265015630127e-07, 'n_estimators': 802, 'min_child_samples': 58, 'subsample': 0.6715801632692119}. Best is trial 3 with value: 2847.2697362104977.\u001b[0m\n",
            "\u001b[32m[I 2022-11-15 07:24:41,225]\u001b[0m Trial 10 finished with value: 2851.4230958149105 and parameters: {'num_leaves': 11, 'colsample_bytree': 0.8252784025370007, 'reg_alpha': 0.7369821398975037, 'reg_lambda': 9.006976226721207, 'max_depth': 11, 'learning_rate': 0.006753045330443924, 'n_estimators': 1309, 'min_child_samples': 7, 'subsample': 0.9163865857314029}. Best is trial 3 with value: 2847.2697362104977.\u001b[0m\n",
            "\u001b[32m[I 2022-11-15 07:24:41,492]\u001b[0m Trial 11 finished with value: 2882.3217762837376 and parameters: {'num_leaves': 10, 'colsample_bytree': 0.7758529818379843, 'reg_alpha': 0.7269965722688396, 'reg_lambda': 9.926885546737706, 'max_depth': 12, 'learning_rate': 0.009840849968468825, 'n_estimators': 1314, 'min_child_samples': 8, 'subsample': 0.9505076760352583}. Best is trial 3 with value: 2847.2697362104977.\u001b[0m\n",
            "\u001b[32m[I 2022-11-15 07:24:42,244]\u001b[0m Trial 12 finished with value: 7078.213989265586 and parameters: {'num_leaves': 24, 'colsample_bytree': 0.8246691377489116, 'reg_alpha': 0.7823154265217608, 'reg_lambda': 9.395472656832945, 'max_depth': 11, 'learning_rate': 1.0639270780907802e-08, 'n_estimators': 1105, 'min_child_samples': 25, 'subsample': 0.9437813372408435}. Best is trial 3 with value: 2847.2697362104977.\u001b[0m\n",
            "\u001b[32m[I 2022-11-15 07:24:42,702]\u001b[0m Trial 13 finished with value: 2801.0494378684352 and parameters: {'num_leaves': 6, 'colsample_bytree': 0.8456473254372532, 'reg_alpha': 0.4827572983680284, 'reg_lambda': 8.000175587987796, 'max_depth': 15, 'learning_rate': 0.00856860234139886, 'n_estimators': 1761, 'min_child_samples': 28, 'subsample': 0.8134472543992756}. Best is trial 13 with value: 2801.0494378684352.\u001b[0m\n",
            "\u001b[32m[I 2022-11-15 07:24:44,055]\u001b[0m Trial 14 finished with value: 6709.452157219304 and parameters: {'num_leaves': 97, 'colsample_bytree': 0.8522304800718374, 'reg_alpha': 0.4982808333785529, 'reg_lambda': 7.368980826231416, 'max_depth': 15, 'learning_rate': 3.2936677191843005e-05, 'n_estimators': 1896, 'min_child_samples': 27, 'subsample': 0.80520566758213}. Best is trial 13 with value: 2801.0494378684352.\u001b[0m\n",
            "\u001b[32m[I 2022-11-15 07:24:44,140]\u001b[0m Trial 15 finished with value: 5522.240964389619 and parameters: {'num_leaves': 5, 'colsample_bytree': 0.9380318248475354, 'reg_alpha': 0.4807873694977275, 'reg_lambda': 7.9166780855524905, 'max_depth': 8, 'learning_rate': 0.0025278489011428015, 'n_estimators': 136, 'min_child_samples': 27, 'subsample': 0.7606182062675182}. Best is trial 13 with value: 2801.0494378684352.\u001b[0m\n",
            "\u001b[32m[I 2022-11-15 07:24:44,444]\u001b[0m Trial 16 finished with value: 6768.717226337084 and parameters: {'num_leaves': 2, 'colsample_bytree': 0.8537782789406069, 'reg_alpha': 0.1597604594966175, 'reg_lambda': 5.510043318960464, 'max_depth': 15, 'learning_rate': 3.3084624099556916e-05, 'n_estimators': 2223, 'min_child_samples': 19, 'subsample': 0.401489458535456}. Best is trial 13 with value: 2801.0494378684352.\u001b[0m\n",
            "\u001b[32m[I 2022-11-15 07:24:45,413]\u001b[0m Trial 17 finished with value: 4923.69131697126 and parameters: {'num_leaves': 6, 'colsample_bytree': 0.7709420869255278, 'reg_alpha': 0.6038387508112777, 'reg_lambda': 6.379916569663121, 'max_depth': 13, 'learning_rate': 0.00019310118622838283, 'n_estimators': 2935, 'min_child_samples': 36, 'subsample': 0.8114151983817338}. Best is trial 13 with value: 2801.0494378684352.\u001b[0m\n",
            "\u001b[32m[I 2022-11-15 07:24:45,808]\u001b[0m Trial 18 finished with value: 3126.117616643857 and parameters: {'num_leaves': 43, 'colsample_bytree': 0.9939373673187554, 'reg_alpha': 0.41384481688687247, 'reg_lambda': 8.397115868364512, 'max_depth': 4, 'learning_rate': 0.002475823879140736, 'n_estimators': 1000, 'min_child_samples': 60, 'subsample': 0.5814435133200513}. Best is trial 13 with value: 2801.0494378684352.\u001b[0m\n",
            "\u001b[32m[I 2022-11-15 07:24:47,268]\u001b[0m Trial 19 finished with value: 6968.822980277247 and parameters: {'num_leaves': 158, 'colsample_bytree': 0.815044549669411, 'reg_alpha': 0.23147921614622285, 'reg_lambda': 6.4022156044403, 'max_depth': 7, 'learning_rate': 1.0264915087383553e-05, 'n_estimators': 1663, 'min_child_samples': 17, 'subsample': 0.5122252026323316}. Best is trial 13 with value: 2801.0494378684352.\u001b[0m\n",
            "\u001b[32m[I 2022-11-15 07:24:49,040]\u001b[0m Trial 20 finished with value: 2713.5771121680714 and parameters: {'num_leaves': 791, 'colsample_bytree': 0.7445735415305897, 'reg_alpha': 0.6289817109631246, 'reg_lambda': 4.498519697036748, 'max_depth': 10, 'learning_rate': 0.0027709763997417003, 'n_estimators': 2352, 'min_child_samples': 38, 'subsample': 0.41357935451393607}. Best is trial 20 with value: 2713.5771121680714.\u001b[0m\n",
            "\u001b[32m[I 2022-11-15 07:24:50,646]\u001b[0m Trial 21 finished with value: 2788.7921699039953 and parameters: {'num_leaves': 936, 'colsample_bytree': 0.7388279180757745, 'reg_alpha': 0.6421882380905846, 'reg_lambda': 4.298477316286878, 'max_depth': 10, 'learning_rate': 0.002295307406262036, 'n_estimators': 2247, 'min_child_samples': 43, 'subsample': 0.4007650896794095}. Best is trial 20 with value: 2713.5771121680714.\u001b[0m\n",
            "\u001b[32m[I 2022-11-15 07:24:52,466]\u001b[0m Trial 22 finished with value: 2980.5561519796815 and parameters: {'num_leaves': 981, 'colsample_bytree': 0.7385573172201502, 'reg_alpha': 0.828381280763398, 'reg_lambda': 4.282811416163129, 'max_depth': 11, 'learning_rate': 0.0011669936224427476, 'n_estimators': 2245, 'min_child_samples': 36, 'subsample': 0.4067606801648843}. Best is trial 20 with value: 2713.5771121680714.\u001b[0m\n",
            "\u001b[32m[I 2022-11-15 07:24:53,072]\u001b[0m Trial 23 finished with value: 2692.8367059302964 and parameters: {'num_leaves': 446, 'colsample_bytree': 0.7361211418002712, 'reg_alpha': 0.6635997010376871, 'reg_lambda': 3.288793745677272, 'max_depth': 13, 'learning_rate': 0.009741742981548248, 'n_estimators': 2542, 'min_child_samples': 40, 'subsample': 0.44619224068060653}. Best is trial 23 with value: 2692.8367059302964.\u001b[0m\n",
            "\u001b[32m[I 2022-11-15 07:24:54,043]\u001b[0m Trial 24 finished with value: 5799.914344017394 and parameters: {'num_leaves': 433, 'colsample_bytree': 0.7420806677090466, 'reg_alpha': 0.6726858684741718, 'reg_lambda': 2.702296405070823, 'max_depth': 12, 'learning_rate': 0.00010060385942679866, 'n_estimators': 2612, 'min_child_samples': 100, 'subsample': 0.44673505052376594}. Best is trial 23 with value: 2692.8367059302964.\u001b[0m\n",
            "\u001b[32m[I 2022-11-15 07:24:55,670]\u001b[0m Trial 25 finished with value: 2778.054753453597 and parameters: {'num_leaves': 874, 'colsample_bytree': 0.7370054065970145, 'reg_alpha': 0.6770177453520484, 'reg_lambda': 3.7350970060245166, 'max_depth': 10, 'learning_rate': 0.0027424551013187507, 'n_estimators': 2940, 'min_child_samples': 66, 'subsample': 0.43317561594324255}. Best is trial 23 with value: 2692.8367059302964.\u001b[0m\n",
            "\u001b[32m[I 2022-11-15 07:24:57,108]\u001b[0m Trial 26 finished with value: 4281.264190111798 and parameters: {'num_leaves': 354, 'colsample_bytree': 0.7567454258245477, 'reg_alpha': 0.8908051220563213, 'reg_lambda': 2.062929282349039, 'max_depth': 13, 'learning_rate': 0.00027319013540760774, 'n_estimators': 2929, 'min_child_samples': 64, 'subsample': 0.43389366206851265}. Best is trial 23 with value: 2692.8367059302964.\u001b[0m\n",
            "\u001b[32m[I 2022-11-15 07:24:58,681]\u001b[0m Trial 27 finished with value: 3345.219872509086 and parameters: {'num_leaves': 509, 'colsample_bytree': 0.7955277412577303, 'reg_alpha': 0.7080368697937076, 'reg_lambda': 3.6370201452742523, 'max_depth': 10, 'learning_rate': 0.0005765601560221031, 'n_estimators': 2657, 'min_child_samples': 52, 'subsample': 0.48271576164131946}. Best is trial 23 with value: 2692.8367059302964.\u001b[0m\n",
            "\u001b[32m[I 2022-11-15 07:24:59,549]\u001b[0m Trial 28 finished with value: 2792.023428899795 and parameters: {'num_leaves': 320, 'colsample_bytree': 0.722278569812514, 'reg_alpha': 0.8383670137465854, 'reg_lambda': 5.498905174271315, 'max_depth': 12, 'learning_rate': 0.004469265140859923, 'n_estimators': 2515, 'min_child_samples': 67, 'subsample': 0.4318963984432141}. Best is trial 23 with value: 2692.8367059302964.\u001b[0m\n",
            "\u001b[32m[I 2022-11-15 07:25:00,855]\u001b[0m Trial 29 finished with value: 6507.7025632934565 and parameters: {'num_leaves': 704, 'colsample_bytree': 0.7015217635493668, 'reg_alpha': 0.560528489745416, 'reg_lambda': 2.406284116606903, 'max_depth': 8, 'learning_rate': 3.600260555755578e-05, 'n_estimators': 2800, 'min_child_samples': 73, 'subsample': 0.4807035398222111}. Best is trial 23 with value: 2692.8367059302964.\u001b[0m\n",
            "\u001b[32m[I 2022-11-15 07:25:02,002]\u001b[0m Trial 30 finished with value: 2904.290957906189 and parameters: {'num_leaves': 134, 'colsample_bytree': 0.7629071377889451, 'reg_alpha': 0.7647379008162313, 'reg_lambda': 3.755649726398152, 'max_depth': 14, 'learning_rate': 0.001459127315404302, 'n_estimators': 2087, 'min_child_samples': 53, 'subsample': 0.49205796277924724}. Best is trial 23 with value: 2692.8367059302964.\u001b[0m\n",
            "\u001b[32m[I 2022-11-15 07:25:03,531]\u001b[0m Trial 31 finished with value: 7077.920574848794 and parameters: {'num_leaves': 950, 'colsample_bytree': 0.7343863439481753, 'reg_alpha': 0.6745210493813073, 'reg_lambda': 4.949852450102441, 'max_depth': 10, 'learning_rate': 2.603531809709675e-08, 'n_estimators': 2324, 'min_child_samples': 39, 'subsample': 0.42273001601142257}. Best is trial 23 with value: 2692.8367059302964.\u001b[0m\n",
            "\u001b[32m[I 2022-11-15 07:25:04,868]\u001b[0m Trial 32 finished with value: 2882.1440358482596 and parameters: {'num_leaves': 261, 'colsample_bytree': 0.7221502009209259, 'reg_alpha': 0.6277501724581054, 'reg_lambda': 3.9659085773029132, 'max_depth': 8, 'learning_rate': 0.0016660513353102288, 'n_estimators': 2068, 'min_child_samples': 42, 'subsample': 0.4593295195599203}. Best is trial 23 with value: 2692.8367059302964.\u001b[0m\n",
            "\u001b[32m[I 2022-11-15 07:25:05,845]\u001b[0m Trial 33 finished with value: 2731.732062400609 and parameters: {'num_leaves': 684, 'colsample_bytree': 0.7482426984093914, 'reg_alpha': 0.5576808823562189, 'reg_lambda': 1.7533899605532484, 'max_depth': 9, 'learning_rate': 0.004746580184276133, 'n_estimators': 2497, 'min_child_samples': 50, 'subsample': 0.4034967830975772}. Best is trial 23 with value: 2692.8367059302964.\u001b[0m\n",
            "\u001b[32m[I 2022-11-15 07:25:06,724]\u001b[0m Trial 34 finished with value: 2707.1426600252253 and parameters: {'num_leaves': 594, 'colsample_bytree': 0.7831813292042417, 'reg_alpha': 0.5460944538940478, 'reg_lambda': 1.85581610622316, 'max_depth': 9, 'learning_rate': 0.004894227746132815, 'n_estimators': 2467, 'min_child_samples': 51, 'subsample': 0.42541208079385556}. Best is trial 23 with value: 2692.8367059302964.\u001b[0m\n",
            "\u001b[32m[I 2022-11-15 07:25:07,294]\u001b[0m Trial 35 finished with value: 2691.528399216328 and parameters: {'num_leaves': 538, 'colsample_bytree': 0.7990949887162464, 'reg_alpha': 0.5419926580015092, 'reg_lambda': 1.7638055892528353, 'max_depth': 9, 'learning_rate': 0.00943167373879321, 'n_estimators': 2468, 'min_child_samples': 50, 'subsample': 0.5135968514467513}. Best is trial 35 with value: 2691.528399216328.\u001b[0m\n",
            "\u001b[32m[I 2022-11-15 07:25:09,290]\u001b[0m Trial 36 finished with value: 3006.9812083117345 and parameters: {'num_leaves': 459, 'colsample_bytree': 0.7961611556702496, 'reg_alpha': 0.43848033132088476, 'reg_lambda': 0.8176373188381401, 'max_depth': 7, 'learning_rate': 0.0009120257782167855, 'n_estimators': 2429, 'min_child_samples': 33, 'subsample': 0.5625297070362018}. Best is trial 35 with value: 2691.528399216328.\u001b[0m\n",
            "\u001b[32m[I 2022-11-15 07:25:10,093]\u001b[0m Trial 37 finished with value: 2750.8188391245903 and parameters: {'num_leaves': 224, 'colsample_bytree': 0.7849423980024384, 'reg_alpha': 0.5391143339399564, 'reg_lambda': 1.7731271035272298, 'max_depth': 6, 'learning_rate': 0.005051061615328366, 'n_estimators': 2081, 'min_child_samples': 57, 'subsample': 0.5328417387374239}. Best is trial 35 with value: 2691.528399216328.\u001b[0m\n",
            "\u001b[32m[I 2022-11-15 07:25:10,579]\u001b[0m Trial 38 finished with value: 2713.4421932111873 and parameters: {'num_leaves': 584, 'colsample_bytree': 0.801432491461119, 'reg_alpha': 0.4047665844464874, 'reg_lambda': 1.4776758799041407, 'max_depth': 9, 'learning_rate': 0.00952421241016063, 'n_estimators': 1542, 'min_child_samples': 49, 'subsample': 0.5078905624478955}. Best is trial 35 with value: 2691.528399216328.\u001b[0m\n",
            "\u001b[32m[I 2022-11-15 07:25:10,970]\u001b[0m Trial 39 finished with value: 2787.0442706555996 and parameters: {'num_leaves': 156, 'colsample_bytree': 0.8087883640751423, 'reg_alpha': 0.36703956131611193, 'reg_lambda': 1.1654331551286337, 'max_depth': 9, 'learning_rate': 0.009189038996646201, 'n_estimators': 1510, 'min_child_samples': 74, 'subsample': 0.6162201166309339}. Best is trial 35 with value: 2691.528399216328.\u001b[0m\n",
            "\u001b[32m[I 2022-11-15 07:25:12,181]\u001b[0m Trial 40 finished with value: 3816.444177171112 and parameters: {'num_leaves': 74, 'colsample_bytree': 0.8340904751256348, 'reg_alpha': 0.4098232066706344, 'reg_lambda': 0.11299425594013779, 'max_depth': 8, 'learning_rate': 0.0005010151060469159, 'n_estimators': 1975, 'min_child_samples': 48, 'subsample': 0.5132939052941681}. Best is trial 35 with value: 2691.528399216328.\u001b[0m\n",
            "\u001b[32m[I 2022-11-15 07:25:13,244]\u001b[0m Trial 41 finished with value: 2703.5296279726153 and parameters: {'num_leaves': 352, 'colsample_bytree': 0.7771792584179021, 'reg_alpha': 0.5580098279288366, 'reg_lambda': 2.369080393417777, 'max_depth': 9, 'learning_rate': 0.004275378684692822, 'n_estimators': 2735, 'min_child_samples': 54, 'subsample': 0.46719503007547925}. Best is trial 35 with value: 2691.528399216328.\u001b[0m\n",
            "\u001b[32m[I 2022-11-15 07:25:13,970]\u001b[0m Trial 42 finished with value: 2735.6499728192175 and parameters: {'num_leaves': 542, 'colsample_bytree': 0.8080879953796705, 'reg_alpha': 0.299155322100912, 'reg_lambda': 2.4958932249576207, 'max_depth': 9, 'learning_rate': 0.005488437847569225, 'n_estimators': 2782, 'min_child_samples': 54, 'subsample': 0.4591466777797469}. Best is trial 35 with value: 2691.528399216328.\u001b[0m\n",
            "\u001b[32m[I 2022-11-15 07:25:15,767]\u001b[0m Trial 43 finished with value: 2982.9703758289784 and parameters: {'num_leaves': 329, 'colsample_bytree': 0.7792573414383549, 'reg_alpha': 0.5575894639187143, 'reg_lambda': 1.394561739286334, 'max_depth': 7, 'learning_rate': 0.0008558430912651843, 'n_estimators': 2788, 'min_child_samples': 47, 'subsample': 0.4929851317615386}. Best is trial 35 with value: 2691.528399216328.\u001b[0m\n",
            "\u001b[32m[I 2022-11-15 07:25:16,321]\u001b[0m Trial 44 finished with value: 2721.8230609956645 and parameters: {'num_leaves': 248, 'colsample_bytree': 0.7693816834264203, 'reg_alpha': 0.5179856795398732, 'reg_lambda': 2.9617794432585303, 'max_depth': 9, 'learning_rate': 0.00989819838537917, 'n_estimators': 1540, 'min_child_samples': 57, 'subsample': 0.5543401118454434}. Best is trial 35 with value: 2691.528399216328.\u001b[0m\n",
            "\u001b[32m[I 2022-11-15 07:25:17,198]\u001b[0m Trial 45 finished with value: 2799.892753485348 and parameters: {'num_leaves': 374, 'colsample_bytree': 0.8727526071172979, 'reg_alpha': 0.4577329788609326, 'reg_lambda': 2.1564689961726495, 'max_depth': 6, 'learning_rate': 0.0041266079010918, 'n_estimators': 2611, 'min_child_samples': 61, 'subsample': 0.46811576131332183}. Best is trial 35 with value: 2691.528399216328.\u001b[0m\n",
            "\u001b[32m[I 2022-11-15 07:25:18,487]\u001b[0m Trial 46 finished with value: 7077.200555331436 and parameters: {'num_leaves': 585, 'colsample_bytree': 0.7915605296936905, 'reg_alpha': 0.5979313759843894, 'reg_lambda': 0.8765876251712658, 'max_depth': 11, 'learning_rate': 9.38521698324613e-08, 'n_estimators': 1701, 'min_child_samples': 42, 'subsample': 0.44925522811652346}. Best is trial 35 with value: 2691.528399216328.\u001b[0m\n",
            "\u001b[32m[I 2022-11-15 07:25:20,686]\u001b[0m Trial 47 finished with value: 2796.284998633705 and parameters: {'num_leaves': 188, 'colsample_bytree': 0.7570576742492021, 'reg_alpha': 0.320213380160272, 'reg_lambda': 3.2186507334737904, 'max_depth': 8, 'learning_rate': 0.0014050666754907607, 'n_estimators': 2778, 'min_child_samples': 31, 'subsample': 0.49176895139062543}. Best is trial 35 with value: 2691.528399216328.\u001b[0m\n",
            "\u001b[32m[I 2022-11-15 07:25:21,501]\u001b[0m Trial 48 finished with value: 6188.382364795534 and parameters: {'num_leaves': 616, 'colsample_bytree': 0.8009866525391262, 'reg_alpha': 0.38668729376182254, 'reg_lambda': 1.6253613720663134, 'max_depth': 9, 'learning_rate': 0.00013453726157668832, 'n_estimators': 1139, 'min_child_samples': 46, 'subsample': 0.5407290526571086}. Best is trial 35 with value: 2691.528399216328.\u001b[0m\n",
            "\u001b[32m[I 2022-11-15 07:25:22,299]\u001b[0m Trial 49 finished with value: 7040.468521720409 and parameters: {'num_leaves': 126, 'colsample_bytree': 0.8384971751785137, 'reg_alpha': 0.18351765728372998, 'reg_lambda': 0.4995307051334177, 'max_depth': 11, 'learning_rate': 3.978411093665215e-06, 'n_estimators': 1417, 'min_child_samples': 55, 'subsample': 0.510579011208582}. Best is trial 35 with value: 2691.528399216328.\u001b[0m\n",
            "\u001b[32m[I 2022-11-15 07:25:23,516]\u001b[0m Trial 50 finished with value: 4035.7394958422265 and parameters: {'num_leaves': 259, 'colsample_bytree': 0.8204023010105198, 'reg_alpha': 0.009441747674366396, 'reg_lambda': 1.2538734673054028, 'max_depth': 8, 'learning_rate': 0.0003609855681257975, 'n_estimators': 2463, 'min_child_samples': 71, 'subsample': 0.4700584967104395}. Best is trial 35 with value: 2691.528399216328.\u001b[0m\n",
            "\u001b[32m[I 2022-11-15 07:25:24,823]\u001b[0m Trial 51 finished with value: 2711.5632439635733 and parameters: {'num_leaves': 721, 'colsample_bytree': 0.7205605303072398, 'reg_alpha': 0.596106453585665, 'reg_lambda': 2.868888664004688, 'max_depth': 7, 'learning_rate': 0.003667644655105135, 'n_estimators': 2413, 'min_child_samples': 39, 'subsample': 0.4173886078691504}. Best is trial 35 with value: 2691.528399216328.\u001b[0m\n",
            "\u001b[32m[I 2022-11-15 07:25:25,846]\u001b[0m Trial 52 finished with value: 2742.11115961676 and parameters: {'num_leaves': 436, 'colsample_bytree': 0.7239713622992058, 'reg_alpha': 0.49131766306485447, 'reg_lambda': 2.1112546224390742, 'max_depth': 7, 'learning_rate': 0.004386913809734127, 'n_estimators': 2683, 'min_child_samples': 50, 'subsample': 0.4438916176412463}. Best is trial 35 with value: 2691.528399216328.\u001b[0m\n",
            "\u001b[32m[I 2022-11-15 07:25:26,242]\u001b[0m Trial 53 finished with value: 2725.6453171061135 and parameters: {'num_leaves': 29, 'colsample_bytree': 0.7161451873460459, 'reg_alpha': 0.594300487241247, 'reg_lambda': 2.826512912307369, 'max_depth': 5, 'learning_rate': 0.009804254603588684, 'n_estimators': 2549, 'min_child_samples': 40, 'subsample': 0.42500055016854077}. Best is trial 35 with value: 2691.528399216328.\u001b[0m\n",
            "\u001b[32m[I 2022-11-15 07:25:27,040]\u001b[0m Trial 54 finished with value: 2732.606544761422 and parameters: {'num_leaves': 705, 'colsample_bytree': 0.7798856041057255, 'reg_alpha': 0.44219643399156155, 'reg_lambda': 2.4320473100166304, 'max_depth': 9, 'learning_rate': 0.005938178185300316, 'n_estimators': 2384, 'min_child_samples': 45, 'subsample': 0.44843505888344526}. Best is trial 35 with value: 2691.528399216328.\u001b[0m\n",
            "\u001b[32m[I 2022-11-15 07:25:28,811]\u001b[0m Trial 55 finished with value: 2796.886240289977 and parameters: {'num_leaves': 293, 'colsample_bytree': 0.7549206856683328, 'reg_alpha': 0.5891075138268905, 'reg_lambda': 3.234693815260033, 'max_depth': 10, 'learning_rate': 0.0017874813140534517, 'n_estimators': 2166, 'min_child_samples': 33, 'subsample': 0.4161568271780384}. Best is trial 35 with value: 2691.528399216328.\u001b[0m\n",
            "\u001b[32m[I 2022-11-15 07:25:29,664]\u001b[0m Trial 56 finished with value: 2832.6251509145204 and parameters: {'num_leaves': 400, 'colsample_bytree': 0.7055411795035383, 'reg_alpha': 0.5218824437912433, 'reg_lambda': 1.8764696718336276, 'max_depth': 5, 'learning_rate': 0.0031235247308436585, 'n_estimators': 1873, 'min_child_samples': 60, 'subsample': 0.5791982397318376}. Best is trial 35 with value: 2691.528399216328.\u001b[0m\n",
            "\u001b[32m[I 2022-11-15 07:25:30,488]\u001b[0m Trial 57 finished with value: 2720.959427363592 and parameters: {'num_leaves': 600, 'colsample_bytree': 0.7684244753165644, 'reg_alpha': 0.7141994049016822, 'reg_lambda': 1.0850452699367068, 'max_depth': 7, 'learning_rate': 0.006518581504044853, 'n_estimators': 2859, 'min_child_samples': 51, 'subsample': 0.6121908578887222}. Best is trial 35 with value: 2691.528399216328.\u001b[0m\n",
            "\u001b[32m[I 2022-11-15 07:25:31,725]\u001b[0m Trial 58 finished with value: 2723.020435354468 and parameters: {'num_leaves': 185, 'colsample_bytree': 0.861521896781965, 'reg_alpha': 0.643391980260341, 'reg_lambda': 3.39553811075448, 'max_depth': 6, 'learning_rate': 0.003067584342696315, 'n_estimators': 2709, 'min_child_samples': 36, 'subsample': 0.5059220298827944}. Best is trial 35 with value: 2691.528399216328.\u001b[0m\n",
            "\u001b[32m[I 2022-11-15 07:25:35,059]\u001b[0m Trial 59 finished with value: 2938.821255986233 and parameters: {'num_leaves': 494, 'colsample_bytree': 0.8324478785953451, 'reg_alpha': 0.48481914771580725, 'reg_lambda': 0.5497172624452327, 'max_depth': 8, 'learning_rate': 0.0007168114630095862, 'n_estimators': 2989, 'min_child_samples': 23, 'subsample': 0.47338088314384874}. Best is trial 35 with value: 2691.528399216328.\u001b[0m\n",
            "\u001b[32m[I 2022-11-15 07:25:35,497]\u001b[0m Trial 60 finished with value: 3459.620734201909 and parameters: {'num_leaves': 1012, 'colsample_bytree': 0.731270202631765, 'reg_alpha': 0.7686491294508767, 'reg_lambda': 1.506072873785676, 'max_depth': 10, 'learning_rate': 0.002058887154865615, 'n_estimators': 720, 'min_child_samples': 64, 'subsample': 0.43940797509775964}. Best is trial 35 with value: 2691.528399216328.\u001b[0m\n",
            "\u001b[32m[I 2022-11-15 07:25:37,236]\u001b[0m Trial 61 finished with value: 2692.1776057491425 and parameters: {'num_leaves': 783, 'colsample_bytree': 0.7465384812839377, 'reg_alpha': 0.6225432573792387, 'reg_lambda': 4.444690880420418, 'max_depth': 12, 'learning_rate': 0.0034185536805916086, 'n_estimators': 2318, 'min_child_samples': 38, 'subsample': 0.41574242584029125}. Best is trial 35 with value: 2691.528399216328.\u001b[0m\n",
            "\u001b[32m[I 2022-11-15 07:25:38,073]\u001b[0m Trial 62 finished with value: 2711.0677004636327 and parameters: {'num_leaves': 810, 'colsample_bytree': 0.7499091567216274, 'reg_alpha': 0.5708160282138096, 'reg_lambda': 2.636997036987695, 'max_depth': 14, 'learning_rate': 0.006775423520104364, 'n_estimators': 2276, 'min_child_samples': 48, 'subsample': 0.4155635097148134}. Best is trial 35 with value: 2691.528399216328.\u001b[0m\n",
            "\u001b[32m[I 2022-11-15 07:25:39,805]\u001b[0m Trial 63 finished with value: 2717.733850558868 and parameters: {'num_leaves': 859, 'colsample_bytree': 0.7486175347919338, 'reg_alpha': 0.5789475922854626, 'reg_lambda': 2.5736559821438822, 'max_depth': 14, 'learning_rate': 0.003248669752281936, 'n_estimators': 2559, 'min_child_samples': 44, 'subsample': 0.41737729794927714}. Best is trial 35 with value: 2691.528399216328.\u001b[0m\n",
            "\u001b[32m[I 2022-11-15 07:25:41,479]\u001b[0m Trial 64 finished with value: 3004.4965806904975 and parameters: {'num_leaves': 760, 'colsample_bytree': 0.7638371623319516, 'reg_alpha': 0.6432855779416122, 'reg_lambda': 4.096825908067378, 'max_depth': 13, 'learning_rate': 0.0011084224913100336, 'n_estimators': 2291, 'min_child_samples': 40, 'subsample': 0.42763220559484816}. Best is trial 35 with value: 2691.528399216328.\u001b[0m\n",
            "\u001b[32m[I 2022-11-15 07:25:42,672]\u001b[0m Trial 65 finished with value: 2585.170318381271 and parameters: {'num_leaves': 381, 'colsample_bytree': 0.7116101575927865, 'reg_alpha': 0.6739293506263403, 'reg_lambda': 3.432801070727096, 'max_depth': 14, 'learning_rate': 0.007206696091162014, 'n_estimators': 2172, 'min_child_samples': 31, 'subsample': 0.4108798703390944}. Best is trial 65 with value: 2585.170318381271.\u001b[0m\n",
            "\u001b[32m[I 2022-11-15 07:25:44,404]\u001b[0m Trial 66 finished with value: 2551.4526784130103 and parameters: {'num_leaves': 335, 'colsample_bytree': 0.7326125703994303, 'reg_alpha': 0.6857804032612548, 'reg_lambda': 4.5838137033450055, 'max_depth': 14, 'learning_rate': 0.005883796100361747, 'n_estimators': 2162, 'min_child_samples': 29, 'subsample': 0.4587317818448337}. Best is trial 66 with value: 2551.4526784130103.\u001b[0m\n",
            "\u001b[32m[I 2022-11-15 07:25:46,436]\u001b[0m Trial 67 finished with value: 2719.486774584445 and parameters: {'num_leaves': 353, 'colsample_bytree': 0.7109543375382469, 'reg_alpha': 0.8044382153805008, 'reg_lambda': 4.77398207944905, 'max_depth': 15, 'learning_rate': 0.0021474761428301433, 'n_estimators': 1958, 'min_child_samples': 23, 'subsample': 0.451410213113008}. Best is trial 66 with value: 2551.4526784130103.\u001b[0m\n",
            "\u001b[32m[I 2022-11-15 07:25:48,233]\u001b[0m Trial 68 finished with value: 2576.2473219337317 and parameters: {'num_leaves': 89, 'colsample_bytree': 0.7287036041658994, 'reg_alpha': 0.6942775443070828, 'reg_lambda': 5.358223380259935, 'max_depth': 12, 'learning_rate': 0.006051389010970528, 'n_estimators': 2158, 'min_child_samples': 13, 'subsample': 0.45926264277771267}. Best is trial 66 with value: 2551.4526784130103.\u001b[0m\n",
            "\u001b[32m[I 2022-11-15 07:25:50,031]\u001b[0m Trial 69 finished with value: 6306.945471103953 and parameters: {'num_leaves': 97, 'colsample_bytree': 0.729569990638427, 'reg_alpha': 0.7449734561750193, 'reg_lambda': 5.4077259835075955, 'max_depth': 12, 'learning_rate': 6.384338324665332e-05, 'n_estimators': 2144, 'min_child_samples': 20, 'subsample': 0.4617005701694638}. Best is trial 66 with value: 2551.4526784130103.\u001b[0m\n",
            "\u001b[32m[I 2022-11-15 07:25:52,157]\u001b[0m Trial 70 finished with value: 6930.476127872338 and parameters: {'num_leaves': 67, 'colsample_bytree': 0.7043165567607719, 'reg_alpha': 0.6909427122505997, 'reg_lambda': 5.902314086549804, 'max_depth': 13, 'learning_rate': 1.198057132430899e-05, 'n_estimators': 1994, 'min_child_samples': 11, 'subsample': 0.48188284457702146}. Best is trial 66 with value: 2551.4526784130103.\u001b[0m\n",
            "\u001b[32m[I 2022-11-15 07:25:52,953]\u001b[0m Trial 71 finished with value: 2679.0083028807485 and parameters: {'num_leaves': 16, 'colsample_bytree': 0.7410755935348993, 'reg_alpha': 0.6641286731481396, 'reg_lambda': 5.289369382715822, 'max_depth': 12, 'learning_rate': 0.006001239965446298, 'n_estimators': 2173, 'min_child_samples': 29, 'subsample': 0.4316941543687997}. Best is trial 66 with value: 2551.4526784130103.\u001b[0m\n",
            "\u001b[32m[I 2022-11-15 07:25:54,066]\u001b[0m Trial 72 finished with value: 2649.595337837638 and parameters: {'num_leaves': 18, 'colsample_bytree': 0.7383525826252237, 'reg_alpha': 0.6704051225852685, 'reg_lambda': 5.212251194498855, 'max_depth': 12, 'learning_rate': 0.005666621108969554, 'n_estimators': 2214, 'min_child_samples': 29, 'subsample': 0.44030242062857694}. Best is trial 66 with value: 2551.4526784130103.\u001b[0m\n",
            "\u001b[32m[I 2022-11-15 07:25:54,929]\u001b[0m Trial 73 finished with value: 2655.6333077487398 and parameters: {'num_leaves': 20, 'colsample_bytree': 0.7292908207638154, 'reg_alpha': 0.7377708091681794, 'reg_lambda': 6.733323466718836, 'max_depth': 12, 'learning_rate': 0.006684762092866487, 'n_estimators': 1787, 'min_child_samples': 29, 'subsample': 0.4338303004918138}. Best is trial 66 with value: 2551.4526784130103.\u001b[0m\n",
            "\u001b[32m[I 2022-11-15 07:25:55,694]\u001b[0m Trial 74 finished with value: 2695.420050844395 and parameters: {'num_leaves': 15, 'colsample_bytree': 0.7125257855939665, 'reg_alpha': 0.7404265613950295, 'reg_lambda': 6.582956218260845, 'max_depth': 12, 'learning_rate': 0.006894021615031842, 'n_estimators': 1751, 'min_child_samples': 15, 'subsample': 0.40751565009362406}. Best is trial 66 with value: 2551.4526784130103.\u001b[0m\n",
            "\u001b[32m[I 2022-11-15 07:25:56,705]\u001b[0m Trial 75 finished with value: 2957.0695130843005 and parameters: {'num_leaves': 9, 'colsample_bytree': 0.9187347011689144, 'reg_alpha': 0.8871771673549762, 'reg_lambda': 5.21841039954797, 'max_depth': 12, 'learning_rate': 0.001440146093121123, 'n_estimators': 2170, 'min_child_samples': 29, 'subsample': 0.4349852821503262}. Best is trial 66 with value: 2551.4526784130103.\u001b[0m\n",
            "\u001b[32m[I 2022-11-15 07:25:58,270]\u001b[0m Trial 76 finished with value: 2748.7691527671036 and parameters: {'num_leaves': 23, 'colsample_bytree': 0.7256661943387981, 'reg_alpha': 0.6894612100006787, 'reg_lambda': 6.831038771606645, 'max_depth': 14, 'learning_rate': 0.0021689324115638357, 'n_estimators': 2039, 'min_child_samples': 26, 'subsample': 0.40087439171882217}. Best is trial 66 with value: 2551.4526784130103.\u001b[0m\n",
            "\u001b[32m[I 2022-11-15 07:25:58,789]\u001b[0m Trial 77 finished with value: 2767.630929312019 and parameters: {'num_leaves': 14, 'colsample_bytree': 0.7435865913248112, 'reg_alpha': 0.8038645542080034, 'reg_lambda': 5.870997279717472, 'max_depth': 13, 'learning_rate': 0.006545070452828439, 'n_estimators': 1826, 'min_child_samples': 5, 'subsample': 0.4372462930496554}. Best is trial 66 with value: 2551.4526784130103.\u001b[0m\n",
            "\u001b[32m[I 2022-11-15 07:26:00,412]\u001b[0m Trial 78 finished with value: 2651.4420915915116 and parameters: {'num_leaves': 23, 'colsample_bytree': 0.7151357651914271, 'reg_alpha': 0.7132530799532004, 'reg_lambda': 5.879353812254118, 'max_depth': 12, 'learning_rate': 0.003063077373663003, 'n_estimators': 2208, 'min_child_samples': 30, 'subsample': 0.45456219570543765}. Best is trial 66 with value: 2551.4526784130103.\u001b[0m\n",
            "\u001b[32m[I 2022-11-15 07:26:01,940]\u001b[0m Trial 79 finished with value: 2547.73434556717 and parameters: {'num_leaves': 33, 'colsample_bytree': 0.7155416109598842, 'reg_alpha': 0.7199588602024404, 'reg_lambda': 5.943357698875571, 'max_depth': 13, 'learning_rate': 0.007088757549518154, 'n_estimators': 2163, 'min_child_samples': 20, 'subsample': 0.7489206686324821}. Best is trial 79 with value: 2547.73434556717.\u001b[0m\n",
            "\u001b[32m[I 2022-11-15 07:26:03,480]\u001b[0m Trial 80 finished with value: 7071.218832584098 and parameters: {'num_leaves': 35, 'colsample_bytree': 0.7000865896637634, 'reg_alpha': 0.7165176527961012, 'reg_lambda': 7.1119110495138225, 'max_depth': 13, 'learning_rate': 5.950414174845373e-07, 'n_estimators': 1921, 'min_child_samples': 18, 'subsample': 0.7419437575435721}. Best is trial 79 with value: 2547.73434556717.\u001b[0m\n",
            "\u001b[32m[I 2022-11-15 07:26:04,466]\u001b[0m Trial 81 finished with value: 2609.7160333763745 and parameters: {'num_leaves': 21, 'colsample_bytree': 0.7159824555392066, 'reg_alpha': 0.8585639803353753, 'reg_lambda': 5.944666508848378, 'max_depth': 11, 'learning_rate': 0.006973743355347587, 'n_estimators': 2179, 'min_child_samples': 12, 'subsample': 0.8895471763410511}. Best is trial 79 with value: 2547.73434556717.\u001b[0m\n",
            "\u001b[32m[I 2022-11-15 07:26:05,256]\u001b[0m Trial 82 finished with value: 2656.564999183043 and parameters: {'num_leaves': 19, 'colsample_bytree': 0.7174852805548525, 'reg_alpha': 0.9126827571789468, 'reg_lambda': 6.003568488291418, 'max_depth': 11, 'learning_rate': 0.006564258247359477, 'n_estimators': 2094, 'min_child_samples': 11, 'subsample': 0.8765537138059805}. Best is trial 79 with value: 2547.73434556717.\u001b[0m\n",
            "\u001b[32m[I 2022-11-15 07:26:06,953]\u001b[0m Trial 83 finished with value: 2653.0942571100945 and parameters: {'num_leaves': 23, 'colsample_bytree': 0.7144975577604064, 'reg_alpha': 0.9383397386135063, 'reg_lambda': 6.021760657849551, 'max_depth': 11, 'learning_rate': 0.0027481837251558975, 'n_estimators': 2108, 'min_child_samples': 15, 'subsample': 0.8784045958371046}. Best is trial 79 with value: 2547.73434556717.\u001b[0m\n",
            "\u001b[32m[I 2022-11-15 07:26:08,775]\u001b[0m Trial 84 finished with value: 2698.5851890331664 and parameters: {'num_leaves': 48, 'colsample_bytree': 0.7140120440126692, 'reg_alpha': 0.9986291458186445, 'reg_lambda': 5.6833347679097415, 'max_depth': 11, 'learning_rate': 0.0024959798029473086, 'n_estimators': 1813, 'min_child_samples': 21, 'subsample': 0.8610957550654912}. Best is trial 79 with value: 2547.73434556717.\u001b[0m\n",
            "\u001b[32m[I 2022-11-15 07:26:10,560]\u001b[0m Trial 85 finished with value: 3031.6232735269 and parameters: {'num_leaves': 23, 'colsample_bytree': 0.7303688120406876, 'reg_alpha': 0.9630329614316808, 'reg_lambda': 7.759799681466161, 'max_depth': 14, 'learning_rate': 0.0009846038798646821, 'n_estimators': 2229, 'min_child_samples': 15, 'subsample': 0.9757619682321537}. Best is trial 79 with value: 2547.73434556717.\u001b[0m\n",
            "\u001b[32m[I 2022-11-15 07:26:12,097]\u001b[0m Trial 86 finished with value: 2608.241671103932 and parameters: {'num_leaves': 29, 'colsample_bytree': 0.7105854954821091, 'reg_alpha': 0.922552427341749, 'reg_lambda': 6.110174605795519, 'max_depth': 12, 'learning_rate': 0.004376343638247749, 'n_estimators': 1633, 'min_child_samples': 10, 'subsample': 0.6720748777130084}. Best is trial 79 with value: 2547.73434556717.\u001b[0m\n",
            "\u001b[32m[I 2022-11-15 07:26:14,177]\u001b[0m Trial 87 finished with value: 2764.215936068358 and parameters: {'num_leaves': 31, 'colsample_bytree': 0.7110579411345239, 'reg_alpha': 0.9361028507519781, 'reg_lambda': 6.140734022769909, 'max_depth': 13, 'learning_rate': 0.0016038107687992996, 'n_estimators': 2000, 'min_child_samples': 11, 'subsample': 0.6699588085266958}. Best is trial 79 with value: 2547.73434556717.\u001b[0m\n",
            "\u001b[32m[I 2022-11-15 07:26:16,124]\u001b[0m Trial 88 finished with value: 2636.0229451377077 and parameters: {'num_leaves': 49, 'colsample_bytree': 0.7000634043337625, 'reg_alpha': 0.8590302660903892, 'reg_lambda': 5.0229762333139885, 'max_depth': 13, 'learning_rate': 0.004045205686256302, 'n_estimators': 1676, 'min_child_samples': 8, 'subsample': 0.7639036330675446}. Best is trial 79 with value: 2547.73434556717.\u001b[0m\n",
            "\u001b[32m[I 2022-11-15 07:26:18,492]\u001b[0m Trial 89 finished with value: 2605.080367585239 and parameters: {'num_leaves': 56, 'colsample_bytree': 0.700812892403323, 'reg_alpha': 0.8429152895083134, 'reg_lambda': 5.039713976699214, 'max_depth': 13, 'learning_rate': 0.004498576061417248, 'n_estimators': 1604, 'min_child_samples': 8, 'subsample': 0.7143813764163192}. Best is trial 79 with value: 2547.73434556717.\u001b[0m\n",
            "\u001b[32m[I 2022-11-15 07:26:21,061]\u001b[0m Trial 90 finished with value: 2586.2495179583766 and parameters: {'num_leaves': 53, 'colsample_bytree': 0.7085864763496729, 'reg_alpha': 0.8552022012389208, 'reg_lambda': 4.603530507156789, 'max_depth': 15, 'learning_rate': 0.00419856532725622, 'n_estimators': 1640, 'min_child_samples': 7, 'subsample': 0.7179834041489621}. Best is trial 79 with value: 2547.73434556717.\u001b[0m\n",
            "\u001b[32m[I 2022-11-15 07:26:23,339]\u001b[0m Trial 91 finished with value: 2600.339955183393 and parameters: {'num_leaves': 59, 'colsample_bytree': 0.7008229224919097, 'reg_alpha': 0.8572609055417756, 'reg_lambda': 4.829483807496803, 'max_depth': 15, 'learning_rate': 0.004371246877370093, 'n_estimators': 1665, 'min_child_samples': 7, 'subsample': 0.7168076658759894}. Best is trial 79 with value: 2547.73434556717.\u001b[0m\n",
            "\u001b[32m[I 2022-11-15 07:26:25,796]\u001b[0m Trial 92 finished with value: 2588.0069663541776 and parameters: {'num_leaves': 54, 'colsample_bytree': 0.7002506257914362, 'reg_alpha': 0.8614742503678381, 'reg_lambda': 4.9960935781879074, 'max_depth': 15, 'learning_rate': 0.0039393235070672855, 'n_estimators': 1608, 'min_child_samples': 7, 'subsample': 0.7303953903855299}. Best is trial 79 with value: 2547.73434556717.\u001b[0m\n",
            "\u001b[32m[I 2022-11-15 07:26:28,792]\u001b[0m Trial 93 finished with value: 3780.364517745959 and parameters: {'num_leaves': 69, 'colsample_bytree': 0.7063773714685754, 'reg_alpha': 0.8589038275195955, 'reg_lambda': 4.706281730547765, 'max_depth': 15, 'learning_rate': 0.0006125473268025061, 'n_estimators': 1613, 'min_child_samples': 5, 'subsample': 0.7140465505634913}. Best is trial 79 with value: 2547.73434556717.\u001b[0m\n",
            "\u001b[32m[I 2022-11-15 07:26:30,937]\u001b[0m Trial 94 finished with value: 2581.083135669848 and parameters: {'num_leaves': 55, 'colsample_bytree': 0.7070383154401026, 'reg_alpha': 0.8490282394708932, 'reg_lambda': 5.545304841195528, 'max_depth': 15, 'learning_rate': 0.004804040093423378, 'n_estimators': 1403, 'min_child_samples': 9, 'subsample': 0.6981550649465365}. Best is trial 79 with value: 2547.73434556717.\u001b[0m\n",
            "\u001b[32m[I 2022-11-15 07:26:32,976]\u001b[0m Trial 95 finished with value: 2626.7234631266733 and parameters: {'num_leaves': 57, 'colsample_bytree': 0.7071553345130498, 'reg_alpha': 0.8301872525240661, 'reg_lambda': 5.633731893985775, 'max_depth': 15, 'learning_rate': 0.004296920419566095, 'n_estimators': 1254, 'min_child_samples': 8, 'subsample': 0.6924117388586881}. Best is trial 79 with value: 2547.73434556717.\u001b[0m\n",
            "\u001b[32m[I 2022-11-15 07:26:35,261]\u001b[0m Trial 96 finished with value: 3136.5228012438297 and parameters: {'num_leaves': 86, 'colsample_bytree': 0.7239483231940841, 'reg_alpha': 0.7974058477999024, 'reg_lambda': 4.979487622004759, 'max_depth': 15, 'learning_rate': 0.0012316421393442866, 'n_estimators': 1443, 'min_child_samples': 10, 'subsample': 0.6473405258923922}. Best is trial 79 with value: 2547.73434556717.\u001b[0m\n",
            "\u001b[32m[I 2022-11-15 07:26:37,078]\u001b[0m Trial 97 finished with value: 2821.332853913231 and parameters: {'num_leaves': 36, 'colsample_bytree': 0.707391308167741, 'reg_alpha': 0.9609233914552381, 'reg_lambda': 4.087146822728634, 'max_depth': 14, 'learning_rate': 0.0016987052005053831, 'n_estimators': 1629, 'min_child_samples': 14, 'subsample': 0.7265203848212621}. Best is trial 79 with value: 2547.73434556717.\u001b[0m\n",
            "\u001b[32m[I 2022-11-15 07:26:38,645]\u001b[0m Trial 98 finished with value: 2537.1188212549223 and parameters: {'num_leaves': 53, 'colsample_bytree': 0.7206390224716763, 'reg_alpha': 0.901073693427417, 'reg_lambda': 6.36697767336949, 'max_depth': 15, 'learning_rate': 0.008165373834107774, 'n_estimators': 1310, 'min_child_samples': 6, 'subsample': 0.7741197890879554}. Best is trial 98 with value: 2537.1188212549223.\u001b[0m\n",
            "\u001b[32m[I 2022-11-15 07:26:40,074]\u001b[0m Trial 99 finished with value: 2542.4347754848545 and parameters: {'num_leaves': 56, 'colsample_bytree': 0.720171729301514, 'reg_alpha': 0.9051254823222558, 'reg_lambda': 4.658938097341639, 'max_depth': 15, 'learning_rate': 0.009073766063707842, 'n_estimators': 1245, 'min_child_samples': 6, 'subsample': 0.7707695804459576}. Best is trial 98 with value: 2537.1188212549223.\u001b[0m\n"
          ]
        }
      ]
    },
    {
      "cell_type": "code",
      "source": [
        "lgbm_trial = optuna_lgbm.best_trial\n",
        "lgbm_trial_params = lgbm_trial.params\n",
        "print('Best Trial: score {},\\nparams {}'.format(lgbm_trial.value, lgbm_trial_params))"
      ],
      "metadata": {
        "colab": {
          "base_uri": "https://localhost:8080/"
        },
        "id": "5MjYepIxFbrU",
        "outputId": "be59e571-d375-4a0e-c11f-980fdfa69356"
      },
      "execution_count": 49,
      "outputs": [
        {
          "output_type": "stream",
          "name": "stdout",
          "text": [
            "Best Trial: score 2537.1188212549223,\n",
            "params {'num_leaves': 53, 'colsample_bytree': 0.7206390224716763, 'reg_alpha': 0.901073693427417, 'reg_lambda': 6.36697767336949, 'max_depth': 15, 'learning_rate': 0.008165373834107774, 'n_estimators': 1310, 'min_child_samples': 6, 'subsample': 0.7741197890879554}\n"
          ]
        }
      ]
    },
    {
      "cell_type": "code",
      "source": [
        "# Modeling fit\n",
        "lgbm_regop = LGBMRegressor(**lgbm_trial_params)\n",
        "lgbm_study = lgbm_regop.fit(train_x, train_y)\n",
        "\n",
        "pred_op = lgbm_regop.predict(val_x)\n",
        "mse= mean_squared_error(val_y,pred_op)\n",
        "rmse= mse**(1/2)\n",
        "\n",
        "print(\"RMSE : \", rmse)"
      ],
      "metadata": {
        "colab": {
          "base_uri": "https://localhost:8080/"
        },
        "id": "lhzFF7JLFhTt",
        "outputId": "5fdcee04-c076-4170-f085-f51375e0db57"
      },
      "execution_count": 50,
      "outputs": [
        {
          "output_type": "stream",
          "name": "stdout",
          "text": [
            "RMSE :  50.23451324402675\n"
          ]
        }
      ]
    },
    {
      "cell_type": "code",
      "source": [
        "Model(lgbm_regop)"
      ],
      "metadata": {
        "colab": {
          "base_uri": "https://localhost:8080/"
        },
        "id": "xqXEnXeuNykz",
        "outputId": "1d0fe40a-0125-48ca-8e42-6d557511b5e4"
      },
      "execution_count": 51,
      "outputs": [
        {
          "output_type": "stream",
          "name": "stdout",
          "text": [
            "Testing Score\n",
            " 0.6434839817714586\n"
          ]
        }
      ]
    },
    {
      "cell_type": "markdown",
      "source": [
        "# 제출"
      ],
      "metadata": {
        "id": "sn-5WOF5dc29"
      }
    },
    {
      "cell_type": "code",
      "source": [
        "# Scaling 과정\n",
        "transform_tests = test.drop(columns=['id','hour']) \n",
        "std_transform_tests = scaler.transform(transform_tests)\n",
        "test[transform_tests.columns] = std_transform_tests\n",
        "test.head()"
      ],
      "metadata": {
        "id": "Bi-MOPYjek06",
        "colab": {
          "base_uri": "https://localhost:8080/",
          "height": 270
        },
        "outputId": "63c688d1-63d2-45a3-94a1-5bb67143ac55"
      },
      "execution_count": 52,
      "outputs": [
        {
          "output_type": "execute_result",
          "data": {
            "text/plain": [
              "   id  hour  hour_bef_temperature  hour_bef_precipitation  hour_bef_windspeed  \\\n",
              "0   0     7              0.760938               -0.180430           -0.858395   \n",
              "1   1    17              2.537863               -0.180430            2.126606   \n",
              "2   2    13              0.436124                5.542327           -0.275956   \n",
              "3   4     6              1.104859               -0.180430            0.015264   \n",
              "4   5    22             -0.404572                5.542327            0.670508   \n",
              "\n",
              "   hour_bef_humidity  hour_bef_visibility  hour_bef_ozone  hour_bef_pm10  \\\n",
              "0           0.480048            -0.774579        0.097487      -0.428053   \n",
              "1          -0.945053             0.317207        1.150800      -0.265527   \n",
              "2           2.101715            -2.080945       -1.008492      -0.688095   \n",
              "3           0.381765            -0.378034       -0.639833      -0.168011   \n",
              "4           2.003432            -2.038029        0.097487      -1.273189   \n",
              "\n",
              "   hour_bef_pm2.5  discomfort  hardship  \n",
              "0       -0.235870    0.693429 -0.868930  \n",
              "1        0.402168   -0.259476  1.742028  \n",
              "2       -0.164977    2.463110 -1.165683  \n",
              "3        0.543955    0.693429 -0.256764  \n",
              "4       -1.086589    2.054722 -1.046293  "
            ],
            "text/html": [
              "\n",
              "  <div id=\"df-29236c66-964b-44e0-bfe3-c560c9c106e9\">\n",
              "    <div class=\"colab-df-container\">\n",
              "      <div>\n",
              "<style scoped>\n",
              "    .dataframe tbody tr th:only-of-type {\n",
              "        vertical-align: middle;\n",
              "    }\n",
              "\n",
              "    .dataframe tbody tr th {\n",
              "        vertical-align: top;\n",
              "    }\n",
              "\n",
              "    .dataframe thead th {\n",
              "        text-align: right;\n",
              "    }\n",
              "</style>\n",
              "<table border=\"1\" class=\"dataframe\">\n",
              "  <thead>\n",
              "    <tr style=\"text-align: right;\">\n",
              "      <th></th>\n",
              "      <th>id</th>\n",
              "      <th>hour</th>\n",
              "      <th>hour_bef_temperature</th>\n",
              "      <th>hour_bef_precipitation</th>\n",
              "      <th>hour_bef_windspeed</th>\n",
              "      <th>hour_bef_humidity</th>\n",
              "      <th>hour_bef_visibility</th>\n",
              "      <th>hour_bef_ozone</th>\n",
              "      <th>hour_bef_pm10</th>\n",
              "      <th>hour_bef_pm2.5</th>\n",
              "      <th>discomfort</th>\n",
              "      <th>hardship</th>\n",
              "    </tr>\n",
              "  </thead>\n",
              "  <tbody>\n",
              "    <tr>\n",
              "      <th>0</th>\n",
              "      <td>0</td>\n",
              "      <td>7</td>\n",
              "      <td>0.760938</td>\n",
              "      <td>-0.180430</td>\n",
              "      <td>-0.858395</td>\n",
              "      <td>0.480048</td>\n",
              "      <td>-0.774579</td>\n",
              "      <td>0.097487</td>\n",
              "      <td>-0.428053</td>\n",
              "      <td>-0.235870</td>\n",
              "      <td>0.693429</td>\n",
              "      <td>-0.868930</td>\n",
              "    </tr>\n",
              "    <tr>\n",
              "      <th>1</th>\n",
              "      <td>1</td>\n",
              "      <td>17</td>\n",
              "      <td>2.537863</td>\n",
              "      <td>-0.180430</td>\n",
              "      <td>2.126606</td>\n",
              "      <td>-0.945053</td>\n",
              "      <td>0.317207</td>\n",
              "      <td>1.150800</td>\n",
              "      <td>-0.265527</td>\n",
              "      <td>0.402168</td>\n",
              "      <td>-0.259476</td>\n",
              "      <td>1.742028</td>\n",
              "    </tr>\n",
              "    <tr>\n",
              "      <th>2</th>\n",
              "      <td>2</td>\n",
              "      <td>13</td>\n",
              "      <td>0.436124</td>\n",
              "      <td>5.542327</td>\n",
              "      <td>-0.275956</td>\n",
              "      <td>2.101715</td>\n",
              "      <td>-2.080945</td>\n",
              "      <td>-1.008492</td>\n",
              "      <td>-0.688095</td>\n",
              "      <td>-0.164977</td>\n",
              "      <td>2.463110</td>\n",
              "      <td>-1.165683</td>\n",
              "    </tr>\n",
              "    <tr>\n",
              "      <th>3</th>\n",
              "      <td>4</td>\n",
              "      <td>6</td>\n",
              "      <td>1.104859</td>\n",
              "      <td>-0.180430</td>\n",
              "      <td>0.015264</td>\n",
              "      <td>0.381765</td>\n",
              "      <td>-0.378034</td>\n",
              "      <td>-0.639833</td>\n",
              "      <td>-0.168011</td>\n",
              "      <td>0.543955</td>\n",
              "      <td>0.693429</td>\n",
              "      <td>-0.256764</td>\n",
              "    </tr>\n",
              "    <tr>\n",
              "      <th>4</th>\n",
              "      <td>5</td>\n",
              "      <td>22</td>\n",
              "      <td>-0.404572</td>\n",
              "      <td>5.542327</td>\n",
              "      <td>0.670508</td>\n",
              "      <td>2.003432</td>\n",
              "      <td>-2.038029</td>\n",
              "      <td>0.097487</td>\n",
              "      <td>-1.273189</td>\n",
              "      <td>-1.086589</td>\n",
              "      <td>2.054722</td>\n",
              "      <td>-1.046293</td>\n",
              "    </tr>\n",
              "  </tbody>\n",
              "</table>\n",
              "</div>\n",
              "      <button class=\"colab-df-convert\" onclick=\"convertToInteractive('df-29236c66-964b-44e0-bfe3-c560c9c106e9')\"\n",
              "              title=\"Convert this dataframe to an interactive table.\"\n",
              "              style=\"display:none;\">\n",
              "        \n",
              "  <svg xmlns=\"http://www.w3.org/2000/svg\" height=\"24px\"viewBox=\"0 0 24 24\"\n",
              "       width=\"24px\">\n",
              "    <path d=\"M0 0h24v24H0V0z\" fill=\"none\"/>\n",
              "    <path d=\"M18.56 5.44l.94 2.06.94-2.06 2.06-.94-2.06-.94-.94-2.06-.94 2.06-2.06.94zm-11 1L8.5 8.5l.94-2.06 2.06-.94-2.06-.94L8.5 2.5l-.94 2.06-2.06.94zm10 10l.94 2.06.94-2.06 2.06-.94-2.06-.94-.94-2.06-.94 2.06-2.06.94z\"/><path d=\"M17.41 7.96l-1.37-1.37c-.4-.4-.92-.59-1.43-.59-.52 0-1.04.2-1.43.59L10.3 9.45l-7.72 7.72c-.78.78-.78 2.05 0 2.83L4 21.41c.39.39.9.59 1.41.59.51 0 1.02-.2 1.41-.59l7.78-7.78 2.81-2.81c.8-.78.8-2.07 0-2.86zM5.41 20L4 18.59l7.72-7.72 1.47 1.35L5.41 20z\"/>\n",
              "  </svg>\n",
              "      </button>\n",
              "      \n",
              "  <style>\n",
              "    .colab-df-container {\n",
              "      display:flex;\n",
              "      flex-wrap:wrap;\n",
              "      gap: 12px;\n",
              "    }\n",
              "\n",
              "    .colab-df-convert {\n",
              "      background-color: #E8F0FE;\n",
              "      border: none;\n",
              "      border-radius: 50%;\n",
              "      cursor: pointer;\n",
              "      display: none;\n",
              "      fill: #1967D2;\n",
              "      height: 32px;\n",
              "      padding: 0 0 0 0;\n",
              "      width: 32px;\n",
              "    }\n",
              "\n",
              "    .colab-df-convert:hover {\n",
              "      background-color: #E2EBFA;\n",
              "      box-shadow: 0px 1px 2px rgba(60, 64, 67, 0.3), 0px 1px 3px 1px rgba(60, 64, 67, 0.15);\n",
              "      fill: #174EA6;\n",
              "    }\n",
              "\n",
              "    [theme=dark] .colab-df-convert {\n",
              "      background-color: #3B4455;\n",
              "      fill: #D2E3FC;\n",
              "    }\n",
              "\n",
              "    [theme=dark] .colab-df-convert:hover {\n",
              "      background-color: #434B5C;\n",
              "      box-shadow: 0px 1px 3px 1px rgba(0, 0, 0, 0.15);\n",
              "      filter: drop-shadow(0px 1px 2px rgba(0, 0, 0, 0.3));\n",
              "      fill: #FFFFFF;\n",
              "    }\n",
              "  </style>\n",
              "\n",
              "      <script>\n",
              "        const buttonEl =\n",
              "          document.querySelector('#df-29236c66-964b-44e0-bfe3-c560c9c106e9 button.colab-df-convert');\n",
              "        buttonEl.style.display =\n",
              "          google.colab.kernel.accessAllowed ? 'block' : 'none';\n",
              "\n",
              "        async function convertToInteractive(key) {\n",
              "          const element = document.querySelector('#df-29236c66-964b-44e0-bfe3-c560c9c106e9');\n",
              "          const dataTable =\n",
              "            await google.colab.kernel.invokeFunction('convertToInteractive',\n",
              "                                                     [key], {});\n",
              "          if (!dataTable) return;\n",
              "\n",
              "          const docLinkHtml = 'Like what you see? Visit the ' +\n",
              "            '<a target=\"_blank\" href=https://colab.research.google.com/notebooks/data_table.ipynb>data table notebook</a>'\n",
              "            + ' to learn more about interactive tables.';\n",
              "          element.innerHTML = '';\n",
              "          dataTable['output_type'] = 'display_data';\n",
              "          await google.colab.output.renderOutput(dataTable, element);\n",
              "          const docLink = document.createElement('div');\n",
              "          docLink.innerHTML = docLinkHtml;\n",
              "          element.appendChild(docLink);\n",
              "        }\n",
              "      </script>\n",
              "    </div>\n",
              "  </div>\n",
              "  "
            ]
          },
          "metadata": {},
          "execution_count": 52
        }
      ]
    },
    {
      "cell_type": "code",
      "source": [
        "pred= lgbm_regop.predict(test.drop(['id','hour','hour_bef_precipitation'],axis=1))"
      ],
      "metadata": {
        "id": "oT5sfJA5fAJz"
      },
      "execution_count": 54,
      "outputs": []
    },
    {
      "cell_type": "code",
      "source": [
        "submission=pd.read_csv('submission.csv')\n",
        "submission['count'] = pred"
      ],
      "metadata": {
        "id": "ssy6l2hD5And"
      },
      "execution_count": 55,
      "outputs": []
    },
    {
      "cell_type": "code",
      "source": [
        "submission.to_csv('submission_bike_feature.csv',index=False)"
      ],
      "metadata": {
        "id": "j9fPOPDUdpay"
      },
      "execution_count": 56,
      "outputs": []
    },
    {
      "cell_type": "markdown",
      "source": [
        "# 04.결론"
      ],
      "metadata": {
        "id": "Bo1R7rMN7CTh"
      }
    },
    {
      "cell_type": "markdown",
      "source": [
        "1. 22.11.10 제출 스코어 : 84.2825\n",
        "- 사용모델: LGBMRegressor\n",
        "- 전처리 : standard scaling\n",
        "- 하이퍼파라미터 튜닝 x\n",
        "\n",
        "2. 22.11.14 제출 스코어 : 83.37252\n",
        "- 사용모델 : LGBMRegressor\n",
        "- 전처리  : Standard scaling\n",
        "- 하이퍼파라미터 튜닝 : optuna\n",
        "\n",
        "3. 22.11.15 제출 스코어 : 82.36148\n",
        "- 사용모델: LGBMRegressor\n",
        "- 전처리: feature engineering, standard scaling\n",
        "- 하이퍼파라미터 튜닝 : optuna"
      ],
      "metadata": {
        "id": "0wpjk9iPfe_c"
      }
    },
    {
      "cell_type": "markdown",
      "source": [
        "stacking 해보기"
      ],
      "metadata": {
        "id": "jwN2gUv7PCEd"
      }
    },
    {
      "cell_type": "code",
      "source": [],
      "metadata": {
        "id": "841L7YPHu7Aa"
      },
      "execution_count": null,
      "outputs": []
    }
  ]
}