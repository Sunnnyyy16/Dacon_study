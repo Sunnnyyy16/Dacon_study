{
  "nbformat": 4,
  "nbformat_minor": 0,
  "metadata": {
    "colab": {
      "provenance": [],
      "toc_visible": true,
      "authorship_tag": "ABX9TyOwejXSLPOcULVk2Z5x8JFL",
      "include_colab_link": true
    },
    "kernelspec": {
      "name": "python3",
      "display_name": "Python 3"
    },
    "language_info": {
      "name": "python"
    }
  },
  "cells": [
    {
      "cell_type": "markdown",
      "metadata": {
        "id": "view-in-github",
        "colab_type": "text"
      },
      "source": [
        "<a href=\"https://colab.research.google.com/github/Sunnnyyy16/Dacon_study/blob/main/bike/seoul_bike.ipynb\" target=\"_parent\"><img src=\"https://colab.research.google.com/assets/colab-badge.svg\" alt=\"Open In Colab\"/></a>"
      ]
    },
    {
      "cell_type": "markdown",
      "source": [
        "# DACON 서울시 따릉이 대여량 예측 경진대회\n",
        "사이트: https://dacon.io/competitions/open/235576/overview/description\n",
        "\n",
        "# 목차\n",
        "1. 데이터 EDA\n",
        "2. 데이터 전처리\n",
        "3. 모델링\n",
        "4. 결론\n",
        "\n",
        "참고\n",
        "\n",
        "https://dacon.io/competitions/open/235576/codeshare/617?page=1&dtype=recent\n",
        "\n",
        "https://velog.io/@dohy426/LGBM-Regressor-Optuna\n",
        "\n",
        "https://dacon.io/competitions/official/235837/codeshare/3724?page=1&dtype=recent\n",
        "\n",
        "https://dacon.io/competitions/official/235837/codeshare/3687?page=1&dtype=recent"
      ],
      "metadata": {
        "id": "Tv8omtISgTtp"
      }
    },
    {
      "cell_type": "markdown",
      "source": [
        "# 데이터 로드"
      ],
      "metadata": {
        "id": "QniqzSLlg0NB"
      }
    },
    {
      "cell_type": "markdown",
      "source": [
        "서울시 마포구의 날짜별, 시간별 기상상황과 따릉이 대여 수 데이터"
      ],
      "metadata": {
        "id": "PvaZCyGL5S3E"
      }
    },
    {
      "cell_type": "code",
      "execution_count": null,
      "metadata": {
        "colab": {
          "base_uri": "https://localhost:8080/"
        },
        "id": "k_TEeQlKf-NR",
        "outputId": "f87f364d-c738-4bc6-fd9b-437468d12aa3"
      },
      "outputs": [
        {
          "output_type": "stream",
          "name": "stdout",
          "text": [
            "Mounted at /gdrive\n"
          ]
        }
      ],
      "source": [
        "from google.colab import drive\n",
        "drive.mount('/gdrive')"
      ]
    },
    {
      "cell_type": "code",
      "source": [
        "import pandas as pd\n",
        "import numpy as np\n",
        "%matplotlib inline\n",
        "import matplotlib.pyplot as plt\n",
        "import seaborn as sns\n",
        "\n",
        "#경고 메시지 숨기기\n",
        "import warnings\n",
        "warnings.filterwarnings(action='ignore')"
      ],
      "metadata": {
        "id": "0X9MGIS6grJ0"
      },
      "execution_count": null,
      "outputs": []
    },
    {
      "cell_type": "code",
      "source": [
        "!cp /gdrive/MyDrive/Dacon_study/bike/submission.csv ./\n",
        "!cp /gdrive/MyDrive/Dacon_study/bike/test.csv ./\n",
        "!cp /gdrive/MyDrive/Dacon_study/bike/train.csv ./"
      ],
      "metadata": {
        "id": "izMSUIXDgsTC"
      },
      "execution_count": null,
      "outputs": []
    },
    {
      "cell_type": "code",
      "source": [
        "train= pd.read_csv('train.csv')\n",
        "test= pd.read_csv('test.csv')"
      ],
      "metadata": {
        "id": "8sKhKlkLgxsJ"
      },
      "execution_count": null,
      "outputs": []
    },
    {
      "cell_type": "code",
      "source": [
        "train.head()"
      ],
      "metadata": {
        "colab": {
          "base_uri": "https://localhost:8080/",
          "height": 270
        },
        "id": "cHO5b7X0i5kK",
        "outputId": "62c86f8e-c119-4cc1-dcf6-54e8cb50b425"
      },
      "execution_count": null,
      "outputs": [
        {
          "output_type": "execute_result",
          "data": {
            "text/plain": [
              "   id  hour  hour_bef_temperature  hour_bef_precipitation  hour_bef_windspeed  \\\n",
              "0   3    20                  16.3                     1.0                 1.5   \n",
              "1   6    13                  20.1                     0.0                 1.4   \n",
              "2   7     6                  13.9                     0.0                 0.7   \n",
              "3   8    23                   8.1                     0.0                 2.7   \n",
              "4   9    18                  29.5                     0.0                 4.8   \n",
              "\n",
              "   hour_bef_humidity  hour_bef_visibility  hour_bef_ozone  hour_bef_pm10  \\\n",
              "0               89.0                576.0           0.027           76.0   \n",
              "1               48.0                916.0           0.042           73.0   \n",
              "2               79.0               1382.0           0.033           32.0   \n",
              "3               54.0                946.0           0.040           75.0   \n",
              "4                7.0               2000.0           0.057           27.0   \n",
              "\n",
              "   hour_bef_pm2.5  count  \n",
              "0            33.0   49.0  \n",
              "1            40.0  159.0  \n",
              "2            19.0   26.0  \n",
              "3            64.0   57.0  \n",
              "4            11.0  431.0  "
            ],
            "text/html": [
              "\n",
              "  <div id=\"df-52f8ac1a-bf11-4629-9c0d-5c355f6c1621\">\n",
              "    <div class=\"colab-df-container\">\n",
              "      <div>\n",
              "<style scoped>\n",
              "    .dataframe tbody tr th:only-of-type {\n",
              "        vertical-align: middle;\n",
              "    }\n",
              "\n",
              "    .dataframe tbody tr th {\n",
              "        vertical-align: top;\n",
              "    }\n",
              "\n",
              "    .dataframe thead th {\n",
              "        text-align: right;\n",
              "    }\n",
              "</style>\n",
              "<table border=\"1\" class=\"dataframe\">\n",
              "  <thead>\n",
              "    <tr style=\"text-align: right;\">\n",
              "      <th></th>\n",
              "      <th>id</th>\n",
              "      <th>hour</th>\n",
              "      <th>hour_bef_temperature</th>\n",
              "      <th>hour_bef_precipitation</th>\n",
              "      <th>hour_bef_windspeed</th>\n",
              "      <th>hour_bef_humidity</th>\n",
              "      <th>hour_bef_visibility</th>\n",
              "      <th>hour_bef_ozone</th>\n",
              "      <th>hour_bef_pm10</th>\n",
              "      <th>hour_bef_pm2.5</th>\n",
              "      <th>count</th>\n",
              "    </tr>\n",
              "  </thead>\n",
              "  <tbody>\n",
              "    <tr>\n",
              "      <th>0</th>\n",
              "      <td>3</td>\n",
              "      <td>20</td>\n",
              "      <td>16.3</td>\n",
              "      <td>1.0</td>\n",
              "      <td>1.5</td>\n",
              "      <td>89.0</td>\n",
              "      <td>576.0</td>\n",
              "      <td>0.027</td>\n",
              "      <td>76.0</td>\n",
              "      <td>33.0</td>\n",
              "      <td>49.0</td>\n",
              "    </tr>\n",
              "    <tr>\n",
              "      <th>1</th>\n",
              "      <td>6</td>\n",
              "      <td>13</td>\n",
              "      <td>20.1</td>\n",
              "      <td>0.0</td>\n",
              "      <td>1.4</td>\n",
              "      <td>48.0</td>\n",
              "      <td>916.0</td>\n",
              "      <td>0.042</td>\n",
              "      <td>73.0</td>\n",
              "      <td>40.0</td>\n",
              "      <td>159.0</td>\n",
              "    </tr>\n",
              "    <tr>\n",
              "      <th>2</th>\n",
              "      <td>7</td>\n",
              "      <td>6</td>\n",
              "      <td>13.9</td>\n",
              "      <td>0.0</td>\n",
              "      <td>0.7</td>\n",
              "      <td>79.0</td>\n",
              "      <td>1382.0</td>\n",
              "      <td>0.033</td>\n",
              "      <td>32.0</td>\n",
              "      <td>19.0</td>\n",
              "      <td>26.0</td>\n",
              "    </tr>\n",
              "    <tr>\n",
              "      <th>3</th>\n",
              "      <td>8</td>\n",
              "      <td>23</td>\n",
              "      <td>8.1</td>\n",
              "      <td>0.0</td>\n",
              "      <td>2.7</td>\n",
              "      <td>54.0</td>\n",
              "      <td>946.0</td>\n",
              "      <td>0.040</td>\n",
              "      <td>75.0</td>\n",
              "      <td>64.0</td>\n",
              "      <td>57.0</td>\n",
              "    </tr>\n",
              "    <tr>\n",
              "      <th>4</th>\n",
              "      <td>9</td>\n",
              "      <td>18</td>\n",
              "      <td>29.5</td>\n",
              "      <td>0.0</td>\n",
              "      <td>4.8</td>\n",
              "      <td>7.0</td>\n",
              "      <td>2000.0</td>\n",
              "      <td>0.057</td>\n",
              "      <td>27.0</td>\n",
              "      <td>11.0</td>\n",
              "      <td>431.0</td>\n",
              "    </tr>\n",
              "  </tbody>\n",
              "</table>\n",
              "</div>\n",
              "      <button class=\"colab-df-convert\" onclick=\"convertToInteractive('df-52f8ac1a-bf11-4629-9c0d-5c355f6c1621')\"\n",
              "              title=\"Convert this dataframe to an interactive table.\"\n",
              "              style=\"display:none;\">\n",
              "        \n",
              "  <svg xmlns=\"http://www.w3.org/2000/svg\" height=\"24px\"viewBox=\"0 0 24 24\"\n",
              "       width=\"24px\">\n",
              "    <path d=\"M0 0h24v24H0V0z\" fill=\"none\"/>\n",
              "    <path d=\"M18.56 5.44l.94 2.06.94-2.06 2.06-.94-2.06-.94-.94-2.06-.94 2.06-2.06.94zm-11 1L8.5 8.5l.94-2.06 2.06-.94-2.06-.94L8.5 2.5l-.94 2.06-2.06.94zm10 10l.94 2.06.94-2.06 2.06-.94-2.06-.94-.94-2.06-.94 2.06-2.06.94z\"/><path d=\"M17.41 7.96l-1.37-1.37c-.4-.4-.92-.59-1.43-.59-.52 0-1.04.2-1.43.59L10.3 9.45l-7.72 7.72c-.78.78-.78 2.05 0 2.83L4 21.41c.39.39.9.59 1.41.59.51 0 1.02-.2 1.41-.59l7.78-7.78 2.81-2.81c.8-.78.8-2.07 0-2.86zM5.41 20L4 18.59l7.72-7.72 1.47 1.35L5.41 20z\"/>\n",
              "  </svg>\n",
              "      </button>\n",
              "      \n",
              "  <style>\n",
              "    .colab-df-container {\n",
              "      display:flex;\n",
              "      flex-wrap:wrap;\n",
              "      gap: 12px;\n",
              "    }\n",
              "\n",
              "    .colab-df-convert {\n",
              "      background-color: #E8F0FE;\n",
              "      border: none;\n",
              "      border-radius: 50%;\n",
              "      cursor: pointer;\n",
              "      display: none;\n",
              "      fill: #1967D2;\n",
              "      height: 32px;\n",
              "      padding: 0 0 0 0;\n",
              "      width: 32px;\n",
              "    }\n",
              "\n",
              "    .colab-df-convert:hover {\n",
              "      background-color: #E2EBFA;\n",
              "      box-shadow: 0px 1px 2px rgba(60, 64, 67, 0.3), 0px 1px 3px 1px rgba(60, 64, 67, 0.15);\n",
              "      fill: #174EA6;\n",
              "    }\n",
              "\n",
              "    [theme=dark] .colab-df-convert {\n",
              "      background-color: #3B4455;\n",
              "      fill: #D2E3FC;\n",
              "    }\n",
              "\n",
              "    [theme=dark] .colab-df-convert:hover {\n",
              "      background-color: #434B5C;\n",
              "      box-shadow: 0px 1px 3px 1px rgba(0, 0, 0, 0.15);\n",
              "      filter: drop-shadow(0px 1px 2px rgba(0, 0, 0, 0.3));\n",
              "      fill: #FFFFFF;\n",
              "    }\n",
              "  </style>\n",
              "\n",
              "      <script>\n",
              "        const buttonEl =\n",
              "          document.querySelector('#df-52f8ac1a-bf11-4629-9c0d-5c355f6c1621 button.colab-df-convert');\n",
              "        buttonEl.style.display =\n",
              "          google.colab.kernel.accessAllowed ? 'block' : 'none';\n",
              "\n",
              "        async function convertToInteractive(key) {\n",
              "          const element = document.querySelector('#df-52f8ac1a-bf11-4629-9c0d-5c355f6c1621');\n",
              "          const dataTable =\n",
              "            await google.colab.kernel.invokeFunction('convertToInteractive',\n",
              "                                                     [key], {});\n",
              "          if (!dataTable) return;\n",
              "\n",
              "          const docLinkHtml = 'Like what you see? Visit the ' +\n",
              "            '<a target=\"_blank\" href=https://colab.research.google.com/notebooks/data_table.ipynb>data table notebook</a>'\n",
              "            + ' to learn more about interactive tables.';\n",
              "          element.innerHTML = '';\n",
              "          dataTable['output_type'] = 'display_data';\n",
              "          await google.colab.output.renderOutput(dataTable, element);\n",
              "          const docLink = document.createElement('div');\n",
              "          docLink.innerHTML = docLinkHtml;\n",
              "          element.appendChild(docLink);\n",
              "        }\n",
              "      </script>\n",
              "    </div>\n",
              "  </div>\n",
              "  "
            ]
          },
          "metadata": {},
          "execution_count": 70
        }
      ]
    },
    {
      "cell_type": "markdown",
      "source": [
        "* id : 고유 id\n",
        "* hour : 시간\n",
        "* hour_bef_temperature : 기온\n",
        "* hour_bef_precipitation : 비 오지 않았으면 0, 비 오면 1\n",
        "* hour_bef_windspeed : 풍속(평균)\n",
        "* hour_bef_humidity : 습도\n",
        "* hour_bef_visibility : 시정(視程), 시계(視界)(특정 기상 상태에 따른 가시성을 의미)\n",
        "* hour_bef_ozone : 오존\n",
        "* hour_bef_pm10 : 미세먼지(머리카락 굵기의 1/5에서 1/7 크기의 미세먼지)\n",
        "* hour_bef_pm2.5 : 미세먼지(머리카락 굵기의 1/20에서 1/30 크기의 미세먼지)\n",
        "* count : 시간에 따른 따릉이 대여 수"
      ],
      "metadata": {
        "id": "u3dfAhtVjC7i"
      }
    },
    {
      "cell_type": "code",
      "source": [
        "train['hour'].value_counts()"
      ],
      "metadata": {
        "colab": {
          "base_uri": "https://localhost:8080/"
        },
        "id": "o6WmH8rXomWC",
        "outputId": "d9c1e779-26c4-4e6d-f258-8bf7b55a0520"
      },
      "execution_count": null,
      "outputs": [
        {
          "output_type": "execute_result",
          "data": {
            "text/plain": [
              "20    61\n",
              "4     61\n",
              "5     61\n",
              "11    61\n",
              "22    61\n",
              "19    61\n",
              "15    61\n",
              "7     61\n",
              "8     61\n",
              "10    61\n",
              "1     61\n",
              "14    61\n",
              "9     61\n",
              "3     61\n",
              "2     61\n",
              "18    61\n",
              "23    61\n",
              "6     61\n",
              "12    61\n",
              "13    60\n",
              "17    60\n",
              "16    60\n",
              "0     60\n",
              "21    60\n",
              "Name: hour, dtype: int64"
            ]
          },
          "metadata": {},
          "execution_count": 12
        }
      ]
    },
    {
      "cell_type": "markdown",
      "source": [
        "날짜가 없고 시간만 있어서 정확한 EDA 및 분석이 어려울 것 같다."
      ],
      "metadata": {
        "id": "OLKP-bKtoqnA"
      }
    },
    {
      "cell_type": "markdown",
      "source": [
        "## null값 확인"
      ],
      "metadata": {
        "id": "G9CerMXAg3Nh"
      }
    },
    {
      "cell_type": "code",
      "source": [
        "train.isnull().sum()"
      ],
      "metadata": {
        "colab": {
          "base_uri": "https://localhost:8080/"
        },
        "id": "4IpX-CJug6NB",
        "outputId": "a95b97bd-fc02-4f27-cbc1-aacee217848f"
      },
      "execution_count": null,
      "outputs": [
        {
          "output_type": "execute_result",
          "data": {
            "text/plain": [
              "id                          0\n",
              "hour                        0\n",
              "hour_bef_temperature        2\n",
              "hour_bef_precipitation      2\n",
              "hour_bef_windspeed          9\n",
              "hour_bef_humidity           2\n",
              "hour_bef_visibility         2\n",
              "hour_bef_ozone             76\n",
              "hour_bef_pm10              90\n",
              "hour_bef_pm2.5            117\n",
              "count                       0\n",
              "dtype: int64"
            ]
          },
          "metadata": {},
          "execution_count": 7
        }
      ]
    },
    {
      "cell_type": "markdown",
      "source": [
        "null값 존재 --> 처리 필요"
      ],
      "metadata": {
        "id": "wSWHam2AiIY8"
      }
    },
    {
      "cell_type": "code",
      "source": [
        "test.isnull().sum()"
      ],
      "metadata": {
        "colab": {
          "base_uri": "https://localhost:8080/"
        },
        "id": "qgbDJxKpg8w6",
        "outputId": "59a90a90-b0f2-4693-d1cb-314970fffb0a"
      },
      "execution_count": null,
      "outputs": [
        {
          "output_type": "execute_result",
          "data": {
            "text/plain": [
              "id                         0\n",
              "hour                       0\n",
              "hour_bef_temperature       1\n",
              "hour_bef_precipitation     1\n",
              "hour_bef_windspeed         1\n",
              "hour_bef_humidity          1\n",
              "hour_bef_visibility        1\n",
              "hour_bef_ozone            35\n",
              "hour_bef_pm10             37\n",
              "hour_bef_pm2.5            36\n",
              "dtype: int64"
            ]
          },
          "metadata": {},
          "execution_count": 8
        }
      ]
    },
    {
      "cell_type": "markdown",
      "source": [
        "null값 존재 --> 처리 필요"
      ],
      "metadata": {
        "id": "vbb5sJxdiKsS"
      }
    },
    {
      "cell_type": "markdown",
      "source": [
        "## null값 처리"
      ],
      "metadata": {
        "id": "W7Brzc_toyN7"
      }
    },
    {
      "cell_type": "code",
      "source": [
        "# train null값 처리\n",
        "train['hour_bef_temperature'] =train['hour_bef_temperature'].fillna(value=train['hour_bef_temperature'].mean())\n",
        "train['hour_bef_precipitation'] =train['hour_bef_precipitation'].fillna(0)\n",
        "train['hour_bef_windspeed'] =train['hour_bef_windspeed'].fillna(value=train['hour_bef_windspeed'].mean())\n",
        "train['hour_bef_humidity'] =train['hour_bef_humidity'].fillna(value=train['hour_bef_humidity'].mean())\n",
        "train['hour_bef_visibility'] =train['hour_bef_visibility'].fillna(value=train['hour_bef_visibility'].mean())\n",
        "train['hour_bef_ozone'] =train['hour_bef_ozone'].fillna(value=train['hour_bef_ozone'].mean())\n",
        "train['hour_bef_pm10'] =train['hour_bef_pm10'].fillna(value=train['hour_bef_pm10'].mean())\n",
        "train['hour_bef_pm2.5'] =train['hour_bef_pm2.5'].fillna(value=train['hour_bef_pm2.5'].mean())"
      ],
      "metadata": {
        "id": "XyW5xeN4k-9V"
      },
      "execution_count": null,
      "outputs": []
    },
    {
      "cell_type": "code",
      "source": [
        "# test null값 처리\n",
        "test['hour_bef_temperature'] =test['hour_bef_temperature'].fillna(value=test['hour_bef_temperature'].mean())\n",
        "test['hour_bef_precipitation'] =test['hour_bef_precipitation'].fillna(0)\n",
        "test['hour_bef_windspeed'] =test['hour_bef_windspeed'].fillna(value=test['hour_bef_windspeed'].mean())\n",
        "test['hour_bef_humidity'] =test['hour_bef_humidity'].fillna(value=test['hour_bef_humidity'].mean())\n",
        "test['hour_bef_visibility'] =test['hour_bef_visibility'].fillna(value=test['hour_bef_visibility'].mean())\n",
        "test['hour_bef_ozone'] =test['hour_bef_ozone'].fillna(value=test['hour_bef_ozone'].mean())\n",
        "test['hour_bef_pm10'] =test['hour_bef_pm10'].fillna(value=test['hour_bef_pm10'].mean())\n",
        "test['hour_bef_pm2.5'] =test['hour_bef_pm2.5'].fillna(value=test['hour_bef_pm2.5'].mean())"
      ],
      "metadata": {
        "id": "WmS_5vVsKCdM"
      },
      "execution_count": null,
      "outputs": []
    },
    {
      "cell_type": "markdown",
      "source": [
        "# 01.데이터 EDA"
      ],
      "metadata": {
        "id": "jN7NkwTlk3Q6"
      }
    },
    {
      "cell_type": "code",
      "source": [
        "# 시간대별 자전거 대여량\n",
        "train.groupby(['hour'])['count'].mean().to_frame().reset_index()"
      ],
      "metadata": {
        "colab": {
          "base_uri": "https://localhost:8080/",
          "height": 802
        },
        "id": "dj8Gl-LX32Su",
        "outputId": "ee3b7735-1795-4c1d-f67e-766dd6f3a4f0"
      },
      "execution_count": null,
      "outputs": [
        {
          "output_type": "execute_result",
          "data": {
            "text/plain": [
              "    hour       count\n",
              "0      0   71.766667\n",
              "1      1   47.606557\n",
              "2      2   31.409836\n",
              "3      3   21.377049\n",
              "4      4   13.524590\n",
              "5      5   13.114754\n",
              "6      6   24.557377\n",
              "7      7   62.360656\n",
              "8      8  136.688525\n",
              "9      9   93.540984\n",
              "10    10   78.803279\n",
              "11    11   88.327869\n",
              "12    12  111.901639\n",
              "13    13  120.050000\n",
              "14    14  134.590164\n",
              "15    15  152.967213\n",
              "16    16  169.100000\n",
              "17    17  187.133333\n",
              "18    18  262.163934\n",
              "19    19  201.606557\n",
              "20    20  164.868852\n",
              "21    21  168.816667\n",
              "22    22  148.245902\n",
              "23    23  103.852459"
            ],
            "text/html": [
              "\n",
              "  <div id=\"df-b02e9aa3-029a-43db-b6d1-90f9dbe5e72c\">\n",
              "    <div class=\"colab-df-container\">\n",
              "      <div>\n",
              "<style scoped>\n",
              "    .dataframe tbody tr th:only-of-type {\n",
              "        vertical-align: middle;\n",
              "    }\n",
              "\n",
              "    .dataframe tbody tr th {\n",
              "        vertical-align: top;\n",
              "    }\n",
              "\n",
              "    .dataframe thead th {\n",
              "        text-align: right;\n",
              "    }\n",
              "</style>\n",
              "<table border=\"1\" class=\"dataframe\">\n",
              "  <thead>\n",
              "    <tr style=\"text-align: right;\">\n",
              "      <th></th>\n",
              "      <th>hour</th>\n",
              "      <th>count</th>\n",
              "    </tr>\n",
              "  </thead>\n",
              "  <tbody>\n",
              "    <tr>\n",
              "      <th>0</th>\n",
              "      <td>0</td>\n",
              "      <td>71.766667</td>\n",
              "    </tr>\n",
              "    <tr>\n",
              "      <th>1</th>\n",
              "      <td>1</td>\n",
              "      <td>47.606557</td>\n",
              "    </tr>\n",
              "    <tr>\n",
              "      <th>2</th>\n",
              "      <td>2</td>\n",
              "      <td>31.409836</td>\n",
              "    </tr>\n",
              "    <tr>\n",
              "      <th>3</th>\n",
              "      <td>3</td>\n",
              "      <td>21.377049</td>\n",
              "    </tr>\n",
              "    <tr>\n",
              "      <th>4</th>\n",
              "      <td>4</td>\n",
              "      <td>13.524590</td>\n",
              "    </tr>\n",
              "    <tr>\n",
              "      <th>5</th>\n",
              "      <td>5</td>\n",
              "      <td>13.114754</td>\n",
              "    </tr>\n",
              "    <tr>\n",
              "      <th>6</th>\n",
              "      <td>6</td>\n",
              "      <td>24.557377</td>\n",
              "    </tr>\n",
              "    <tr>\n",
              "      <th>7</th>\n",
              "      <td>7</td>\n",
              "      <td>62.360656</td>\n",
              "    </tr>\n",
              "    <tr>\n",
              "      <th>8</th>\n",
              "      <td>8</td>\n",
              "      <td>136.688525</td>\n",
              "    </tr>\n",
              "    <tr>\n",
              "      <th>9</th>\n",
              "      <td>9</td>\n",
              "      <td>93.540984</td>\n",
              "    </tr>\n",
              "    <tr>\n",
              "      <th>10</th>\n",
              "      <td>10</td>\n",
              "      <td>78.803279</td>\n",
              "    </tr>\n",
              "    <tr>\n",
              "      <th>11</th>\n",
              "      <td>11</td>\n",
              "      <td>88.327869</td>\n",
              "    </tr>\n",
              "    <tr>\n",
              "      <th>12</th>\n",
              "      <td>12</td>\n",
              "      <td>111.901639</td>\n",
              "    </tr>\n",
              "    <tr>\n",
              "      <th>13</th>\n",
              "      <td>13</td>\n",
              "      <td>120.050000</td>\n",
              "    </tr>\n",
              "    <tr>\n",
              "      <th>14</th>\n",
              "      <td>14</td>\n",
              "      <td>134.590164</td>\n",
              "    </tr>\n",
              "    <tr>\n",
              "      <th>15</th>\n",
              "      <td>15</td>\n",
              "      <td>152.967213</td>\n",
              "    </tr>\n",
              "    <tr>\n",
              "      <th>16</th>\n",
              "      <td>16</td>\n",
              "      <td>169.100000</td>\n",
              "    </tr>\n",
              "    <tr>\n",
              "      <th>17</th>\n",
              "      <td>17</td>\n",
              "      <td>187.133333</td>\n",
              "    </tr>\n",
              "    <tr>\n",
              "      <th>18</th>\n",
              "      <td>18</td>\n",
              "      <td>262.163934</td>\n",
              "    </tr>\n",
              "    <tr>\n",
              "      <th>19</th>\n",
              "      <td>19</td>\n",
              "      <td>201.606557</td>\n",
              "    </tr>\n",
              "    <tr>\n",
              "      <th>20</th>\n",
              "      <td>20</td>\n",
              "      <td>164.868852</td>\n",
              "    </tr>\n",
              "    <tr>\n",
              "      <th>21</th>\n",
              "      <td>21</td>\n",
              "      <td>168.816667</td>\n",
              "    </tr>\n",
              "    <tr>\n",
              "      <th>22</th>\n",
              "      <td>22</td>\n",
              "      <td>148.245902</td>\n",
              "    </tr>\n",
              "    <tr>\n",
              "      <th>23</th>\n",
              "      <td>23</td>\n",
              "      <td>103.852459</td>\n",
              "    </tr>\n",
              "  </tbody>\n",
              "</table>\n",
              "</div>\n",
              "      <button class=\"colab-df-convert\" onclick=\"convertToInteractive('df-b02e9aa3-029a-43db-b6d1-90f9dbe5e72c')\"\n",
              "              title=\"Convert this dataframe to an interactive table.\"\n",
              "              style=\"display:none;\">\n",
              "        \n",
              "  <svg xmlns=\"http://www.w3.org/2000/svg\" height=\"24px\"viewBox=\"0 0 24 24\"\n",
              "       width=\"24px\">\n",
              "    <path d=\"M0 0h24v24H0V0z\" fill=\"none\"/>\n",
              "    <path d=\"M18.56 5.44l.94 2.06.94-2.06 2.06-.94-2.06-.94-.94-2.06-.94 2.06-2.06.94zm-11 1L8.5 8.5l.94-2.06 2.06-.94-2.06-.94L8.5 2.5l-.94 2.06-2.06.94zm10 10l.94 2.06.94-2.06 2.06-.94-2.06-.94-.94-2.06-.94 2.06-2.06.94z\"/><path d=\"M17.41 7.96l-1.37-1.37c-.4-.4-.92-.59-1.43-.59-.52 0-1.04.2-1.43.59L10.3 9.45l-7.72 7.72c-.78.78-.78 2.05 0 2.83L4 21.41c.39.39.9.59 1.41.59.51 0 1.02-.2 1.41-.59l7.78-7.78 2.81-2.81c.8-.78.8-2.07 0-2.86zM5.41 20L4 18.59l7.72-7.72 1.47 1.35L5.41 20z\"/>\n",
              "  </svg>\n",
              "      </button>\n",
              "      \n",
              "  <style>\n",
              "    .colab-df-container {\n",
              "      display:flex;\n",
              "      flex-wrap:wrap;\n",
              "      gap: 12px;\n",
              "    }\n",
              "\n",
              "    .colab-df-convert {\n",
              "      background-color: #E8F0FE;\n",
              "      border: none;\n",
              "      border-radius: 50%;\n",
              "      cursor: pointer;\n",
              "      display: none;\n",
              "      fill: #1967D2;\n",
              "      height: 32px;\n",
              "      padding: 0 0 0 0;\n",
              "      width: 32px;\n",
              "    }\n",
              "\n",
              "    .colab-df-convert:hover {\n",
              "      background-color: #E2EBFA;\n",
              "      box-shadow: 0px 1px 2px rgba(60, 64, 67, 0.3), 0px 1px 3px 1px rgba(60, 64, 67, 0.15);\n",
              "      fill: #174EA6;\n",
              "    }\n",
              "\n",
              "    [theme=dark] .colab-df-convert {\n",
              "      background-color: #3B4455;\n",
              "      fill: #D2E3FC;\n",
              "    }\n",
              "\n",
              "    [theme=dark] .colab-df-convert:hover {\n",
              "      background-color: #434B5C;\n",
              "      box-shadow: 0px 1px 3px 1px rgba(0, 0, 0, 0.15);\n",
              "      filter: drop-shadow(0px 1px 2px rgba(0, 0, 0, 0.3));\n",
              "      fill: #FFFFFF;\n",
              "    }\n",
              "  </style>\n",
              "\n",
              "      <script>\n",
              "        const buttonEl =\n",
              "          document.querySelector('#df-b02e9aa3-029a-43db-b6d1-90f9dbe5e72c button.colab-df-convert');\n",
              "        buttonEl.style.display =\n",
              "          google.colab.kernel.accessAllowed ? 'block' : 'none';\n",
              "\n",
              "        async function convertToInteractive(key) {\n",
              "          const element = document.querySelector('#df-b02e9aa3-029a-43db-b6d1-90f9dbe5e72c');\n",
              "          const dataTable =\n",
              "            await google.colab.kernel.invokeFunction('convertToInteractive',\n",
              "                                                     [key], {});\n",
              "          if (!dataTable) return;\n",
              "\n",
              "          const docLinkHtml = 'Like what you see? Visit the ' +\n",
              "            '<a target=\"_blank\" href=https://colab.research.google.com/notebooks/data_table.ipynb>data table notebook</a>'\n",
              "            + ' to learn more about interactive tables.';\n",
              "          element.innerHTML = '';\n",
              "          dataTable['output_type'] = 'display_data';\n",
              "          await google.colab.output.renderOutput(dataTable, element);\n",
              "          const docLink = document.createElement('div');\n",
              "          docLink.innerHTML = docLinkHtml;\n",
              "          element.appendChild(docLink);\n",
              "        }\n",
              "      </script>\n",
              "    </div>\n",
              "  </div>\n",
              "  "
            ]
          },
          "metadata": {},
          "execution_count": 18
        }
      ]
    },
    {
      "cell_type": "code",
      "source": [
        "plt.figure()\n",
        "sns.lineplot(x='hour', y='count', data=train.groupby(['hour'])['count'].mean().to_frame().reset_index())\n",
        "plt.axvline(x=8,color='r')\n",
        "plt.axvline(x=18,color='r')\n",
        "plt.text(6,150, 'go work')\n",
        "plt.text(16,150, 'leave work')\n",
        "plt.title('bike counts per time')\n",
        "plt.show()"
      ],
      "metadata": {
        "colab": {
          "base_uri": "https://localhost:8080/",
          "height": 295
        },
        "id": "YBK-pGWsiEVf",
        "outputId": "8e657782-ff3d-4814-bade-3e75951341bb"
      },
      "execution_count": null,
      "outputs": [
        {
          "output_type": "display_data",
          "data": {
            "text/plain": [
              "<Figure size 432x288 with 1 Axes>"
            ],
            "image/png": "[encoded data removed]"
          },
          "metadata": {
            "needs_background": "light"
          }
        }
      ]
    },
    {
      "cell_type": "code",
      "source": [
        "# boxplot으로 데이터 분포 확인\n",
        "plt.figure(figsize=(12,16))\n",
        "\n",
        "cols= train.columns[2:]\n",
        "for i in range(len(cols)):\n",
        "  plt.subplot(3,3, i+1)\n",
        "  plt.title(cols[i])\n",
        "  plt.boxplot(train[cols[i]])\n",
        "plt.show()"
      ],
      "metadata": {
        "id": "EGB0hfIY3uei",
        "colab": {
          "base_uri": "https://localhost:8080/",
          "height": 852
        },
        "outputId": "7a6b89e1-071e-4f7c-c71f-d3fc9ae5f805"
      },
      "execution_count": null,
      "outputs": [
        {
          "output_type": "display_data",
          "data": {
            "text/plain": [
              "<Figure size 864x1152 with 9 Axes>"
            ],
            "image/png": "[encoded data removed]"
          },
          "metadata": {
            "needs_background": "light"
          }
        }
      ]
    },
    {
      "cell_type": "code",
      "source": [
        "# histplot으로 데이터 분포 확인\n",
        "plt.figure(figsize=(12,16))\n",
        "\n",
        "cols= train.columns[2:]\n",
        "for i in range(len(cols)):\n",
        "  plt.subplot(3,3, i+1)\n",
        "  plt.title(cols[i])\n",
        "  sns.histplot(train[cols[i]])\n",
        "plt.show()"
      ],
      "metadata": {
        "colab": {
          "base_uri": "https://localhost:8080/",
          "height": 843
        },
        "id": "hiUmru4Dz7YS",
        "outputId": "9591f56f-1e32-42d5-a143-16bc33eaa373"
      },
      "execution_count": null,
      "outputs": [
        {
          "output_type": "display_data",
          "data": {
            "text/plain": [
              "<Figure size 864x1152 with 9 Axes>"
            ],
            "image/png": "[encoded data removed]"
          },
          "metadata": {
            "needs_background": "light"
          }
        }
      ]
    },
    {
      "cell_type": "code",
      "source": [
        "train_corr=train.drop(['id','hour'], axis=1)\n",
        "\n",
        "plt.figure(figsize=(10,10))\n",
        "sns.heatmap(data = train_corr.corr(), annot=True, fmt = '.2f', linewidths=.5)"
      ],
      "metadata": {
        "colab": {
          "base_uri": "https://localhost:8080/",
          "height": 715
        },
        "id": "XfnKlIPn2SmA",
        "outputId": "67286614-4a9a-4189-d427-1578321cfcfc"
      },
      "execution_count": null,
      "outputs": [
        {
          "output_type": "execute_result",
          "data": {
            "text/plain": [
              "<matplotlib.axes._subplots.AxesSubplot at 0x7fa14baa5650>"
            ]
          },
          "metadata": {},
          "execution_count": 38
        },
        {
          "output_type": "display_data",
          "data": {
            "text/plain": [
              "<Figure size 720x720 with 2 Axes>"
            ],
            "image/png": "[encoded data removed]"
          },
          "metadata": {
            "needs_background": "light"
          }
        }
      ]
    },
    {
      "cell_type": "markdown",
      "source": [
        "hour_bef_precipitation은 count에 큰 영향을 주지 않는 것 같다. \n",
        "\n",
        "hour_bef_precipitation : 비 오지 않았으면 0, 비 오면 1\n",
        "\n",
        "비가 와도 아주 조금 오면 따릉이 탈 수도 있음. 강수량이 중요하지 강수유무는 안 중요할 수도"
      ],
      "metadata": {
        "id": "XreEGSj2e7Q9"
      }
    },
    {
      "cell_type": "markdown",
      "source": [
        "# 02.데이터 전처리"
      ],
      "metadata": {
        "id": "U8voJlgmyIh-"
      }
    },
    {
      "cell_type": "markdown",
      "source": [
        "## Feature Engineering\n",
        "\n",
        "feature selection, 이미 있는 feature로 새로운 feature 만들기"
      ],
      "metadata": {
        "id": "zQBzjWVt5hQB"
      }
    },
    {
      "cell_type": "markdown",
      "source": [
        "**불쾌지수 피처 추가**"
      ],
      "metadata": {
        "id": "pESSTPCqJH1a"
      }
    },
    {
      "cell_type": "code",
      "source": [
        "# 불쾌지수 함수 만들기\n",
        "def get_discomfort(humidity,temperature):\n",
        "  discomfort = 0.4*(humidity+temperature) +4.8\n",
        "  \n",
        "  return discomfort"
      ],
      "metadata": {
        "id": "Ik_Mub71GHDT"
      },
      "execution_count": null,
      "outputs": []
    },
    {
      "cell_type": "code",
      "source": [
        "# 불쾌지수 함수로 새 컬럼 만들기\n",
        "train['discomfort'] = [0]* len(train)\n",
        "\n",
        "for i in range(len(train)):\n",
        "  train.discomfort[i] = get_discomfort(train.hour_bef_humidity[i],train.hour_bef_temperature[i])\n",
        "\n",
        "test['discomfort'] = [0] * len(test)\n",
        "for i in range(len(test)):\n",
        "  test.discomfort[i] = get_discomfort(test.hour_bef_humidity[i],test.hour_bef_temperature[i])"
      ],
      "metadata": {
        "id": "6NUFa04vG3jt"
      },
      "execution_count": null,
      "outputs": []
    },
    {
      "cell_type": "markdown",
      "source": [
        "**hardship 피쳐 추가**"
      ],
      "metadata": {
        "id": "ZJ8E6OPvJXpu"
      }
    },
    {
      "cell_type": "code",
      "source": [
        "train['hardship'] = train['hour_bef_visibility']* train['hour_bef_windspeed']\n",
        "test['hardship'] = test['hour_bef_visibility']* test['hour_bef_windspeed']"
      ],
      "metadata": {
        "id": "JD6VgBuoJg3_"
      },
      "execution_count": null,
      "outputs": []
    },
    {
      "cell_type": "code",
      "source": [
        "train.head()"
      ],
      "metadata": {
        "colab": {
          "base_uri": "https://localhost:8080/",
          "height": 270
        },
        "id": "q-qx6ps0IRc6",
        "outputId": "591aac3c-c502-434a-9ef2-556fe0d86581"
      },
      "execution_count": null,
      "outputs": [
        {
          "output_type": "execute_result",
          "data": {
            "text/plain": [
              "   id  hour  hour_bef_temperature  hour_bef_precipitation  hour_bef_windspeed  \\\n",
              "0   3    20                  16.3                     1.0                 1.5   \n",
              "1   6    13                  20.1                     0.0                 1.4   \n",
              "2   7     6                  13.9                     0.0                 0.7   \n",
              "3   8    23                   8.1                     0.0                 2.7   \n",
              "4   9    18                  29.5                     0.0                 4.8   \n",
              "\n",
              "   hour_bef_humidity  hour_bef_visibility  hour_bef_ozone  hour_bef_pm10  \\\n",
              "0               89.0                576.0           0.027           76.0   \n",
              "1               48.0                916.0           0.042           73.0   \n",
              "2               79.0               1382.0           0.033           32.0   \n",
              "3               54.0                946.0           0.040           75.0   \n",
              "4                7.0               2000.0           0.057           27.0   \n",
              "\n",
              "   hour_bef_pm2.5  count  discomfort  hardship  \n",
              "0            33.0   49.0        46.0     864.0  \n",
              "1            40.0  159.0        32.0    1282.4  \n",
              "2            19.0   26.0        41.0     967.4  \n",
              "3            64.0   57.0        29.0    2554.2  \n",
              "4            11.0  431.0        19.0    9600.0  "
            ],
            "text/html": [
              "\n",
              "  <div id=\"df-84b749ff-3711-4c60-9d5a-42820f7c09b0\">\n",
              "    <div class=\"colab-df-container\">\n",
              "      <div>\n",
              "<style scoped>\n",
              "    .dataframe tbody tr th:only-of-type {\n",
              "        vertical-align: middle;\n",
              "    }\n",
              "\n",
              "    .dataframe tbody tr th {\n",
              "        vertical-align: top;\n",
              "    }\n",
              "\n",
              "    .dataframe thead th {\n",
              "        text-align: right;\n",
              "    }\n",
              "</style>\n",
              "<table border=\"1\" class=\"dataframe\">\n",
              "  <thead>\n",
              "    <tr style=\"text-align: right;\">\n",
              "      <th></th>\n",
              "      <th>id</th>\n",
              "      <th>hour</th>\n",
              "      <th>hour_bef_temperature</th>\n",
              "      <th>hour_bef_precipitation</th>\n",
              "      <th>hour_bef_windspeed</th>\n",
              "      <th>hour_bef_humidity</th>\n",
              "      <th>hour_bef_visibility</th>\n",
              "      <th>hour_bef_ozone</th>\n",
              "      <th>hour_bef_pm10</th>\n",
              "      <th>hour_bef_pm2.5</th>\n",
              "      <th>count</th>\n",
              "      <th>discomfort</th>\n",
              "      <th>hardship</th>\n",
              "    </tr>\n",
              "  </thead>\n",
              "  <tbody>\n",
              "    <tr>\n",
              "      <th>0</th>\n",
              "      <td>3</td>\n",
              "      <td>20</td>\n",
              "      <td>16.3</td>\n",
              "      <td>1.0</td>\n",
              "      <td>1.5</td>\n",
              "      <td>89.0</td>\n",
              "      <td>576.0</td>\n",
              "      <td>0.027</td>\n",
              "      <td>76.0</td>\n",
              "      <td>33.0</td>\n",
              "      <td>49.0</td>\n",
              "      <td>46.0</td>\n",
              "      <td>864.0</td>\n",
              "    </tr>\n",
              "    <tr>\n",
              "      <th>1</th>\n",
              "      <td>6</td>\n",
              "      <td>13</td>\n",
              "      <td>20.1</td>\n",
              "      <td>0.0</td>\n",
              "      <td>1.4</td>\n",
              "      <td>48.0</td>\n",
              "      <td>916.0</td>\n",
              "      <td>0.042</td>\n",
              "      <td>73.0</td>\n",
              "      <td>40.0</td>\n",
              "      <td>159.0</td>\n",
              "      <td>32.0</td>\n",
              "      <td>1282.4</td>\n",
              "    </tr>\n",
              "    <tr>\n",
              "      <th>2</th>\n",
              "      <td>7</td>\n",
              "      <td>6</td>\n",
              "      <td>13.9</td>\n",
              "      <td>0.0</td>\n",
              "      <td>0.7</td>\n",
              "      <td>79.0</td>\n",
              "      <td>1382.0</td>\n",
              "      <td>0.033</td>\n",
              "      <td>32.0</td>\n",
              "      <td>19.0</td>\n",
              "      <td>26.0</td>\n",
              "      <td>41.0</td>\n",
              "      <td>967.4</td>\n",
              "    </tr>\n",
              "    <tr>\n",
              "      <th>3</th>\n",
              "      <td>8</td>\n",
              "      <td>23</td>\n",
              "      <td>8.1</td>\n",
              "      <td>0.0</td>\n",
              "      <td>2.7</td>\n",
              "      <td>54.0</td>\n",
              "      <td>946.0</td>\n",
              "      <td>0.040</td>\n",
              "      <td>75.0</td>\n",
              "      <td>64.0</td>\n",
              "      <td>57.0</td>\n",
              "      <td>29.0</td>\n",
              "      <td>2554.2</td>\n",
              "    </tr>\n",
              "    <tr>\n",
              "      <th>4</th>\n",
              "      <td>9</td>\n",
              "      <td>18</td>\n",
              "      <td>29.5</td>\n",
              "      <td>0.0</td>\n",
              "      <td>4.8</td>\n",
              "      <td>7.0</td>\n",
              "      <td>2000.0</td>\n",
              "      <td>0.057</td>\n",
              "      <td>27.0</td>\n",
              "      <td>11.0</td>\n",
              "      <td>431.0</td>\n",
              "      <td>19.0</td>\n",
              "      <td>9600.0</td>\n",
              "    </tr>\n",
              "  </tbody>\n",
              "</table>\n",
              "</div>\n",
              "      <button class=\"colab-df-convert\" onclick=\"convertToInteractive('df-84b749ff-3711-4c60-9d5a-42820f7c09b0')\"\n",
              "              title=\"Convert this dataframe to an interactive table.\"\n",
              "              style=\"display:none;\">\n",
              "        \n",
              "  <svg xmlns=\"http://www.w3.org/2000/svg\" height=\"24px\"viewBox=\"0 0 24 24\"\n",
              "       width=\"24px\">\n",
              "    <path d=\"M0 0h24v24H0V0z\" fill=\"none\"/>\n",
              "    <path d=\"M18.56 5.44l.94 2.06.94-2.06 2.06-.94-2.06-.94-.94-2.06-.94 2.06-2.06.94zm-11 1L8.5 8.5l.94-2.06 2.06-.94-2.06-.94L8.5 2.5l-.94 2.06-2.06.94zm10 10l.94 2.06.94-2.06 2.06-.94-2.06-.94-.94-2.06-.94 2.06-2.06.94z\"/><path d=\"M17.41 7.96l-1.37-1.37c-.4-.4-.92-.59-1.43-.59-.52 0-1.04.2-1.43.59L10.3 9.45l-7.72 7.72c-.78.78-.78 2.05 0 2.83L4 21.41c.39.39.9.59 1.41.59.51 0 1.02-.2 1.41-.59l7.78-7.78 2.81-2.81c.8-.78.8-2.07 0-2.86zM5.41 20L4 18.59l7.72-7.72 1.47 1.35L5.41 20z\"/>\n",
              "  </svg>\n",
              "      </button>\n",
              "      \n",
              "  <style>\n",
              "    .colab-df-container {\n",
              "      display:flex;\n",
              "      flex-wrap:wrap;\n",
              "      gap: 12px;\n",
              "    }\n",
              "\n",
              "    .colab-df-convert {\n",
              "      background-color: #E8F0FE;\n",
              "      border: none;\n",
              "      border-radius: 50%;\n",
              "      cursor: pointer;\n",
              "      display: none;\n",
              "      fill: #1967D2;\n",
              "      height: 32px;\n",
              "      padding: 0 0 0 0;\n",
              "      width: 32px;\n",
              "    }\n",
              "\n",
              "    .colab-df-convert:hover {\n",
              "      background-color: #E2EBFA;\n",
              "      box-shadow: 0px 1px 2px rgba(60, 64, 67, 0.3), 0px 1px 3px 1px rgba(60, 64, 67, 0.15);\n",
              "      fill: #174EA6;\n",
              "    }\n",
              "\n",
              "    [theme=dark] .colab-df-convert {\n",
              "      background-color: #3B4455;\n",
              "      fill: #D2E3FC;\n",
              "    }\n",
              "\n",
              "    [theme=dark] .colab-df-convert:hover {\n",
              "      background-color: #434B5C;\n",
              "      box-shadow: 0px 1px 3px 1px rgba(0, 0, 0, 0.15);\n",
              "      filter: drop-shadow(0px 1px 2px rgba(0, 0, 0, 0.3));\n",
              "      fill: #FFFFFF;\n",
              "    }\n",
              "  </style>\n",
              "\n",
              "      <script>\n",
              "        const buttonEl =\n",
              "          document.querySelector('#df-84b749ff-3711-4c60-9d5a-42820f7c09b0 button.colab-df-convert');\n",
              "        buttonEl.style.display =\n",
              "          google.colab.kernel.accessAllowed ? 'block' : 'none';\n",
              "\n",
              "        async function convertToInteractive(key) {\n",
              "          const element = document.querySelector('#df-84b749ff-3711-4c60-9d5a-42820f7c09b0');\n",
              "          const dataTable =\n",
              "            await google.colab.kernel.invokeFunction('convertToInteractive',\n",
              "                                                     [key], {});\n",
              "          if (!dataTable) return;\n",
              "\n",
              "          const docLinkHtml = 'Like what you see? Visit the ' +\n",
              "            '<a target=\"_blank\" href=https://colab.research.google.com/notebooks/data_table.ipynb>data table notebook</a>'\n",
              "            + ' to learn more about interactive tables.';\n",
              "          element.innerHTML = '';\n",
              "          dataTable['output_type'] = 'display_data';\n",
              "          await google.colab.output.renderOutput(dataTable, element);\n",
              "          const docLink = document.createElement('div');\n",
              "          docLink.innerHTML = docLinkHtml;\n",
              "          element.appendChild(docLink);\n",
              "        }\n",
              "      </script>\n",
              "    </div>\n",
              "  </div>\n",
              "  "
            ]
          },
          "metadata": {},
          "execution_count": 67
        }
      ]
    },
    {
      "cell_type": "code",
      "source": [
        "print(train.shape)"
      ],
      "metadata": {
        "colab": {
          "base_uri": "https://localhost:8080/"
        },
        "id": "Z2gbwIJ_uBUC",
        "outputId": "c60d7237-3101-412d-dad4-314dbd62c222"
      },
      "execution_count": null,
      "outputs": [
        {
          "output_type": "stream",
          "name": "stdout",
          "text": [
            "(1459, 13)\n"
          ]
        }
      ]
    },
    {
      "cell_type": "markdown",
      "source": [
        "## Standard Scaling"
      ],
      "metadata": {
        "id": "y9qqb50Jh8Bh"
      }
    },
    {
      "cell_type": "markdown",
      "source": [
        "column 값들의 단위 통일"
      ],
      "metadata": {
        "id": "LFPTbwZVWySS"
      }
    },
    {
      "cell_type": "code",
      "source": [
        "#Standard scaler\n",
        "from sklearn.preprocessing import LabelEncoder, StandardScaler, MinMaxScaler\n",
        "scaler= StandardScaler()\n",
        "\n",
        "# 변환 필요 없는 feature는 제외\n",
        "transform_df= train.drop(columns=['id','count'])\n",
        "\n",
        "std_transform_df = scaler.fit_transform(transform_df)\n",
        "train[transform_df.columns] = std_transform_df\n",
        "train.head()"
      ],
      "metadata": {
        "id": "wujUqfJih65n",
        "colab": {
          "base_uri": "https://localhost:8080/",
          "height": 270
        },
        "outputId": "d09192ce-fa50-4cbb-e3f9-cd5cdfcea352"
      },
      "execution_count": null,
      "outputs": [
        {
          "output_type": "execute_result",
          "data": {
            "text/plain": [
              "   id      hour  hour_bef_temperature  hour_bef_precipitation  \\\n",
              "0   3  1.229190             -0.079758                5.542327   \n",
              "1   6  0.217691              0.646298               -0.180430   \n",
              "2   7 -0.793809             -0.538319               -0.180430   \n",
              "3   8  1.662690             -1.646509               -0.180430   \n",
              "4   9  0.940191              2.442329               -0.180430   \n",
              "\n",
              "   hour_bef_windspeed  hour_bef_humidity  hour_bef_visibility  hour_bef_ozone  \\\n",
              "0           -0.712785           1.806866            -1.423470       -0.639833   \n",
              "1           -0.785590          -0.207932            -0.839811        0.150152   \n",
              "2           -1.295224           1.315452            -0.039855       -0.323839   \n",
              "3            0.160874           0.086917            -0.788312        0.044821   \n",
              "4            1.689777          -2.222730             1.021031        0.940137   \n",
              "\n",
              "   hour_bef_pm10  hour_bef_pm2.5  count  discomfort  hardship  \n",
              "0       0.612115        0.189489   49.0    1.918593 -1.002645  \n",
              "1       0.514599        0.685741  159.0    0.012783 -0.853931  \n",
              "2      -0.818116       -0.803016   26.0    1.237946 -0.965893  \n",
              "3       0.579610        2.387178   57.0   -0.395605 -0.401888  \n",
              "4      -0.980642       -1.370162  431.0   -1.756898  2.102440  "
            ],
            "text/html": [
              "\n",
              "  <div id=\"df-b040c122-9c9c-427c-92ae-71cca8175331\">\n",
              "    <div class=\"colab-df-container\">\n",
              "      <div>\n",
              "<style scoped>\n",
              "    .dataframe tbody tr th:only-of-type {\n",
              "        vertical-align: middle;\n",
              "    }\n",
              "\n",
              "    .dataframe tbody tr th {\n",
              "        vertical-align: top;\n",
              "    }\n",
              "\n",
              "    .dataframe thead th {\n",
              "        text-align: right;\n",
              "    }\n",
              "</style>\n",
              "<table border=\"1\" class=\"dataframe\">\n",
              "  <thead>\n",
              "    <tr style=\"text-align: right;\">\n",
              "      <th></th>\n",
              "      <th>id</th>\n",
              "      <th>hour</th>\n",
              "      <th>hour_bef_temperature</th>\n",
              "      <th>hour_bef_precipitation</th>\n",
              "      <th>hour_bef_windspeed</th>\n",
              "      <th>hour_bef_humidity</th>\n",
              "      <th>hour_bef_visibility</th>\n",
              "      <th>hour_bef_ozone</th>\n",
              "      <th>hour_bef_pm10</th>\n",
              "      <th>hour_bef_pm2.5</th>\n",
              "      <th>count</th>\n",
              "      <th>discomfort</th>\n",
              "      <th>hardship</th>\n",
              "    </tr>\n",
              "  </thead>\n",
              "  <tbody>\n",
              "    <tr>\n",
              "      <th>0</th>\n",
              "      <td>3</td>\n",
              "      <td>1.229190</td>\n",
              "      <td>-0.079758</td>\n",
              "      <td>5.542327</td>\n",
              "      <td>-0.712785</td>\n",
              "      <td>1.806866</td>\n",
              "      <td>-1.423470</td>\n",
              "      <td>-0.639833</td>\n",
              "      <td>0.612115</td>\n",
              "      <td>0.189489</td>\n",
              "      <td>49.0</td>\n",
              "      <td>1.918593</td>\n",
              "      <td>-1.002645</td>\n",
              "    </tr>\n",
              "    <tr>\n",
              "      <th>1</th>\n",
              "      <td>6</td>\n",
              "      <td>0.217691</td>\n",
              "      <td>0.646298</td>\n",
              "      <td>-0.180430</td>\n",
              "      <td>-0.785590</td>\n",
              "      <td>-0.207932</td>\n",
              "      <td>-0.839811</td>\n",
              "      <td>0.150152</td>\n",
              "      <td>0.514599</td>\n",
              "      <td>0.685741</td>\n",
              "      <td>159.0</td>\n",
              "      <td>0.012783</td>\n",
              "      <td>-0.853931</td>\n",
              "    </tr>\n",
              "    <tr>\n",
              "      <th>2</th>\n",
              "      <td>7</td>\n",
              "      <td>-0.793809</td>\n",
              "      <td>-0.538319</td>\n",
              "      <td>-0.180430</td>\n",
              "      <td>-1.295224</td>\n",
              "      <td>1.315452</td>\n",
              "      <td>-0.039855</td>\n",
              "      <td>-0.323839</td>\n",
              "      <td>-0.818116</td>\n",
              "      <td>-0.803016</td>\n",
              "      <td>26.0</td>\n",
              "      <td>1.237946</td>\n",
              "      <td>-0.965893</td>\n",
              "    </tr>\n",
              "    <tr>\n",
              "      <th>3</th>\n",
              "      <td>8</td>\n",
              "      <td>1.662690</td>\n",
              "      <td>-1.646509</td>\n",
              "      <td>-0.180430</td>\n",
              "      <td>0.160874</td>\n",
              "      <td>0.086917</td>\n",
              "      <td>-0.788312</td>\n",
              "      <td>0.044821</td>\n",
              "      <td>0.579610</td>\n",
              "      <td>2.387178</td>\n",
              "      <td>57.0</td>\n",
              "      <td>-0.395605</td>\n",
              "      <td>-0.401888</td>\n",
              "    </tr>\n",
              "    <tr>\n",
              "      <th>4</th>\n",
              "      <td>9</td>\n",
              "      <td>0.940191</td>\n",
              "      <td>2.442329</td>\n",
              "      <td>-0.180430</td>\n",
              "      <td>1.689777</td>\n",
              "      <td>-2.222730</td>\n",
              "      <td>1.021031</td>\n",
              "      <td>0.940137</td>\n",
              "      <td>-0.980642</td>\n",
              "      <td>-1.370162</td>\n",
              "      <td>431.0</td>\n",
              "      <td>-1.756898</td>\n",
              "      <td>2.102440</td>\n",
              "    </tr>\n",
              "  </tbody>\n",
              "</table>\n",
              "</div>\n",
              "      <button class=\"colab-df-convert\" onclick=\"convertToInteractive('df-b040c122-9c9c-427c-92ae-71cca8175331')\"\n",
              "              title=\"Convert this dataframe to an interactive table.\"\n",
              "              style=\"display:none;\">\n",
              "        \n",
              "  <svg xmlns=\"http://www.w3.org/2000/svg\" height=\"24px\"viewBox=\"0 0 24 24\"\n",
              "       width=\"24px\">\n",
              "    <path d=\"M0 0h24v24H0V0z\" fill=\"none\"/>\n",
              "    <path d=\"M18.56 5.44l.94 2.06.94-2.06 2.06-.94-2.06-.94-.94-2.06-.94 2.06-2.06.94zm-11 1L8.5 8.5l.94-2.06 2.06-.94-2.06-.94L8.5 2.5l-.94 2.06-2.06.94zm10 10l.94 2.06.94-2.06 2.06-.94-2.06-.94-.94-2.06-.94 2.06-2.06.94z\"/><path d=\"M17.41 7.96l-1.37-1.37c-.4-.4-.92-.59-1.43-.59-.52 0-1.04.2-1.43.59L10.3 9.45l-7.72 7.72c-.78.78-.78 2.05 0 2.83L4 21.41c.39.39.9.59 1.41.59.51 0 1.02-.2 1.41-.59l7.78-7.78 2.81-2.81c.8-.78.8-2.07 0-2.86zM5.41 20L4 18.59l7.72-7.72 1.47 1.35L5.41 20z\"/>\n",
              "  </svg>\n",
              "      </button>\n",
              "      \n",
              "  <style>\n",
              "    .colab-df-container {\n",
              "      display:flex;\n",
              "      flex-wrap:wrap;\n",
              "      gap: 12px;\n",
              "    }\n",
              "\n",
              "    .colab-df-convert {\n",
              "      background-color: #E8F0FE;\n",
              "      border: none;\n",
              "      border-radius: 50%;\n",
              "      cursor: pointer;\n",
              "      display: none;\n",
              "      fill: #1967D2;\n",
              "      height: 32px;\n",
              "      padding: 0 0 0 0;\n",
              "      width: 32px;\n",
              "    }\n",
              "\n",
              "    .colab-df-convert:hover {\n",
              "      background-color: #E2EBFA;\n",
              "      box-shadow: 0px 1px 2px rgba(60, 64, 67, 0.3), 0px 1px 3px 1px rgba(60, 64, 67, 0.15);\n",
              "      fill: #174EA6;\n",
              "    }\n",
              "\n",
              "    [theme=dark] .colab-df-convert {\n",
              "      background-color: #3B4455;\n",
              "      fill: #D2E3FC;\n",
              "    }\n",
              "\n",
              "    [theme=dark] .colab-df-convert:hover {\n",
              "      background-color: #434B5C;\n",
              "      box-shadow: 0px 1px 3px 1px rgba(0, 0, 0, 0.15);\n",
              "      filter: drop-shadow(0px 1px 2px rgba(0, 0, 0, 0.3));\n",
              "      fill: #FFFFFF;\n",
              "    }\n",
              "  </style>\n",
              "\n",
              "      <script>\n",
              "        const buttonEl =\n",
              "          document.querySelector('#df-b040c122-9c9c-427c-92ae-71cca8175331 button.colab-df-convert');\n",
              "        buttonEl.style.display =\n",
              "          google.colab.kernel.accessAllowed ? 'block' : 'none';\n",
              "\n",
              "        async function convertToInteractive(key) {\n",
              "          const element = document.querySelector('#df-b040c122-9c9c-427c-92ae-71cca8175331');\n",
              "          const dataTable =\n",
              "            await google.colab.kernel.invokeFunction('convertToInteractive',\n",
              "                                                     [key], {});\n",
              "          if (!dataTable) return;\n",
              "\n",
              "          const docLinkHtml = 'Like what you see? Visit the ' +\n",
              "            '<a target=\"_blank\" href=https://colab.research.google.com/notebooks/data_table.ipynb>data table notebook</a>'\n",
              "            + ' to learn more about interactive tables.';\n",
              "          element.innerHTML = '';\n",
              "          dataTable['output_type'] = 'display_data';\n",
              "          await google.colab.output.renderOutput(dataTable, element);\n",
              "          const docLink = document.createElement('div');\n",
              "          docLink.innerHTML = docLinkHtml;\n",
              "          element.appendChild(docLink);\n",
              "        }\n",
              "      </script>\n",
              "    </div>\n",
              "  </div>\n",
              "  "
            ]
          },
          "metadata": {},
          "execution_count": 9
        }
      ]
    },
    {
      "cell_type": "markdown",
      "source": [
        "# 03.모델 생성 (LGBM) 및 학습"
      ],
      "metadata": {
        "id": "cYiw7X8ByLdQ"
      }
    },
    {
      "cell_type": "markdown",
      "source": [
        "## train, val 데이터셋 split"
      ],
      "metadata": {
        "id": "VZaiYxIF1_Qz"
      }
    },
    {
      "cell_type": "code",
      "source": [
        "# 상관관계가 낮게 나온 hour_bef_precipitation 빼기\n",
        "X = train.drop(['id','count','hour_bef_precipitation'],axis=1)\n",
        "y = train['count']"
      ],
      "metadata": {
        "id": "cP_IwlY7D03R"
      },
      "execution_count": null,
      "outputs": []
    },
    {
      "cell_type": "code",
      "source": [
        "from sklearn.model_selection import train_test_split\n",
        "train_x, val_x, train_y, val_y = train_test_split(X,y,test_size=.25, random_state=42)"
      ],
      "metadata": {
        "id": "AaB7PNHYD03S"
      },
      "execution_count": null,
      "outputs": []
    },
    {
      "cell_type": "markdown",
      "source": [
        "## 학습"
      ],
      "metadata": {
        "id": "Qpq_DcJP2OH4"
      }
    },
    {
      "cell_type": "code",
      "source": [
        "# 모델링 라이브러리\n",
        "# 모델링 관련 라이브러리\n",
        "from sklearn.metrics import mean_squared_error, mean_absolute_error\n",
        "import lightgbm as lgbm\n",
        "from lightgbm import LGBMRegressor"
      ],
      "metadata": {
        "id": "q5kwS6v3yKbm"
      },
      "execution_count": null,
      "outputs": []
    },
    {
      "cell_type": "code",
      "source": [
        "def Model(model):\n",
        "    model.fit(train_x,train_y)\n",
        "    score = model.score(val_x,val_y)\n",
        "    model_train_score= model.score(train_x,train_y)\n",
        "    model_test_score=model.score(val_x,val_y)\n",
        "    prediction = model.predict(val_x)\n",
        "    print(\"Testing Score\\n\", score)"
      ],
      "metadata": {
        "id": "Sz7SOvMv16mN"
      },
      "execution_count": null,
      "outputs": []
    },
    {
      "cell_type": "code",
      "source": [
        "lgbm_reg = LGBMRegressor(n_estimators=200, random_state=42, eval_set=[train_x,train_y])\n",
        "\n",
        "print(len(train_x), len(val_x))\n",
        "lgbm_reg.fit(train_x, train_y)\n",
        "pred = lgbm_reg.predict(val_x)\n",
        "mse= mean_squared_error(val_y,pred)\n",
        "rmse= mse**(1/2)\n",
        "\n",
        "print(\"RMSE : \", rmse)"
      ],
      "metadata": {
        "colab": {
          "base_uri": "https://localhost:8080/"
        },
        "id": "uJ_dp7Yl2mZg",
        "outputId": "7b1cacb1-4462-41d9-a021-56e5cb561d78"
      },
      "execution_count": null,
      "outputs": [
        {
          "output_type": "stream",
          "name": "stdout",
          "text": [
            "1094 365\n",
            "RMSE :  38.21219851073851\n"
          ]
        }
      ]
    },
    {
      "cell_type": "code",
      "source": [
        "Model(lgbm_reg)"
      ],
      "metadata": {
        "colab": {
          "base_uri": "https://localhost:8080/"
        },
        "id": "V0bCrPFW2v0l",
        "outputId": "58d87cbe-a96a-4aaf-952f-846c9bb9f6df"
      },
      "execution_count": null,
      "outputs": [
        {
          "output_type": "stream",
          "name": "stdout",
          "text": [
            "Testing Score\n",
            " 0.7937097505670448\n"
          ]
        }
      ]
    },
    {
      "cell_type": "code",
      "source": [
        "lgbm.plot_importance(lgbm_reg)"
      ],
      "metadata": {
        "colab": {
          "base_uri": "https://localhost:8080/",
          "height": 313
        },
        "id": "uD-gQNs9em7G",
        "outputId": "7c776120-f074-4a76-88f5-cf7d67572435"
      },
      "execution_count": null,
      "outputs": [
        {
          "output_type": "execute_result",
          "data": {
            "text/plain": [
              "<matplotlib.axes._subplots.AxesSubplot at 0x7fa3557dd990>"
            ]
          },
          "metadata": {},
          "execution_count": 16
        },
        {
          "output_type": "display_data",
          "data": {
            "text/plain": [
              "<Figure size 432x288 with 1 Axes>"
            ],
            "image/png": "[encoded data removed]"
          },
          "metadata": {
            "needs_background": "light"
          }
        }
      ]
    },
    {
      "cell_type": "markdown",
      "source": [
        "## 하이퍼파라미터 튜닝 - optuna"
      ],
      "metadata": {
        "id": "draw9UOSj1xX"
      }
    },
    {
      "cell_type": "code",
      "source": [
        "!pip install optuna"
      ],
      "metadata": {
        "id": "BW3FxqbrU96V",
        "colab": {
          "base_uri": "https://localhost:8080/"
        },
        "outputId": "187ba006-dd03-4427-fefe-a85d1dddfb89"
      },
      "execution_count": null,
      "outputs": [
        {
          "output_type": "stream",
          "name": "stdout",
          "text": [
            "Looking in indexes: https://pypi.org/simple, https://us-python.pkg.dev/colab-wheels/public/simple/\n",
            "Collecting optuna\n",
            "  Downloading optuna-3.0.3-py3-none-any.whl (348 kB)\n",
            "\u001b[K     |████████████████████████████████| 348 kB 4.0 MB/s \n",
            "\u001b[?25hRequirement already satisfied: importlib-metadata<5.0.0 in /usr/local/lib/python3.7/dist-packages (from optuna) (4.13.0)\n",
            "Requirement already satisfied: packaging>=20.0 in /usr/local/lib/python3.7/dist-packages (from optuna) (21.3)\n",
            "Requirement already satisfied: numpy in /usr/local/lib/python3.7/dist-packages (from optuna) (1.21.6)\n",
            "Requirement already satisfied: sqlalchemy>=1.3.0 in /usr/local/lib/python3.7/dist-packages (from optuna) (1.4.43)\n",
            "Requirement already satisfied: tqdm in /usr/local/lib/python3.7/dist-packages (from optuna) (4.64.1)\n",
            "Requirement already satisfied: PyYAML in /usr/local/lib/python3.7/dist-packages (from optuna) (6.0)\n",
            "Collecting cmaes>=0.8.2\n",
            "  Downloading cmaes-0.9.0-py3-none-any.whl (23 kB)\n",
            "Collecting alembic>=1.5.0\n",
            "  Downloading alembic-1.8.1-py3-none-any.whl (209 kB)\n",
            "\u001b[K     |████████████████████████████████| 209 kB 52.5 MB/s \n",
            "\u001b[?25hRequirement already satisfied: scipy<1.9.0,>=1.7.0 in /usr/local/lib/python3.7/dist-packages (from optuna) (1.7.3)\n",
            "Collecting colorlog\n",
            "  Downloading colorlog-6.7.0-py2.py3-none-any.whl (11 kB)\n",
            "Collecting cliff\n",
            "  Downloading cliff-3.10.1-py3-none-any.whl (81 kB)\n",
            "\u001b[K     |████████████████████████████████| 81 kB 9.0 MB/s \n",
            "\u001b[?25hCollecting Mako\n",
            "  Downloading Mako-1.2.4-py3-none-any.whl (78 kB)\n",
            "\u001b[K     |████████████████████████████████| 78 kB 7.8 MB/s \n",
            "\u001b[?25hRequirement already satisfied: importlib-resources in /usr/local/lib/python3.7/dist-packages (from alembic>=1.5.0->optuna) (5.10.0)\n",
            "Requirement already satisfied: typing-extensions>=3.6.4 in /usr/local/lib/python3.7/dist-packages (from importlib-metadata<5.0.0->optuna) (4.1.1)\n",
            "Requirement already satisfied: zipp>=0.5 in /usr/local/lib/python3.7/dist-packages (from importlib-metadata<5.0.0->optuna) (3.10.0)\n",
            "Requirement already satisfied: pyparsing!=3.0.5,>=2.0.2 in /usr/local/lib/python3.7/dist-packages (from packaging>=20.0->optuna) (3.0.9)\n",
            "Requirement already satisfied: greenlet!=0.4.17 in /usr/local/lib/python3.7/dist-packages (from sqlalchemy>=1.3.0->optuna) (2.0.1)\n",
            "Collecting pbr!=2.1.0,>=2.0.0\n",
            "  Downloading pbr-5.11.0-py2.py3-none-any.whl (112 kB)\n",
            "\u001b[K     |████████████████████████████████| 112 kB 48.2 MB/s \n",
            "\u001b[?25hCollecting stevedore>=2.0.1\n",
            "  Downloading stevedore-3.5.2-py3-none-any.whl (50 kB)\n",
            "\u001b[K     |████████████████████████████████| 50 kB 6.7 MB/s \n",
            "\u001b[?25hRequirement already satisfied: PrettyTable>=0.7.2 in /usr/local/lib/python3.7/dist-packages (from cliff->optuna) (3.5.0)\n",
            "Collecting cmd2>=1.0.0\n",
            "  Downloading cmd2-2.4.2-py3-none-any.whl (147 kB)\n",
            "\u001b[K     |████████████████████████████████| 147 kB 55.3 MB/s \n",
            "\u001b[?25hCollecting autopage>=0.4.0\n",
            "  Downloading autopage-0.5.1-py3-none-any.whl (29 kB)\n",
            "Collecting pyperclip>=1.6\n",
            "  Downloading pyperclip-1.8.2.tar.gz (20 kB)\n",
            "Requirement already satisfied: attrs>=16.3.0 in /usr/local/lib/python3.7/dist-packages (from cmd2>=1.0.0->cliff->optuna) (22.1.0)\n",
            "Requirement already satisfied: wcwidth>=0.1.7 in /usr/local/lib/python3.7/dist-packages (from cmd2>=1.0.0->cliff->optuna) (0.2.5)\n",
            "Requirement already satisfied: MarkupSafe>=0.9.2 in /usr/local/lib/python3.7/dist-packages (from Mako->alembic>=1.5.0->optuna) (2.0.1)\n",
            "Building wheels for collected packages: pyperclip\n",
            "  Building wheel for pyperclip (setup.py) ... \u001b[?25l\u001b[?25hdone\n",
            "  Created wheel for pyperclip: filename=pyperclip-1.8.2-py3-none-any.whl size=11137 sha256=0050b5108b04d99909b7b382e2e45a40cfefd175f64456a993d09539bee98166\n",
            "  Stored in directory: /root/.cache/pip/wheels/9f/18/84/8f69f8b08169c7bae2dde6bd7daf0c19fca8c8e500ee620a28\n",
            "Successfully built pyperclip\n",
            "Installing collected packages: pyperclip, pbr, stevedore, Mako, cmd2, autopage, colorlog, cmaes, cliff, alembic, optuna\n",
            "Successfully installed Mako-1.2.4 alembic-1.8.1 autopage-0.5.1 cliff-3.10.1 cmaes-0.9.0 cmd2-2.4.2 colorlog-6.7.0 optuna-3.0.3 pbr-5.11.0 pyperclip-1.8.2 stevedore-3.5.2\n"
          ]
        }
      ]
    },
    {
      "cell_type": "code",
      "source": [
        "# Optuna Libraries\n",
        "import optuna\n",
        "from optuna import Trial, visualization\n",
        "from optuna.samplers import TPESampler"
      ],
      "metadata": {
        "id": "x91wA6NYFL8O"
      },
      "execution_count": null,
      "outputs": []
    },
    {
      "cell_type": "code",
      "source": [
        "# random sampler\n",
        "sampler = TPESampler(seed=10)\n",
        "\n",
        "# define function\n",
        "def objective(trial):\n",
        "\n",
        "    lgbm_param = {\n",
        "        'objective': 'regression',\n",
        "        'verbose': -1,\n",
        "        'metric': 'mse', \n",
        "        'num_leaves': trial.suggest_int('num_leaves', 2, 1024, step=1, log=True), \n",
        "        'colsample_bytree': trial.suggest_uniform('colsample_bytree', 0.7, 1.0),\n",
        "        'reg_alpha': trial.suggest_uniform('reg_alpha', 0.0, 1.0),\n",
        "        'reg_lambda': trial.suggest_uniform('reg_lambda', 0.0, 10.0),\n",
        "        'max_depth': trial.suggest_int('max_depth',3, 15),\n",
        "        'learning_rate': trial.suggest_loguniform(\"learning_rate\", 1e-8, 1e-2),\n",
        "        'n_estimators': trial.suggest_int('n_estimators', 100, 3000),\n",
        "        'min_child_samples': trial.suggest_int('min_child_samples', 5, 100),\n",
        "        'subsample': trial.suggest_loguniform('subsample', 0.4, 1),\n",
        "    }\n",
        "\n",
        "    # Generate model\n",
        "    model_lgbm = LGBMRegressor(**lgbm_param)\n",
        "    model_lgbm = model_lgbm.fit(train_x, train_y, eval_set=[(val_x, val_y)], \n",
        "                           verbose=0, early_stopping_rounds=25)\n",
        "                           \n",
        "    # * 평가 지표\n",
        "    # 원하는 평가 지표에 따라 사용하기                        \n",
        "    MSE = mean_squared_error(val_y, model_lgbm.predict(val_x))\n",
        "    return MSE\n",
        "\n",
        "optuna_lgbm = optuna.create_study(direction='minimize', sampler=sampler)\n",
        "\n",
        "# * n_trials의 경우 optuna를 몇번 실행하여 hyper parameter를 찾을 것인지를 정한다.\n",
        "# 50으로 설정해도 유의미한 값이 나온다.\n",
        "optuna_lgbm.optimize(objective, n_trials=100)"
      ],
      "metadata": {
        "colab": {
          "base_uri": "https://localhost:8080/"
        },
        "id": "aUm6HGhiFUxk",
        "outputId": "67cfdf89-45ed-4210-812f-69b58a231d79"
      },
      "execution_count": null,
      "outputs": [
        {
          "output_type": "stream",
          "name": "stderr",
          "text": [
            "\u001b[32m[I 2022-11-16 01:49:49,893]\u001b[0m A new study created in memory with name: no-name-54a634e4-ccc0-4f14-b2c7-179712a4e1e3\u001b[0m\n",
            "\u001b[32m[I 2022-11-16 01:49:51,188]\u001b[0m Trial 0 finished with value: 7077.13294906026 and parameters: {'num_leaves': 230, 'colsample_bytree': 0.7062255848078204, 'reg_alpha': 0.6336482349262754, 'reg_lambda': 7.488038825386118, 'max_depth': 9, 'learning_rate': 2.2324403996622945e-07, 'n_estimators': 674, 'min_child_samples': 78, 'subsample': 0.46704202331689854}. Best is trial 0 with value: 7077.13294906026.\u001b[0m\n",
            "\u001b[32m[I 2022-11-16 01:49:54,114]\u001b[0m Trial 1 finished with value: 3038.943359283752 and parameters: {'num_leaves': 3, 'colsample_bytree': 0.9056079455103392, 'reg_alpha': 0.9533933461949365, 'reg_lambda': 0.039482663279144514, 'max_depth': 9, 'learning_rate': 0.0007511484404875245, 'n_estimators': 1876, 'min_child_samples': 74, 'subsample': 0.5226478358414336}. Best is trial 1 with value: 3038.943359283752.\u001b[0m\n",
            "\u001b[32m[I 2022-11-16 01:50:02,307]\u001b[0m Trial 2 finished with value: 5806.059045490782 and parameters: {'num_leaves': 599, 'colsample_bytree': 0.9143727350193072, 'reg_alpha': 0.5425443680112613, 'reg_lambda': 1.4217004760152696, 'max_depth': 7, 'learning_rate': 0.00011086684542255971, 'n_estimators': 1381, 'min_child_samples': 46, 'subsample': 0.7045213978206539}. Best is trial 1 with value: 3038.943359283752.\u001b[0m\n",
            "\u001b[32m[I 2022-11-16 01:50:08,104]\u001b[0m Trial 3 finished with value: 1572.6098206596319 and parameters: {'num_leaves': 43, 'colsample_bytree': 0.8951191545794401, 'reg_alpha': 0.6010389534045444, 'reg_lambda': 8.052231968327465, 'max_depth': 9, 'learning_rate': 0.00283069634962167, 'n_estimators': 1026, 'min_child_samples': 13, 'subsample': 0.5268907502792566}. Best is trial 3 with value: 1572.6098206596319.\u001b[0m\n",
            "\u001b[32m[I 2022-11-16 01:50:08,299]\u001b[0m Trial 4 finished with value: 4574.974544189613 and parameters: {'num_leaves': 3, 'colsample_bytree': 0.948604397892303, 'reg_alpha': 0.04689631938924976, 'reg_lambda': 6.262871483113925, 'max_depth': 10, 'learning_rate': 0.0008236106883720722, 'n_estimators': 677, 'min_child_samples': 87, 'subsample': 0.5520731753100153}. Best is trial 3 with value: 1572.6098206596319.\u001b[0m\n",
            "\u001b[32m[I 2022-11-16 01:50:08,446]\u001b[0m Trial 5 finished with value: 7071.602450480337 and parameters: {'num_leaves': 207, 'colsample_bytree': 0.7887885120639035, 'reg_alpha': 0.8839364795611863, 'reg_lambda': 3.255116378322488, 'max_depth': 5, 'learning_rate': 2.2655594541621946e-06, 'n_estimators': 371, 'min_child_samples': 83, 'subsample': 0.4594195026585646}. Best is trial 3 with value: 1572.6098206596319.\u001b[0m\n",
            "\u001b[32m[I 2022-11-16 01:50:09,140]\u001b[0m Trial 6 finished with value: 7073.226000811502 and parameters: {'num_leaves': 18, 'colsample_bytree': 0.9832782136716404, 'reg_alpha': 0.9876254749018722, 'reg_lambda': 4.5630454709478405, 'max_depth': 13, 'learning_rate': 3.222884970956972e-07, 'n_estimators': 1832, 'min_child_samples': 91, 'subsample': 0.6528027663077773}. Best is trial 3 with value: 1572.6098206596319.\u001b[0m\n",
            "\u001b[32m[I 2022-11-16 01:50:12,169]\u001b[0m Trial 7 finished with value: 7057.264338596219 and parameters: {'num_leaves': 71, 'colsample_bytree': 0.7117845301676161, 'reg_alpha': 0.3571817586345363, 'reg_lambda': 0.7961309015596418, 'max_depth': 6, 'learning_rate': 9.645302925851516e-07, 'n_estimators': 2344, 'min_child_samples': 8, 'subsample': 0.5928872521372353}. Best is trial 3 with value: 1572.6098206596319.\u001b[0m\n",
            "\u001b[32m[I 2022-11-16 01:50:13,522]\u001b[0m Trial 8 finished with value: 2784.286009300855 and parameters: {'num_leaves': 12, 'colsample_bytree': 0.8909473429202633, 'reg_alpha': 0.34634715008003303, 'reg_lambda': 0.4309735620499444, 'max_depth': 14, 'learning_rate': 0.00037970255794292015, 'n_estimators': 2647, 'min_child_samples': 45, 'subsample': 0.6966963456486692}. Best is trial 3 with value: 1572.6098206596319.\u001b[0m\n",
            "\u001b[32m[I 2022-11-16 01:50:13,778]\u001b[0m Trial 9 finished with value: 7073.774092133346 and parameters: {'num_leaves': 43, 'colsample_bytree': 0.8793509943888921, 'reg_alpha': 0.2622156611319503, 'reg_lambda': 3.008713089407072, 'max_depth': 3, 'learning_rate': 6.582265015630127e-07, 'n_estimators': 802, 'min_child_samples': 58, 'subsample': 0.6715801632692119}. Best is trial 3 with value: 1572.6098206596319.\u001b[0m\n",
            "\u001b[32m[I 2022-11-16 01:50:14,480]\u001b[0m Trial 10 finished with value: 1478.5967277260186 and parameters: {'num_leaves': 11, 'colsample_bytree': 0.8252784025370007, 'reg_alpha': 0.7369821398975037, 'reg_lambda': 9.006976226721207, 'max_depth': 11, 'learning_rate': 0.006753045330443924, 'n_estimators': 1309, 'min_child_samples': 7, 'subsample': 0.9163865857314029}. Best is trial 10 with value: 1478.5967277260186.\u001b[0m\n",
            "\u001b[32m[I 2022-11-16 01:50:14,823]\u001b[0m Trial 11 finished with value: 1528.4886506123685 and parameters: {'num_leaves': 10, 'colsample_bytree': 0.7758529818379843, 'reg_alpha': 0.7269965722688396, 'reg_lambda': 9.926885546737706, 'max_depth': 12, 'learning_rate': 0.009840849968468825, 'n_estimators': 1314, 'min_child_samples': 8, 'subsample': 0.9505076760352583}. Best is trial 10 with value: 1478.5967277260186.\u001b[0m\n",
            "\u001b[32m[I 2022-11-16 01:50:15,370]\u001b[0m Trial 12 finished with value: 7078.180650129723 and parameters: {'num_leaves': 9, 'colsample_bytree': 0.8032977950130303, 'reg_alpha': 0.787557102983897, 'reg_lambda': 9.747548518761075, 'max_depth': 12, 'learning_rate': 1.0639270780907802e-08, 'n_estimators': 1213, 'min_child_samples': 25, 'subsample': 0.9464924064650729}. Best is trial 10 with value: 1478.5967277260186.\u001b[0m\n",
            "\u001b[32m[I 2022-11-16 01:50:15,830]\u001b[0m Trial 13 finished with value: 1516.2663054885104 and parameters: {'num_leaves': 6, 'colsample_bytree': 0.8060056333742256, 'reg_alpha': 0.7563093261409133, 'reg_lambda': 9.837341812510118, 'max_depth': 15, 'learning_rate': 0.00867956087760471, 'n_estimators': 1745, 'min_child_samples': 28, 'subsample': 0.989384619643784}. Best is trial 10 with value: 1478.5967277260186.\u001b[0m\n",
            "\u001b[32m[I 2022-11-16 01:50:16,108]\u001b[0m Trial 14 finished with value: 6774.634039704551 and parameters: {'num_leaves': 2, 'colsample_bytree': 0.8327932081409299, 'reg_alpha': 0.7849327742459971, 'reg_lambda': 8.468502359300178, 'max_depth': 15, 'learning_rate': 3.2936677191843005e-05, 'n_estimators': 1865, 'min_child_samples': 30, 'subsample': 0.8175238006778671}. Best is trial 10 with value: 1478.5967277260186.\u001b[0m\n",
            "\u001b[32m[I 2022-11-16 01:50:16,712]\u001b[0m Trial 15 finished with value: 1539.8680100858878 and parameters: {'num_leaves': 6, 'colsample_bytree': 0.7595261209220782, 'reg_alpha': 0.7032594233089455, 'reg_lambda': 6.833478896952317, 'max_depth': 15, 'learning_rate': 0.006927114903510881, 'n_estimators': 2270, 'min_child_samples': 27, 'subsample': 0.8195606449124815}. Best is trial 10 with value: 1478.5967277260186.\u001b[0m\n",
            "\u001b[32m[I 2022-11-16 01:50:17,997]\u001b[0m Trial 16 finished with value: 6618.535773753991 and parameters: {'num_leaves': 19, 'colsample_bytree': 0.8302891741993629, 'reg_alpha': 0.47132266856640376, 'reg_lambda': 5.592302670580374, 'max_depth': 11, 'learning_rate': 3.3084624099556916e-05, 'n_estimators': 1664, 'min_child_samples': 20, 'subsample': 0.8255836101106975}. Best is trial 10 with value: 1478.5967277260186.\u001b[0m\n",
            "\u001b[32m[I 2022-11-16 01:50:18,902]\u001b[0m Trial 17 finished with value: 1716.1395647195582 and parameters: {'num_leaves': 5, 'colsample_bytree': 0.7417482055222293, 'reg_alpha': 0.8584295712386258, 'reg_lambda': 9.113381982150717, 'max_depth': 13, 'learning_rate': 0.0017927623584232837, 'n_estimators': 2935, 'min_child_samples': 39, 'subsample': 0.9927581417790498}. Best is trial 10 with value: 1478.5967277260186.\u001b[0m\n",
            "\u001b[32m[I 2022-11-16 01:50:19,032]\u001b[0m Trial 18 finished with value: 6761.92560631073 and parameters: {'num_leaves': 128, 'colsample_bytree': 0.860969003570233, 'reg_alpha': 0.467704625108526, 'reg_lambda': 8.878730182554436, 'max_depth': 11, 'learning_rate': 0.00021145560807643682, 'n_estimators': 191, 'min_child_samples': 60, 'subsample': 0.8741046779394055}. Best is trial 10 with value: 1478.5967277260186.\u001b[0m\n",
            "\u001b[32m[I 2022-11-16 01:50:20,414]\u001b[0m Trial 19 finished with value: 6941.244075892752 and parameters: {'num_leaves': 23, 'colsample_bytree': 0.815044549669411, 'reg_alpha': 0.6953938160986803, 'reg_lambda': 7.075245759695449, 'max_depth': 14, 'learning_rate': 7.513375768414374e-06, 'n_estimators': 2165, 'min_child_samples': 35, 'subsample': 0.7833469102039183}. Best is trial 10 with value: 1478.5967277260186.\u001b[0m\n",
            "\u001b[32m[I 2022-11-16 01:50:20,927]\u001b[0m Trial 20 finished with value: 1771.2146108781214 and parameters: {'num_leaves': 5, 'colsample_bytree': 0.8480196383725261, 'reg_alpha': 0.8631743634652931, 'reg_lambda': 7.927543897978825, 'max_depth': 8, 'learning_rate': 0.0027709763997417003, 'n_estimators': 1589, 'min_child_samples': 17, 'subsample': 0.41357935451393607}. Best is trial 10 with value: 1478.5967277260186.\u001b[0m\n",
            "\u001b[32m[I 2022-11-16 01:50:21,384]\u001b[0m Trial 21 finished with value: 1490.8696847376318 and parameters: {'num_leaves': 11, 'colsample_bytree': 0.7782536721298466, 'reg_alpha': 0.7397291935957045, 'reg_lambda': 9.894576149125683, 'max_depth': 12, 'learning_rate': 0.009392014467796745, 'n_estimators': 1224, 'min_child_samples': 7, 'subsample': 0.9231512376141296}. Best is trial 10 with value: 1478.5967277260186.\u001b[0m\n",
            "\u001b[32m[I 2022-11-16 01:50:22,376]\u001b[0m Trial 22 finished with value: 1382.9378787594494 and parameters: {'num_leaves': 22, 'colsample_bytree': 0.7433151478604871, 'reg_alpha': 0.6182441632223663, 'reg_lambda': 9.24074882963683, 'max_depth': 11, 'learning_rate': 0.006961999537615165, 'n_estimators': 1055, 'min_child_samples': 5, 'subsample': 0.9039731467794975}. Best is trial 22 with value: 1382.9378787594494.\u001b[0m\n",
            "\u001b[32m[I 2022-11-16 01:50:23,495]\u001b[0m Trial 23 finished with value: 2021.3495580730312 and parameters: {'num_leaves': 27, 'colsample_bytree': 0.7437229437137189, 'reg_alpha': 0.6086030784840936, 'reg_lambda': 8.985885847817325, 'max_depth': 11, 'learning_rate': 0.0015936314355618135, 'n_estimators': 1042, 'min_child_samples': 5, 'subsample': 0.7531675778206357}. Best is trial 22 with value: 1382.9378787594494.\u001b[0m\n",
            "\u001b[32m[I 2022-11-16 01:50:23,826]\u001b[0m Trial 24 finished with value: 6544.032234428989 and parameters: {'num_leaves': 69, 'colsample_bytree': 0.735751015261001, 'reg_alpha': 0.5176830435160379, 'reg_lambda': 9.05425253246036, 'max_depth': 10, 'learning_rate': 8.489276833071907e-05, 'n_estimators': 903, 'min_child_samples': 100, 'subsample': 0.9024008291799053}. Best is trial 22 with value: 1382.9378787594494.\u001b[0m\n",
            "\u001b[32m[I 2022-11-16 01:50:24,742]\u001b[0m Trial 25 finished with value: 1437.2583110402923 and parameters: {'num_leaves': 14, 'colsample_bytree': 0.7758123623875497, 'reg_alpha': 0.6592297554250539, 'reg_lambda': 6.388349734909232, 'max_depth': 12, 'learning_rate': 0.004522119379190528, 'n_estimators': 1424, 'min_child_samples': 15, 'subsample': 0.8792797832803853}. Best is trial 22 with value: 1382.9378787594494.\u001b[0m\n",
            "\u001b[32m[I 2022-11-16 01:50:26,234]\u001b[0m Trial 26 finished with value: 1415.4884201374966 and parameters: {'num_leaves': 30, 'colsample_bytree': 0.760881183367593, 'reg_alpha': 0.6442504453414578, 'reg_lambda': 4.508629727469583, 'max_depth': 10, 'learning_rate': 0.0029929785922387132, 'n_estimators': 1485, 'min_child_samples': 21, 'subsample': 0.7407970417589992}. Best is trial 22 with value: 1382.9378787594494.\u001b[0m\n",
            "\u001b[32m[I 2022-11-16 01:50:27,710]\u001b[0m Trial 27 finished with value: 3123.6545371897155 and parameters: {'num_leaves': 72, 'colsample_bytree': 0.7235330866490443, 'reg_alpha': 0.3931626548098831, 'reg_lambda': 4.3548748567884354, 'max_depth': 10, 'learning_rate': 0.0005625383755062081, 'n_estimators': 1483, 'min_child_samples': 18, 'subsample': 0.7391248821499982}. Best is trial 22 with value: 1382.9378787594494.\u001b[0m\n",
            "\u001b[32m[I 2022-11-16 01:50:30,001]\u001b[0m Trial 28 finished with value: 1421.1841072529198 and parameters: {'num_leaves': 36, 'colsample_bytree': 0.7626875557383519, 'reg_alpha': 0.6490195280472194, 'reg_lambda': 5.498905174271315, 'max_depth': 8, 'learning_rate': 0.0020208992487459787, 'n_estimators': 2013, 'min_child_samples': 14, 'subsample': 0.8596320344221379}. Best is trial 22 with value: 1382.9378787594494.\u001b[0m\n",
            "\u001b[32m[I 2022-11-16 01:50:30,901]\u001b[0m Trial 29 finished with value: 4677.25508644576 and parameters: {'num_leaves': 34, 'colsample_bytree': 0.702439020832725, 'reg_alpha': 0.5650563581772158, 'reg_lambda': 3.4710582331189097, 'max_depth': 8, 'learning_rate': 0.00019602472811106227, 'n_estimators': 2026, 'min_child_samples': 68, 'subsample': 0.6154828294199512}. Best is trial 22 with value: 1382.9378787594494.\u001b[0m\n",
            "\u001b[32m[I 2022-11-16 01:50:33,468]\u001b[0m Trial 30 finished with value: 1465.0686866698838 and parameters: {'num_leaves': 480, 'colsample_bytree': 0.7553684638165594, 'reg_alpha': 0.6522151334493065, 'reg_lambda': 2.068565673389639, 'max_depth': 8, 'learning_rate': 0.0013705453944104825, 'n_estimators': 2459, 'min_child_samples': 23, 'subsample': 0.7617185982147905}. Best is trial 22 with value: 1382.9378787594494.\u001b[0m\n",
            "\u001b[32m[I 2022-11-16 01:50:35,069]\u001b[0m Trial 31 finished with value: 1398.3219558465196 and parameters: {'num_leaves': 122, 'colsample_bytree': 0.7681930334804892, 'reg_alpha': 0.6483744333432947, 'reg_lambda': 5.408484787462395, 'max_depth': 7, 'learning_rate': 0.003451265819117254, 'n_estimators': 1503, 'min_child_samples': 14, 'subsample': 0.86078752368461}. Best is trial 22 with value: 1382.9378787594494.\u001b[0m\n",
            "\u001b[32m[I 2022-11-16 01:50:37,039]\u001b[0m Trial 32 finished with value: 1846.8194581811629 and parameters: {'num_leaves': 116, 'colsample_bytree': 0.7574542464739767, 'reg_alpha': 0.6006387395876854, 'reg_lambda': 5.352661724529127, 'max_depth': 6, 'learning_rate': 0.0009621228326444264, 'n_estimators': 2016, 'min_child_samples': 12, 'subsample': 0.8590436760010134}. Best is trial 22 with value: 1382.9378787594494.\u001b[0m\n",
            "\u001b[32m[I 2022-11-16 01:50:37,481]\u001b[0m Trial 33 finished with value: 2251.151941640069 and parameters: {'num_leaves': 960, 'colsample_bytree': 0.7236175333397064, 'reg_alpha': 0.4518474410816059, 'reg_lambda': 4.5227231467822, 'max_depth': 7, 'learning_rate': 0.0028327583959266607, 'n_estimators': 519, 'min_child_samples': 36, 'subsample': 0.7125713963049005}. Best is trial 22 with value: 1382.9378787594494.\u001b[0m\n",
            "\u001b[32m[I 2022-11-16 01:50:38,719]\u001b[0m Trial 34 finished with value: 4518.246880583791 and parameters: {'num_leaves': 235, 'colsample_bytree': 0.7930670870647173, 'reg_alpha': 0.5422902019684138, 'reg_lambda': 3.7579814911083007, 'max_depth': 9, 'learning_rate': 0.00036648574417853113, 'n_estimators': 1091, 'min_child_samples': 15, 'subsample': 0.7878174548619543}. Best is trial 22 with value: 1382.9378787594494.\u001b[0m\n",
            "\u001b[32m[I 2022-11-16 01:50:40,252]\u001b[0m Trial 35 finished with value: 7077.700191599512 and parameters: {'num_leaves': 49, 'colsample_bytree': 0.7624746013305649, 'reg_alpha': 0.8224750772648094, 'reg_lambda': 2.3291974401331577, 'max_depth': 7, 'learning_rate': 4.1098347937366976e-08, 'n_estimators': 1599, 'min_child_samples': 21, 'subsample': 0.8373025511835511}. Best is trial 22 with value: 1382.9378787594494.\u001b[0m\n",
            "\u001b[32m[I 2022-11-16 01:50:41,261]\u001b[0m Trial 36 finished with value: 1517.40527559492 and parameters: {'num_leaves': 102, 'colsample_bytree': 0.7232269694418503, 'reg_alpha': 0.9190312072654918, 'reg_lambda': 5.685689224773012, 'max_depth': 4, 'learning_rate': 0.0029057034793639473, 'n_estimators': 1960, 'min_child_samples': 12, 'subsample': 0.8062324746833796}. Best is trial 22 with value: 1382.9378787594494.\u001b[0m\n",
            "\u001b[32m[I 2022-11-16 01:50:41,881]\u001b[0m Trial 37 finished with value: 6366.7826397697045 and parameters: {'num_leaves': 30, 'colsample_bytree': 0.7899024668512178, 'reg_alpha': 0.009276939273014706, 'reg_lambda': 6.0848157706816455, 'max_depth': 10, 'learning_rate': 0.00010608665835673604, 'n_estimators': 872, 'min_child_samples': 32, 'subsample': 0.7237479282984239}. Best is trial 22 with value: 1382.9378787594494.\u001b[0m\n",
            "\u001b[32m[I 2022-11-16 01:50:42,312]\u001b[0m Trial 38 finished with value: 4250.559666520253 and parameters: {'num_leaves': 191, 'colsample_bytree': 0.9344612661756879, 'reg_alpha': 0.6593385116566572, 'reg_lambda': 7.44942836403268, 'max_depth': 6, 'learning_rate': 0.0006890452193555527, 'n_estimators': 673, 'min_child_samples': 43, 'subsample': 0.8638250653697148}. Best is trial 22 with value: 1382.9378787594494.\u001b[0m\n",
            "\u001b[32m[I 2022-11-16 01:50:43,419]\u001b[0m Trial 39 finished with value: 1503.6895947113412 and parameters: {'num_leaves': 54, 'colsample_bytree': 0.9974114615421299, 'reg_alpha': 0.20485314391527548, 'reg_lambda': 3.9318736403669834, 'max_depth': 9, 'learning_rate': 0.003680004501522018, 'n_estimators': 1735, 'min_child_samples': 53, 'subsample': 0.6754788717952572}. Best is trial 22 with value: 1382.9378787594494.\u001b[0m\n",
            "\u001b[32m[I 2022-11-16 01:50:44,442]\u001b[0m Trial 40 finished with value: 6736.831003059202 and parameters: {'num_leaves': 17, 'colsample_bytree': 0.770106812523958, 'reg_alpha': 0.5896310284348506, 'reg_lambda': 5.154505699311301, 'max_depth': 8, 'learning_rate': 2.7918271384093227e-05, 'n_estimators': 1509, 'min_child_samples': 23, 'subsample': 0.6306237689391301}. Best is trial 22 with value: 1382.9378787594494.\u001b[0m\n",
            "\u001b[32m[I 2022-11-16 01:50:45,498]\u001b[0m Trial 41 finished with value: 1442.3732416498249 and parameters: {'num_leaves': 17, 'colsample_bytree': 0.7479740904350451, 'reg_alpha': 0.6637815523131816, 'reg_lambda': 6.43085554449694, 'max_depth': 10, 'learning_rate': 0.0038153177262987173, 'n_estimators': 1407, 'min_child_samples': 12, 'subsample': 0.8809836641369283}. Best is trial 22 with value: 1382.9378787594494.\u001b[0m\n",
            "\u001b[32m[I 2022-11-16 01:50:47,075]\u001b[0m Trial 42 finished with value: 1889.0911480921868 and parameters: {'num_leaves': 38, 'colsample_bytree': 0.788108115115702, 'reg_alpha': 0.6356563432389717, 'reg_lambda': 4.678976235182377, 'max_depth': 13, 'learning_rate': 0.0015261881851080308, 'n_estimators': 1191, 'min_child_samples': 15, 'subsample': 0.9349703595527311}. Best is trial 22 with value: 1382.9378787594494.\u001b[0m\n",
            "\u001b[32m[I 2022-11-16 01:50:50,858]\u001b[0m Trial 43 finished with value: 1446.81677261102 and parameters: {'num_leaves': 23, 'colsample_bytree': 0.7726267656525246, 'reg_alpha': 0.5144181832003646, 'reg_lambda': 5.932697714884779, 'max_depth': 5, 'learning_rate': 0.004555480967903468, 'n_estimators': 1367, 'min_child_samples': 5, 'subsample': 0.7816978513084829}. Best is trial 22 with value: 1382.9378787594494.\u001b[0m\n",
            "\u001b[32m[I 2022-11-16 01:50:51,576]\u001b[0m Trial 44 finished with value: 4751.5027435121765 and parameters: {'num_leaves': 14, 'colsample_bytree': 0.7175961737343658, 'reg_alpha': 0.702076222828086, 'reg_lambda': 4.981475656541113, 'max_depth': 9, 'learning_rate': 0.0003350903336963305, 'n_estimators': 1094, 'min_child_samples': 10, 'subsample': 0.8941904993751149}. Best is trial 22 with value: 1382.9378787594494.\u001b[0m\n",
            "\u001b[32m[I 2022-11-16 01:50:53,399]\u001b[0m Trial 45 finished with value: 2284.0789643324415 and parameters: {'num_leaves': 299, 'colsample_bytree': 0.7340022415956292, 'reg_alpha': 0.5592920492199389, 'reg_lambda': 6.669772150274456, 'max_depth': 12, 'learning_rate': 0.0007835622499171698, 'n_estimators': 1771, 'min_child_samples': 18, 'subsample': 0.5468945484533045}. Best is trial 22 with value: 1382.9378787594494.\u001b[0m\n",
            "\u001b[32m[I 2022-11-16 01:50:54,425]\u001b[0m Trial 46 finished with value: 1401.157947881978 and parameters: {'num_leaves': 86, 'colsample_bytree': 0.8069002678462088, 'reg_alpha': 0.41338257839845327, 'reg_lambda': 4.153431818929023, 'max_depth': 7, 'learning_rate': 0.005839027272565732, 'n_estimators': 1522, 'min_child_samples': 15, 'subsample': 0.9695192139880817}. Best is trial 22 with value: 1382.9378787594494.\u001b[0m\n",
            "\u001b[32m[I 2022-11-16 01:50:56,574]\u001b[0m Trial 47 finished with value: 1466.3606985315764 and parameters: {'num_leaves': 84, 'colsample_bytree': 0.8136769708415813, 'reg_alpha': 0.41325503159484644, 'reg_lambda': 2.7336234274923297, 'max_depth': 7, 'learning_rate': 0.0017978510392146596, 'n_estimators': 2481, 'min_child_samples': 25, 'subsample': 0.995163287622366}. Best is trial 22 with value: 1382.9378787594494.\u001b[0m\n",
            "\u001b[32m[I 2022-11-16 01:50:57,575]\u001b[0m Trial 48 finished with value: 1406.7451644867524 and parameters: {'num_leaves': 145, 'colsample_bytree': 0.8422982337408297, 'reg_alpha': 0.31400313824258264, 'reg_lambda': 4.103255012252353, 'max_depth': 6, 'learning_rate': 0.0061134333828302455, 'n_estimators': 2121, 'min_child_samples': 9, 'subsample': 0.953206913580106}. Best is trial 22 with value: 1382.9378787594494.\u001b[0m\n",
            "\u001b[32m[I 2022-11-16 01:50:58,558]\u001b[0m Trial 49 finished with value: 1411.9054231345688 and parameters: {'num_leaves': 190, 'colsample_bytree': 0.8851578827409629, 'reg_alpha': 0.29960536739229804, 'reg_lambda': 1.767494237788636, 'max_depth': 5, 'learning_rate': 0.005964938822177822, 'n_estimators': 2169, 'min_child_samples': 9, 'subsample': 0.9466637301688747}. Best is trial 22 with value: 1382.9378787594494.\u001b[0m\n",
            "\u001b[32m[I 2022-11-16 01:50:59,424]\u001b[0m Trial 50 finished with value: 1420.7646024682974 and parameters: {'num_leaves': 161, 'colsample_bytree': 0.8682675605943483, 'reg_alpha': 0.2666907883748274, 'reg_lambda': 1.1514180307445705, 'max_depth': 5, 'learning_rate': 0.0062477352654195396, 'n_estimators': 2701, 'min_child_samples': 9, 'subsample': 0.949230227216175}. Best is trial 22 with value: 1382.9378787594494.\u001b[0m\n",
            "\u001b[32m[I 2022-11-16 01:51:00,111]\u001b[0m Trial 51 finished with value: 1443.3176104116228 and parameters: {'num_leaves': 286, 'colsample_bytree': 0.9057645968836715, 'reg_alpha': 0.27760647290831814, 'reg_lambda': 0.13662102866187364, 'max_depth': 4, 'learning_rate': 0.006048830152877589, 'n_estimators': 2129, 'min_child_samples': 10, 'subsample': 0.9639112293975608}. Best is trial 22 with value: 1382.9378787594494.\u001b[0m\n",
            "\u001b[32m[I 2022-11-16 01:51:02,042]\u001b[0m Trial 52 finished with value: 1703.5565758557582 and parameters: {'num_leaves': 145, 'colsample_bytree': 0.8403593152385662, 'reg_alpha': 0.17418583455588565, 'reg_lambda': 1.7033062843697158, 'max_depth': 5, 'learning_rate': 0.0010996793950758328, 'n_estimators': 1912, 'min_child_samples': 6, 'subsample': 0.9163689137057783}. Best is trial 22 with value: 1382.9378787594494.\u001b[0m\n",
            "\u001b[32m[I 2022-11-16 01:51:02,712]\u001b[0m Trial 53 finished with value: 1414.30919144455 and parameters: {'num_leaves': 361, 'colsample_bytree': 0.8828235916403921, 'reg_alpha': 0.332347135206464, 'reg_lambda': 2.984937663448011, 'max_depth': 6, 'learning_rate': 0.009838927809258016, 'n_estimators': 1654, 'min_child_samples': 19, 'subsample': 0.9693704059682773}. Best is trial 22 with value: 1382.9378787594494.\u001b[0m\n",
            "\u001b[32m[I 2022-11-16 01:51:03,503]\u001b[0m Trial 54 finished with value: 1496.000876634552 and parameters: {'num_leaves': 505, 'colsample_bytree': 0.880887593051267, 'reg_alpha': 0.3199214256733728, 'reg_lambda': 2.6568686381653643, 'max_depth': 6, 'learning_rate': 0.009579499420550842, 'n_estimators': 2273, 'min_child_samples': 77, 'subsample': 0.9694596402918476}. Best is trial 22 with value: 1382.9378787594494.\u001b[0m\n",
            "\u001b[32m[I 2022-11-16 01:51:04,313]\u001b[0m Trial 55 finished with value: 1434.6035256401315 and parameters: {'num_leaves': 328, 'colsample_bytree': 0.930067165346489, 'reg_alpha': 0.22280444019085105, 'reg_lambda': 3.1016658495627105, 'max_depth': 4, 'learning_rate': 0.005701819135950409, 'n_estimators': 2139, 'min_child_samples': 18, 'subsample': 0.9978909677157135}. Best is trial 22 with value: 1382.9378787594494.\u001b[0m\n",
            "\u001b[32m[I 2022-11-16 01:51:05,022]\u001b[0m Trial 56 finished with value: 6998.117759573949 and parameters: {'num_leaves': 389, 'colsample_bytree': 0.8928288570807001, 'reg_alpha': 0.14081690185210044, 'reg_lambda': 3.9990044565163867, 'max_depth': 3, 'learning_rate': 5.8981068342510635e-06, 'n_estimators': 1638, 'min_child_samples': 27, 'subsample': 0.9263047350838749}. Best is trial 22 with value: 1382.9378787594494.\u001b[0m\n",
            "\u001b[32m[I 2022-11-16 01:51:06,025]\u001b[0m Trial 57 finished with value: 1384.8195586271813 and parameters: {'num_leaves': 736, 'colsample_bytree': 0.8597540735708115, 'reg_alpha': 0.330361371952461, 'reg_lambda': 3.522764543273391, 'max_depth': 7, 'learning_rate': 0.009183868377346723, 'n_estimators': 1832, 'min_child_samples': 9, 'subsample': 0.960353463562706}. Best is trial 22 with value: 1382.9378787594494.\u001b[0m\n",
            "\u001b[32m[I 2022-11-16 01:51:09,766]\u001b[0m Trial 58 finished with value: 7074.97065863318 and parameters: {'num_leaves': 917, 'colsample_bytree': 0.8240332643014668, 'reg_alpha': 0.3782689942346227, 'reg_lambda': 3.530378242411737, 'max_depth': 7, 'learning_rate': 1.4768798261749939e-07, 'n_estimators': 2430, 'min_child_samples': 9, 'subsample': 0.47256626647065186}. Best is trial 22 with value: 1382.9378787594494.\u001b[0m\n",
            "\u001b[32m[I 2022-11-16 01:51:12,219]\u001b[0m Trial 59 finished with value: 1430.1423747126696 and parameters: {'num_leaves': 775, 'colsample_bytree': 0.8590391110034086, 'reg_alpha': 0.11255474878203248, 'reg_lambda': 2.1863102885911814, 'max_depth': 5, 'learning_rate': 0.002257692185249092, 'n_estimators': 2612, 'min_child_samples': 6, 'subsample': 0.8375805253334797}. Best is trial 22 with value: 1382.9378787594494.\u001b[0m\n",
            "\u001b[32m[I 2022-11-16 01:51:13,583]\u001b[0m Trial 60 finished with value: 1420.2601567584852 and parameters: {'num_leaves': 200, 'colsample_bytree': 0.8403165444437988, 'reg_alpha': 0.44275780870894493, 'reg_lambda': 4.193803792951828, 'max_depth': 7, 'learning_rate': 0.0045872403465561686, 'n_estimators': 1822, 'min_child_samples': 13, 'subsample': 0.9169769771830332}. Best is trial 22 with value: 1382.9378787594494.\u001b[0m\n",
            "\u001b[32m[I 2022-11-16 01:51:14,293]\u001b[0m Trial 61 finished with value: 1423.6805599627187 and parameters: {'num_leaves': 710, 'colsample_bytree': 0.8774310288466572, 'reg_alpha': 0.3347616127364493, 'reg_lambda': 1.4241712375777804, 'max_depth': 6, 'learning_rate': 0.0096673507330584, 'n_estimators': 1661, 'min_child_samples': 10, 'subsample': 0.9540207365483487}. Best is trial 22 with value: 1382.9378787594494.\u001b[0m\n",
            "\u001b[32m[I 2022-11-16 01:51:15,239]\u001b[0m Trial 62 finished with value: 1429.4580204849078 and parameters: {'num_leaves': 99, 'colsample_bytree': 0.9050627695611672, 'reg_alpha': 0.2946938787772369, 'reg_lambda': 2.864928653350947, 'max_depth': 7, 'learning_rate': 0.006187565048656002, 'n_estimators': 1287, 'min_child_samples': 17, 'subsample': 0.9658806303534236}. Best is trial 22 with value: 1382.9378787594494.\u001b[0m\n",
            "\u001b[32m[I 2022-11-16 01:51:16,771]\u001b[0m Trial 63 finished with value: 1346.779505568089 and parameters: {'num_leaves': 562, 'colsample_bytree': 0.8533105353434282, 'reg_alpha': 0.23509571406459084, 'reg_lambda': 3.1609347280304547, 'max_depth': 6, 'learning_rate': 0.009196604925752635, 'n_estimators': 2238, 'min_child_samples': 5, 'subsample': 0.8970701938877503}. Best is trial 63 with value: 1346.779505568089.\u001b[0m\n",
            "\u001b[32m[I 2022-11-16 01:51:19,451]\u001b[0m Trial 64 finished with value: 1398.0712340829955 and parameters: {'num_leaves': 542, 'colsample_bytree': 0.8640221453878462, 'reg_alpha': 0.23391448522800934, 'reg_lambda': 3.415638771171004, 'max_depth': 6, 'learning_rate': 0.0035162229131118525, 'n_estimators': 2236, 'min_child_samples': 5, 'subsample': 0.898654846081384}. Best is trial 63 with value: 1346.779505568089.\u001b[0m\n",
            "\u001b[32m[I 2022-11-16 01:51:22,160]\u001b[0m Trial 65 finished with value: 1420.1466610559116 and parameters: {'num_leaves': 595, 'colsample_bytree': 0.8527777561952643, 'reg_alpha': 0.07608617618126837, 'reg_lambda': 3.3954237271846357, 'max_depth': 6, 'learning_rate': 0.0028484589902699714, 'n_estimators': 2274, 'min_child_samples': 5, 'subsample': 0.8954431960482617}. Best is trial 63 with value: 1346.779505568089.\u001b[0m\n",
            "\u001b[32m[I 2022-11-16 01:51:24,590]\u001b[0m Trial 66 finished with value: 7015.802641551219 and parameters: {'num_leaves': 247, 'colsample_bytree': 0.8711370388439588, 'reg_alpha': 0.3681513817738892, 'reg_lambda': 4.897642178834243, 'max_depth': 7, 'learning_rate': 3.3667208126076754e-06, 'n_estimators': 2070, 'min_child_samples': 13, 'subsample': 0.8476739178597582}. Best is trial 63 with value: 1346.779505568089.\u001b[0m\n",
            "\u001b[32m[I 2022-11-16 01:51:25,557]\u001b[0m Trial 67 finished with value: 1944.5681007959918 and parameters: {'num_leaves': 440, 'colsample_bytree': 0.8017364550756919, 'reg_alpha': 0.16991662861183993, 'reg_lambda': 3.61363463210781, 'max_depth': 8, 'learning_rate': 0.0011399863824367797, 'n_estimators': 1865, 'min_child_samples': 69, 'subsample': 0.8995273622643863}. Best is trial 63 with value: 1346.779505568089.\u001b[0m\n",
            "\u001b[32m[I 2022-11-16 01:51:28,673]\u001b[0m Trial 68 finished with value: 1425.4133088180533 and parameters: {'num_leaves': 60, 'colsample_bytree': 0.8455540651365128, 'reg_alpha': 0.21699297151551233, 'reg_lambda': 2.5237494919053103, 'max_depth': 6, 'learning_rate': 0.0019811081753217893, 'n_estimators': 2369, 'min_child_samples': 5, 'subsample': 0.8074089747432831}. Best is trial 63 with value: 1346.779505568089.\u001b[0m\n",
            "\u001b[32m[I 2022-11-16 01:51:29,918]\u001b[0m Trial 69 finished with value: 2925.124493458818 and parameters: {'num_leaves': 628, 'colsample_bytree': 0.8238757461567806, 'reg_alpha': 0.4170610861416309, 'reg_lambda': 9.430120292875957, 'max_depth': 4, 'learning_rate': 0.0005075811411384794, 'n_estimators': 1939, 'min_child_samples': 16, 'subsample': 0.8769388865266542}. Best is trial 63 with value: 1346.779505568089.\u001b[0m\n",
            "\u001b[32m[I 2022-11-16 01:51:31,076]\u001b[0m Trial 70 finished with value: 1446.9305571375041 and parameters: {'num_leaves': 564, 'colsample_bytree': 0.8599404475766464, 'reg_alpha': 0.24830548555606496, 'reg_lambda': 4.093486597149829, 'max_depth': 8, 'learning_rate': 0.004258014341124902, 'n_estimators': 2586, 'min_child_samples': 22, 'subsample': 0.9140731950434126}. Best is trial 63 with value: 1346.779505568089.\u001b[0m\n",
            "\u001b[32m[I 2022-11-16 01:51:32,091]\u001b[0m Trial 71 finished with value: 1399.7217556817589 and parameters: {'num_leaves': 143, 'colsample_bytree': 0.8707486693954568, 'reg_alpha': 0.31249661377212584, 'reg_lambda': 1.865640496604199, 'max_depth': 5, 'learning_rate': 0.005599447835647897, 'n_estimators': 2198, 'min_child_samples': 9, 'subsample': 0.9357225943066192}. Best is trial 63 with value: 1346.779505568089.\u001b[0m\n",
            "\u001b[32m[I 2022-11-16 01:51:33,711]\u001b[0m Trial 72 finished with value: 1412.0675395713747 and parameters: {'num_leaves': 79, 'colsample_bytree': 0.8538882485807217, 'reg_alpha': 0.4846830811786312, 'reg_lambda': 0.7652951556163714, 'max_depth': 6, 'learning_rate': 0.0032443303197200683, 'n_estimators': 2218, 'min_child_samples': 11, 'subsample': 0.9286337130806596}. Best is trial 63 with value: 1346.779505568089.\u001b[0m\n",
            "\u001b[32m[I 2022-11-16 01:51:34,465]\u001b[0m Trial 73 finished with value: 1439.5598124462913 and parameters: {'num_leaves': 129, 'colsample_bytree': 0.8317300016175394, 'reg_alpha': 0.2354113418428819, 'reg_lambda': 3.2605390640093654, 'max_depth': 5, 'learning_rate': 0.00706250376706934, 'n_estimators': 2368, 'min_child_samples': 8, 'subsample': 0.9786949176286242}. Best is trial 63 with value: 1346.779505568089.\u001b[0m\n",
            "\u001b[32m[I 2022-11-16 01:51:36,439]\u001b[0m Trial 74 finished with value: 1425.6460080835327 and parameters: {'num_leaves': 159, 'colsample_bytree': 0.8677635979678501, 'reg_alpha': 0.3637121670926515, 'reg_lambda': 8.543177786115137, 'max_depth': 6, 'learning_rate': 0.0021732256502300196, 'n_estimators': 2091, 'min_child_samples': 14, 'subsample': 0.8530032483870092}. Best is trial 63 with value: 1346.779505568089.\u001b[0m\n",
            "\u001b[32m[I 2022-11-16 01:51:38,082]\u001b[0m Trial 75 finished with value: 1404.2525820426397 and parameters: {'num_leaves': 97, 'colsample_bytree': 0.8367144176841442, 'reg_alpha': 0.40639263282393945, 'reg_lambda': 3.7188143784918704, 'max_depth': 7, 'learning_rate': 0.0045328244814299415, 'n_estimators': 2755, 'min_child_samples': 7, 'subsample': 0.8861849204943567}. Best is trial 63 with value: 1346.779505568089.\u001b[0m\n",
            "\u001b[32m[I 2022-11-16 01:51:42,659]\u001b[0m Trial 76 finished with value: 1432.4300931238608 and parameters: {'num_leaves': 104, 'colsample_bytree': 0.8086000227896528, 'reg_alpha': 0.40217942017211633, 'reg_lambda': 3.640360610151091, 'max_depth': 7, 'learning_rate': 0.001233379348130688, 'n_estimators': 2939, 'min_child_samples': 7, 'subsample': 0.8268510321163872}. Best is trial 63 with value: 1346.779505568089.\u001b[0m\n",
            "\u001b[32m[I 2022-11-16 01:51:44,079]\u001b[0m Trial 77 finished with value: 1529.925810067578 and parameters: {'num_leaves': 802, 'colsample_bytree': 0.8217346808111888, 'reg_alpha': 0.1799732373536447, 'reg_lambda': 4.731957909470649, 'max_depth': 9, 'learning_rate': 0.004000479786541134, 'n_estimators': 2723, 'min_child_samples': 87, 'subsample': 0.8850582813410832}. Best is trial 63 with value: 1346.779505568089.\u001b[0m\n",
            "\u001b[32m[I 2022-11-16 01:51:49,534]\u001b[0m Trial 78 finished with value: 1423.9264822795824 and parameters: {'num_leaves': 51, 'colsample_bytree': 0.9011902340363784, 'reg_alpha': 0.43848605758651216, 'reg_lambda': 3.2586716951679278, 'max_depth': 7, 'learning_rate': 0.0022804520730660104, 'n_estimators': 2817, 'min_child_samples': 12, 'subsample': 0.8671484977273348}. Best is trial 63 with value: 1346.779505568089.\u001b[0m\n",
            "\u001b[32m[I 2022-11-16 01:51:52,621]\u001b[0m Trial 79 finished with value: 3628.487155731451 and parameters: {'num_leaves': 63, 'colsample_bytree': 0.7823053059213969, 'reg_alpha': 0.5035383516924364, 'reg_lambda': 3.835431217588061, 'max_depth': 8, 'learning_rate': 0.00022343565335779066, 'n_estimators': 2849, 'min_child_samples': 15, 'subsample': 0.7920602740975202}. Best is trial 63 with value: 1346.779505568089.\u001b[0m\n",
            "\u001b[32m[I 2022-11-16 01:51:54,575]\u001b[0m Trial 80 finished with value: 7065.118643251659 and parameters: {'num_leaves': 45, 'colsample_bytree': 0.8376749499179013, 'reg_alpha': 0.28578984639295224, 'reg_lambda': 4.394871887693709, 'max_depth': 5, 'learning_rate': 5.950414174845373e-07, 'n_estimators': 2494, 'min_child_samples': 20, 'subsample': 0.5855555537458782}. Best is trial 63 with value: 1346.779505568089.\u001b[0m\n",
            "\u001b[32m[I 2022-11-16 01:51:55,447]\u001b[0m Trial 81 finished with value: 1384.5290914085012 and parameters: {'num_leaves': 243, 'colsample_bytree': 0.8519694563053161, 'reg_alpha': 0.31827970812084316, 'reg_lambda': 3.102300796512143, 'max_depth': 6, 'learning_rate': 0.0075785424150316884, 'n_estimators': 2222, 'min_child_samples': 8, 'subsample': 0.9320407786243396}. Best is trial 63 with value: 1346.779505568089.\u001b[0m\n",
            "\u001b[32m[I 2022-11-16 01:51:56,740]\u001b[0m Trial 82 finished with value: 1408.336946084403 and parameters: {'num_leaves': 250, 'colsample_bytree': 0.8721241009562501, 'reg_alpha': 0.3561734940717389, 'reg_lambda': 3.1130774843552946, 'max_depth': 7, 'learning_rate': 0.008025592150098517, 'n_estimators': 2529, 'min_child_samples': 7, 'subsample': 0.8989352305318412}. Best is trial 63 with value: 1346.779505568089.\u001b[0m\n",
            "\u001b[32m[I 2022-11-16 01:52:00,730]\u001b[0m Trial 83 finished with value: 1431.442416983791 and parameters: {'num_leaves': 432, 'colsample_bytree': 0.852420169116068, 'reg_alpha': 0.2558723000433977, 'reg_lambda': 2.39720894093462, 'max_depth': 6, 'learning_rate': 0.004816181420195328, 'n_estimators': 1526, 'min_child_samples': 5, 'subsample': 0.9333450877960199}. Best is trial 63 with value: 1346.779505568089.\u001b[0m\n",
            "\u001b[32m[I 2022-11-16 01:52:02,684]\u001b[0m Trial 84 finished with value: 1387.6527464188953 and parameters: {'num_leaves': 119, 'colsample_bytree': 0.8636940919427272, 'reg_alpha': 0.20135185637631803, 'reg_lambda': 1.9557884544097217, 'max_depth': 7, 'learning_rate': 0.003185034198568894, 'n_estimators': 1767, 'min_child_samples': 11, 'subsample': 0.9799042057085728}. Best is trial 63 with value: 1346.779505568089.\u001b[0m\n",
            "\u001b[32m[I 2022-11-16 01:52:04,305]\u001b[0m Trial 85 finished with value: 1421.370792016367 and parameters: {'num_leaves': 990, 'colsample_bytree': 0.857091398867346, 'reg_alpha': 0.138744142647441, 'reg_lambda': 1.9376354890477858, 'max_depth': 5, 'learning_rate': 0.003205278514147972, 'n_estimators': 1743, 'min_child_samples': 11, 'subsample': 0.99252190366673}. Best is trial 63 with value: 1346.779505568089.\u001b[0m\n",
            "\u001b[32m[I 2022-11-16 01:52:04,489]\u001b[0m Trial 86 finished with value: 5565.284191408305 and parameters: {'num_leaves': 221, 'colsample_bytree': 0.8637576465639649, 'reg_alpha': 0.7658575891114594, 'reg_lambda': 7.78401818032139, 'max_depth': 8, 'learning_rate': 0.001425743083124039, 'n_estimators': 146, 'min_child_samples': 16, 'subsample': 0.9348306022449827}. Best is trial 63 with value: 1346.779505568089.\u001b[0m\n",
            "\u001b[32m[I 2022-11-16 01:52:05,255]\u001b[0m Trial 87 finished with value: 1419.780279057286 and parameters: {'num_leaves': 171, 'colsample_bytree': 0.8890884156989155, 'reg_alpha': 0.23949486305351697, 'reg_lambda': 1.6354053271856572, 'max_depth': 6, 'learning_rate': 0.0071305014475527215, 'n_estimators': 1992, 'min_child_samples': 13, 'subsample': 0.9773770802526848}. Best is trial 63 with value: 1346.779505568089.\u001b[0m\n",
            "\u001b[32m[I 2022-11-16 01:52:05,669]\u001b[0m Trial 88 finished with value: 1799.6352720996165 and parameters: {'num_leaves': 125, 'colsample_bytree': 0.8475186099605051, 'reg_alpha': 0.3418297771913068, 'reg_lambda': 0.8380242004454568, 'max_depth': 4, 'learning_rate': 0.002817465011929774, 'n_estimators': 730, 'min_child_samples': 25, 'subsample': 0.9100063255339844}. Best is trial 63 with value: 1346.779505568089.\u001b[0m\n",
            "\u001b[32m[I 2022-11-16 01:52:06,939]\u001b[0m Trial 89 finished with value: 1999.4390009115284 and parameters: {'num_leaves': 307, 'colsample_bytree': 0.7962520147343141, 'reg_alpha': 0.3043945861132599, 'reg_lambda': 2.7375670094565834, 'max_depth': 7, 'learning_rate': 0.0008572553470575242, 'n_estimators': 2221, 'min_child_samples': 54, 'subsample': 0.9461535776530603}. Best is trial 63 with value: 1346.779505568089.\u001b[0m\n",
            "\u001b[32m[I 2022-11-16 01:52:07,507]\u001b[0m Trial 90 finished with value: 1483.6118753552641 and parameters: {'num_leaves': 86, 'colsample_bytree': 0.8975042771810843, 'reg_alpha': 0.19859448539139601, 'reg_lambda': 2.190583383771056, 'max_depth': 8, 'learning_rate': 0.009746568805212753, 'n_estimators': 953, 'min_child_samples': 49, 'subsample': 0.8539015676704099}. Best is trial 63 with value: 1346.779505568089.\u001b[0m\n",
            "\u001b[32m[I 2022-11-16 01:52:09,465]\u001b[0m Trial 91 finished with value: 1391.8173384636643 and parameters: {'num_leaves': 111, 'colsample_bytree': 0.7498836493366621, 'reg_alpha': 0.2712029659674756, 'reg_lambda': 3.7530774522341668, 'max_depth': 7, 'learning_rate': 0.0043064936924459805, 'n_estimators': 1818, 'min_child_samples': 7, 'subsample': 0.8828157354022077}. Best is trial 63 with value: 1346.779505568089.\u001b[0m\n",
            "\u001b[32m[I 2022-11-16 01:52:10,327]\u001b[0m Trial 92 finished with value: 6870.570875254066 and parameters: {'num_leaves': 8, 'colsample_bytree': 0.7414252373394854, 'reg_alpha': 0.2719886353181431, 'reg_lambda': 4.324733530392644, 'max_depth': 6, 'learning_rate': 1.4768145743147048e-05, 'n_estimators': 1797, 'min_child_samples': 8, 'subsample': 0.9985735389763902}. Best is trial 63 with value: 1346.779505568089.\u001b[0m\n",
            "\u001b[32m[I 2022-11-16 01:52:12,074]\u001b[0m Trial 93 finished with value: 1387.08545182631 and parameters: {'num_leaves': 139, 'colsample_bytree': 0.7529398957250486, 'reg_alpha': 0.19314039430302876, 'reg_lambda': 3.3988571347396963, 'max_depth': 7, 'learning_rate': 0.0037795030086020492, 'n_estimators': 1717, 'min_child_samples': 11, 'subsample': 0.49909556010169664}. Best is trial 63 with value: 1346.779505568089.\u001b[0m\n",
            "\u001b[32m[I 2022-11-16 01:52:13,678]\u001b[0m Trial 94 finished with value: 6152.435985583184 and parameters: {'num_leaves': 113, 'colsample_bytree': 0.7517377366754681, 'reg_alpha': 0.13855905467060742, 'reg_lambda': 2.5565979464975532, 'max_depth': 5, 'learning_rate': 6.0932677026426266e-05, 'n_estimators': 1887, 'min_child_samples': 11, 'subsample': 0.5082790745405664}. Best is trial 63 with value: 1346.779505568089.\u001b[0m\n",
            "\u001b[32m[I 2022-11-16 01:52:15,913]\u001b[0m Trial 95 finished with value: 1363.0598746469132 and parameters: {'num_leaves': 501, 'colsample_bytree': 0.7669781919784098, 'reg_alpha': 0.19563707249228007, 'reg_lambda': 2.972545536353989, 'max_depth': 7, 'learning_rate': 0.0035416248826973472, 'n_estimators': 2319, 'min_child_samples': 8, 'subsample': 0.42835891273478827}. Best is trial 63 with value: 1346.779505568089.\u001b[0m\n",
            "\u001b[32m[I 2022-11-16 01:52:21,691]\u001b[0m Trial 96 finished with value: 1365.8189402300118 and parameters: {'num_leaves': 347, 'colsample_bytree': 0.7683575464272229, 'reg_alpha': 0.18784220694256057, 'reg_lambda': 3.3238328470340286, 'max_depth': 14, 'learning_rate': 0.003610690039192685, 'n_estimators': 1731, 'min_child_samples': 5, 'subsample': 0.42752099147992567}. Best is trial 63 with value: 1346.779505568089.\u001b[0m\n",
            "\u001b[32m[I 2022-11-16 01:52:27,251]\u001b[0m Trial 97 finished with value: 1505.2172513474034 and parameters: {'num_leaves': 514, 'colsample_bytree': 0.7375817741787629, 'reg_alpha': 0.08628930993873168, 'reg_lambda': 2.9408683666484476, 'max_depth': 15, 'learning_rate': 0.0016614014453312687, 'n_estimators': 1734, 'min_child_samples': 5, 'subsample': 0.460707399286063}. Best is trial 63 with value: 1346.779505568089.\u001b[0m\n",
            "\u001b[32m[I 2022-11-16 01:52:32,957]\u001b[0m Trial 98 finished with value: 1360.1111015365984 and parameters: {'num_leaves': 353, 'colsample_bytree': 0.706819910358466, 'reg_alpha': 0.19067272190064372, 'reg_lambda': 3.408950212509775, 'max_depth': 13, 'learning_rate': 0.002625715270980133, 'n_estimators': 2292, 'min_child_samples': 7, 'subsample': 0.4161938688951679}. Best is trial 63 with value: 1346.779505568089.\u001b[0m\n",
            "\u001b[32m[I 2022-11-16 01:52:37,436]\u001b[0m Trial 99 finished with value: 2251.189385519235 and parameters: {'num_leaves': 363, 'colsample_bytree': 0.7101344431258686, 'reg_alpha': 0.19958723822173038, 'reg_lambda': 3.1816911187420045, 'max_depth': 14, 'learning_rate': 0.0005590001338367854, 'n_estimators': 2297, 'min_child_samples': 8, 'subsample': 0.41227368805001324}. Best is trial 63 with value: 1346.779505568089.\u001b[0m\n"
          ]
        }
      ]
    },
    {
      "cell_type": "code",
      "source": [
        "lgbm_trial = optuna_lgbm.best_trial\n",
        "lgbm_trial_params = lgbm_trial.params\n",
        "print('Best Trial: score {},\\nparams {}'.format(lgbm_trial.value, lgbm_trial_params))"
      ],
      "metadata": {
        "colab": {
          "base_uri": "https://localhost:8080/"
        },
        "id": "5MjYepIxFbrU",
        "outputId": "268e6f93-1e12-40a4-9f24-3ae9716592e3"
      },
      "execution_count": null,
      "outputs": [
        {
          "output_type": "stream",
          "name": "stdout",
          "text": [
            "Best Trial: score 1346.779505568089,\n",
            "params {'num_leaves': 562, 'colsample_bytree': 0.8533105353434282, 'reg_alpha': 0.23509571406459084, 'reg_lambda': 3.1609347280304547, 'max_depth': 6, 'learning_rate': 0.009196604925752635, 'n_estimators': 2238, 'min_child_samples': 5, 'subsample': 0.8970701938877503}\n"
          ]
        }
      ]
    },
    {
      "cell_type": "code",
      "source": [
        "# Modeling fit\n",
        "lgbm_regop = LGBMRegressor(**lgbm_trial_params)\n",
        "lgbm_study = lgbm_regop.fit(train_x, train_y)\n",
        "\n",
        "pred_op = lgbm_regop.predict(val_x)\n",
        "mse= mean_squared_error(val_y,pred_op)\n",
        "rmse= mse**(1/2)\n",
        "\n",
        "print(\"RMSE : \", rmse)"
      ],
      "metadata": {
        "colab": {
          "base_uri": "https://localhost:8080/"
        },
        "id": "lhzFF7JLFhTt",
        "outputId": "090653ab-0df3-4abc-81c4-0322dba78b19"
      },
      "execution_count": null,
      "outputs": [
        {
          "output_type": "stream",
          "name": "stdout",
          "text": [
            "RMSE :  36.75023543219933\n"
          ]
        }
      ]
    },
    {
      "cell_type": "code",
      "source": [
        "Model(lgbm_regop)"
      ],
      "metadata": {
        "colab": {
          "base_uri": "https://localhost:8080/"
        },
        "id": "xqXEnXeuNykz",
        "outputId": "9663bdec-80d3-422f-c55d-868309378cda"
      },
      "execution_count": null,
      "outputs": [
        {
          "output_type": "stream",
          "name": "stdout",
          "text": [
            "Testing Score\n",
            " 0.8091927370437987\n"
          ]
        }
      ]
    },
    {
      "cell_type": "code",
      "source": [
        "# 하이퍼파라미터별 중요도 확인 그래프\n",
        "optuna.visualization.plot_param_importances(optuna_lgbm)"
      ],
      "metadata": {
        "colab": {
          "base_uri": "https://localhost:8080/",
          "height": 542
        },
        "id": "Tuvu140fPSgt",
        "outputId": "ef1cdfe8-eec4-436f-9d39-44ebaec97fbf"
      },
      "execution_count": null,
      "outputs": [
        {
          "output_type": "display_data",
          "data": {
            "text/html": [
              "<html>\n",
              "<head><meta charset=\"utf-8\" /></head>\n",
              "<body>\n",
              "    <div>            <script src=\"https://cdnjs.cloudflare.com/ajax/libs/mathjax/2.7.5/MathJax.js?config=TeX-AMS-MML_SVG\"></script><script type=\"text/javascript\">if (window.MathJax) {MathJax.Hub.Config({SVG: {font: \"STIX-Web\"}});}</script>                <script type=\"text/javascript\">window.PlotlyConfig = {MathJaxConfig: 'local'};</script>\n",
              "        <script src=\"https://cdn.plot.ly/plotly-2.8.3.min.js\"></script>                <div id=\"220854cf-d7c0-42c8-9ad8-21f8cb80a03e\" class=\"plotly-graph-div\" style=\"height:525px; width:100%;\"></div>            <script type=\"text/javascript\">                                    window.PLOTLYENV=window.PLOTLYENV || {};                                    if (document.getElementById(\"220854cf-d7c0-42c8-9ad8-21f8cb80a03e\")) {                    Plotly.newPlot(                        \"220854cf-d7c0-42c8-9ad8-21f8cb80a03e\",                        [{\"cliponaxis\":false,\"hovertemplate\":[\"max_depth (IntDistribution): 0.0001880391709116108<extra></extra>\",\"subsample (FloatDistribution): 0.0003619965908373493<extra></extra>\",\"reg_lambda (FloatDistribution): 0.0010508756319601276<extra></extra>\",\"min_child_samples (IntDistribution): 0.0026728935711535277<extra></extra>\",\"num_leaves (IntDistribution): 0.0035697130809265905<extra></extra>\",\"reg_alpha (FloatDistribution): 0.010063037277656678<extra></extra>\",\"colsample_bytree (FloatDistribution): 0.0134368152042869<extra></extra>\",\"n_estimators (IntDistribution): 0.3035096654848881<extra></extra>\",\"learning_rate (FloatDistribution): 0.6651469639873792<extra></extra>\"],\"marker\":{\"color\":\"rgb(66,146,198)\"},\"orientation\":\"h\",\"text\":[\"<0.01\",\"<0.01\",\"<0.01\",\"<0.01\",\"<0.01\",\"0.01\",\"0.01\",\"0.30\",\"0.67\"],\"textposition\":\"outside\",\"x\":[0.0001880391709116108,0.0003619965908373493,0.0010508756319601276,0.0026728935711535277,0.0035697130809265905,0.010063037277656678,0.0134368152042869,0.3035096654848881,0.6651469639873792],\"y\":[\"max_depth\",\"subsample\",\"reg_lambda\",\"min_child_samples\",\"num_leaves\",\"reg_alpha\",\"colsample_bytree\",\"n_estimators\",\"learning_rate\"],\"type\":\"bar\"}],                        {\"showlegend\":false,\"title\":{\"text\":\"Hyperparameter Importances\"},\"xaxis\":{\"title\":{\"text\":\"Importance for Objective Value\"}},\"yaxis\":{\"title\":{\"text\":\"Hyperparameter\"}},\"template\":{\"data\":{\"bar\":[{\"error_x\":{\"color\":\"#2a3f5f\"},\"error_y\":{\"color\":\"#2a3f5f\"},\"marker\":{\"line\":{\"color\":\"#E5ECF6\",\"width\":0.5},\"pattern\":{\"fillmode\":\"overlay\",\"size\":10,\"solidity\":0.2}},\"type\":\"bar\"}],\"barpolar\":[{\"marker\":{\"line\":{\"color\":\"#E5ECF6\",\"width\":0.5},\"pattern\":{\"fillmode\":\"overlay\",\"size\":10,\"solidity\":0.2}},\"type\":\"barpolar\"}],\"carpet\":[{\"aaxis\":{\"endlinecolor\":\"#2a3f5f\",\"gridcolor\":\"white\",\"linecolor\":\"white\",\"minorgridcolor\":\"white\",\"startlinecolor\":\"#2a3f5f\"},\"baxis\":{\"endlinecolor\":\"#2a3f5f\",\"gridcolor\":\"white\",\"linecolor\":\"white\",\"minorgridcolor\":\"white\",\"startlinecolor\":\"#2a3f5f\"},\"type\":\"carpet\"}],\"choropleth\":[{\"colorbar\":{\"outlinewidth\":0,\"ticks\":\"\"},\"type\":\"choropleth\"}],\"contour\":[{\"colorbar\":{\"outlinewidth\":0,\"ticks\":\"\"},\"colorscale\":[[0.0,\"#0d0887\"],[0.1111111111111111,\"#46039f\"],[0.2222222222222222,\"#7201a8\"],[0.3333333333333333,\"#9c179e\"],[0.4444444444444444,\"#bd3786\"],[0.5555555555555556,\"#d8576b\"],[0.6666666666666666,\"#ed7953\"],[0.7777777777777778,\"#fb9f3a\"],[0.8888888888888888,\"#fdca26\"],[1.0,\"#f0f921\"]],\"type\":\"contour\"}],\"contourcarpet\":[{\"colorbar\":{\"outlinewidth\":0,\"ticks\":\"\"},\"type\":\"contourcarpet\"}],\"heatmap\":[{\"colorbar\":{\"outlinewidth\":0,\"ticks\":\"\"},\"colorscale\":[[0.0,\"#0d0887\"],[0.1111111111111111,\"#46039f\"],[0.2222222222222222,\"#7201a8\"],[0.3333333333333333,\"#9c179e\"],[0.4444444444444444,\"#bd3786\"],[0.5555555555555556,\"#d8576b\"],[0.6666666666666666,\"#ed7953\"],[0.7777777777777778,\"#fb9f3a\"],[0.8888888888888888,\"#fdca26\"],[1.0,\"#f0f921\"]],\"type\":\"heatmap\"}],\"heatmapgl\":[{\"colorbar\":{\"outlinewidth\":0,\"ticks\":\"\"},\"colorscale\":[[0.0,\"#0d0887\"],[0.1111111111111111,\"#46039f\"],[0.2222222222222222,\"#7201a8\"],[0.3333333333333333,\"#9c179e\"],[0.4444444444444444,\"#bd3786\"],[0.5555555555555556,\"#d8576b\"],[0.6666666666666666,\"#ed7953\"],[0.7777777777777778,\"#fb9f3a\"],[0.8888888888888888,\"#fdca26\"],[1.0,\"#f0f921\"]],\"type\":\"heatmapgl\"}],\"histogram\":[{\"marker\":{\"pattern\":{\"fillmode\":\"overlay\",\"size\":10,\"solidity\":0.2}},\"type\":\"histogram\"}],\"histogram2d\":[{\"colorbar\":{\"outlinewidth\":0,\"ticks\":\"\"},\"colorscale\":[[0.0,\"#0d0887\"],[0.1111111111111111,\"#46039f\"],[0.2222222222222222,\"#7201a8\"],[0.3333333333333333,\"#9c179e\"],[0.4444444444444444,\"#bd3786\"],[0.5555555555555556,\"#d8576b\"],[0.6666666666666666,\"#ed7953\"],[0.7777777777777778,\"#fb9f3a\"],[0.8888888888888888,\"#fdca26\"],[1.0,\"#f0f921\"]],\"type\":\"histogram2d\"}],\"histogram2dcontour\":[{\"colorbar\":{\"outlinewidth\":0,\"ticks\":\"\"},\"colorscale\":[[0.0,\"#0d0887\"],[0.1111111111111111,\"#46039f\"],[0.2222222222222222,\"#7201a8\"],[0.3333333333333333,\"#9c179e\"],[0.4444444444444444,\"#bd3786\"],[0.5555555555555556,\"#d8576b\"],[0.6666666666666666,\"#ed7953\"],[0.7777777777777778,\"#fb9f3a\"],[0.8888888888888888,\"#fdca26\"],[1.0,\"#f0f921\"]],\"type\":\"histogram2dcontour\"}],\"mesh3d\":[{\"colorbar\":{\"outlinewidth\":0,\"ticks\":\"\"},\"type\":\"mesh3d\"}],\"parcoords\":[{\"line\":{\"colorbar\":{\"outlinewidth\":0,\"ticks\":\"\"}},\"type\":\"parcoords\"}],\"pie\":[{\"automargin\":true,\"type\":\"pie\"}],\"scatter\":[{\"marker\":{\"colorbar\":{\"outlinewidth\":0,\"ticks\":\"\"}},\"type\":\"scatter\"}],\"scatter3d\":[{\"line\":{\"colorbar\":{\"outlinewidth\":0,\"ticks\":\"\"}},\"marker\":{\"colorbar\":{\"outlinewidth\":0,\"ticks\":\"\"}},\"type\":\"scatter3d\"}],\"scattercarpet\":[{\"marker\":{\"colorbar\":{\"outlinewidth\":0,\"ticks\":\"\"}},\"type\":\"scattercarpet\"}],\"scattergeo\":[{\"marker\":{\"colorbar\":{\"outlinewidth\":0,\"ticks\":\"\"}},\"type\":\"scattergeo\"}],\"scattergl\":[{\"marker\":{\"colorbar\":{\"outlinewidth\":0,\"ticks\":\"\"}},\"type\":\"scattergl\"}],\"scattermapbox\":[{\"marker\":{\"colorbar\":{\"outlinewidth\":0,\"ticks\":\"\"}},\"type\":\"scattermapbox\"}],\"scatterpolar\":[{\"marker\":{\"colorbar\":{\"outlinewidth\":0,\"ticks\":\"\"}},\"type\":\"scatterpolar\"}],\"scatterpolargl\":[{\"marker\":{\"colorbar\":{\"outlinewidth\":0,\"ticks\":\"\"}},\"type\":\"scatterpolargl\"}],\"scatterternary\":[{\"marker\":{\"colorbar\":{\"outlinewidth\":0,\"ticks\":\"\"}},\"type\":\"scatterternary\"}],\"surface\":[{\"colorbar\":{\"outlinewidth\":0,\"ticks\":\"\"},\"colorscale\":[[0.0,\"#0d0887\"],[0.1111111111111111,\"#46039f\"],[0.2222222222222222,\"#7201a8\"],[0.3333333333333333,\"#9c179e\"],[0.4444444444444444,\"#bd3786\"],[0.5555555555555556,\"#d8576b\"],[0.6666666666666666,\"#ed7953\"],[0.7777777777777778,\"#fb9f3a\"],[0.8888888888888888,\"#fdca26\"],[1.0,\"#f0f921\"]],\"type\":\"surface\"}],\"table\":[{\"cells\":{\"fill\":{\"color\":\"#EBF0F8\"},\"line\":{\"color\":\"white\"}},\"header\":{\"fill\":{\"color\":\"#C8D4E3\"},\"line\":{\"color\":\"white\"}},\"type\":\"table\"}]},\"layout\":{\"annotationdefaults\":{\"arrowcolor\":\"#2a3f5f\",\"arrowhead\":0,\"arrowwidth\":1},\"autotypenumbers\":\"strict\",\"coloraxis\":{\"colorbar\":{\"outlinewidth\":0,\"ticks\":\"\"}},\"colorscale\":{\"diverging\":[[0,\"#8e0152\"],[0.1,\"#c51b7d\"],[0.2,\"#de77ae\"],[0.3,\"#f1b6da\"],[0.4,\"#fde0ef\"],[0.5,\"#f7f7f7\"],[0.6,\"#e6f5d0\"],[0.7,\"#b8e186\"],[0.8,\"#7fbc41\"],[0.9,\"#4d9221\"],[1,\"#276419\"]],\"sequential\":[[0.0,\"#0d0887\"],[0.1111111111111111,\"#46039f\"],[0.2222222222222222,\"#7201a8\"],[0.3333333333333333,\"#9c179e\"],[0.4444444444444444,\"#bd3786\"],[0.5555555555555556,\"#d8576b\"],[0.6666666666666666,\"#ed7953\"],[0.7777777777777778,\"#fb9f3a\"],[0.8888888888888888,\"#fdca26\"],[1.0,\"#f0f921\"]],\"sequentialminus\":[[0.0,\"#0d0887\"],[0.1111111111111111,\"#46039f\"],[0.2222222222222222,\"#7201a8\"],[0.3333333333333333,\"#9c179e\"],[0.4444444444444444,\"#bd3786\"],[0.5555555555555556,\"#d8576b\"],[0.6666666666666666,\"#ed7953\"],[0.7777777777777778,\"#fb9f3a\"],[0.8888888888888888,\"#fdca26\"],[1.0,\"#f0f921\"]]},\"colorway\":[\"#636efa\",\"#EF553B\",\"#00cc96\",\"#ab63fa\",\"#FFA15A\",\"#19d3f3\",\"#FF6692\",\"#B6E880\",\"#FF97FF\",\"#FECB52\"],\"font\":{\"color\":\"#2a3f5f\"},\"geo\":{\"bgcolor\":\"white\",\"lakecolor\":\"white\",\"landcolor\":\"#E5ECF6\",\"showlakes\":true,\"showland\":true,\"subunitcolor\":\"white\"},\"hoverlabel\":{\"align\":\"left\"},\"hovermode\":\"closest\",\"mapbox\":{\"style\":\"light\"},\"paper_bgcolor\":\"white\",\"plot_bgcolor\":\"#E5ECF6\",\"polar\":{\"angularaxis\":{\"gridcolor\":\"white\",\"linecolor\":\"white\",\"ticks\":\"\"},\"bgcolor\":\"#E5ECF6\",\"radialaxis\":{\"gridcolor\":\"white\",\"linecolor\":\"white\",\"ticks\":\"\"}},\"scene\":{\"xaxis\":{\"backgroundcolor\":\"#E5ECF6\",\"gridcolor\":\"white\",\"gridwidth\":2,\"linecolor\":\"white\",\"showbackground\":true,\"ticks\":\"\",\"zerolinecolor\":\"white\"},\"yaxis\":{\"backgroundcolor\":\"#E5ECF6\",\"gridcolor\":\"white\",\"gridwidth\":2,\"linecolor\":\"white\",\"showbackground\":true,\"ticks\":\"\",\"zerolinecolor\":\"white\"},\"zaxis\":{\"backgroundcolor\":\"#E5ECF6\",\"gridcolor\":\"white\",\"gridwidth\":2,\"linecolor\":\"white\",\"showbackground\":true,\"ticks\":\"\",\"zerolinecolor\":\"white\"}},\"shapedefaults\":{\"line\":{\"color\":\"#2a3f5f\"}},\"ternary\":{\"aaxis\":{\"gridcolor\":\"white\",\"linecolor\":\"white\",\"ticks\":\"\"},\"baxis\":{\"gridcolor\":\"white\",\"linecolor\":\"white\",\"ticks\":\"\"},\"bgcolor\":\"#E5ECF6\",\"caxis\":{\"gridcolor\":\"white\",\"linecolor\":\"white\",\"ticks\":\"\"}},\"title\":{\"x\":0.05},\"xaxis\":{\"automargin\":true,\"gridcolor\":\"white\",\"linecolor\":\"white\",\"ticks\":\"\",\"title\":{\"standoff\":15},\"zerolinecolor\":\"white\",\"zerolinewidth\":2},\"yaxis\":{\"automargin\":true,\"gridcolor\":\"white\",\"linecolor\":\"white\",\"ticks\":\"\",\"title\":{\"standoff\":15},\"zerolinecolor\":\"white\",\"zerolinewidth\":2}}}},                        {\"responsive\": true}                    ).then(function(){\n",
              "                            \n",
              "var gd = document.getElementById('220854cf-d7c0-42c8-9ad8-21f8cb80a03e');\n",
              "var x = new MutationObserver(function (mutations, observer) {{\n",
              "        var display = window.getComputedStyle(gd).display;\n",
              "        if (!display || display === 'none') {{\n",
              "            console.log([gd, 'removed!']);\n",
              "            Plotly.purge(gd);\n",
              "            observer.disconnect();\n",
              "        }}\n",
              "}});\n",
              "\n",
              "// Listen for the removal of the full notebook cells\n",
              "var notebookContainer = gd.closest('#notebook-container');\n",
              "if (notebookContainer) {{\n",
              "    x.observe(notebookContainer, {childList: true});\n",
              "}}\n",
              "\n",
              "// Listen for the clearing of the current output cell\n",
              "var outputEl = gd.closest('.output');\n",
              "if (outputEl) {{\n",
              "    x.observe(outputEl, {childList: true});\n",
              "}}\n",
              "\n",
              "                        })                };                            </script>        </div>\n",
              "</body>\n",
              "</html>"
            ]
          },
          "metadata": {}
        }
      ]
    },
    {
      "cell_type": "code",
      "source": [
        "# 하이퍼파라미터 최적화 과정 확인\n",
        "optuna.visualization.plot_optimization_history(optuna_lgbm)"
      ],
      "metadata": {
        "colab": {
          "base_uri": "https://localhost:8080/",
          "height": 542
        },
        "id": "xkBQreExPxkH",
        "outputId": "f0ed2e54-c413-4335-ae31-9d7d828e9731"
      },
      "execution_count": null,
      "outputs": [
        {
          "output_type": "display_data",
          "data": {
            "text/html": [
              "<html>\n",
              "<head><meta charset=\"utf-8\" /></head>\n",
              "<body>\n",
              "    <div>            <script src=\"https://cdnjs.cloudflare.com/ajax/libs/mathjax/2.7.5/MathJax.js?config=TeX-AMS-MML_SVG\"></script><script type=\"text/javascript\">if (window.MathJax) {MathJax.Hub.Config({SVG: {font: \"STIX-Web\"}});}</script>                <script type=\"text/javascript\">window.PlotlyConfig = {MathJaxConfig: 'local'};</script>\n",
              "        <script src=\"https://cdn.plot.ly/plotly-2.8.3.min.js\"></script>                <div id=\"0c7f83bf-10d6-4b70-b6eb-2ec07feb2f4f\" class=\"plotly-graph-div\" style=\"height:525px; width:100%;\"></div>            <script type=\"text/javascript\">                                    window.PLOTLYENV=window.PLOTLYENV || {};                                    if (document.getElementById(\"0c7f83bf-10d6-4b70-b6eb-2ec07feb2f4f\")) {                    Plotly.newPlot(                        \"0c7f83bf-10d6-4b70-b6eb-2ec07feb2f4f\",                        [{\"mode\":\"markers\",\"name\":\"Objective Value\",\"x\":[0,1,2,3,4,5,6,7,8,9,10,11,12,13,14,15,16,17,18,19,20,21,22,23,24,25,26,27,28,29,30,31,32,33,34,35,36,37,38,39,40,41,42,43,44,45,46,47,48,49,50,51,52,53,54,55,56,57,58,59,60,61,62,63,64,65,66,67,68,69,70,71,72,73,74,75,76,77,78,79,80,81,82,83,84,85,86,87,88,89,90,91,92,93,94,95,96,97,98,99],\"y\":[7077.13294906026,3038.943359283752,5806.059045490782,1572.6098206596319,4574.974544189613,7071.602450480337,7073.226000811502,7057.264338596219,2784.286009300855,7073.774092133346,1478.5967277260186,1528.4886506123685,7078.180650129723,1516.2663054885104,6774.634039704551,1539.8680100858878,6618.535773753991,1716.1395647195582,6761.92560631073,6941.244075892752,1771.2146108781214,1490.8696847376318,1382.9378787594494,2021.3495580730312,6544.032234428989,1437.2583110402923,1415.4884201374966,3123.6545371897155,1421.1841072529198,4677.25508644576,1465.0686866698838,1398.3219558465196,1846.8194581811629,2251.151941640069,4518.246880583791,7077.700191599512,1517.40527559492,6366.7826397697045,4250.559666520253,1503.6895947113412,6736.831003059202,1442.3732416498249,1889.0911480921868,1446.81677261102,4751.5027435121765,2284.0789643324415,1401.157947881978,1466.3606985315764,1406.7451644867524,1411.9054231345688,1420.7646024682974,1443.3176104116228,1703.5565758557582,1414.30919144455,1496.000876634552,1434.6035256401315,6998.117759573949,1384.8195586271813,7074.97065863318,1430.1423747126696,1420.2601567584852,1423.6805599627187,1429.4580204849078,1346.779505568089,1398.0712340829955,1420.1466610559116,7015.802641551219,1944.5681007959918,1425.4133088180533,2925.124493458818,1446.9305571375041,1399.7217556817589,1412.0675395713747,1439.5598124462913,1425.6460080835327,1404.2525820426397,1432.4300931238608,1529.925810067578,1423.9264822795824,3628.487155731451,7065.118643251659,1384.5290914085012,1408.336946084403,1431.442416983791,1387.6527464188953,1421.370792016367,5565.284191408305,1419.780279057286,1799.6352720996165,1999.4390009115284,1483.6118753552641,1391.8173384636643,6870.570875254066,1387.08545182631,6152.435985583184,1363.0598746469132,1365.8189402300118,1505.2172513474034,1360.1111015365984,2251.189385519235],\"type\":\"scatter\"},{\"name\":\"Best Value\",\"x\":[0,1,2,3,4,5,6,7,8,9,10,11,12,13,14,15,16,17,18,19,20,21,22,23,24,25,26,27,28,29,30,31,32,33,34,35,36,37,38,39,40,41,42,43,44,45,46,47,48,49,50,51,52,53,54,55,56,57,58,59,60,61,62,63,64,65,66,67,68,69,70,71,72,73,74,75,76,77,78,79,80,81,82,83,84,85,86,87,88,89,90,91,92,93,94,95,96,97,98,99],\"y\":[7077.13294906026,3038.943359283752,3038.943359283752,1572.6098206596319,1572.6098206596319,1572.6098206596319,1572.6098206596319,1572.6098206596319,1572.6098206596319,1572.6098206596319,1478.5967277260186,1478.5967277260186,1478.5967277260186,1478.5967277260186,1478.5967277260186,1478.5967277260186,1478.5967277260186,1478.5967277260186,1478.5967277260186,1478.5967277260186,1478.5967277260186,1478.5967277260186,1382.9378787594494,1382.9378787594494,1382.9378787594494,1382.9378787594494,1382.9378787594494,1382.9378787594494,1382.9378787594494,1382.9378787594494,1382.9378787594494,1382.9378787594494,1382.9378787594494,1382.9378787594494,1382.9378787594494,1382.9378787594494,1382.9378787594494,1382.9378787594494,1382.9378787594494,1382.9378787594494,1382.9378787594494,1382.9378787594494,1382.9378787594494,1382.9378787594494,1382.9378787594494,1382.9378787594494,1382.9378787594494,1382.9378787594494,1382.9378787594494,1382.9378787594494,1382.9378787594494,1382.9378787594494,1382.9378787594494,1382.9378787594494,1382.9378787594494,1382.9378787594494,1382.9378787594494,1382.9378787594494,1382.9378787594494,1382.9378787594494,1382.9378787594494,1382.9378787594494,1382.9378787594494,1346.779505568089,1346.779505568089,1346.779505568089,1346.779505568089,1346.779505568089,1346.779505568089,1346.779505568089,1346.779505568089,1346.779505568089,1346.779505568089,1346.779505568089,1346.779505568089,1346.779505568089,1346.779505568089,1346.779505568089,1346.779505568089,1346.779505568089,1346.779505568089,1346.779505568089,1346.779505568089,1346.779505568089,1346.779505568089,1346.779505568089,1346.779505568089,1346.779505568089,1346.779505568089,1346.779505568089,1346.779505568089,1346.779505568089,1346.779505568089,1346.779505568089,1346.779505568089,1346.779505568089,1346.779505568089,1346.779505568089,1346.779505568089,1346.779505568089],\"type\":\"scatter\"}],                        {\"title\":{\"text\":\"Optimization History Plot\"},\"xaxis\":{\"title\":{\"text\":\"Trial\"}},\"yaxis\":{\"title\":{\"text\":\"Objective Value\"}},\"template\":{\"data\":{\"bar\":[{\"error_x\":{\"color\":\"#2a3f5f\"},\"error_y\":{\"color\":\"#2a3f5f\"},\"marker\":{\"line\":{\"color\":\"#E5ECF6\",\"width\":0.5},\"pattern\":{\"fillmode\":\"overlay\",\"size\":10,\"solidity\":0.2}},\"type\":\"bar\"}],\"barpolar\":[{\"marker\":{\"line\":{\"color\":\"#E5ECF6\",\"width\":0.5},\"pattern\":{\"fillmode\":\"overlay\",\"size\":10,\"solidity\":0.2}},\"type\":\"barpolar\"}],\"carpet\":[{\"aaxis\":{\"endlinecolor\":\"#2a3f5f\",\"gridcolor\":\"white\",\"linecolor\":\"white\",\"minorgridcolor\":\"white\",\"startlinecolor\":\"#2a3f5f\"},\"baxis\":{\"endlinecolor\":\"#2a3f5f\",\"gridcolor\":\"white\",\"linecolor\":\"white\",\"minorgridcolor\":\"white\",\"startlinecolor\":\"#2a3f5f\"},\"type\":\"carpet\"}],\"choropleth\":[{\"colorbar\":{\"outlinewidth\":0,\"ticks\":\"\"},\"type\":\"choropleth\"}],\"contour\":[{\"colorbar\":{\"outlinewidth\":0,\"ticks\":\"\"},\"colorscale\":[[0.0,\"#0d0887\"],[0.1111111111111111,\"#46039f\"],[0.2222222222222222,\"#7201a8\"],[0.3333333333333333,\"#9c179e\"],[0.4444444444444444,\"#bd3786\"],[0.5555555555555556,\"#d8576b\"],[0.6666666666666666,\"#ed7953\"],[0.7777777777777778,\"#fb9f3a\"],[0.8888888888888888,\"#fdca26\"],[1.0,\"#f0f921\"]],\"type\":\"contour\"}],\"contourcarpet\":[{\"colorbar\":{\"outlinewidth\":0,\"ticks\":\"\"},\"type\":\"contourcarpet\"}],\"heatmap\":[{\"colorbar\":{\"outlinewidth\":0,\"ticks\":\"\"},\"colorscale\":[[0.0,\"#0d0887\"],[0.1111111111111111,\"#46039f\"],[0.2222222222222222,\"#7201a8\"],[0.3333333333333333,\"#9c179e\"],[0.4444444444444444,\"#bd3786\"],[0.5555555555555556,\"#d8576b\"],[0.6666666666666666,\"#ed7953\"],[0.7777777777777778,\"#fb9f3a\"],[0.8888888888888888,\"#fdca26\"],[1.0,\"#f0f921\"]],\"type\":\"heatmap\"}],\"heatmapgl\":[{\"colorbar\":{\"outlinewidth\":0,\"ticks\":\"\"},\"colorscale\":[[0.0,\"#0d0887\"],[0.1111111111111111,\"#46039f\"],[0.2222222222222222,\"#7201a8\"],[0.3333333333333333,\"#9c179e\"],[0.4444444444444444,\"#bd3786\"],[0.5555555555555556,\"#d8576b\"],[0.6666666666666666,\"#ed7953\"],[0.7777777777777778,\"#fb9f3a\"],[0.8888888888888888,\"#fdca26\"],[1.0,\"#f0f921\"]],\"type\":\"heatmapgl\"}],\"histogram\":[{\"marker\":{\"pattern\":{\"fillmode\":\"overlay\",\"size\":10,\"solidity\":0.2}},\"type\":\"histogram\"}],\"histogram2d\":[{\"colorbar\":{\"outlinewidth\":0,\"ticks\":\"\"},\"colorscale\":[[0.0,\"#0d0887\"],[0.1111111111111111,\"#46039f\"],[0.2222222222222222,\"#7201a8\"],[0.3333333333333333,\"#9c179e\"],[0.4444444444444444,\"#bd3786\"],[0.5555555555555556,\"#d8576b\"],[0.6666666666666666,\"#ed7953\"],[0.7777777777777778,\"#fb9f3a\"],[0.8888888888888888,\"#fdca26\"],[1.0,\"#f0f921\"]],\"type\":\"histogram2d\"}],\"histogram2dcontour\":[{\"colorbar\":{\"outlinewidth\":0,\"ticks\":\"\"},\"colorscale\":[[0.0,\"#0d0887\"],[0.1111111111111111,\"#46039f\"],[0.2222222222222222,\"#7201a8\"],[0.3333333333333333,\"#9c179e\"],[0.4444444444444444,\"#bd3786\"],[0.5555555555555556,\"#d8576b\"],[0.6666666666666666,\"#ed7953\"],[0.7777777777777778,\"#fb9f3a\"],[0.8888888888888888,\"#fdca26\"],[1.0,\"#f0f921\"]],\"type\":\"histogram2dcontour\"}],\"mesh3d\":[{\"colorbar\":{\"outlinewidth\":0,\"ticks\":\"\"},\"type\":\"mesh3d\"}],\"parcoords\":[{\"line\":{\"colorbar\":{\"outlinewidth\":0,\"ticks\":\"\"}},\"type\":\"parcoords\"}],\"pie\":[{\"automargin\":true,\"type\":\"pie\"}],\"scatter\":[{\"marker\":{\"colorbar\":{\"outlinewidth\":0,\"ticks\":\"\"}},\"type\":\"scatter\"}],\"scatter3d\":[{\"line\":{\"colorbar\":{\"outlinewidth\":0,\"ticks\":\"\"}},\"marker\":{\"colorbar\":{\"outlinewidth\":0,\"ticks\":\"\"}},\"type\":\"scatter3d\"}],\"scattercarpet\":[{\"marker\":{\"colorbar\":{\"outlinewidth\":0,\"ticks\":\"\"}},\"type\":\"scattercarpet\"}],\"scattergeo\":[{\"marker\":{\"colorbar\":{\"outlinewidth\":0,\"ticks\":\"\"}},\"type\":\"scattergeo\"}],\"scattergl\":[{\"marker\":{\"colorbar\":{\"outlinewidth\":0,\"ticks\":\"\"}},\"type\":\"scattergl\"}],\"scattermapbox\":[{\"marker\":{\"colorbar\":{\"outlinewidth\":0,\"ticks\":\"\"}},\"type\":\"scattermapbox\"}],\"scatterpolar\":[{\"marker\":{\"colorbar\":{\"outlinewidth\":0,\"ticks\":\"\"}},\"type\":\"scatterpolar\"}],\"scatterpolargl\":[{\"marker\":{\"colorbar\":{\"outlinewidth\":0,\"ticks\":\"\"}},\"type\":\"scatterpolargl\"}],\"scatterternary\":[{\"marker\":{\"colorbar\":{\"outlinewidth\":0,\"ticks\":\"\"}},\"type\":\"scatterternary\"}],\"surface\":[{\"colorbar\":{\"outlinewidth\":0,\"ticks\":\"\"},\"colorscale\":[[0.0,\"#0d0887\"],[0.1111111111111111,\"#46039f\"],[0.2222222222222222,\"#7201a8\"],[0.3333333333333333,\"#9c179e\"],[0.4444444444444444,\"#bd3786\"],[0.5555555555555556,\"#d8576b\"],[0.6666666666666666,\"#ed7953\"],[0.7777777777777778,\"#fb9f3a\"],[0.8888888888888888,\"#fdca26\"],[1.0,\"#f0f921\"]],\"type\":\"surface\"}],\"table\":[{\"cells\":{\"fill\":{\"color\":\"#EBF0F8\"},\"line\":{\"color\":\"white\"}},\"header\":{\"fill\":{\"color\":\"#C8D4E3\"},\"line\":{\"color\":\"white\"}},\"type\":\"table\"}]},\"layout\":{\"annotationdefaults\":{\"arrowcolor\":\"#2a3f5f\",\"arrowhead\":0,\"arrowwidth\":1},\"autotypenumbers\":\"strict\",\"coloraxis\":{\"colorbar\":{\"outlinewidth\":0,\"ticks\":\"\"}},\"colorscale\":{\"diverging\":[[0,\"#8e0152\"],[0.1,\"#c51b7d\"],[0.2,\"#de77ae\"],[0.3,\"#f1b6da\"],[0.4,\"#fde0ef\"],[0.5,\"#f7f7f7\"],[0.6,\"#e6f5d0\"],[0.7,\"#b8e186\"],[0.8,\"#7fbc41\"],[0.9,\"#4d9221\"],[1,\"#276419\"]],\"sequential\":[[0.0,\"#0d0887\"],[0.1111111111111111,\"#46039f\"],[0.2222222222222222,\"#7201a8\"],[0.3333333333333333,\"#9c179e\"],[0.4444444444444444,\"#bd3786\"],[0.5555555555555556,\"#d8576b\"],[0.6666666666666666,\"#ed7953\"],[0.7777777777777778,\"#fb9f3a\"],[0.8888888888888888,\"#fdca26\"],[1.0,\"#f0f921\"]],\"sequentialminus\":[[0.0,\"#0d0887\"],[0.1111111111111111,\"#46039f\"],[0.2222222222222222,\"#7201a8\"],[0.3333333333333333,\"#9c179e\"],[0.4444444444444444,\"#bd3786\"],[0.5555555555555556,\"#d8576b\"],[0.6666666666666666,\"#ed7953\"],[0.7777777777777778,\"#fb9f3a\"],[0.8888888888888888,\"#fdca26\"],[1.0,\"#f0f921\"]]},\"colorway\":[\"#636efa\",\"#EF553B\",\"#00cc96\",\"#ab63fa\",\"#FFA15A\",\"#19d3f3\",\"#FF6692\",\"#B6E880\",\"#FF97FF\",\"#FECB52\"],\"font\":{\"color\":\"#2a3f5f\"},\"geo\":{\"bgcolor\":\"white\",\"lakecolor\":\"white\",\"landcolor\":\"#E5ECF6\",\"showlakes\":true,\"showland\":true,\"subunitcolor\":\"white\"},\"hoverlabel\":{\"align\":\"left\"},\"hovermode\":\"closest\",\"mapbox\":{\"style\":\"light\"},\"paper_bgcolor\":\"white\",\"plot_bgcolor\":\"#E5ECF6\",\"polar\":{\"angularaxis\":{\"gridcolor\":\"white\",\"linecolor\":\"white\",\"ticks\":\"\"},\"bgcolor\":\"#E5ECF6\",\"radialaxis\":{\"gridcolor\":\"white\",\"linecolor\":\"white\",\"ticks\":\"\"}},\"scene\":{\"xaxis\":{\"backgroundcolor\":\"#E5ECF6\",\"gridcolor\":\"white\",\"gridwidth\":2,\"linecolor\":\"white\",\"showbackground\":true,\"ticks\":\"\",\"zerolinecolor\":\"white\"},\"yaxis\":{\"backgroundcolor\":\"#E5ECF6\",\"gridcolor\":\"white\",\"gridwidth\":2,\"linecolor\":\"white\",\"showbackground\":true,\"ticks\":\"\",\"zerolinecolor\":\"white\"},\"zaxis\":{\"backgroundcolor\":\"#E5ECF6\",\"gridcolor\":\"white\",\"gridwidth\":2,\"linecolor\":\"white\",\"showbackground\":true,\"ticks\":\"\",\"zerolinecolor\":\"white\"}},\"shapedefaults\":{\"line\":{\"color\":\"#2a3f5f\"}},\"ternary\":{\"aaxis\":{\"gridcolor\":\"white\",\"linecolor\":\"white\",\"ticks\":\"\"},\"baxis\":{\"gridcolor\":\"white\",\"linecolor\":\"white\",\"ticks\":\"\"},\"bgcolor\":\"#E5ECF6\",\"caxis\":{\"gridcolor\":\"white\",\"linecolor\":\"white\",\"ticks\":\"\"}},\"title\":{\"x\":0.05},\"xaxis\":{\"automargin\":true,\"gridcolor\":\"white\",\"linecolor\":\"white\",\"ticks\":\"\",\"title\":{\"standoff\":15},\"zerolinecolor\":\"white\",\"zerolinewidth\":2},\"yaxis\":{\"automargin\":true,\"gridcolor\":\"white\",\"linecolor\":\"white\",\"ticks\":\"\",\"title\":{\"standoff\":15},\"zerolinecolor\":\"white\",\"zerolinewidth\":2}}}},                        {\"responsive\": true}                    ).then(function(){\n",
              "                            \n",
              "var gd = document.getElementById('0c7f83bf-10d6-4b70-b6eb-2ec07feb2f4f');\n",
              "var x = new MutationObserver(function (mutations, observer) {{\n",
              "        var display = window.getComputedStyle(gd).display;\n",
              "        if (!display || display === 'none') {{\n",
              "            console.log([gd, 'removed!']);\n",
              "            Plotly.purge(gd);\n",
              "            observer.disconnect();\n",
              "        }}\n",
              "}});\n",
              "\n",
              "// Listen for the removal of the full notebook cells\n",
              "var notebookContainer = gd.closest('#notebook-container');\n",
              "if (notebookContainer) {{\n",
              "    x.observe(notebookContainer, {childList: true});\n",
              "}}\n",
              "\n",
              "// Listen for the clearing of the current output cell\n",
              "var outputEl = gd.closest('.output');\n",
              "if (outputEl) {{\n",
              "    x.observe(outputEl, {childList: true});\n",
              "}}\n",
              "\n",
              "                        })                };                            </script>        </div>\n",
              "</body>\n",
              "</html>"
            ]
          },
          "metadata": {}
        }
      ]
    },
    {
      "cell_type": "markdown",
      "source": [
        "# 03.모델 생성(XGBoost) 및 학습"
      ],
      "metadata": {
        "id": "Co4eVcrOuO4Q"
      }
    },
    {
      "cell_type": "markdown",
      "source": [
        "## train, val 데이터셋 split"
      ],
      "metadata": {
        "id": "qGR1bbd1uZBg"
      }
    },
    {
      "cell_type": "code",
      "source": [
        "# 상관관계가 낮게 나온 hour_bef_precipitation 빼기\n",
        "X = train.drop(['id','count','hour_bef_precipitation'],axis=1)\n",
        "y = train['count']"
      ],
      "metadata": {
        "id": "o28Dvsa-uZBh"
      },
      "execution_count": null,
      "outputs": []
    },
    {
      "cell_type": "code",
      "source": [
        "from sklearn.model_selection import train_test_split\n",
        "train_x, val_x, train_y, val_y = train_test_split(X,y,test_size=.2, random_state=42)"
      ],
      "metadata": {
        "id": "57d9ZqTyuZBi"
      },
      "execution_count": null,
      "outputs": []
    },
    {
      "cell_type": "markdown",
      "source": [
        "## 학습"
      ],
      "metadata": {
        "id": "DhqeF788uZBi"
      }
    },
    {
      "cell_type": "code",
      "source": [
        "# 모델링 라이브러리\n",
        "# 모델링 관련 라이브러리\n",
        "from sklearn.metrics import mean_squared_error, mean_absolute_error\n",
        "import xgboost as xgb\n",
        "from xgboost import XGBRegressor"
      ],
      "metadata": {
        "id": "lQd45zCNuZBi"
      },
      "execution_count": null,
      "outputs": []
    },
    {
      "cell_type": "code",
      "source": [
        "def Model(model):\n",
        "    model.fit(train_x,train_y)\n",
        "    score = model.score(val_x,val_y)\n",
        "    model_train_score= model.score(train_x,train_y)\n",
        "    model_test_score=model.score(val_x,val_y)\n",
        "    prediction = model.predict(val_x)\n",
        "    print(\"Testing Score\\n\", score)"
      ],
      "metadata": {
        "id": "14ciNOaOuZBj"
      },
      "execution_count": null,
      "outputs": []
    },
    {
      "cell_type": "code",
      "source": [
        "xgb_reg = XGBRegressor(objective='reg:squarederror',n_estimators=200, random_state=42, eval_set=[val_x,val_y])\n",
        "\n",
        "print(len(train_x), len(val_x))\n",
        "xgb_reg.fit(train_x, train_y)\n",
        "pred = xgb_reg.predict(val_x)\n",
        "mse= mean_squared_error(val_y,pred)\n",
        "rmse= mse**(1/2)\n",
        "\n",
        "print(\"RMSE : \", rmse)"
      ],
      "metadata": {
        "colab": {
          "base_uri": "https://localhost:8080/"
        },
        "outputId": "d492398f-3597-4f4b-f09d-0b0a8d8ca03a",
        "id": "xczZlb7AuZBj"
      },
      "execution_count": null,
      "outputs": [
        {
          "output_type": "stream",
          "name": "stdout",
          "text": [
            "1167 292\n",
            "RMSE :  37.26964860506443\n"
          ]
        }
      ]
    },
    {
      "cell_type": "code",
      "source": [
        "Model(xgb_reg)"
      ],
      "metadata": {
        "colab": {
          "base_uri": "https://localhost:8080/"
        },
        "outputId": "a67c821e-1447-47f8-c0a7-841707f7eb40",
        "id": "1_Vl5QJRuZBk"
      },
      "execution_count": null,
      "outputs": [
        {
          "output_type": "stream",
          "name": "stdout",
          "text": [
            "Testing Score\n",
            " 0.8103585257668543\n"
          ]
        }
      ]
    },
    {
      "cell_type": "code",
      "source": [
        "xgb.plot_importance(xgb_reg)"
      ],
      "metadata": {
        "colab": {
          "base_uri": "https://localhost:8080/",
          "height": 313
        },
        "outputId": "0b162264-9d9c-465a-cbaa-09a5077548cf",
        "id": "vlfl1NZAuZBl"
      },
      "execution_count": null,
      "outputs": [
        {
          "output_type": "execute_result",
          "data": {
            "text/plain": [
              "<matplotlib.axes._subplots.AxesSubplot at 0x7f6c07f2b710>"
            ]
          },
          "metadata": {},
          "execution_count": 75
        },
        {
          "output_type": "display_data",
          "data": {
            "text/plain": [
              "<Figure size 432x288 with 1 Axes>"
            ],
            "image/png": "[encoded data removed]"
          },
          "metadata": {
            "needs_background": "light"
          }
        }
      ]
    },
    {
      "cell_type": "markdown",
      "source": [
        "## 하이퍼파라미터 튜닝 - optuna"
      ],
      "metadata": {
        "id": "72yADAanuZBl"
      }
    },
    {
      "cell_type": "code",
      "source": [
        "!pip install optuna"
      ],
      "metadata": {
        "id": "K2q9Wx6_uZBm"
      },
      "execution_count": null,
      "outputs": []
    },
    {
      "cell_type": "code",
      "source": [
        "# Optuna Libraries\n",
        "import optuna\n",
        "from optuna import Trial, visualization\n",
        "from optuna.samplers import TPESampler"
      ],
      "metadata": {
        "id": "gGM-xC72uZBm"
      },
      "execution_count": null,
      "outputs": []
    },
    {
      "cell_type": "code",
      "source": [
        "# random sampler\n",
        "sampler = TPESampler(seed=10)\n",
        "\n",
        "# define function\n",
        "def objective(trial):\n",
        "\n",
        "    param = {\n",
        "        'objective': 'reg:squarederror',\n",
        "        'verbose': -1,\n",
        "        'metric': 'mse', \n",
        "        'num_leaves': trial.suggest_int('num_leaves', 2, 1024, step=1, log=True), \n",
        "        'colsample_bytree': trial.suggest_uniform('colsample_bytree', 0.7, 1.0),\n",
        "        'reg_alpha': trial.suggest_uniform('reg_alpha', 0.0, 1.0),\n",
        "        'reg_lambda': trial.suggest_uniform('reg_lambda', 0.0, 10.0),\n",
        "        'max_depth': trial.suggest_int('max_depth',3, 15),\n",
        "        'learning_rate': trial.suggest_loguniform(\"learning_rate\", 0.0001, 0.99),\n",
        "        'n_estimators': trial.suggest_int('n_estimators', 100, 3000),\n",
        "        'min_child_weight': trial.suggest_int('min_child_weight', 2, 15),\n",
        "        'subsample': trial.suggest_loguniform('subsample', 0.4, 1),\n",
        "    }\n",
        "\n",
        "    # Generate model\n",
        "    model_xgb = XGBRegressor(**param)\n",
        "    model_xgb = model_xgb.fit(train_x, train_y, eval_set=[(val_x, val_y)], \n",
        "                           verbose=0, early_stopping_rounds=25)\n",
        "                           \n",
        "    # * 평가 지표\n",
        "    # 원하는 평가 지표에 따라 사용하기                        \n",
        "    MSE = mean_squared_error(val_y, model_xgb.predict(val_x))\n",
        "    return MSE\n",
        "\n",
        "optuna_xgb = optuna.create_study(direction='minimize', sampler=sampler)\n",
        "\n",
        "# * n_trials의 경우 optuna를 몇번 실행하여 hyper parameter를 찾을 것인지를 정한다.\n",
        "# 50으로 설정해도 유의미한 값이 나온다.\n",
        "optuna_xgb.optimize(objective, n_trials=100)"
      ],
      "metadata": {
        "colab": {
          "base_uri": "https://localhost:8080/"
        },
        "outputId": "cccfda97-ab4e-4b4e-c1b6-05c231930a55",
        "id": "NZ5u-UFmuZBm"
      },
      "execution_count": null,
      "outputs": [
        {
          "output_type": "stream",
          "name": "stderr",
          "text": [
            "\u001b[32m[I 2022-11-15 14:23:05,510]\u001b[0m A new study created in memory with name: no-name-c4c1ca32-1919-4752-b395-546a1f6bb820\u001b[0m\n",
            "\u001b[32m[I 2022-11-15 14:23:06,829]\u001b[0m Trial 0 finished with value: 8988.40035890641 and parameters: {'num_leaves': 230, 'colsample_bytree': 0.7062255848078204, 'reg_alpha': 0.6336482349262754, 'reg_lambda': 7.488038825386118, 'max_depth': 9, 'learning_rate': 0.0007910526477470923, 'n_estimators': 674, 'min_child_weight': 12, 'subsample': 0.46704202331689854}. Best is trial 0 with value: 8988.40035890641.\u001b[0m\n",
            "\u001b[32m[I 2022-11-15 14:23:07,140]\u001b[0m Trial 1 finished with value: 1565.7645581531049 and parameters: {'num_leaves': 3, 'colsample_bytree': 0.9056079455103392, 'reg_alpha': 0.9533933461949365, 'reg_lambda': 0.039482663279144514, 'max_depth': 9, 'learning_rate': 0.17657813040997375, 'n_estimators': 1876, 'min_child_weight': 12, 'subsample': 0.5226478358414336}. Best is trial 1 with value: 1565.7645581531049.\u001b[0m\n",
            "\u001b[32m[I 2022-11-15 14:23:07,669]\u001b[0m Trial 2 finished with value: 1347.5633507052075 and parameters: {'num_leaves': 599, 'colsample_bytree': 0.9143727350193072, 'reg_alpha': 0.5425443680112613, 'reg_lambda': 1.4217004760152696, 'max_depth': 7, 'learning_rate': 0.04938465205210294, 'n_estimators': 1381, 'min_child_weight': 8, 'subsample': 0.7045213978206539}. Best is trial 2 with value: 1347.5633507052075.\u001b[0m\n",
            "\u001b[32m[I 2022-11-15 14:23:07,802]\u001b[0m Trial 3 finished with value: 2022.4977605411607 and parameters: {'num_leaves': 43, 'colsample_bytree': 0.8951191545794401, 'reg_alpha': 0.6010389534045444, 'reg_lambda': 8.052231968327465, 'max_depth': 9, 'learning_rate': 0.42719823301815346, 'n_estimators': 1026, 'min_child_weight': 3, 'subsample': 0.5268907502792566}. Best is trial 2 with value: 1347.5633507052075.\u001b[0m\n",
            "\u001b[32m[I 2022-11-15 14:23:08,169]\u001b[0m Trial 4 finished with value: 1379.7994637041152 and parameters: {'num_leaves': 3, 'colsample_bytree': 0.948604397892303, 'reg_alpha': 0.04689631938924976, 'reg_lambda': 6.262871483113925, 'max_depth': 10, 'learning_rate': 0.18774654530973361, 'n_estimators': 677, 'min_child_weight': 13, 'subsample': 0.5520731753100153}. Best is trial 2 with value: 1347.5633507052075.\u001b[0m\n",
            "\u001b[32m[I 2022-11-15 14:23:08,914]\u001b[0m Trial 5 finished with value: 3536.669224417921 and parameters: {'num_leaves': 207, 'colsample_bytree': 0.7887885120639035, 'reg_alpha': 0.8839364795611863, 'reg_lambda': 3.255116378322488, 'max_depth': 5, 'learning_rate': 0.0037017208235427122, 'n_estimators': 371, 'min_child_weight': 13, 'subsample': 0.4594195026585646}. Best is trial 2 with value: 1347.5633507052075.\u001b[0m\n",
            "\u001b[32m[I 2022-11-15 14:23:14,218]\u001b[0m Trial 6 finished with value: 2451.275224169253 and parameters: {'num_leaves': 18, 'colsample_bytree': 0.9832782136716404, 'reg_alpha': 0.9876254749018722, 'reg_lambda': 4.5630454709478405, 'max_depth': 13, 'learning_rate': 0.0010101813298968735, 'n_estimators': 1832, 'min_child_weight': 14, 'subsample': 0.6528027663077773}. Best is trial 2 with value: 1347.5633507052075.\u001b[0m\n",
            "\u001b[32m[I 2022-11-15 14:23:19,952]\u001b[0m Trial 7 finished with value: 1420.7787471667432 and parameters: {'num_leaves': 71, 'colsample_bytree': 0.7117845301676161, 'reg_alpha': 0.3571817586345363, 'reg_lambda': 0.7961309015596418, 'max_depth': 6, 'learning_rate': 0.0020962048548772948, 'n_estimators': 2344, 'min_child_weight': 2, 'subsample': 0.5928872521372353}. Best is trial 2 with value: 1347.5633507052075.\u001b[0m\n",
            "\u001b[32m[I 2022-11-15 14:23:20,565]\u001b[0m Trial 8 finished with value: 1332.4265429489467 and parameters: {'num_leaves': 12, 'colsample_bytree': 0.8909473429202633, 'reg_alpha': 0.34634715008003303, 'reg_lambda': 0.4309735620499444, 'max_depth': 14, 'learning_rate': 0.11210654077632189, 'n_estimators': 2647, 'min_child_weight': 7, 'subsample': 0.6966963456486692}. Best is trial 8 with value: 1332.4265429489467.\u001b[0m\n",
            "\u001b[32m[I 2022-11-15 14:23:21,865]\u001b[0m Trial 9 finished with value: 3678.056332372915 and parameters: {'num_leaves': 43, 'colsample_bytree': 0.8793509943888921, 'reg_alpha': 0.2622156611319503, 'reg_lambda': 3.008713089407072, 'max_depth': 3, 'learning_rate': 0.0016252771646279743, 'n_estimators': 802, 'min_child_weight': 9, 'subsample': 0.6715801632692119}. Best is trial 8 with value: 1332.4265429489467.\u001b[0m\n",
            "\u001b[32m[I 2022-11-15 14:23:31,067]\u001b[0m Trial 10 finished with value: 9146.219304712544 and parameters: {'num_leaves': 11, 'colsample_bytree': 0.8224974356114, 'reg_alpha': 0.017130608564556282, 'reg_lambda': 2.5549690989427987, 'max_depth': 15, 'learning_rate': 0.0001587331366818334, 'n_estimators': 2986, 'min_child_weight': 5, 'subsample': 0.9163865857314029}. Best is trial 8 with value: 1332.4265429489467.\u001b[0m\n",
            "\u001b[32m[I 2022-11-15 14:23:33,014]\u001b[0m Trial 11 finished with value: 1234.427410629668 and parameters: {'num_leaves': 831, 'colsample_bytree': 0.9418526659265062, 'reg_alpha': 0.41373491193830536, 'reg_lambda': 1.3282037031995522, 'max_depth': 13, 'learning_rate': 0.037571290178560875, 'n_estimators': 1373, 'min_child_weight': 7, 'subsample': 0.7945920594190562}. Best is trial 11 with value: 1234.427410629668.\u001b[0m\n",
            "\u001b[32m[I 2022-11-15 14:23:34,568]\u001b[0m Trial 12 finished with value: 1295.1906765639471 and parameters: {'num_leaves': 955, 'colsample_bytree': 0.98295137773064, 'reg_alpha': 0.30843995705557187, 'reg_lambda': 1.6930639218315076, 'max_depth': 13, 'learning_rate': 0.025583320713806937, 'n_estimators': 2591, 'min_child_weight': 7, 'subsample': 0.8333298758095201}. Best is trial 11 with value: 1234.427410629668.\u001b[0m\n",
            "\u001b[32m[I 2022-11-15 14:23:40,022]\u001b[0m Trial 13 finished with value: 1302.874652363789 and parameters: {'num_leaves': 643, 'colsample_bytree': 0.9941972316426564, 'reg_alpha': 0.27177659387668107, 'reg_lambda': 4.9266166476745825, 'max_depth': 12, 'learning_rate': 0.0211201501983327, 'n_estimators': 2056, 'min_child_weight': 5, 'subsample': 0.9190170982555219}. Best is trial 11 with value: 1234.427410629668.\u001b[0m\n",
            "\u001b[32m[I 2022-11-15 14:23:44,060]\u001b[0m Trial 14 finished with value: 1332.6747996746003 and parameters: {'num_leaves': 789, 'colsample_bytree': 0.9524789597853294, 'reg_alpha': 0.7419359153076491, 'reg_lambda': 9.776969722750097, 'max_depth': 12, 'learning_rate': 0.010671146414113227, 'n_estimators': 1344, 'min_child_weight': 10, 'subsample': 0.80520566758213}. Best is trial 11 with value: 1234.427410629668.\u001b[0m\n",
            "\u001b[32m[I 2022-11-15 14:23:45,783]\u001b[0m Trial 15 finished with value: 1251.4188187476564 and parameters: {'num_leaves': 217, 'colsample_bytree': 0.9489972201878535, 'reg_alpha': 0.4391191476272916, 'reg_lambda': 1.7090608562885434, 'max_depth': 11, 'learning_rate': 0.029037580516435135, 'n_estimators': 2458, 'min_child_weight': 6, 'subsample': 0.8111788413701011}. Best is trial 11 with value: 1234.427410629668.\u001b[0m\n",
            "\u001b[32m[I 2022-11-15 14:23:46,078]\u001b[0m Trial 16 finished with value: 2175.9268306439817 and parameters: {'num_leaves': 178, 'colsample_bytree': 0.9395502426455858, 'reg_alpha': 0.4462352556210046, 'reg_lambda': 4.245241246989098, 'max_depth': 11, 'learning_rate': 0.8685096874036579, 'n_estimators': 1719, 'min_child_weight': 4, 'subsample': 0.7811645450949346}. Best is trial 11 with value: 1234.427410629668.\u001b[0m\n",
            "\u001b[32m[I 2022-11-15 14:23:51,707]\u001b[0m Trial 17 finished with value: 1308.3354973683743 and parameters: {'num_leaves': 115, 'colsample_bytree': 0.851317210984921, 'reg_alpha': 0.7286000440553106, 'reg_lambda': 2.129766268430189, 'max_depth': 15, 'learning_rate': 0.005386085101239356, 'n_estimators': 1194, 'min_child_weight': 6, 'subsample': 0.9832989493184363}. Best is trial 11 with value: 1234.427410629668.\u001b[0m\n",
            "\u001b[32m[I 2022-11-15 14:23:52,389]\u001b[0m Trial 18 finished with value: 1331.8553529734097 and parameters: {'num_leaves': 350, 'colsample_bytree': 0.7714512984687681, 'reg_alpha': 0.14445738919060563, 'reg_lambda': 3.393279012225312, 'max_depth': 11, 'learning_rate': 0.048917591015319305, 'n_estimators': 2207, 'min_child_weight': 10, 'subsample': 0.7542612129336719}. Best is trial 11 with value: 1234.427410629668.\u001b[0m\n",
            "\u001b[32m[I 2022-11-15 14:23:54,553]\u001b[0m Trial 19 finished with value: 1337.9038848737707 and parameters: {'num_leaves': 376, 'colsample_bytree': 0.8547332722202196, 'reg_alpha': 0.44750616526517484, 'reg_lambda': 6.020104175294237, 'max_depth': 8, 'learning_rate': 0.012107643394891086, 'n_estimators': 1548, 'min_child_weight': 8, 'subsample': 0.8682689650458478}. Best is trial 11 with value: 1234.427410629668.\u001b[0m\n",
            "\u001b[32m[I 2022-11-15 14:23:55,251]\u001b[0m Trial 20 finished with value: 1398.3351028961724 and parameters: {'num_leaves': 100, 'colsample_bytree': 0.9277188758127607, 'reg_alpha': 0.18535007856403707, 'reg_lambda': 1.0952448060268734, 'max_depth': 11, 'learning_rate': 0.06197151000221761, 'n_estimators': 2946, 'min_child_weight': 6, 'subsample': 0.41357935451393607}. Best is trial 11 with value: 1234.427410629668.\u001b[0m\n",
            "\u001b[32m[I 2022-11-15 14:23:56,820]\u001b[0m Trial 21 finished with value: 1238.0813952598503 and parameters: {'num_leaves': 1006, 'colsample_bytree': 0.9682578532053674, 'reg_alpha': 0.400459968988193, 'reg_lambda': 1.939693752262266, 'max_depth': 13, 'learning_rate': 0.02463690662443698, 'n_estimators': 2554, 'min_child_weight': 7, 'subsample': 0.8451779928877182}. Best is trial 11 with value: 1234.427410629668.\u001b[0m\n",
            "\u001b[32m[I 2022-11-15 14:23:58,320]\u001b[0m Trial 22 finished with value: 1263.806535306247 and parameters: {'num_leaves': 427, 'colsample_bytree': 0.9665243841185581, 'reg_alpha': 0.4545809661992766, 'reg_lambda': 2.007793403182411, 'max_depth': 13, 'learning_rate': 0.026740866075767793, 'n_estimators': 2734, 'min_child_weight': 9, 'subsample': 0.7521162308910398}. Best is trial 11 with value: 1234.427410629668.\u001b[0m\n",
            "\u001b[32m[I 2022-11-15 14:24:01,808]\u001b[0m Trial 23 finished with value: 1288.9172401195851 and parameters: {'num_leaves': 328, 'colsample_bytree': 0.9990040821088474, 'reg_alpha': 0.5316032566784998, 'reg_lambda': 3.973214055991643, 'max_depth': 14, 'learning_rate': 0.012629392806736977, 'n_estimators': 2322, 'min_child_weight': 6, 'subsample': 0.9877641086013419}. Best is trial 11 with value: 1234.427410629668.\u001b[0m\n",
            "\u001b[32m[I 2022-11-15 14:24:11,307]\u001b[0m Trial 24 finished with value: 1270.3770309565678 and parameters: {'num_leaves': 929, 'colsample_bytree': 0.9628679075314325, 'reg_alpha': 0.39280956237500775, 'reg_lambda': 2.5984386641732105, 'max_depth': 14, 'learning_rate': 0.006290806756862479, 'n_estimators': 2513, 'min_child_weight': 4, 'subsample': 0.8451223178998026}. Best is trial 11 with value: 1234.427410629668.\u001b[0m\n",
            "\u001b[32m[I 2022-11-15 14:24:11,752]\u001b[0m Trial 25 finished with value: 1346.4306606997552 and parameters: {'num_leaves': 461, 'colsample_bytree': 0.9362926983331407, 'reg_alpha': 0.19656560028992384, 'reg_lambda': 1.3804355648942332, 'max_depth': 12, 'learning_rate': 0.089439161537465, 'n_estimators': 2029, 'min_child_weight': 7, 'subsample': 0.7349081745666127}. Best is trial 11 with value: 1234.427410629668.\u001b[0m\n",
            "\u001b[32m[I 2022-11-15 14:24:12,255]\u001b[0m Trial 26 finished with value: 1414.0182937952507 and parameters: {'num_leaves': 1008, 'colsample_bytree': 0.9174327599817, 'reg_alpha': 0.6741709324182847, 'reg_lambda': 0.021693586440872492, 'max_depth': 10, 'learning_rate': 0.03141525099614675, 'n_estimators': 113, 'min_child_weight': 10, 'subsample': 0.9029332583095674}. Best is trial 11 with value: 1234.427410629668.\u001b[0m\n",
            "\u001b[32m[I 2022-11-15 14:24:14,010]\u001b[0m Trial 27 finished with value: 1308.441324374321 and parameters: {'num_leaves': 147, 'colsample_bytree': 0.8725647359817177, 'reg_alpha': 0.5403550784498932, 'reg_lambda': 3.7181737725580666, 'max_depth': 12, 'learning_rate': 0.12267522184551996, 'n_estimators': 1570, 'min_child_weight': 5, 'subsample': 0.8061330877348981}. Best is trial 11 with value: 1234.427410629668.\u001b[0m\n",
            "\u001b[32m[I 2022-11-15 14:24:14,395]\u001b[0m Trial 28 finished with value: 1436.3433139019792 and parameters: {'num_leaves': 258, 'colsample_bytree': 0.967994649495651, 'reg_alpha': 0.41613737565004005, 'reg_lambda': 5.641904641986455, 'max_depth': 10, 'learning_rate': 0.37938870697660093, 'n_estimators': 2798, 'min_child_weight': 8, 'subsample': 0.6168678095691426}. Best is trial 11 with value: 1234.427410629668.\u001b[0m\n",
            "\u001b[32m[I 2022-11-15 14:24:18,138]\u001b[0m Trial 29 finished with value: 1415.0504525243232 and parameters: {'num_leaves': 73, 'colsample_bytree': 0.8111475405341494, 'reg_alpha': 0.6096127949773619, 'reg_lambda': 2.418418130358323, 'max_depth': 15, 'learning_rate': 0.003852038176326626, 'n_estimators': 985, 'min_child_weight': 11, 'subsample': 0.8601260555030974}. Best is trial 11 with value: 1234.427410629668.\u001b[0m\n",
            "\u001b[32m[I 2022-11-15 14:24:20,667]\u001b[0m Trial 30 finished with value: 1271.2809077394909 and parameters: {'num_leaves': 558, 'colsample_bytree': 0.7393937463777813, 'reg_alpha': 0.4940570960661676, 'reg_lambda': 1.0064047921608765, 'max_depth': 13, 'learning_rate': 0.01730777818219482, 'n_estimators': 2402, 'min_child_weight': 4, 'subsample': 0.7189775459127804}. Best is trial 11 with value: 1234.427410629668.\u001b[0m\n",
            "\u001b[32m[I 2022-11-15 14:24:21,510]\u001b[0m Trial 31 finished with value: 1277.304036319205 and parameters: {'num_leaves': 476, 'colsample_bytree': 0.970777836482611, 'reg_alpha': 0.46496881521426114, 'reg_lambda': 1.8450688545055458, 'max_depth': 13, 'learning_rate': 0.04576222048798594, 'n_estimators': 2792, 'min_child_weight': 9, 'subsample': 0.7652648998304894}. Best is trial 11 with value: 1234.427410629668.\u001b[0m\n",
            "\u001b[32m[I 2022-11-15 14:24:23,433]\u001b[0m Trial 32 finished with value: 1272.050879396747 and parameters: {'num_leaves': 269, 'colsample_bytree': 0.9509973401966565, 'reg_alpha': 0.37881925147897877, 'reg_lambda': 1.9974250730269651, 'max_depth': 14, 'learning_rate': 0.027089095991998664, 'n_estimators': 2093, 'min_child_weight': 7, 'subsample': 0.7832347796507746}. Best is trial 11 with value: 1234.427410629668.\u001b[0m\n",
            "\u001b[32m[I 2022-11-15 14:24:24,076]\u001b[0m Trial 33 finished with value: 1381.2923573018952 and parameters: {'num_leaves': 554, 'colsample_bytree': 0.9163566989627495, 'reg_alpha': 0.2981571938831639, 'reg_lambda': 0.5816560919342653, 'max_depth': 11, 'learning_rate': 0.2077938602863807, 'n_estimators': 2738, 'min_child_weight': 8, 'subsample': 0.9363345443323481}. Best is trial 11 with value: 1234.427410629668.\u001b[0m\n",
            "\u001b[32m[I 2022-11-15 14:24:27,755]\u001b[0m Trial 34 finished with value: 1314.537070627013 and parameters: {'num_leaves': 697, 'colsample_bytree': 0.969939242633334, 'reg_alpha': 0.5753792734962062, 'reg_lambda': 2.8246730627700685, 'max_depth': 13, 'learning_rate': 0.008266382778418783, 'n_estimators': 1907, 'min_child_weight': 9, 'subsample': 0.6683833007533017}. Best is trial 11 with value: 1234.427410629668.\u001b[0m\n",
            "\u001b[32m[I 2022-11-15 14:24:28,339]\u001b[0m Trial 35 finished with value: 1383.768995766559 and parameters: {'num_leaves': 246, 'colsample_bytree': 0.9051763270393751, 'reg_alpha': 0.4925117736893103, 'reg_lambda': 7.026493883425513, 'max_depth': 8, 'learning_rate': 0.0683917733527828, 'n_estimators': 2285, 'min_child_weight': 11, 'subsample': 0.7096577832232572}. Best is trial 11 with value: 1234.427410629668.\u001b[0m\n",
            "\u001b[32m[I 2022-11-15 14:24:29,618]\u001b[0m Trial 36 finished with value: 1287.1439809565443 and parameters: {'num_leaves': 381, 'colsample_bytree': 0.937096417898763, 'reg_alpha': 0.6628163589621945, 'reg_lambda': 1.8954230317874488, 'max_depth': 9, 'learning_rate': 0.0406518168721528, 'n_estimators': 2454, 'min_child_weight': 6, 'subsample': 0.8227255617905614}. Best is trial 11 with value: 1234.427410629668.\u001b[0m\n",
            "\u001b[32m[I 2022-11-15 14:24:35,225]\u001b[0m Trial 37 finished with value: 12957.727592893487 and parameters: {'num_leaves': 5, 'colsample_bytree': 0.9832385673093276, 'reg_alpha': 0.8279991566305088, 'reg_lambda': 1.2331324133471315, 'max_depth': 12, 'learning_rate': 0.000137174673605729, 'n_estimators': 1678, 'min_child_weight': 8, 'subsample': 0.880265821958458}. Best is trial 11 with value: 1234.427410629668.\u001b[0m\n",
            "\u001b[32m[I 2022-11-15 14:24:35,490]\u001b[0m Trial 38 finished with value: 1627.771364298918 and parameters: {'num_leaves': 155, 'colsample_bytree': 0.9571114595272863, 'reg_alpha': 0.4027722566657463, 'reg_lambda': 0.4127984120682199, 'max_depth': 14, 'learning_rate': 0.32001770425806364, 'n_estimators': 1321, 'min_child_weight': 2, 'subsample': 0.6322257108318078}. Best is trial 11 with value: 1234.427410629668.\u001b[0m\n",
            "\u001b[32m[I 2022-11-15 14:24:36,981]\u001b[0m Trial 39 finished with value: 1396.7597092351018 and parameters: {'num_leaves': 31, 'colsample_bytree': 0.9035744581327195, 'reg_alpha': 0.20485314391527548, 'reg_lambda': 3.325273057875929, 'max_depth': 10, 'learning_rate': 0.017205031396201817, 'n_estimators': 2857, 'min_child_weight': 15, 'subsample': 0.5684433502846897}. Best is trial 11 with value: 1234.427410629668.\u001b[0m\n",
            "\u001b[32m[I 2022-11-15 14:24:45,772]\u001b[0m Trial 40 finished with value: 3792.0257886404042 and parameters: {'num_leaves': 767, 'colsample_bytree': 0.9227098122120949, 'reg_alpha': 0.11020504678804871, 'reg_lambda': 1.4333616731610248, 'max_depth': 13, 'learning_rate': 0.0004470980581158144, 'n_estimators': 2614, 'min_child_weight': 12, 'subsample': 0.7404325125722503}. Best is trial 11 with value: 1234.427410629668.\u001b[0m\n",
            "\u001b[32m[I 2022-11-15 14:24:59,730]\u001b[0m Trial 41 finished with value: 1273.838548318679 and parameters: {'num_leaves': 976, 'colsample_bytree': 0.9640750837088716, 'reg_alpha': 0.3434866030123548, 'reg_lambda': 2.487520206324784, 'max_depth': 14, 'learning_rate': 0.005991975585295064, 'n_estimators': 2511, 'min_child_weight': 3, 'subsample': 0.8445338266113335}. Best is trial 11 with value: 1234.427410629668.\u001b[0m\n",
            "\u001b[32m[I 2022-11-15 14:25:10,760]\u001b[0m Trial 42 finished with value: 1312.6490831058468 and parameters: {'num_leaves': 504, 'colsample_bytree': 0.9837515282278151, 'reg_alpha': 0.3944023242666335, 'reg_lambda': 2.6309766770714984, 'max_depth': 15, 'learning_rate': 0.0024734122196683373, 'n_estimators': 2181, 'min_child_weight': 4, 'subsample': 0.7944652950585146}. Best is trial 11 with value: 1234.427410629668.\u001b[0m\n",
            "\u001b[32m[I 2022-11-15 14:25:14,081]\u001b[0m Trial 43 finished with value: 1281.0740504790215 and parameters: {'num_leaves': 719, 'colsample_bytree': 0.9447365637484068, 'reg_alpha': 0.525327287432299, 'reg_lambda': 0.7686160380235012, 'max_depth': 14, 'learning_rate': 0.008201038355718615, 'n_estimators': 2679, 'min_child_weight': 7, 'subsample': 0.6899049629812187}. Best is trial 11 with value: 1234.427410629668.\u001b[0m\n",
            "\u001b[32m[I 2022-11-15 14:25:21,048]\u001b[0m Trial 44 finished with value: 1251.8345126961121 and parameters: {'num_leaves': 424, 'colsample_bytree': 0.8848906353854069, 'reg_alpha': 0.3311418021521102, 'reg_lambda': 3.0151593537131864, 'max_depth': 12, 'learning_rate': 0.03286762955432751, 'n_estimators': 2510, 'min_child_weight': 3, 'subsample': 0.950337857496499}. Best is trial 11 with value: 1234.427410629668.\u001b[0m\n",
            "\u001b[32m[I 2022-11-15 14:25:25,713]\u001b[0m Trial 45 finished with value: 1354.9857703421806 and parameters: {'num_leaves': 204, 'colsample_bytree': 0.8846696882655725, 'reg_alpha': 0.2511838075831356, 'reg_lambda': 1.6093857075750424, 'max_depth': 12, 'learning_rate': 0.034151450690127844, 'n_estimators': 989, 'min_child_weight': 3, 'subsample': 0.9318664548992129}. Best is trial 11 with value: 1234.427410629668.\u001b[0m\n",
            "\u001b[32m[I 2022-11-15 14:25:25,985]\u001b[0m Trial 46 finished with value: 1572.585162800833 and parameters: {'num_leaves': 282, 'colsample_bytree': 0.929648450558168, 'reg_alpha': 0.3158865092441113, 'reg_lambda': 2.1550891227783318, 'max_depth': 3, 'learning_rate': 0.12455055226431051, 'n_estimators': 1942, 'min_child_weight': 5, 'subsample': 0.4873365308833721}. Best is trial 11 with value: 1234.427410629668.\u001b[0m\n",
            "\u001b[32m[I 2022-11-15 14:25:27,483]\u001b[0m Trial 47 finished with value: 1327.053046883659 and parameters: {'num_leaves': 2, 'colsample_bytree': 0.866669399063725, 'reg_alpha': 0.4575986862951427, 'reg_lambda': 2.991117250362556, 'max_depth': 11, 'learning_rate': 0.07071345546669015, 'n_estimators': 2536, 'min_child_weight': 9, 'subsample': 0.971118346199325}. Best is trial 11 with value: 1234.427410629668.\u001b[0m\n",
            "\u001b[32m[I 2022-11-15 14:25:32,598]\u001b[0m Trial 48 finished with value: 1272.6535057305825 and parameters: {'num_leaves': 466, 'colsample_bytree': 0.8223073583620877, 'reg_alpha': 0.5781679850728594, 'reg_lambda': 4.403781971381488, 'max_depth': 13, 'learning_rate': 0.01767868647857344, 'n_estimators': 2994, 'min_child_weight': 6, 'subsample': 0.9518463360799275}. Best is trial 11 with value: 1234.427410629668.\u001b[0m\n",
            "\u001b[32m[I 2022-11-15 14:25:33,422]\u001b[0m Trial 49 finished with value: 1245.0744186315792 and parameters: {'num_leaves': 33, 'colsample_bytree': 0.9826180179217526, 'reg_alpha': 0.35622126747618466, 'reg_lambda': 9.616777590969583, 'max_depth': 10, 'learning_rate': 0.17464310367609337, 'n_estimators': 609, 'min_child_weight': 7, 'subsample': 0.8928743224465888}. Best is trial 11 with value: 1234.427410629668.\u001b[0m\n",
            "\u001b[32m[I 2022-11-15 14:25:34,296]\u001b[0m Trial 50 finished with value: 1314.636875476222 and parameters: {'num_leaves': 18, 'colsample_bytree': 0.9881082390512921, 'reg_alpha': 0.2417395880735268, 'reg_lambda': 9.647617304747527, 'max_depth': 8, 'learning_rate': 0.18812290271014342, 'n_estimators': 730, 'min_child_weight': 5, 'subsample': 0.8736266634510768}. Best is trial 11 with value: 1234.427410629668.\u001b[0m\n",
            "\u001b[32m[I 2022-11-15 14:25:35,413]\u001b[0m Trial 51 finished with value: 1638.4333316790057 and parameters: {'num_leaves': 37, 'colsample_bytree': 0.948889191793458, 'reg_alpha': 0.32694657950692796, 'reg_lambda': 8.235917203714552, 'max_depth': 11, 'learning_rate': 0.5515578477203207, 'n_estimators': 535, 'min_child_weight': 7, 'subsample': 0.8906171273599289}. Best is trial 11 with value: 1234.427410629668.\u001b[0m\n",
            "\u001b[32m[I 2022-11-15 14:25:37,543]\u001b[0m Trial 52 finished with value: 1326.5260843844253 and parameters: {'num_leaves': 55, 'colsample_bytree': 0.9754680902122076, 'reg_alpha': 0.4385032173184141, 'reg_lambda': 9.026489249448677, 'max_depth': 12, 'learning_rate': 0.020809157382185983, 'n_estimators': 495, 'min_child_weight': 7, 'subsample': 0.8090158125053067}. Best is trial 11 with value: 1234.427410629668.\u001b[0m\n",
            "\u001b[32m[I 2022-11-15 14:25:38,549]\u001b[0m Trial 53 finished with value: 1329.300946797532 and parameters: {'num_leaves': 25, 'colsample_bytree': 0.8962432467983665, 'reg_alpha': 0.3632526047464923, 'reg_lambda': 4.9842412840681405, 'max_depth': 10, 'learning_rate': 0.052818255436300254, 'n_estimators': 263, 'min_child_weight': 8, 'subsample': 0.7637392358111424}. Best is trial 11 with value: 1234.427410629668.\u001b[0m\n",
            "\u001b[32m[I 2022-11-15 14:25:40,342]\u001b[0m Trial 54 finished with value: 1386.5247800211794 and parameters: {'num_leaves': 92, 'colsample_bytree': 0.9971316658353643, 'reg_alpha': 0.49707949509685434, 'reg_lambda': 3.501082411232548, 'max_depth': 4, 'learning_rate': 0.013147830677822249, 'n_estimators': 1141, 'min_child_weight': 6, 'subsample': 0.848985223099995}. Best is trial 11 with value: 1234.427410629668.\u001b[0m\n",
            "\u001b[32m[I 2022-11-15 14:25:40,912]\u001b[0m Trial 55 finished with value: 1369.113792227547 and parameters: {'num_leaves': 11, 'colsample_bytree': 0.957438071618875, 'reg_alpha': 0.35904744524209126, 'reg_lambda': 7.101678714614768, 'max_depth': 9, 'learning_rate': 0.10090880804871319, 'n_estimators': 2886, 'min_child_weight': 10, 'subsample': 0.9979594909803587}. Best is trial 11 with value: 1234.427410629668.\u001b[0m\n",
            "\u001b[32m[I 2022-11-15 14:25:42,869]\u001b[0m Trial 56 finished with value: 1305.6314350576972 and parameters: {'num_leaves': 410, 'colsample_bytree': 0.9777942824000868, 'reg_alpha': 0.27409076213400807, 'reg_lambda': 0.34768626692071736, 'max_depth': 11, 'learning_rate': 0.02449717405860728, 'n_estimators': 2683, 'min_child_weight': 9, 'subsample': 0.9134266898062148}. Best is trial 11 with value: 1234.427410629668.\u001b[0m\n",
            "\u001b[32m[I 2022-11-15 14:25:44,515]\u001b[0m Trial 57 finished with value: 1284.9075397006557 and parameters: {'num_leaves': 658, 'colsample_bytree': 0.8356971993844317, 'reg_alpha': 0.4353139583954556, 'reg_lambda': 2.273627216479472, 'max_depth': 13, 'learning_rate': 0.03614282439178322, 'n_estimators': 904, 'min_child_weight': 8, 'subsample': 0.8247458097336348}. Best is trial 11 with value: 1234.427410629668.\u001b[0m\n",
            "\u001b[32m[I 2022-11-15 14:25:45,629]\u001b[0m Trial 58 finished with value: 1363.5823072837786 and parameters: {'num_leaves': 55, 'colsample_bytree': 0.9294894100098934, 'reg_alpha': 0.4039006151367095, 'reg_lambda': 5.496607421533578, 'max_depth': 10, 'learning_rate': 0.24740981617649754, 'n_estimators': 2260, 'min_child_weight': 5, 'subsample': 0.9571078180249124}. Best is trial 11 with value: 1234.427410629668.\u001b[0m\n",
            "\u001b[32m[I 2022-11-15 14:25:46,143]\u001b[0m Trial 59 finished with value: 1182.7082315198766 and parameters: {'num_leaves': 345, 'colsample_bytree': 0.9410630820263377, 'reg_alpha': 0.28949348487299575, 'reg_lambda': 1.0399290016055098, 'max_depth': 7, 'learning_rate': 0.0714277552012526, 'n_estimators': 2361, 'min_child_weight': 3, 'subsample': 0.7776560703608185}. Best is trial 59 with value: 1182.7082315198766.\u001b[0m\n",
            "\u001b[32m[I 2022-11-15 14:25:46,493]\u001b[0m Trial 60 finished with value: 1306.3181737124478 and parameters: {'num_leaves': 313, 'colsample_bytree': 0.9104651896356518, 'reg_alpha': 0.11629727473379065, 'reg_lambda': 0.9796355338587642, 'max_depth': 6, 'learning_rate': 0.08626096540231887, 'n_estimators': 2158, 'min_child_weight': 3, 'subsample': 0.8906814961710892}. Best is trial 59 with value: 1182.7082315198766.\u001b[0m\n",
            "\u001b[32m[I 2022-11-15 14:25:46,752]\u001b[0m Trial 61 finished with value: 1315.6519183337764 and parameters: {'num_leaves': 192, 'colsample_bytree': 0.9420395307191972, 'reg_alpha': 0.2875439765643993, 'reg_lambda': 1.5633373011762566, 'max_depth': 7, 'learning_rate': 0.13787128378966756, 'n_estimators': 2383, 'min_child_weight': 2, 'subsample': 0.7741676831790416}. Best is trial 59 with value: 1182.7082315198766.\u001b[0m\n",
            "\u001b[32m[I 2022-11-15 14:25:47,422]\u001b[0m Trial 62 finished with value: 1284.2715731926596 and parameters: {'num_leaves': 16, 'colsample_bytree': 0.9622008315940618, 'reg_alpha': 0.3441366376114372, 'reg_lambda': 1.2773809767525997, 'max_depth': 12, 'learning_rate': 0.056971408901027976, 'n_estimators': 1451, 'min_child_weight': 4, 'subsample': 0.7399099896769944}. Best is trial 59 with value: 1182.7082315198766.\u001b[0m\n",
            "\u001b[32m[I 2022-11-15 14:25:48,964]\u001b[0m Trial 63 finished with value: 1323.9069829443015 and parameters: {'num_leaves': 890, 'colsample_bytree': 0.9878154856725916, 'reg_alpha': 0.47827895783185453, 'reg_lambda': 1.672026565604618, 'max_depth': 6, 'learning_rate': 0.028555517620343217, 'n_estimators': 1802, 'min_child_weight': 3, 'subsample': 0.8157724828529981}. Best is trial 59 with value: 1182.7082315198766.\u001b[0m\n",
            "\u001b[32m[I 2022-11-15 14:25:49,680]\u001b[0m Trial 64 finished with value: 1310.707376793756 and parameters: {'num_leaves': 129, 'colsample_bytree': 0.9378931574451846, 'reg_alpha': 0.42899624806707026, 'reg_lambda': 3.887964165956303, 'max_depth': 7, 'learning_rate': 0.04116749500361401, 'n_estimators': 2549, 'min_child_weight': 7, 'subsample': 0.7906175881463354}. Best is trial 59 with value: 1182.7082315198766.\u001b[0m\n",
            "\u001b[32m[I 2022-11-15 14:25:52,861]\u001b[0m Trial 65 finished with value: 1329.8692778478492 and parameters: {'num_leaves': 613, 'colsample_bytree': 0.9499445400808713, 'reg_alpha': 0.3115907378300245, 'reg_lambda': 0.26704036234064454, 'max_depth': 12, 'learning_rate': 0.01366112737651127, 'n_estimators': 2422, 'min_child_weight': 6, 'subsample': 0.8591738297967775}. Best is trial 59 with value: 1182.7082315198766.\u001b[0m\n",
            "\u001b[32m[I 2022-11-15 14:25:54,197]\u001b[0m Trial 66 finished with value: 1329.6506150610612 and parameters: {'num_leaves': 400, 'colsample_bytree': 0.9741419120093595, 'reg_alpha': 0.23726439825232665, 'reg_lambda': 0.8545507663544374, 'max_depth': 11, 'learning_rate': 0.14881346810459403, 'n_estimators': 2746, 'min_child_weight': 4, 'subsample': 0.90954026634727}. Best is trial 59 with value: 1182.7082315198766.\u001b[0m\n",
            "\u001b[32m[I 2022-11-15 14:25:55,213]\u001b[0m Trial 67 finished with value: 1289.985292790166 and parameters: {'num_leaves': 823, 'colsample_bytree': 0.9571447762175621, 'reg_alpha': 0.3745995378802749, 'reg_lambda': 2.8781324420316157, 'max_depth': 13, 'learning_rate': 0.07657565903470784, 'n_estimators': 2350, 'min_child_weight': 2, 'subsample': 0.6815736608798642}. Best is trial 59 with value: 1182.7082315198766.\u001b[0m\n",
            "\u001b[32m[I 2022-11-15 14:25:58,569]\u001b[0m Trial 68 finished with value: 1289.401056464719 and parameters: {'num_leaves': 328, 'colsample_bytree': 0.9221469863812028, 'reg_alpha': 0.516978508743744, 'reg_lambda': 2.1593412475681157, 'max_depth': 12, 'learning_rate': 0.009628461947810106, 'n_estimators': 2881, 'min_child_weight': 7, 'subsample': 0.7117220134461243}. Best is trial 59 with value: 1182.7082315198766.\u001b[0m\n",
            "\u001b[32m[I 2022-11-15 14:25:59,780]\u001b[0m Trial 69 finished with value: 1340.4063783678587 and parameters: {'num_leaves': 226, 'colsample_bytree': 0.8622581854507634, 'reg_alpha': 0.2113115829791647, 'reg_lambda': 3.1481947931836958, 'max_depth': 9, 'learning_rate': 0.02168393878392689, 'n_estimators': 1976, 'min_child_weight': 11, 'subsample': 0.7287365922068638}. Best is trial 59 with value: 1182.7082315198766.\u001b[0m\n",
            "\u001b[32m[I 2022-11-15 14:26:00,525]\u001b[0m Trial 70 finished with value: 1333.1292399819363 and parameters: {'num_leaves': 8, 'colsample_bytree': 0.9930312262226003, 'reg_alpha': 0.16593457338750325, 'reg_lambda': 0.6150843611887012, 'max_depth': 10, 'learning_rate': 0.04985126128226071, 'n_estimators': 1205, 'min_child_weight': 13, 'subsample': 0.7541025120813141}. Best is trial 59 with value: 1182.7082315198766.\u001b[0m\n",
            "\u001b[32m[I 2022-11-15 14:26:10,874]\u001b[0m Trial 71 finished with value: 1259.5565904218274 and parameters: {'num_leaves': 550, 'colsample_bytree': 0.9666072410791288, 'reg_alpha': 0.3819860254332033, 'reg_lambda': 2.6256617398867204, 'max_depth': 14, 'learning_rate': 0.007071574330886637, 'n_estimators': 2473, 'min_child_weight': 3, 'subsample': 0.8393853458464402}. Best is trial 59 with value: 1182.7082315198766.\u001b[0m\n",
            "\u001b[32m[I 2022-11-15 14:26:25,659]\u001b[0m Trial 72 finished with value: 1281.9596953120597 and parameters: {'num_leaves': 649, 'colsample_bytree': 0.9679150977485842, 'reg_alpha': 0.4111654388181201, 'reg_lambda': 1.9862625654889374, 'max_depth': 15, 'learning_rate': 0.0036593284892101705, 'n_estimators': 2619, 'min_child_weight': 3, 'subsample': 0.8338156945889367}. Best is trial 59 with value: 1182.7082315198766.\u001b[0m\n",
            "\u001b[32m[I 2022-11-15 14:26:32,109]\u001b[0m Trial 73 finished with value: 1317.8252959113179 and parameters: {'num_leaves': 561, 'colsample_bytree': 0.9321284036572893, 'reg_alpha': 0.4703502293836929, 'reg_lambda': 1.1345297429882004, 'max_depth': 14, 'learning_rate': 0.015256105180882471, 'n_estimators': 2477, 'min_child_weight': 2, 'subsample': 0.862378806411011}. Best is trial 59 with value: 1182.7082315198766.\u001b[0m\n",
            "\u001b[32m[I 2022-11-15 14:26:33,682]\u001b[0m Trial 74 finished with value: 1266.906708638525 and parameters: {'num_leaves': 474, 'colsample_bytree': 0.9783586198297461, 'reg_alpha': 0.563929650816359, 'reg_lambda': 1.7862273138827134, 'max_depth': 13, 'learning_rate': 0.030043786815808608, 'n_estimators': 2726, 'min_child_weight': 8, 'subsample': 0.7954568694047097}. Best is trial 59 with value: 1182.7082315198766.\u001b[0m\n",
            "\u001b[32m[I 2022-11-15 14:26:44,339]\u001b[0m Trial 75 finished with value: 1295.1751607662566 and parameters: {'num_leaves': 826, 'colsample_bytree': 0.9443682913281201, 'reg_alpha': 0.3359359786388848, 'reg_lambda': 2.700968013102232, 'max_depth': 14, 'learning_rate': 0.004350746479411453, 'n_estimators': 2266, 'min_child_weight': 5, 'subsample': 0.938317430644995}. Best is trial 59 with value: 1182.7082315198766.\u001b[0m\n",
            "\u001b[32m[I 2022-11-15 14:26:59,431]\u001b[0m Trial 76 finished with value: 1293.0744522893415 and parameters: {'num_leaves': 23, 'colsample_bytree': 0.9605752897079654, 'reg_alpha': 0.3766517359272692, 'reg_lambda': 1.4031529945986407, 'max_depth': 13, 'learning_rate': 0.007752874522878687, 'n_estimators': 2806, 'min_child_weight': 3, 'subsample': 0.8877296188683974}. Best is trial 59 with value: 1182.7082315198766.\u001b[0m\n",
            "\u001b[32m[I 2022-11-15 14:27:03,920]\u001b[0m Trial 77 finished with value: 1275.8626704923004 and parameters: {'num_leaves': 354, 'colsample_bytree': 0.8908434129880243, 'reg_alpha': 0.28802489912368096, 'reg_lambda': 2.342067259241131, 'max_depth': 12, 'learning_rate': 0.010213281109263114, 'n_estimators': 2097, 'min_child_weight': 4, 'subsample': 0.7757416055141365}. Best is trial 59 with value: 1182.7082315198766.\u001b[0m\n",
            "\u001b[32m[I 2022-11-15 14:27:04,255]\u001b[0m Trial 78 finished with value: 1429.2847806170932 and parameters: {'num_leaves': 997, 'colsample_bytree': 0.9539535385956038, 'reg_alpha': 0.425564819652287, 'reg_lambda': 6.411268084123887, 'max_depth': 5, 'learning_rate': 0.09754283862388632, 'n_estimators': 2609, 'min_child_weight': 9, 'subsample': 0.8274492505871753}. Best is trial 59 with value: 1182.7082315198766.\u001b[0m\n",
            "\u001b[32m[I 2022-11-15 14:27:12,388]\u001b[0m Trial 79 finished with value: 1820.22759553323 and parameters: {'num_leaves': 171, 'colsample_bytree': 0.7906024598785066, 'reg_alpha': 0.3174827796482093, 'reg_lambda': 4.075120147563866, 'max_depth': 15, 'learning_rate': 0.0010845492178534768, 'n_estimators': 2469, 'min_child_weight': 6, 'subsample': 0.6496604081258659}. Best is trial 59 with value: 1182.7082315198766.\u001b[0m\n",
            "\u001b[32m[I 2022-11-15 14:27:13,721]\u001b[0m Trial 80 finished with value: 1281.9598211059292 and parameters: {'num_leaves': 282, 'colsample_bytree': 0.9706462644227891, 'reg_alpha': 0.4564263105108267, 'reg_lambda': 3.6125245152634813, 'max_depth': 13, 'learning_rate': 0.038428529716188195, 'n_estimators': 2344, 'min_child_weight': 8, 'subsample': 0.8464112977650035}. Best is trial 59 with value: 1182.7082315198766.\u001b[0m\n",
            "\u001b[32m[I 2022-11-15 14:27:15,315]\u001b[0m Trial 81 finished with value: 1292.1985368392616 and parameters: {'num_leaves': 439, 'colsample_bytree': 0.9791399344250805, 'reg_alpha': 0.55443055143756, 'reg_lambda': 1.8568732793958949, 'max_depth': 13, 'learning_rate': 0.028407210014983662, 'n_estimators': 2735, 'min_child_weight': 8, 'subsample': 0.7967644203828951}. Best is trial 59 with value: 1182.7082315198766.\u001b[0m\n",
            "\u001b[32m[I 2022-11-15 14:27:17,056]\u001b[0m Trial 82 finished with value: 1319.4553804671193 and parameters: {'num_leaves': 535, 'colsample_bytree': 0.9928411946955906, 'reg_alpha': 0.6297310703922889, 'reg_lambda': 1.7013002507400987, 'max_depth': 14, 'learning_rate': 0.021256609918301684, 'n_estimators': 2689, 'min_child_weight': 7, 'subsample': 0.8039642144968037}. Best is trial 59 with value: 1182.7082315198766.\u001b[0m\n",
            "\u001b[32m[I 2022-11-15 14:27:18,582]\u001b[0m Trial 83 finished with value: 1254.9729779009951 and parameters: {'num_leaves': 721, 'colsample_bytree': 0.9645607490481789, 'reg_alpha': 0.5560965535911909, 'reg_lambda': 8.233187219988693, 'max_depth': 14, 'learning_rate': 0.059464036777602716, 'n_estimators': 2572, 'min_child_weight': 10, 'subsample': 0.7530724058598747}. Best is trial 59 with value: 1182.7082315198766.\u001b[0m\n",
            "\u001b[32m[I 2022-11-15 14:27:19,504]\u001b[0m Trial 84 finished with value: 1306.1070072690552 and parameters: {'num_leaves': 745, 'colsample_bytree': 0.9650045745856058, 'reg_alpha': 0.38703546235338215, 'reg_lambda': 8.340639475872369, 'max_depth': 14, 'learning_rate': 0.05787566518205205, 'n_estimators': 2545, 'min_child_weight': 10, 'subsample': 0.7587927322875668}. Best is trial 59 with value: 1182.7082315198766.\u001b[0m\n",
            "\u001b[32m[I 2022-11-15 14:27:20,231]\u001b[0m Trial 85 finished with value: 1355.23976004346 and parameters: {'num_leaves': 657, 'colsample_bytree': 0.999875332885897, 'reg_alpha': 0.5044950850300254, 'reg_lambda': 9.957820369092028, 'max_depth': 11, 'learning_rate': 0.06887307135306554, 'n_estimators': 2414, 'min_child_weight': 10, 'subsample': 0.41279363043344497}. Best is trial 59 with value: 1182.7082315198766.\u001b[0m\n",
            "\u001b[32m[I 2022-11-15 14:27:23,160]\u001b[0m Trial 86 finished with value: 1278.770773507921 and parameters: {'num_leaves': 823, 'colsample_bytree': 0.7252453168107256, 'reg_alpha': 0.5908474207806331, 'reg_lambda': 9.292722286836161, 'max_depth': 14, 'learning_rate': 0.04775606317900417, 'n_estimators': 2221, 'min_child_weight': 9, 'subsample': 0.876758153261448}. Best is trial 59 with value: 1182.7082315198766.\u001b[0m\n",
            "\u001b[32m[I 2022-11-15 14:27:23,713]\u001b[0m Trial 87 finished with value: 1316.5998907899846 and parameters: {'num_leaves': 562, 'colsample_bytree': 0.9466715401435843, 'reg_alpha': 0.3501382273763172, 'reg_lambda': 7.763539684792193, 'max_depth': 12, 'learning_rate': 0.1608323220201176, 'n_estimators': 2571, 'min_child_weight': 11, 'subsample': 0.7235317829086563}. Best is trial 59 with value: 1182.7082315198766.\u001b[0m\n",
            "\u001b[32m[I 2022-11-15 14:27:32,730]\u001b[0m Trial 88 finished with value: 5961.551539318272 and parameters: {'num_leaves': 394, 'colsample_bytree': 0.9222746213535257, 'reg_alpha': 0.47440403023521294, 'reg_lambda': 3.116595144687831, 'max_depth': 15, 'learning_rate': 0.0002752057267694888, 'n_estimators': 2918, 'min_child_weight': 6, 'subsample': 0.7026261143074722}. Best is trial 59 with value: 1182.7082315198766.\u001b[0m\n",
            "\u001b[32m[I 2022-11-15 14:27:33,083]\u001b[0m Trial 89 finished with value: 1381.4741330331155 and parameters: {'num_leaves': 225, 'colsample_bytree': 0.9849674739140789, 'reg_alpha': 0.9453050752315304, 'reg_lambda': 8.6913847436319, 'max_depth': 11, 'learning_rate': 0.25919956852772696, 'n_estimators': 855, 'min_child_weight': 9, 'subsample': 0.920645076607512}. Best is trial 59 with value: 1182.7082315198766.\u001b[0m\n",
            "\u001b[32m[I 2022-11-15 14:27:44,794]\u001b[0m Trial 90 finished with value: 1310.1432637034216 and parameters: {'num_leaves': 319, 'colsample_bytree': 0.9375391972385044, 'reg_alpha': 0.7254636490890585, 'reg_lambda': 9.558370466080547, 'max_depth': 13, 'learning_rate': 0.017654326570870345, 'n_estimators': 2130, 'min_child_weight': 2, 'subsample': 0.7488896402900928}. Best is trial 59 with value: 1182.7082315198766.\u001b[0m\n",
            "\u001b[32m[I 2022-11-15 14:27:45,993]\u001b[0m Trial 91 finished with value: 1303.0250971715277 and parameters: {'num_leaves': 459, 'colsample_bytree': 0.9779597420319897, 'reg_alpha': 0.5575410094886621, 'reg_lambda': 2.4399823276810513, 'max_depth': 13, 'learning_rate': 0.034750680605713166, 'n_estimators': 2776, 'min_child_weight': 8, 'subsample': 0.778853800261034}. Best is trial 59 with value: 1182.7082315198766.\u001b[0m\n",
            "\u001b[32m[I 2022-11-15 14:27:49,263]\u001b[0m Trial 92 finished with value: 1290.4527578784837 and parameters: {'num_leaves': 479, 'colsample_bytree': 0.9532236972370886, 'reg_alpha': 0.619241513894281, 'reg_lambda': 4.736527296125869, 'max_depth': 13, 'learning_rate': 0.024434693365496987, 'n_estimators': 2645, 'min_child_weight': 7, 'subsample': 0.8359080766611179}. Best is trial 59 with value: 1182.7082315198766.\u001b[0m\n",
            "\u001b[32m[I 2022-11-15 14:27:50,948]\u001b[0m Trial 93 finished with value: 1309.6677779948618 and parameters: {'num_leaves': 1019, 'colsample_bytree': 0.9725058939209933, 'reg_alpha': 0.5332219263918486, 'reg_lambda': 1.9866717994995864, 'max_depth': 12, 'learning_rate': 0.03158382721169739, 'n_estimators': 2490, 'min_child_weight': 8, 'subsample': 0.8128616494966007}. Best is trial 59 with value: 1182.7082315198766.\u001b[0m\n",
            "\u001b[32m[I 2022-11-15 14:27:51,544]\u001b[0m Trial 94 finished with value: 1275.118980222009 and parameters: {'num_leaves': 698, 'colsample_bytree': 0.9643134129439085, 'reg_alpha': 0.40822023265214413, 'reg_lambda': 1.3834891873559174, 'max_depth': 14, 'learning_rate': 0.08399451440719156, 'n_estimators': 582, 'min_child_weight': 7, 'subsample': 0.7905310224986797}. Best is trial 59 with value: 1182.7082315198766.\u001b[0m\n",
            "\u001b[32m[I 2022-11-15 14:27:52,388]\u001b[0m Trial 95 finished with value: 1306.2787111848775 and parameters: {'num_leaves': 34, 'colsample_bytree': 0.9804099124635823, 'reg_alpha': 0.6483851084265317, 'reg_lambda': 0.9405346111101069, 'max_depth': 13, 'learning_rate': 0.04505064723144241, 'n_estimators': 367, 'min_child_weight': 10, 'subsample': 0.9724461740434104}. Best is trial 59 with value: 1182.7082315198766.\u001b[0m\n",
            "\u001b[32m[I 2022-11-15 14:27:53,258]\u001b[0m Trial 96 finished with value: 1316.0324001394831 and parameters: {'num_leaves': 43, 'colsample_bytree': 0.9882787075095405, 'reg_alpha': 0.44288280378512324, 'reg_lambda': 1.7291864788625153, 'max_depth': 15, 'learning_rate': 0.0621469611028033, 'n_estimators': 2822, 'min_child_weight': 3, 'subsample': 0.898889733101927}. Best is trial 59 with value: 1182.7082315198766.\u001b[0m\n",
            "\u001b[32m[I 2022-11-15 14:27:53,540]\u001b[0m Trial 97 finished with value: 1913.6024774966947 and parameters: {'num_leaves': 516, 'colsample_bytree': 0.9555342420308841, 'reg_alpha': 0.48747857273667106, 'reg_lambda': 0.6854306781722797, 'max_depth': 10, 'learning_rate': 0.5377678361528688, 'n_estimators': 130, 'min_child_weight': 9, 'subsample': 0.5200864375812143}. Best is trial 59 with value: 1182.7082315198766.\u001b[0m\n",
            "\u001b[32m[I 2022-11-15 14:27:55,241]\u001b[0m Trial 98 finished with value: 1270.3316048504569 and parameters: {'num_leaves': 291, 'colsample_bytree': 0.9680450774400053, 'reg_alpha': 0.365211924900168, 'reg_lambda': 2.6397261505874936, 'max_depth': 12, 'learning_rate': 0.019799187283734258, 'n_estimators': 2685, 'min_child_weight': 8, 'subsample': 0.770482907399282}. Best is trial 59 with value: 1182.7082315198766.\u001b[0m\n",
            "\u001b[32m[I 2022-11-15 14:27:57,351]\u001b[0m Trial 99 finished with value: 1453.0966087005988 and parameters: {'num_leaves': 616, 'colsample_bytree': 0.9134333821161241, 'reg_alpha': 0.25782420883400453, 'reg_lambda': 0.16111849874397655, 'max_depth': 14, 'learning_rate': 0.11221229152820857, 'n_estimators': 2313, 'min_child_weight': 4, 'subsample': 0.8548834476277211}. Best is trial 59 with value: 1182.7082315198766.\u001b[0m\n"
          ]
        }
      ]
    },
    {
      "cell_type": "code",
      "source": [
        "xgb_trial = optuna_xgb.best_trial\n",
        "xgb_trial_params = xgb_trial.params\n",
        "print('Best Trial: score {},\\nparams {}'.format(xgb_trial.value, xgb_trial_params))"
      ],
      "metadata": {
        "colab": {
          "base_uri": "https://localhost:8080/"
        },
        "outputId": "d7043950-2a40-49ca-d811-f5556ae0fa6d",
        "id": "iaXYmii5uZBn"
      },
      "execution_count": null,
      "outputs": [
        {
          "output_type": "stream",
          "name": "stdout",
          "text": [
            "Best Trial: score 1182.7082315198766,\n",
            "params {'num_leaves': 345, 'colsample_bytree': 0.9410630820263377, 'reg_alpha': 0.28949348487299575, 'reg_lambda': 1.0399290016055098, 'max_depth': 7, 'learning_rate': 0.0714277552012526, 'n_estimators': 2361, 'min_child_weight': 3, 'subsample': 0.7776560703608185}\n"
          ]
        }
      ]
    },
    {
      "cell_type": "code",
      "source": [
        "# Modeling fit\n",
        "xgb_regop = XGBRegressor(**xgb_trial_params)\n",
        "xgb_study = xgb_regop.fit(train_x, train_y)\n",
        "\n",
        "pred_op = xgb_regop.predict(val_x)\n",
        "mse= mean_squared_error(val_y,pred_op)\n",
        "rmse= mse**(1/2)\n",
        "\n",
        "print(\"RMSE : \", rmse)"
      ],
      "metadata": {
        "colab": {
          "base_uri": "https://localhost:8080/"
        },
        "outputId": "a7659f97-9adf-4c62-d046-b4ef8294cfc0",
        "id": "C2ukt6hhuZBn"
      },
      "execution_count": null,
      "outputs": [
        {
          "output_type": "stream",
          "name": "stdout",
          "text": [
            "[14:29:22] WARNING: /workspace/src/objective/regression_obj.cu:152: reg:linear is now deprecated in favor of reg:squarederror.\n",
            "RMSE :  34.17925811086069\n"
          ]
        }
      ]
    },
    {
      "cell_type": "code",
      "source": [
        "Model(xgb_regop)"
      ],
      "metadata": {
        "colab": {
          "base_uri": "https://localhost:8080/"
        },
        "outputId": "37e33e6b-a242-4289-d3e3-725d2beafc84",
        "id": "SkYnpFRYuZBn"
      },
      "execution_count": null,
      "outputs": [
        {
          "output_type": "stream",
          "name": "stdout",
          "text": [
            "[14:29:33] WARNING: /workspace/src/objective/regression_obj.cu:152: reg:linear is now deprecated in favor of reg:squarederror.\n",
            "Testing Score\n",
            " 0.8405046631309434\n"
          ]
        }
      ]
    },
    {
      "cell_type": "code",
      "source": [
        "# 하이퍼파라미터별 중요도 확인 그래프\n",
        "optuna.visualization.plot_param_importances(optuna_xgb)"
      ],
      "metadata": {
        "colab": {
          "base_uri": "https://localhost:8080/",
          "height": 542
        },
        "outputId": "f7b44eca-27f3-4754-8cbc-b78f7f9afdc9",
        "id": "YQ_mF9OmuZBn"
      },
      "execution_count": null,
      "outputs": [
        {
          "output_type": "display_data",
          "data": {
            "text/html": [
              "<html>\n",
              "<head><meta charset=\"utf-8\" /></head>\n",
              "<body>\n",
              "    <div>            <script src=\"https://cdnjs.cloudflare.com/ajax/libs/mathjax/2.7.5/MathJax.js?config=TeX-AMS-MML_SVG\"></script><script type=\"text/javascript\">if (window.MathJax) {MathJax.Hub.Config({SVG: {font: \"STIX-Web\"}});}</script>                <script type=\"text/javascript\">window.PlotlyConfig = {MathJaxConfig: 'local'};</script>\n",
              "        <script src=\"https://cdn.plot.ly/plotly-2.8.3.min.js\"></script>                <div id=\"ce443182-3366-484d-aae6-79d49359d141\" class=\"plotly-graph-div\" style=\"height:525px; width:100%;\"></div>            <script type=\"text/javascript\">                                    window.PLOTLYENV=window.PLOTLYENV || {};                                    if (document.getElementById(\"ce443182-3366-484d-aae6-79d49359d141\")) {                    Plotly.newPlot(                        \"ce443182-3366-484d-aae6-79d49359d141\",                        [{\"cliponaxis\":false,\"hovertemplate\":[\"reg_alpha (FloatDistribution): 0.009497814700925275<extra></extra>\",\"reg_lambda (FloatDistribution): 0.01010493199154878<extra></extra>\",\"num_leaves (IntDistribution): 0.012440336303364935<extra></extra>\",\"colsample_bytree (FloatDistribution): 0.022472660749878637<extra></extra>\",\"min_child_weight (IntDistribution): 0.04352485049762316<extra></extra>\",\"subsample (FloatDistribution): 0.05355925377922632<extra></extra>\",\"max_depth (IntDistribution): 0.18507300674740684<extra></extra>\",\"n_estimators (IntDistribution): 0.22154640710228013<extra></extra>\",\"learning_rate (FloatDistribution): 0.44178073812774565<extra></extra>\"],\"marker\":{\"color\":\"rgb(66,146,198)\"},\"orientation\":\"h\",\"text\":[\"<0.01\",\"0.01\",\"0.01\",\"0.02\",\"0.04\",\"0.05\",\"0.19\",\"0.22\",\"0.44\"],\"textposition\":\"outside\",\"x\":[0.009497814700925275,0.01010493199154878,0.012440336303364935,0.022472660749878637,0.04352485049762316,0.05355925377922632,0.18507300674740684,0.22154640710228013,0.44178073812774565],\"y\":[\"reg_alpha\",\"reg_lambda\",\"num_leaves\",\"colsample_bytree\",\"min_child_weight\",\"subsample\",\"max_depth\",\"n_estimators\",\"learning_rate\"],\"type\":\"bar\"}],                        {\"showlegend\":false,\"title\":{\"text\":\"Hyperparameter Importances\"},\"xaxis\":{\"title\":{\"text\":\"Importance for Objective Value\"}},\"yaxis\":{\"title\":{\"text\":\"Hyperparameter\"}},\"template\":{\"data\":{\"bar\":[{\"error_x\":{\"color\":\"#2a3f5f\"},\"error_y\":{\"color\":\"#2a3f5f\"},\"marker\":{\"line\":{\"color\":\"#E5ECF6\",\"width\":0.5},\"pattern\":{\"fillmode\":\"overlay\",\"size\":10,\"solidity\":0.2}},\"type\":\"bar\"}],\"barpolar\":[{\"marker\":{\"line\":{\"color\":\"#E5ECF6\",\"width\":0.5},\"pattern\":{\"fillmode\":\"overlay\",\"size\":10,\"solidity\":0.2}},\"type\":\"barpolar\"}],\"carpet\":[{\"aaxis\":{\"endlinecolor\":\"#2a3f5f\",\"gridcolor\":\"white\",\"linecolor\":\"white\",\"minorgridcolor\":\"white\",\"startlinecolor\":\"#2a3f5f\"},\"baxis\":{\"endlinecolor\":\"#2a3f5f\",\"gridcolor\":\"white\",\"linecolor\":\"white\",\"minorgridcolor\":\"white\",\"startlinecolor\":\"#2a3f5f\"},\"type\":\"carpet\"}],\"choropleth\":[{\"colorbar\":{\"outlinewidth\":0,\"ticks\":\"\"},\"type\":\"choropleth\"}],\"contour\":[{\"colorbar\":{\"outlinewidth\":0,\"ticks\":\"\"},\"colorscale\":[[0.0,\"#0d0887\"],[0.1111111111111111,\"#46039f\"],[0.2222222222222222,\"#7201a8\"],[0.3333333333333333,\"#9c179e\"],[0.4444444444444444,\"#bd3786\"],[0.5555555555555556,\"#d8576b\"],[0.6666666666666666,\"#ed7953\"],[0.7777777777777778,\"#fb9f3a\"],[0.8888888888888888,\"#fdca26\"],[1.0,\"#f0f921\"]],\"type\":\"contour\"}],\"contourcarpet\":[{\"colorbar\":{\"outlinewidth\":0,\"ticks\":\"\"},\"type\":\"contourcarpet\"}],\"heatmap\":[{\"colorbar\":{\"outlinewidth\":0,\"ticks\":\"\"},\"colorscale\":[[0.0,\"#0d0887\"],[0.1111111111111111,\"#46039f\"],[0.2222222222222222,\"#7201a8\"],[0.3333333333333333,\"#9c179e\"],[0.4444444444444444,\"#bd3786\"],[0.5555555555555556,\"#d8576b\"],[0.6666666666666666,\"#ed7953\"],[0.7777777777777778,\"#fb9f3a\"],[0.8888888888888888,\"#fdca26\"],[1.0,\"#f0f921\"]],\"type\":\"heatmap\"}],\"heatmapgl\":[{\"colorbar\":{\"outlinewidth\":0,\"ticks\":\"\"},\"colorscale\":[[0.0,\"#0d0887\"],[0.1111111111111111,\"#46039f\"],[0.2222222222222222,\"#7201a8\"],[0.3333333333333333,\"#9c179e\"],[0.4444444444444444,\"#bd3786\"],[0.5555555555555556,\"#d8576b\"],[0.6666666666666666,\"#ed7953\"],[0.7777777777777778,\"#fb9f3a\"],[0.8888888888888888,\"#fdca26\"],[1.0,\"#f0f921\"]],\"type\":\"heatmapgl\"}],\"histogram\":[{\"marker\":{\"pattern\":{\"fillmode\":\"overlay\",\"size\":10,\"solidity\":0.2}},\"type\":\"histogram\"}],\"histogram2d\":[{\"colorbar\":{\"outlinewidth\":0,\"ticks\":\"\"},\"colorscale\":[[0.0,\"#0d0887\"],[0.1111111111111111,\"#46039f\"],[0.2222222222222222,\"#7201a8\"],[0.3333333333333333,\"#9c179e\"],[0.4444444444444444,\"#bd3786\"],[0.5555555555555556,\"#d8576b\"],[0.6666666666666666,\"#ed7953\"],[0.7777777777777778,\"#fb9f3a\"],[0.8888888888888888,\"#fdca26\"],[1.0,\"#f0f921\"]],\"type\":\"histogram2d\"}],\"histogram2dcontour\":[{\"colorbar\":{\"outlinewidth\":0,\"ticks\":\"\"},\"colorscale\":[[0.0,\"#0d0887\"],[0.1111111111111111,\"#46039f\"],[0.2222222222222222,\"#7201a8\"],[0.3333333333333333,\"#9c179e\"],[0.4444444444444444,\"#bd3786\"],[0.5555555555555556,\"#d8576b\"],[0.6666666666666666,\"#ed7953\"],[0.7777777777777778,\"#fb9f3a\"],[0.8888888888888888,\"#fdca26\"],[1.0,\"#f0f921\"]],\"type\":\"histogram2dcontour\"}],\"mesh3d\":[{\"colorbar\":{\"outlinewidth\":0,\"ticks\":\"\"},\"type\":\"mesh3d\"}],\"parcoords\":[{\"line\":{\"colorbar\":{\"outlinewidth\":0,\"ticks\":\"\"}},\"type\":\"parcoords\"}],\"pie\":[{\"automargin\":true,\"type\":\"pie\"}],\"scatter\":[{\"marker\":{\"colorbar\":{\"outlinewidth\":0,\"ticks\":\"\"}},\"type\":\"scatter\"}],\"scatter3d\":[{\"line\":{\"colorbar\":{\"outlinewidth\":0,\"ticks\":\"\"}},\"marker\":{\"colorbar\":{\"outlinewidth\":0,\"ticks\":\"\"}},\"type\":\"scatter3d\"}],\"scattercarpet\":[{\"marker\":{\"colorbar\":{\"outlinewidth\":0,\"ticks\":\"\"}},\"type\":\"scattercarpet\"}],\"scattergeo\":[{\"marker\":{\"colorbar\":{\"outlinewidth\":0,\"ticks\":\"\"}},\"type\":\"scattergeo\"}],\"scattergl\":[{\"marker\":{\"colorbar\":{\"outlinewidth\":0,\"ticks\":\"\"}},\"type\":\"scattergl\"}],\"scattermapbox\":[{\"marker\":{\"colorbar\":{\"outlinewidth\":0,\"ticks\":\"\"}},\"type\":\"scattermapbox\"}],\"scatterpolar\":[{\"marker\":{\"colorbar\":{\"outlinewidth\":0,\"ticks\":\"\"}},\"type\":\"scatterpolar\"}],\"scatterpolargl\":[{\"marker\":{\"colorbar\":{\"outlinewidth\":0,\"ticks\":\"\"}},\"type\":\"scatterpolargl\"}],\"scatterternary\":[{\"marker\":{\"colorbar\":{\"outlinewidth\":0,\"ticks\":\"\"}},\"type\":\"scatterternary\"}],\"surface\":[{\"colorbar\":{\"outlinewidth\":0,\"ticks\":\"\"},\"colorscale\":[[0.0,\"#0d0887\"],[0.1111111111111111,\"#46039f\"],[0.2222222222222222,\"#7201a8\"],[0.3333333333333333,\"#9c179e\"],[0.4444444444444444,\"#bd3786\"],[0.5555555555555556,\"#d8576b\"],[0.6666666666666666,\"#ed7953\"],[0.7777777777777778,\"#fb9f3a\"],[0.8888888888888888,\"#fdca26\"],[1.0,\"#f0f921\"]],\"type\":\"surface\"}],\"table\":[{\"cells\":{\"fill\":{\"color\":\"#EBF0F8\"},\"line\":{\"color\":\"white\"}},\"header\":{\"fill\":{\"color\":\"#C8D4E3\"},\"line\":{\"color\":\"white\"}},\"type\":\"table\"}]},\"layout\":{\"annotationdefaults\":{\"arrowcolor\":\"#2a3f5f\",\"arrowhead\":0,\"arrowwidth\":1},\"autotypenumbers\":\"strict\",\"coloraxis\":{\"colorbar\":{\"outlinewidth\":0,\"ticks\":\"\"}},\"colorscale\":{\"diverging\":[[0,\"#8e0152\"],[0.1,\"#c51b7d\"],[0.2,\"#de77ae\"],[0.3,\"#f1b6da\"],[0.4,\"#fde0ef\"],[0.5,\"#f7f7f7\"],[0.6,\"#e6f5d0\"],[0.7,\"#b8e186\"],[0.8,\"#7fbc41\"],[0.9,\"#4d9221\"],[1,\"#276419\"]],\"sequential\":[[0.0,\"#0d0887\"],[0.1111111111111111,\"#46039f\"],[0.2222222222222222,\"#7201a8\"],[0.3333333333333333,\"#9c179e\"],[0.4444444444444444,\"#bd3786\"],[0.5555555555555556,\"#d8576b\"],[0.6666666666666666,\"#ed7953\"],[0.7777777777777778,\"#fb9f3a\"],[0.8888888888888888,\"#fdca26\"],[1.0,\"#f0f921\"]],\"sequentialminus\":[[0.0,\"#0d0887\"],[0.1111111111111111,\"#46039f\"],[0.2222222222222222,\"#7201a8\"],[0.3333333333333333,\"#9c179e\"],[0.4444444444444444,\"#bd3786\"],[0.5555555555555556,\"#d8576b\"],[0.6666666666666666,\"#ed7953\"],[0.7777777777777778,\"#fb9f3a\"],[0.8888888888888888,\"#fdca26\"],[1.0,\"#f0f921\"]]},\"colorway\":[\"#636efa\",\"#EF553B\",\"#00cc96\",\"#ab63fa\",\"#FFA15A\",\"#19d3f3\",\"#FF6692\",\"#B6E880\",\"#FF97FF\",\"#FECB52\"],\"font\":{\"color\":\"#2a3f5f\"},\"geo\":{\"bgcolor\":\"white\",\"lakecolor\":\"white\",\"landcolor\":\"#E5ECF6\",\"showlakes\":true,\"showland\":true,\"subunitcolor\":\"white\"},\"hoverlabel\":{\"align\":\"left\"},\"hovermode\":\"closest\",\"mapbox\":{\"style\":\"light\"},\"paper_bgcolor\":\"white\",\"plot_bgcolor\":\"#E5ECF6\",\"polar\":{\"angularaxis\":{\"gridcolor\":\"white\",\"linecolor\":\"white\",\"ticks\":\"\"},\"bgcolor\":\"#E5ECF6\",\"radialaxis\":{\"gridcolor\":\"white\",\"linecolor\":\"white\",\"ticks\":\"\"}},\"scene\":{\"xaxis\":{\"backgroundcolor\":\"#E5ECF6\",\"gridcolor\":\"white\",\"gridwidth\":2,\"linecolor\":\"white\",\"showbackground\":true,\"ticks\":\"\",\"zerolinecolor\":\"white\"},\"yaxis\":{\"backgroundcolor\":\"#E5ECF6\",\"gridcolor\":\"white\",\"gridwidth\":2,\"linecolor\":\"white\",\"showbackground\":true,\"ticks\":\"\",\"zerolinecolor\":\"white\"},\"zaxis\":{\"backgroundcolor\":\"#E5ECF6\",\"gridcolor\":\"white\",\"gridwidth\":2,\"linecolor\":\"white\",\"showbackground\":true,\"ticks\":\"\",\"zerolinecolor\":\"white\"}},\"shapedefaults\":{\"line\":{\"color\":\"#2a3f5f\"}},\"ternary\":{\"aaxis\":{\"gridcolor\":\"white\",\"linecolor\":\"white\",\"ticks\":\"\"},\"baxis\":{\"gridcolor\":\"white\",\"linecolor\":\"white\",\"ticks\":\"\"},\"bgcolor\":\"#E5ECF6\",\"caxis\":{\"gridcolor\":\"white\",\"linecolor\":\"white\",\"ticks\":\"\"}},\"title\":{\"x\":0.05},\"xaxis\":{\"automargin\":true,\"gridcolor\":\"white\",\"linecolor\":\"white\",\"ticks\":\"\",\"title\":{\"standoff\":15},\"zerolinecolor\":\"white\",\"zerolinewidth\":2},\"yaxis\":{\"automargin\":true,\"gridcolor\":\"white\",\"linecolor\":\"white\",\"ticks\":\"\",\"title\":{\"standoff\":15},\"zerolinecolor\":\"white\",\"zerolinewidth\":2}}}},                        {\"responsive\": true}                    ).then(function(){\n",
              "                            \n",
              "var gd = document.getElementById('ce443182-3366-484d-aae6-79d49359d141');\n",
              "var x = new MutationObserver(function (mutations, observer) {{\n",
              "        var display = window.getComputedStyle(gd).display;\n",
              "        if (!display || display === 'none') {{\n",
              "            console.log([gd, 'removed!']);\n",
              "            Plotly.purge(gd);\n",
              "            observer.disconnect();\n",
              "        }}\n",
              "}});\n",
              "\n",
              "// Listen for the removal of the full notebook cells\n",
              "var notebookContainer = gd.closest('#notebook-container');\n",
              "if (notebookContainer) {{\n",
              "    x.observe(notebookContainer, {childList: true});\n",
              "}}\n",
              "\n",
              "// Listen for the clearing of the current output cell\n",
              "var outputEl = gd.closest('.output');\n",
              "if (outputEl) {{\n",
              "    x.observe(outputEl, {childList: true});\n",
              "}}\n",
              "\n",
              "                        })                };                            </script>        </div>\n",
              "</body>\n",
              "</html>"
            ]
          },
          "metadata": {}
        }
      ]
    },
    {
      "cell_type": "code",
      "source": [
        "# 하이퍼파라미터 최적화 과정 확인\n",
        "optuna.visualization.plot_optimization_history(optuna_xgb)"
      ],
      "metadata": {
        "colab": {
          "base_uri": "https://localhost:8080/",
          "height": 542
        },
        "outputId": "22c3341d-6bf5-4d52-8cbb-57b124443c30",
        "id": "ct9-t1I5uZBn"
      },
      "execution_count": null,
      "outputs": [
        {
          "output_type": "display_data",
          "data": {
            "text/html": [
              "<html>\n",
              "<head><meta charset=\"utf-8\" /></head>\n",
              "<body>\n",
              "    <div>            <script src=\"https://cdnjs.cloudflare.com/ajax/libs/mathjax/2.7.5/MathJax.js?config=TeX-AMS-MML_SVG\"></script><script type=\"text/javascript\">if (window.MathJax) {MathJax.Hub.Config({SVG: {font: \"STIX-Web\"}});}</script>                <script type=\"text/javascript\">window.PlotlyConfig = {MathJaxConfig: 'local'};</script>\n",
              "        <script src=\"https://cdn.plot.ly/plotly-2.8.3.min.js\"></script>                <div id=\"3485d96c-0fe2-45d2-907f-b5b7a0285c95\" class=\"plotly-graph-div\" style=\"height:525px; width:100%;\"></div>            <script type=\"text/javascript\">                                    window.PLOTLYENV=window.PLOTLYENV || {};                                    if (document.getElementById(\"3485d96c-0fe2-45d2-907f-b5b7a0285c95\")) {                    Plotly.newPlot(                        \"3485d96c-0fe2-45d2-907f-b5b7a0285c95\",                        [{\"mode\":\"markers\",\"name\":\"Objective Value\",\"x\":[0,1,2,3,4,5,6,7,8,9,10,11,12,13,14,15,16,17,18,19,20,21,22,23,24,25,26,27,28,29,30,31,32,33,34,35,36,37,38,39,40,41,42,43,44,45,46,47,48,49,50,51,52,53,54,55,56,57,58,59,60,61,62,63,64,65,66,67,68,69,70,71,72,73,74,75,76,77,78,79,80,81,82,83,84,85,86,87,88,89,90,91,92,93,94,95,96,97,98,99],\"y\":[8794.16755690621,1483.8376488810206,1301.7205252861154,1618.0765273670481,1424.549057755767,3409.3613439708693,2353.025855671298,1371.6057124938702,1389.886202168369,3540.787385275169,13577.186344400585,1341.0679328487176,1376.6101351275593,1472.5100223474835,1257.8379361710845,1328.6647144656256,1910.0247884257149,1325.6810188732795,1351.355599427234,1291.235560247529,1388.4894400787782,1326.8374434666912,1380.727195670863,1400.1537775419602,1420.1022154955735,10837.898508364375,1485.3459210574188,1288.4734281075841,1277.5643013006543,1335.9069894288625,1296.3148647705948,1284.8148056870796,1309.6679231338937,1325.1193332281537,1310.3092705375266,1287.2653659217242,1256.5948710699747,1373.665394077444,1540.816390800172,1396.6938710979573,1339.252620609725,1297.1773255721337,1277.0532114454513,1342.6600062923035,1408.4799176873178,1337.8741975196795,1408.4374854808918,1295.070050355044,1590.6605842769745,1335.2420262268017,1453.776701540979,1301.5440690677096,1286.6634204715142,1290.726278870496,1272.3905766595317,1267.8790317590915,1324.1783118137982,1305.2418465461722,1395.1989817876326,1371.2096769289847,1280.6353366927751,1294.22994049983,1290.7442697612587,1354.345349147291,1315.3725937647669,1285.827758444002,1266.8249229200756,1493.339027282105,1481.282153502691,1323.7377796285925,1354.7974819936069,1276.9650091135966,1332.1169722126629,1339.835152356254,1325.015291657139,1245.7076399084924,1272.3440709056852,1313.6654737646988,1255.3517619917513,1245.0471264845692,1285.3144061372057,1281.9517423895034,1259.6535647170958,1236.4953956201812,1297.4839642635188,1226.173823428498,1231.1001194286284,1216.7102302092867,1303.6446727886052,1243.4731576841518,1238.208300248008,1241.3939770219442,1245.6018818939294,1240.7363805874609,1289.4839645172942,1294.2251217643177,1238.2401968762945,1379.6533607864944,1572.441660923055,1260.1785757628693],\"type\":\"scatter\"},{\"name\":\"Best Value\",\"x\":[0,1,2,3,4,5,6,7,8,9,10,11,12,13,14,15,16,17,18,19,20,21,22,23,24,25,26,27,28,29,30,31,32,33,34,35,36,37,38,39,40,41,42,43,44,45,46,47,48,49,50,51,52,53,54,55,56,57,58,59,60,61,62,63,64,65,66,67,68,69,70,71,72,73,74,75,76,77,78,79,80,81,82,83,84,85,86,87,88,89,90,91,92,93,94,95,96,97,98,99],\"y\":[8794.16755690621,1483.8376488810206,1301.7205252861154,1301.7205252861154,1301.7205252861154,1301.7205252861154,1301.7205252861154,1301.7205252861154,1301.7205252861154,1301.7205252861154,1301.7205252861154,1301.7205252861154,1301.7205252861154,1301.7205252861154,1257.8379361710845,1257.8379361710845,1257.8379361710845,1257.8379361710845,1257.8379361710845,1257.8379361710845,1257.8379361710845,1257.8379361710845,1257.8379361710845,1257.8379361710845,1257.8379361710845,1257.8379361710845,1257.8379361710845,1257.8379361710845,1257.8379361710845,1257.8379361710845,1257.8379361710845,1257.8379361710845,1257.8379361710845,1257.8379361710845,1257.8379361710845,1257.8379361710845,1256.5948710699747,1256.5948710699747,1256.5948710699747,1256.5948710699747,1256.5948710699747,1256.5948710699747,1256.5948710699747,1256.5948710699747,1256.5948710699747,1256.5948710699747,1256.5948710699747,1256.5948710699747,1256.5948710699747,1256.5948710699747,1256.5948710699747,1256.5948710699747,1256.5948710699747,1256.5948710699747,1256.5948710699747,1256.5948710699747,1256.5948710699747,1256.5948710699747,1256.5948710699747,1256.5948710699747,1256.5948710699747,1256.5948710699747,1256.5948710699747,1256.5948710699747,1256.5948710699747,1256.5948710699747,1256.5948710699747,1256.5948710699747,1256.5948710699747,1256.5948710699747,1256.5948710699747,1256.5948710699747,1256.5948710699747,1256.5948710699747,1256.5948710699747,1245.7076399084924,1245.7076399084924,1245.7076399084924,1245.7076399084924,1245.0471264845692,1245.0471264845692,1245.0471264845692,1245.0471264845692,1236.4953956201812,1236.4953956201812,1226.173823428498,1226.173823428498,1216.7102302092867,1216.7102302092867,1216.7102302092867,1216.7102302092867,1216.7102302092867,1216.7102302092867,1216.7102302092867,1216.7102302092867,1216.7102302092867,1216.7102302092867,1216.7102302092867,1216.7102302092867,1216.7102302092867],\"type\":\"scatter\"}],                        {\"title\":{\"text\":\"Optimization History Plot\"},\"xaxis\":{\"title\":{\"text\":\"Trial\"}},\"yaxis\":{\"title\":{\"text\":\"Objective Value\"}},\"template\":{\"data\":{\"bar\":[{\"error_x\":{\"color\":\"#2a3f5f\"},\"error_y\":{\"color\":\"#2a3f5f\"},\"marker\":{\"line\":{\"color\":\"#E5ECF6\",\"width\":0.5},\"pattern\":{\"fillmode\":\"overlay\",\"size\":10,\"solidity\":0.2}},\"type\":\"bar\"}],\"barpolar\":[{\"marker\":{\"line\":{\"color\":\"#E5ECF6\",\"width\":0.5},\"pattern\":{\"fillmode\":\"overlay\",\"size\":10,\"solidity\":0.2}},\"type\":\"barpolar\"}],\"carpet\":[{\"aaxis\":{\"endlinecolor\":\"#2a3f5f\",\"gridcolor\":\"white\",\"linecolor\":\"white\",\"minorgridcolor\":\"white\",\"startlinecolor\":\"#2a3f5f\"},\"baxis\":{\"endlinecolor\":\"#2a3f5f\",\"gridcolor\":\"white\",\"linecolor\":\"white\",\"minorgridcolor\":\"white\",\"startlinecolor\":\"#2a3f5f\"},\"type\":\"carpet\"}],\"choropleth\":[{\"colorbar\":{\"outlinewidth\":0,\"ticks\":\"\"},\"type\":\"choropleth\"}],\"contour\":[{\"colorbar\":{\"outlinewidth\":0,\"ticks\":\"\"},\"colorscale\":[[0.0,\"#0d0887\"],[0.1111111111111111,\"#46039f\"],[0.2222222222222222,\"#7201a8\"],[0.3333333333333333,\"#9c179e\"],[0.4444444444444444,\"#bd3786\"],[0.5555555555555556,\"#d8576b\"],[0.6666666666666666,\"#ed7953\"],[0.7777777777777778,\"#fb9f3a\"],[0.8888888888888888,\"#fdca26\"],[1.0,\"#f0f921\"]],\"type\":\"contour\"}],\"contourcarpet\":[{\"colorbar\":{\"outlinewidth\":0,\"ticks\":\"\"},\"type\":\"contourcarpet\"}],\"heatmap\":[{\"colorbar\":{\"outlinewidth\":0,\"ticks\":\"\"},\"colorscale\":[[0.0,\"#0d0887\"],[0.1111111111111111,\"#46039f\"],[0.2222222222222222,\"#7201a8\"],[0.3333333333333333,\"#9c179e\"],[0.4444444444444444,\"#bd3786\"],[0.5555555555555556,\"#d8576b\"],[0.6666666666666666,\"#ed7953\"],[0.7777777777777778,\"#fb9f3a\"],[0.8888888888888888,\"#fdca26\"],[1.0,\"#f0f921\"]],\"type\":\"heatmap\"}],\"heatmapgl\":[{\"colorbar\":{\"outlinewidth\":0,\"ticks\":\"\"},\"colorscale\":[[0.0,\"#0d0887\"],[0.1111111111111111,\"#46039f\"],[0.2222222222222222,\"#7201a8\"],[0.3333333333333333,\"#9c179e\"],[0.4444444444444444,\"#bd3786\"],[0.5555555555555556,\"#d8576b\"],[0.6666666666666666,\"#ed7953\"],[0.7777777777777778,\"#fb9f3a\"],[0.8888888888888888,\"#fdca26\"],[1.0,\"#f0f921\"]],\"type\":\"heatmapgl\"}],\"histogram\":[{\"marker\":{\"pattern\":{\"fillmode\":\"overlay\",\"size\":10,\"solidity\":0.2}},\"type\":\"histogram\"}],\"histogram2d\":[{\"colorbar\":{\"outlinewidth\":0,\"ticks\":\"\"},\"colorscale\":[[0.0,\"#0d0887\"],[0.1111111111111111,\"#46039f\"],[0.2222222222222222,\"#7201a8\"],[0.3333333333333333,\"#9c179e\"],[0.4444444444444444,\"#bd3786\"],[0.5555555555555556,\"#d8576b\"],[0.6666666666666666,\"#ed7953\"],[0.7777777777777778,\"#fb9f3a\"],[0.8888888888888888,\"#fdca26\"],[1.0,\"#f0f921\"]],\"type\":\"histogram2d\"}],\"histogram2dcontour\":[{\"colorbar\":{\"outlinewidth\":0,\"ticks\":\"\"},\"colorscale\":[[0.0,\"#0d0887\"],[0.1111111111111111,\"#46039f\"],[0.2222222222222222,\"#7201a8\"],[0.3333333333333333,\"#9c179e\"],[0.4444444444444444,\"#bd3786\"],[0.5555555555555556,\"#d8576b\"],[0.6666666666666666,\"#ed7953\"],[0.7777777777777778,\"#fb9f3a\"],[0.8888888888888888,\"#fdca26\"],[1.0,\"#f0f921\"]],\"type\":\"histogram2dcontour\"}],\"mesh3d\":[{\"colorbar\":{\"outlinewidth\":0,\"ticks\":\"\"},\"type\":\"mesh3d\"}],\"parcoords\":[{\"line\":{\"colorbar\":{\"outlinewidth\":0,\"ticks\":\"\"}},\"type\":\"parcoords\"}],\"pie\":[{\"automargin\":true,\"type\":\"pie\"}],\"scatter\":[{\"marker\":{\"colorbar\":{\"outlinewidth\":0,\"ticks\":\"\"}},\"type\":\"scatter\"}],\"scatter3d\":[{\"line\":{\"colorbar\":{\"outlinewidth\":0,\"ticks\":\"\"}},\"marker\":{\"colorbar\":{\"outlinewidth\":0,\"ticks\":\"\"}},\"type\":\"scatter3d\"}],\"scattercarpet\":[{\"marker\":{\"colorbar\":{\"outlinewidth\":0,\"ticks\":\"\"}},\"type\":\"scattercarpet\"}],\"scattergeo\":[{\"marker\":{\"colorbar\":{\"outlinewidth\":0,\"ticks\":\"\"}},\"type\":\"scattergeo\"}],\"scattergl\":[{\"marker\":{\"colorbar\":{\"outlinewidth\":0,\"ticks\":\"\"}},\"type\":\"scattergl\"}],\"scattermapbox\":[{\"marker\":{\"colorbar\":{\"outlinewidth\":0,\"ticks\":\"\"}},\"type\":\"scattermapbox\"}],\"scatterpolar\":[{\"marker\":{\"colorbar\":{\"outlinewidth\":0,\"ticks\":\"\"}},\"type\":\"scatterpolar\"}],\"scatterpolargl\":[{\"marker\":{\"colorbar\":{\"outlinewidth\":0,\"ticks\":\"\"}},\"type\":\"scatterpolargl\"}],\"scatterternary\":[{\"marker\":{\"colorbar\":{\"outlinewidth\":0,\"ticks\":\"\"}},\"type\":\"scatterternary\"}],\"surface\":[{\"colorbar\":{\"outlinewidth\":0,\"ticks\":\"\"},\"colorscale\":[[0.0,\"#0d0887\"],[0.1111111111111111,\"#46039f\"],[0.2222222222222222,\"#7201a8\"],[0.3333333333333333,\"#9c179e\"],[0.4444444444444444,\"#bd3786\"],[0.5555555555555556,\"#d8576b\"],[0.6666666666666666,\"#ed7953\"],[0.7777777777777778,\"#fb9f3a\"],[0.8888888888888888,\"#fdca26\"],[1.0,\"#f0f921\"]],\"type\":\"surface\"}],\"table\":[{\"cells\":{\"fill\":{\"color\":\"#EBF0F8\"},\"line\":{\"color\":\"white\"}},\"header\":{\"fill\":{\"color\":\"#C8D4E3\"},\"line\":{\"color\":\"white\"}},\"type\":\"table\"}]},\"layout\":{\"annotationdefaults\":{\"arrowcolor\":\"#2a3f5f\",\"arrowhead\":0,\"arrowwidth\":1},\"autotypenumbers\":\"strict\",\"coloraxis\":{\"colorbar\":{\"outlinewidth\":0,\"ticks\":\"\"}},\"colorscale\":{\"diverging\":[[0,\"#8e0152\"],[0.1,\"#c51b7d\"],[0.2,\"#de77ae\"],[0.3,\"#f1b6da\"],[0.4,\"#fde0ef\"],[0.5,\"#f7f7f7\"],[0.6,\"#e6f5d0\"],[0.7,\"#b8e186\"],[0.8,\"#7fbc41\"],[0.9,\"#4d9221\"],[1,\"#276419\"]],\"sequential\":[[0.0,\"#0d0887\"],[0.1111111111111111,\"#46039f\"],[0.2222222222222222,\"#7201a8\"],[0.3333333333333333,\"#9c179e\"],[0.4444444444444444,\"#bd3786\"],[0.5555555555555556,\"#d8576b\"],[0.6666666666666666,\"#ed7953\"],[0.7777777777777778,\"#fb9f3a\"],[0.8888888888888888,\"#fdca26\"],[1.0,\"#f0f921\"]],\"sequentialminus\":[[0.0,\"#0d0887\"],[0.1111111111111111,\"#46039f\"],[0.2222222222222222,\"#7201a8\"],[0.3333333333333333,\"#9c179e\"],[0.4444444444444444,\"#bd3786\"],[0.5555555555555556,\"#d8576b\"],[0.6666666666666666,\"#ed7953\"],[0.7777777777777778,\"#fb9f3a\"],[0.8888888888888888,\"#fdca26\"],[1.0,\"#f0f921\"]]},\"colorway\":[\"#636efa\",\"#EF553B\",\"#00cc96\",\"#ab63fa\",\"#FFA15A\",\"#19d3f3\",\"#FF6692\",\"#B6E880\",\"#FF97FF\",\"#FECB52\"],\"font\":{\"color\":\"#2a3f5f\"},\"geo\":{\"bgcolor\":\"white\",\"lakecolor\":\"white\",\"landcolor\":\"#E5ECF6\",\"showlakes\":true,\"showland\":true,\"subunitcolor\":\"white\"},\"hoverlabel\":{\"align\":\"left\"},\"hovermode\":\"closest\",\"mapbox\":{\"style\":\"light\"},\"paper_bgcolor\":\"white\",\"plot_bgcolor\":\"#E5ECF6\",\"polar\":{\"angularaxis\":{\"gridcolor\":\"white\",\"linecolor\":\"white\",\"ticks\":\"\"},\"bgcolor\":\"#E5ECF6\",\"radialaxis\":{\"gridcolor\":\"white\",\"linecolor\":\"white\",\"ticks\":\"\"}},\"scene\":{\"xaxis\":{\"backgroundcolor\":\"#E5ECF6\",\"gridcolor\":\"white\",\"gridwidth\":2,\"linecolor\":\"white\",\"showbackground\":true,\"ticks\":\"\",\"zerolinecolor\":\"white\"},\"yaxis\":{\"backgroundcolor\":\"#E5ECF6\",\"gridcolor\":\"white\",\"gridwidth\":2,\"linecolor\":\"white\",\"showbackground\":true,\"ticks\":\"\",\"zerolinecolor\":\"white\"},\"zaxis\":{\"backgroundcolor\":\"#E5ECF6\",\"gridcolor\":\"white\",\"gridwidth\":2,\"linecolor\":\"white\",\"showbackground\":true,\"ticks\":\"\",\"zerolinecolor\":\"white\"}},\"shapedefaults\":{\"line\":{\"color\":\"#2a3f5f\"}},\"ternary\":{\"aaxis\":{\"gridcolor\":\"white\",\"linecolor\":\"white\",\"ticks\":\"\"},\"baxis\":{\"gridcolor\":\"white\",\"linecolor\":\"white\",\"ticks\":\"\"},\"bgcolor\":\"#E5ECF6\",\"caxis\":{\"gridcolor\":\"white\",\"linecolor\":\"white\",\"ticks\":\"\"}},\"title\":{\"x\":0.05},\"xaxis\":{\"automargin\":true,\"gridcolor\":\"white\",\"linecolor\":\"white\",\"ticks\":\"\",\"title\":{\"standoff\":15},\"zerolinecolor\":\"white\",\"zerolinewidth\":2},\"yaxis\":{\"automargin\":true,\"gridcolor\":\"white\",\"linecolor\":\"white\",\"ticks\":\"\",\"title\":{\"standoff\":15},\"zerolinecolor\":\"white\",\"zerolinewidth\":2}}}},                        {\"responsive\": true}                    ).then(function(){\n",
              "                            \n",
              "var gd = document.getElementById('3485d96c-0fe2-45d2-907f-b5b7a0285c95');\n",
              "var x = new MutationObserver(function (mutations, observer) {{\n",
              "        var display = window.getComputedStyle(gd).display;\n",
              "        if (!display || display === 'none') {{\n",
              "            console.log([gd, 'removed!']);\n",
              "            Plotly.purge(gd);\n",
              "            observer.disconnect();\n",
              "        }}\n",
              "}});\n",
              "\n",
              "// Listen for the removal of the full notebook cells\n",
              "var notebookContainer = gd.closest('#notebook-container');\n",
              "if (notebookContainer) {{\n",
              "    x.observe(notebookContainer, {childList: true});\n",
              "}}\n",
              "\n",
              "// Listen for the clearing of the current output cell\n",
              "var outputEl = gd.closest('.output');\n",
              "if (outputEl) {{\n",
              "    x.observe(outputEl, {childList: true});\n",
              "}}\n",
              "\n",
              "                        })                };                            </script>        </div>\n",
              "</body>\n",
              "</html>"
            ]
          },
          "metadata": {}
        }
      ]
    },
    {
      "cell_type": "markdown",
      "source": [
        "# 제출"
      ],
      "metadata": {
        "id": "sn-5WOF5dc29"
      }
    },
    {
      "cell_type": "code",
      "source": [
        "# Scaling 과정\n",
        "transform_tests = test.drop(columns=['id']) \n",
        "std_transform_tests = scaler.transform(transform_tests)\n",
        "test[transform_tests.columns] = std_transform_tests\n",
        "test.head()"
      ],
      "metadata": {
        "id": "Bi-MOPYjek06",
        "colab": {
          "base_uri": "https://localhost:8080/",
          "height": 270
        },
        "outputId": "0821d1ad-910f-4543-bd59-dacbbb67f985"
      },
      "execution_count": null,
      "outputs": [
        {
          "output_type": "execute_result",
          "data": {
            "text/plain": [
              "   id      hour  hour_bef_temperature  hour_bef_precipitation  \\\n",
              "0   0 -0.649309              0.760938               -0.180430   \n",
              "1   1  0.795691              2.537863               -0.180430   \n",
              "2   2  0.217691              0.436124                5.542327   \n",
              "3   4 -0.793809              1.104859               -0.180430   \n",
              "4   5  1.518190             -0.404572                5.542327   \n",
              "\n",
              "   hour_bef_windspeed  hour_bef_humidity  hour_bef_visibility  hour_bef_ozone  \\\n",
              "0           -0.858395           0.480048            -0.774579        0.097487   \n",
              "1            2.126606          -0.945053             0.317207        1.150800   \n",
              "2           -0.275956           2.101715            -2.080945       -1.008492   \n",
              "3            0.015264           0.381765            -0.378034       -0.639833   \n",
              "4            0.670508           2.003432            -2.038029        0.097487   \n",
              "\n",
              "   hour_bef_pm10  hour_bef_pm2.5  discomfort  hardship  \n",
              "0      -0.428053       -0.235870    0.693429 -0.868930  \n",
              "1      -0.265527        0.402168   -0.259476  1.742028  \n",
              "2      -0.688095       -0.164977    2.463110 -1.165683  \n",
              "3      -0.168011        0.543955    0.693429 -0.256764  \n",
              "4      -1.273189       -1.086589    2.054722 -1.046293  "
            ],
            "text/html": [
              "\n",
              "  <div id=\"df-426c0abc-4906-4380-81b2-ab0233aa0de0\">\n",
              "    <div class=\"colab-df-container\">\n",
              "      <div>\n",
              "<style scoped>\n",
              "    .dataframe tbody tr th:only-of-type {\n",
              "        vertical-align: middle;\n",
              "    }\n",
              "\n",
              "    .dataframe tbody tr th {\n",
              "        vertical-align: top;\n",
              "    }\n",
              "\n",
              "    .dataframe thead th {\n",
              "        text-align: right;\n",
              "    }\n",
              "</style>\n",
              "<table border=\"1\" class=\"dataframe\">\n",
              "  <thead>\n",
              "    <tr style=\"text-align: right;\">\n",
              "      <th></th>\n",
              "      <th>id</th>\n",
              "      <th>hour</th>\n",
              "      <th>hour_bef_temperature</th>\n",
              "      <th>hour_bef_precipitation</th>\n",
              "      <th>hour_bef_windspeed</th>\n",
              "      <th>hour_bef_humidity</th>\n",
              "      <th>hour_bef_visibility</th>\n",
              "      <th>hour_bef_ozone</th>\n",
              "      <th>hour_bef_pm10</th>\n",
              "      <th>hour_bef_pm2.5</th>\n",
              "      <th>discomfort</th>\n",
              "      <th>hardship</th>\n",
              "    </tr>\n",
              "  </thead>\n",
              "  <tbody>\n",
              "    <tr>\n",
              "      <th>0</th>\n",
              "      <td>0</td>\n",
              "      <td>-0.649309</td>\n",
              "      <td>0.760938</td>\n",
              "      <td>-0.180430</td>\n",
              "      <td>-0.858395</td>\n",
              "      <td>0.480048</td>\n",
              "      <td>-0.774579</td>\n",
              "      <td>0.097487</td>\n",
              "      <td>-0.428053</td>\n",
              "      <td>-0.235870</td>\n",
              "      <td>0.693429</td>\n",
              "      <td>-0.868930</td>\n",
              "    </tr>\n",
              "    <tr>\n",
              "      <th>1</th>\n",
              "      <td>1</td>\n",
              "      <td>0.795691</td>\n",
              "      <td>2.537863</td>\n",
              "      <td>-0.180430</td>\n",
              "      <td>2.126606</td>\n",
              "      <td>-0.945053</td>\n",
              "      <td>0.317207</td>\n",
              "      <td>1.150800</td>\n",
              "      <td>-0.265527</td>\n",
              "      <td>0.402168</td>\n",
              "      <td>-0.259476</td>\n",
              "      <td>1.742028</td>\n",
              "    </tr>\n",
              "    <tr>\n",
              "      <th>2</th>\n",
              "      <td>2</td>\n",
              "      <td>0.217691</td>\n",
              "      <td>0.436124</td>\n",
              "      <td>5.542327</td>\n",
              "      <td>-0.275956</td>\n",
              "      <td>2.101715</td>\n",
              "      <td>-2.080945</td>\n",
              "      <td>-1.008492</td>\n",
              "      <td>-0.688095</td>\n",
              "      <td>-0.164977</td>\n",
              "      <td>2.463110</td>\n",
              "      <td>-1.165683</td>\n",
              "    </tr>\n",
              "    <tr>\n",
              "      <th>3</th>\n",
              "      <td>4</td>\n",
              "      <td>-0.793809</td>\n",
              "      <td>1.104859</td>\n",
              "      <td>-0.180430</td>\n",
              "      <td>0.015264</td>\n",
              "      <td>0.381765</td>\n",
              "      <td>-0.378034</td>\n",
              "      <td>-0.639833</td>\n",
              "      <td>-0.168011</td>\n",
              "      <td>0.543955</td>\n",
              "      <td>0.693429</td>\n",
              "      <td>-0.256764</td>\n",
              "    </tr>\n",
              "    <tr>\n",
              "      <th>4</th>\n",
              "      <td>5</td>\n",
              "      <td>1.518190</td>\n",
              "      <td>-0.404572</td>\n",
              "      <td>5.542327</td>\n",
              "      <td>0.670508</td>\n",
              "      <td>2.003432</td>\n",
              "      <td>-2.038029</td>\n",
              "      <td>0.097487</td>\n",
              "      <td>-1.273189</td>\n",
              "      <td>-1.086589</td>\n",
              "      <td>2.054722</td>\n",
              "      <td>-1.046293</td>\n",
              "    </tr>\n",
              "  </tbody>\n",
              "</table>\n",
              "</div>\n",
              "      <button class=\"colab-df-convert\" onclick=\"convertToInteractive('df-426c0abc-4906-4380-81b2-ab0233aa0de0')\"\n",
              "              title=\"Convert this dataframe to an interactive table.\"\n",
              "              style=\"display:none;\">\n",
              "        \n",
              "  <svg xmlns=\"http://www.w3.org/2000/svg\" height=\"24px\"viewBox=\"0 0 24 24\"\n",
              "       width=\"24px\">\n",
              "    <path d=\"M0 0h24v24H0V0z\" fill=\"none\"/>\n",
              "    <path d=\"M18.56 5.44l.94 2.06.94-2.06 2.06-.94-2.06-.94-.94-2.06-.94 2.06-2.06.94zm-11 1L8.5 8.5l.94-2.06 2.06-.94-2.06-.94L8.5 2.5l-.94 2.06-2.06.94zm10 10l.94 2.06.94-2.06 2.06-.94-2.06-.94-.94-2.06-.94 2.06-2.06.94z\"/><path d=\"M17.41 7.96l-1.37-1.37c-.4-.4-.92-.59-1.43-.59-.52 0-1.04.2-1.43.59L10.3 9.45l-7.72 7.72c-.78.78-.78 2.05 0 2.83L4 21.41c.39.39.9.59 1.41.59.51 0 1.02-.2 1.41-.59l7.78-7.78 2.81-2.81c.8-.78.8-2.07 0-2.86zM5.41 20L4 18.59l7.72-7.72 1.47 1.35L5.41 20z\"/>\n",
              "  </svg>\n",
              "      </button>\n",
              "      \n",
              "  <style>\n",
              "    .colab-df-container {\n",
              "      display:flex;\n",
              "      flex-wrap:wrap;\n",
              "      gap: 12px;\n",
              "    }\n",
              "\n",
              "    .colab-df-convert {\n",
              "      background-color: #E8F0FE;\n",
              "      border: none;\n",
              "      border-radius: 50%;\n",
              "      cursor: pointer;\n",
              "      display: none;\n",
              "      fill: #1967D2;\n",
              "      height: 32px;\n",
              "      padding: 0 0 0 0;\n",
              "      width: 32px;\n",
              "    }\n",
              "\n",
              "    .colab-df-convert:hover {\n",
              "      background-color: #E2EBFA;\n",
              "      box-shadow: 0px 1px 2px rgba(60, 64, 67, 0.3), 0px 1px 3px 1px rgba(60, 64, 67, 0.15);\n",
              "      fill: #174EA6;\n",
              "    }\n",
              "\n",
              "    [theme=dark] .colab-df-convert {\n",
              "      background-color: #3B4455;\n",
              "      fill: #D2E3FC;\n",
              "    }\n",
              "\n",
              "    [theme=dark] .colab-df-convert:hover {\n",
              "      background-color: #434B5C;\n",
              "      box-shadow: 0px 1px 3px 1px rgba(0, 0, 0, 0.15);\n",
              "      filter: drop-shadow(0px 1px 2px rgba(0, 0, 0, 0.3));\n",
              "      fill: #FFFFFF;\n",
              "    }\n",
              "  </style>\n",
              "\n",
              "      <script>\n",
              "        const buttonEl =\n",
              "          document.querySelector('#df-426c0abc-4906-4380-81b2-ab0233aa0de0 button.colab-df-convert');\n",
              "        buttonEl.style.display =\n",
              "          google.colab.kernel.accessAllowed ? 'block' : 'none';\n",
              "\n",
              "        async function convertToInteractive(key) {\n",
              "          const element = document.querySelector('#df-426c0abc-4906-4380-81b2-ab0233aa0de0');\n",
              "          const dataTable =\n",
              "            await google.colab.kernel.invokeFunction('convertToInteractive',\n",
              "                                                     [key], {});\n",
              "          if (!dataTable) return;\n",
              "\n",
              "          const docLinkHtml = 'Like what you see? Visit the ' +\n",
              "            '<a target=\"_blank\" href=https://colab.research.google.com/notebooks/data_table.ipynb>data table notebook</a>'\n",
              "            + ' to learn more about interactive tables.';\n",
              "          element.innerHTML = '';\n",
              "          dataTable['output_type'] = 'display_data';\n",
              "          await google.colab.output.renderOutput(dataTable, element);\n",
              "          const docLink = document.createElement('div');\n",
              "          docLink.innerHTML = docLinkHtml;\n",
              "          element.appendChild(docLink);\n",
              "        }\n",
              "      </script>\n",
              "    </div>\n",
              "  </div>\n",
              "  "
            ]
          },
          "metadata": {},
          "execution_count": 23
        }
      ]
    },
    {
      "cell_type": "code",
      "source": [
        "pred= lgbm_regop.predict(test.drop(['id','hour_bef_precipitation'],axis=1))"
      ],
      "metadata": {
        "id": "oT5sfJA5fAJz"
      },
      "execution_count": null,
      "outputs": []
    },
    {
      "cell_type": "code",
      "source": [
        "submission=pd.read_csv('submission.csv')\n",
        "submission['count'] = pred"
      ],
      "metadata": {
        "id": "ssy6l2hD5And"
      },
      "execution_count": null,
      "outputs": []
    },
    {
      "cell_type": "code",
      "source": [
        "submission.to_csv('submission_bike_lgbm_feature(2).csv',index=False)"
      ],
      "metadata": {
        "id": "j9fPOPDUdpay"
      },
      "execution_count": null,
      "outputs": []
    },
    {
      "cell_type": "markdown",
      "source": [
        "# 04.결론"
      ],
      "metadata": {
        "id": "Bo1R7rMN7CTh"
      }
    },
    {
      "cell_type": "markdown",
      "source": [
        "스코어 기준: RMSE\n",
        "1. 22.11.10 제출 스코어 : 84.2825\n",
        "- 사용모델: LGBMRegressor\n",
        "- 전처리 : standard scaling\n",
        "- 하이퍼파라미터 튜닝 x\n",
        "\n",
        "2. 22.11.14 제출 스코어 : 83.37252\n",
        "- 사용모델 : LGBMRegressor\n",
        "- 전처리  : Standard scaling\n",
        "- 하이퍼파라미터 튜닝 : optuna\n",
        "\n",
        "3. 22.11.15 제출 스코어 : 82.36148\n",
        "- 사용모델: LGBMRegressor\n",
        "- 전처리: feature engineering, standard scaling\n",
        "- 하이퍼파라미터 튜닝 : optuna\n",
        "\n",
        "4. 22.11.16 제출 스코어 : 46.60438\n",
        "- 사용모델: LGBMRegressor\n",
        "- 전처리: feature engineering, standard scaling('hour'피처 스케일링 포함)\n",
        "- 하이퍼파라미터 튜닝 : optuna\n",
        "\n",
        " --> *feature 중 'hour' 제외하고 학습해 성능이 매우 안 좋았는데 'hour'를 추가하니 성능이 눈에 띄게 좋아졌다. test null값 처리 후 예측한 게 더 성능이 안 좋음.*"
      ],
      "metadata": {
        "id": "0wpjk9iPfe_c"
      }
    },
    {
      "cell_type": "markdown",
      "source": [
        "## 개선방안\n",
        "1. null 값 처리 다른 방식으로\n",
        "2. stacking"
      ],
      "metadata": {
        "id": "qHaV-VlFL5m7"
      }
    },
    {
      "cell_type": "markdown",
      "source": [
        "## 한계점\n",
        "1. 날짜정보가 없어서 데이터 EDA 다양하게 할 수 없고 요일 피처 추출 불가능."
      ],
      "metadata": {
        "id": "cPXArVN3LSPZ"
      }
    },
    {
      "cell_type": "code",
      "source": [],
      "metadata": {
        "id": "841L7YPHu7Aa"
      },
      "execution_count": null,
      "outputs": []
    }
  ]
}