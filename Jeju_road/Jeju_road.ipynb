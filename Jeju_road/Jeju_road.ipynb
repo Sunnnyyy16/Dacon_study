{
  "nbformat": 4,
  "nbformat_minor": 0,
  "metadata": {
    "colab": {
      "provenance": [],
      "toc_visible": true,
      "authorship_tag": "ABX9TyM02s3sSysSiEqebKwrGW0S",
      "include_colab_link": true
    },
    "kernelspec": {
      "name": "python3",
      "display_name": "Python 3"
    },
    "language_info": {
      "name": "python"
    },
    "accelerator": "GPU",
    "gpuClass": "standard"
  },
  "cells": [
    {
      "cell_type": "markdown",
      "metadata": {
        "id": "view-in-github",
        "colab_type": "text"
      },
      "source": [
        "<a href=\"https://colab.research.google.com/github/Sunnnyyy16/Dacon_study/blob/main/Jeju_road/Jeju_road.ipynb\" target=\"_parent\"><img src=\"https://colab.research.google.com/assets/colab-badge.svg\" alt=\"Open In Colab\"/></a>"
      ]
    },
    {
      "cell_type": "markdown",
      "source": [
        "# 제주도 도로 교통량 예측 AI 경진대회\n",
        "대회사이트: https://dacon.io/competitions/official/235985/data\n",
        "\n",
        "제주도 도로 교통량 예측 AI 알고리즘 개발\n",
        "# 목차\n",
        "0. 데이터로드\n",
        "1. 데이터 EDA, visualization\n",
        "2. 데이터 전처리\n",
        "3. 모델 생성 및 학습\n",
        "4. 제출\n",
        "5. 결론\n",
        "\n",
        "* 참고\n",
        "\n",
        "https://dacon.io/competitions/official/235985/codeshare/7038?page=1&dtype=recent\n"
      ],
      "metadata": {
        "id": "p7OFnkeEPO7k"
      }
    },
    {
      "cell_type": "code",
      "source": [
        "# 한글 폰트 설치\n",
        "!sudo apt-get install -y fonts-nanum\n",
        "!sudo fc-cache -fv\n",
        "!rm ~/.cache/matplotlib -rf"
      ],
      "metadata": {
        "colab": {
          "base_uri": "https://localhost:8080/"
        },
        "id": "ccTkynA0JG2D",
        "outputId": "b68cc299-bbca-4639-a5df-e2269f34125c"
      },
      "execution_count": null,
      "outputs": [
        {
          "output_type": "stream",
          "name": "stdout",
          "text": [
            "Reading package lists... Done\n",
            "Building dependency tree       \n",
            "Reading state information... Done\n",
            "The following package was automatically installed and is no longer required:\n",
            "  libnvidia-common-510\n",
            "Use 'sudo apt autoremove' to remove it.\n",
            "The following NEW packages will be installed:\n",
            "  fonts-nanum\n",
            "0 upgraded, 1 newly installed, 0 to remove and 27 not upgraded.\n",
            "Need to get 9,599 kB of archives.\n",
            "After this operation, 29.6 MB of additional disk space will be used.\n",
            "Get:1 http://archive.ubuntu.com/ubuntu focal/universe amd64 fonts-nanum all 20180306-3 [9,599 kB]\n",
            "Fetched 9,599 kB in 2s (3,877 kB/s)\n",
            "debconf: unable to initialize frontend: Dialog\n",
            "debconf: (No usable dialog-like program is installed, so the dialog based frontend cannot be used. at /usr/share/perl5/Debconf/FrontEnd/Dialog.pm line 76, <> line 1.)\n",
            "debconf: falling back to frontend: Readline\n",
            "debconf: unable to initialize frontend: Readline\n",
            "debconf: (This frontend requires a controlling tty.)\n",
            "debconf: falling back to frontend: Teletype\n",
            "dpkg-preconfigure: unable to re-open stdin: \n",
            "Selecting previously unselected package fonts-nanum.\n",
            "(Reading database ... 129501 files and directories currently installed.)\n",
            "Preparing to unpack .../fonts-nanum_20180306-3_all.deb ...\n",
            "Unpacking fonts-nanum (20180306-3) ...\n",
            "Setting up fonts-nanum (20180306-3) ...\n",
            "Processing triggers for fontconfig (2.13.1-2ubuntu3) ...\n",
            "/usr/share/fonts: caching, new cache contents: 0 fonts, 1 dirs\n",
            "/usr/share/fonts/truetype: caching, new cache contents: 0 fonts, 3 dirs\n",
            "/usr/share/fonts/truetype/humor-sans: caching, new cache contents: 1 fonts, 0 dirs\n",
            "/usr/share/fonts/truetype/liberation: caching, new cache contents: 16 fonts, 0 dirs\n",
            "/usr/share/fonts/truetype/nanum: caching, new cache contents: 10 fonts, 0 dirs\n",
            "/usr/local/share/fonts: caching, new cache contents: 0 fonts, 0 dirs\n",
            "/root/.local/share/fonts: skipping, no such directory\n",
            "/root/.fonts: skipping, no such directory\n",
            "/usr/share/fonts/truetype: skipping, looped directory detected\n",
            "/usr/share/fonts/truetype/humor-sans: skipping, looped directory detected\n",
            "/usr/share/fonts/truetype/liberation: skipping, looped directory detected\n",
            "/usr/share/fonts/truetype/nanum: skipping, looped directory detected\n",
            "/var/cache/fontconfig: cleaning cache directory\n",
            "/root/.cache/fontconfig: not cleaning non-existent cache directory\n",
            "/root/.fontconfig: not cleaning non-existent cache directory\n",
            "fc-cache: succeeded\n"
          ]
        }
      ]
    },
    {
      "cell_type": "code",
      "source": [
        "#visualization\n",
        "import matplotlib as mpl\n",
        "import matplotlib.pylab as plb\n",
        "import matplotlib.pyplot as plt\n",
        "\n",
        "# 브라우저에서 바로 그려지도록 \n",
        "%matplotlib inline\n",
        "\n",
        "# 그래프에 retina display 적용\n",
        "%config InlineBackend.figure_format = 'retina'\n",
        "\n",
        "# Colab 의 한글 폰트 설정\n",
        "plt.rc('font', family='NanumBarunGothic') \n",
        "\n",
        "# 유니코드에서  음수 부호설정\n",
        "mpl.rc('axes', unicode_minus=False)"
      ],
      "metadata": {
        "id": "FT0FX0e4JIzy"
      },
      "execution_count": null,
      "outputs": []
    },
    {
      "cell_type": "markdown",
      "source": [
        "# 0.데이터로드"
      ],
      "metadata": {
        "id": "bIIU77OQVwtf"
      }
    },
    {
      "cell_type": "code",
      "execution_count": null,
      "metadata": {
        "colab": {
          "base_uri": "https://localhost:8080/"
        },
        "id": "xz5ilThdPMO-",
        "outputId": "44eaa9fa-ce01-40a7-9822-6400d480863a"
      },
      "outputs": [
        {
          "output_type": "stream",
          "name": "stdout",
          "text": [
            "Mounted at /gdrive\n"
          ]
        }
      ],
      "source": [
        "from google.colab import drive\n",
        "drive.mount('/gdrive')"
      ]
    },
    {
      "cell_type": "code",
      "source": [
        "import pandas as pd\n",
        "import numpy as np\n",
        "\n",
        "%matplotlib inline\n",
        "import matplotlib.pyplot as plt\n",
        "import seaborn as sns\n",
        "\n",
        "# 경고 메시지 숨기기\n",
        "import warnings\n",
        "warnings.filterwarnings(action='ignore')"
      ],
      "metadata": {
        "id": "cxCTvZY-Pvez"
      },
      "execution_count": null,
      "outputs": []
    },
    {
      "cell_type": "code",
      "source": [
        "# import gc\n",
        "\n",
        "# def csv_to_parquet(csv_path, save_name):\n",
        "#     df = pd.read_csv(csv_path)\n",
        "#     df.to_parquet(f'./{save_name}.parquet')\n",
        "#     del df\n",
        "#     gc.collect()\n",
        "#     print(save_name, 'Done.')"
      ],
      "metadata": {
        "id": "iqxm6AbDbU3q"
      },
      "execution_count": null,
      "outputs": []
    },
    {
      "cell_type": "code",
      "source": [
        "# csv_to_parquet('/gdrive/MyDrive/Dacon_study/Jeju_road/train.csv', 'train')\n",
        "# csv_to_parquet('/gdrive/MyDrive/Dacon_study/Jeju_road/test.csv', 'test')"
      ],
      "metadata": {
        "colab": {
          "base_uri": "https://localhost:8080/"
        },
        "id": "B0V_3PsabaWU",
        "outputId": "c300cab2-5d01-4fa0-cee8-4fb481bfee24"
      },
      "execution_count": null,
      "outputs": [
        {
          "output_type": "stream",
          "name": "stdout",
          "text": [
            "train Done.\n",
            "test Done.\n"
          ]
        }
      ]
    },
    {
      "cell_type": "code",
      "source": [
        "!cp /gdrive/MyDrive/Dacon_study/Jeju_road/sample_submission.csv ./\n",
        "!cp /gdrive/MyDrive/Dacon_study/Jeju_road/data_info.csv ./\n",
        "!cp /gdrive/MyDrive/Dacon_study/Jeju_road/train.parquet ./\n",
        "!cp //gdrive/MyDrive/Dacon_study/Jeju_road/test.parquet ./"
      ],
      "metadata": {
        "id": "qZwhoqU8P0n9"
      },
      "execution_count": null,
      "outputs": []
    },
    {
      "cell_type": "markdown",
      "source": [
        "## 데이터 불러오기"
      ],
      "metadata": {
        "id": "Cp-BehYolfLj"
      }
    },
    {
      "cell_type": "code",
      "source": [
        "train = pd.read_parquet('train.parquet')\n",
        "test = pd.read_parquet('test.parquet')"
      ],
      "metadata": {
        "id": "_NE6nrHolwEs"
      },
      "execution_count": null,
      "outputs": []
    },
    {
      "cell_type": "code",
      "source": [
        "data_info= pd.read_csv('data_info.csv',encoding='utf8')\n",
        "data_info"
      ],
      "metadata": {
        "colab": {
          "base_uri": "https://localhost:8080/",
          "height": 802
        },
        "id": "5IEdJfS8LNya",
        "outputId": "2fb85778-97aa-4367-b454-4fd278117913"
      },
      "execution_count": null,
      "outputs": [
        {
          "output_type": "execute_result",
          "data": {
            "text/plain": [
              "                      변수명           변수 설명\n",
              "0                      id             아이디\n",
              "1               base_date              날짜\n",
              "2             day_of_week              요일\n",
              "3               base_hour             시간대\n",
              "4             road_in_use          도로사용여부\n",
              "5              lane_count             차로수\n",
              "6             road_rating            도로등급\n",
              "7            multi_linked         중용구간 여부\n",
              "8            connect_code          연결로 코드\n",
              "9     maximum_speed_limit          최고속도제한\n",
              "10      weight_restricted          통과제한하중\n",
              "11      height_restricted          통과제한높이\n",
              "12              road_type            도로유형\n",
              "13         start_latitude        시작지점의 위도\n",
              "14        start_longitude        시작지점의 경도\n",
              "15  start_turn_restricted  시작 지점의 회전제한 유무\n",
              "16           end_latitude        도착지점의 위도\n",
              "17          end_longitude        도착지점의 경도\n",
              "18    end_turn_restricted   도작지점의 회전제한 유무\n",
              "19              road_name             도로명\n",
              "20        start_node_name           시작지점명\n",
              "21          end_node_name           도착지점명\n",
              "22     vehicle_restricted          통과제한차량\n",
              "23                 target        평균속도(km)"
            ],
            "text/html": [
              "\n",
              "  <div id=\"df-67ea0e72-2b2e-45ab-ba89-b293bdc5c043\">\n",
              "    <div class=\"colab-df-container\">\n",
              "      <div>\n",
              "<style scoped>\n",
              "    .dataframe tbody tr th:only-of-type {\n",
              "        vertical-align: middle;\n",
              "    }\n",
              "\n",
              "    .dataframe tbody tr th {\n",
              "        vertical-align: top;\n",
              "    }\n",
              "\n",
              "    .dataframe thead th {\n",
              "        text-align: right;\n",
              "    }\n",
              "</style>\n",
              "<table border=\"1\" class=\"dataframe\">\n",
              "  <thead>\n",
              "    <tr style=\"text-align: right;\">\n",
              "      <th></th>\n",
              "      <th>변수명</th>\n",
              "      <th>변수 설명</th>\n",
              "    </tr>\n",
              "  </thead>\n",
              "  <tbody>\n",
              "    <tr>\n",
              "      <th>0</th>\n",
              "      <td>id</td>\n",
              "      <td>아이디</td>\n",
              "    </tr>\n",
              "    <tr>\n",
              "      <th>1</th>\n",
              "      <td>base_date</td>\n",
              "      <td>날짜</td>\n",
              "    </tr>\n",
              "    <tr>\n",
              "      <th>2</th>\n",
              "      <td>day_of_week</td>\n",
              "      <td>요일</td>\n",
              "    </tr>\n",
              "    <tr>\n",
              "      <th>3</th>\n",
              "      <td>base_hour</td>\n",
              "      <td>시간대</td>\n",
              "    </tr>\n",
              "    <tr>\n",
              "      <th>4</th>\n",
              "      <td>road_in_use</td>\n",
              "      <td>도로사용여부</td>\n",
              "    </tr>\n",
              "    <tr>\n",
              "      <th>5</th>\n",
              "      <td>lane_count</td>\n",
              "      <td>차로수</td>\n",
              "    </tr>\n",
              "    <tr>\n",
              "      <th>6</th>\n",
              "      <td>road_rating</td>\n",
              "      <td>도로등급</td>\n",
              "    </tr>\n",
              "    <tr>\n",
              "      <th>7</th>\n",
              "      <td>multi_linked</td>\n",
              "      <td>중용구간 여부</td>\n",
              "    </tr>\n",
              "    <tr>\n",
              "      <th>8</th>\n",
              "      <td>connect_code</td>\n",
              "      <td>연결로 코드</td>\n",
              "    </tr>\n",
              "    <tr>\n",
              "      <th>9</th>\n",
              "      <td>maximum_speed_limit</td>\n",
              "      <td>최고속도제한</td>\n",
              "    </tr>\n",
              "    <tr>\n",
              "      <th>10</th>\n",
              "      <td>weight_restricted</td>\n",
              "      <td>통과제한하중</td>\n",
              "    </tr>\n",
              "    <tr>\n",
              "      <th>11</th>\n",
              "      <td>height_restricted</td>\n",
              "      <td>통과제한높이</td>\n",
              "    </tr>\n",
              "    <tr>\n",
              "      <th>12</th>\n",
              "      <td>road_type</td>\n",
              "      <td>도로유형</td>\n",
              "    </tr>\n",
              "    <tr>\n",
              "      <th>13</th>\n",
              "      <td>start_latitude</td>\n",
              "      <td>시작지점의 위도</td>\n",
              "    </tr>\n",
              "    <tr>\n",
              "      <th>14</th>\n",
              "      <td>start_longitude</td>\n",
              "      <td>시작지점의 경도</td>\n",
              "    </tr>\n",
              "    <tr>\n",
              "      <th>15</th>\n",
              "      <td>start_turn_restricted</td>\n",
              "      <td>시작 지점의 회전제한 유무</td>\n",
              "    </tr>\n",
              "    <tr>\n",
              "      <th>16</th>\n",
              "      <td>end_latitude</td>\n",
              "      <td>도착지점의 위도</td>\n",
              "    </tr>\n",
              "    <tr>\n",
              "      <th>17</th>\n",
              "      <td>end_longitude</td>\n",
              "      <td>도착지점의 경도</td>\n",
              "    </tr>\n",
              "    <tr>\n",
              "      <th>18</th>\n",
              "      <td>end_turn_restricted</td>\n",
              "      <td>도작지점의 회전제한 유무</td>\n",
              "    </tr>\n",
              "    <tr>\n",
              "      <th>19</th>\n",
              "      <td>road_name</td>\n",
              "      <td>도로명</td>\n",
              "    </tr>\n",
              "    <tr>\n",
              "      <th>20</th>\n",
              "      <td>start_node_name</td>\n",
              "      <td>시작지점명</td>\n",
              "    </tr>\n",
              "    <tr>\n",
              "      <th>21</th>\n",
              "      <td>end_node_name</td>\n",
              "      <td>도착지점명</td>\n",
              "    </tr>\n",
              "    <tr>\n",
              "      <th>22</th>\n",
              "      <td>vehicle_restricted</td>\n",
              "      <td>통과제한차량</td>\n",
              "    </tr>\n",
              "    <tr>\n",
              "      <th>23</th>\n",
              "      <td>target</td>\n",
              "      <td>평균속도(km)</td>\n",
              "    </tr>\n",
              "  </tbody>\n",
              "</table>\n",
              "</div>\n",
              "      <button class=\"colab-df-convert\" onclick=\"convertToInteractive('df-67ea0e72-2b2e-45ab-ba89-b293bdc5c043')\"\n",
              "              title=\"Convert this dataframe to an interactive table.\"\n",
              "              style=\"display:none;\">\n",
              "        \n",
              "  <svg xmlns=\"http://www.w3.org/2000/svg\" height=\"24px\"viewBox=\"0 0 24 24\"\n",
              "       width=\"24px\">\n",
              "    <path d=\"M0 0h24v24H0V0z\" fill=\"none\"/>\n",
              "    <path d=\"M18.56 5.44l.94 2.06.94-2.06 2.06-.94-2.06-.94-.94-2.06-.94 2.06-2.06.94zm-11 1L8.5 8.5l.94-2.06 2.06-.94-2.06-.94L8.5 2.5l-.94 2.06-2.06.94zm10 10l.94 2.06.94-2.06 2.06-.94-2.06-.94-.94-2.06-.94 2.06-2.06.94z\"/><path d=\"M17.41 7.96l-1.37-1.37c-.4-.4-.92-.59-1.43-.59-.52 0-1.04.2-1.43.59L10.3 9.45l-7.72 7.72c-.78.78-.78 2.05 0 2.83L4 21.41c.39.39.9.59 1.41.59.51 0 1.02-.2 1.41-.59l7.78-7.78 2.81-2.81c.8-.78.8-2.07 0-2.86zM5.41 20L4 18.59l7.72-7.72 1.47 1.35L5.41 20z\"/>\n",
              "  </svg>\n",
              "      </button>\n",
              "      \n",
              "  <style>\n",
              "    .colab-df-container {\n",
              "      display:flex;\n",
              "      flex-wrap:wrap;\n",
              "      gap: 12px;\n",
              "    }\n",
              "\n",
              "    .colab-df-convert {\n",
              "      background-color: #E8F0FE;\n",
              "      border: none;\n",
              "      border-radius: 50%;\n",
              "      cursor: pointer;\n",
              "      display: none;\n",
              "      fill: #1967D2;\n",
              "      height: 32px;\n",
              "      padding: 0 0 0 0;\n",
              "      width: 32px;\n",
              "    }\n",
              "\n",
              "    .colab-df-convert:hover {\n",
              "      background-color: #E2EBFA;\n",
              "      box-shadow: 0px 1px 2px rgba(60, 64, 67, 0.3), 0px 1px 3px 1px rgba(60, 64, 67, 0.15);\n",
              "      fill: #174EA6;\n",
              "    }\n",
              "\n",
              "    [theme=dark] .colab-df-convert {\n",
              "      background-color: #3B4455;\n",
              "      fill: #D2E3FC;\n",
              "    }\n",
              "\n",
              "    [theme=dark] .colab-df-convert:hover {\n",
              "      background-color: #434B5C;\n",
              "      box-shadow: 0px 1px 3px 1px rgba(0, 0, 0, 0.15);\n",
              "      filter: drop-shadow(0px 1px 2px rgba(0, 0, 0, 0.3));\n",
              "      fill: #FFFFFF;\n",
              "    }\n",
              "  </style>\n",
              "\n",
              "      <script>\n",
              "        const buttonEl =\n",
              "          document.querySelector('#df-67ea0e72-2b2e-45ab-ba89-b293bdc5c043 button.colab-df-convert');\n",
              "        buttonEl.style.display =\n",
              "          google.colab.kernel.accessAllowed ? 'block' : 'none';\n",
              "\n",
              "        async function convertToInteractive(key) {\n",
              "          const element = document.querySelector('#df-67ea0e72-2b2e-45ab-ba89-b293bdc5c043');\n",
              "          const dataTable =\n",
              "            await google.colab.kernel.invokeFunction('convertToInteractive',\n",
              "                                                     [key], {});\n",
              "          if (!dataTable) return;\n",
              "\n",
              "          const docLinkHtml = 'Like what you see? Visit the ' +\n",
              "            '<a target=\"_blank\" href=https://colab.research.google.com/notebooks/data_table.ipynb>data table notebook</a>'\n",
              "            + ' to learn more about interactive tables.';\n",
              "          element.innerHTML = '';\n",
              "          dataTable['output_type'] = 'display_data';\n",
              "          await google.colab.output.renderOutput(dataTable, element);\n",
              "          const docLink = document.createElement('div');\n",
              "          docLink.innerHTML = docLinkHtml;\n",
              "          element.appendChild(docLink);\n",
              "        }\n",
              "      </script>\n",
              "    </div>\n",
              "  </div>\n",
              "  "
            ]
          },
          "metadata": {},
          "execution_count": 6
        }
      ]
    },
    {
      "cell_type": "code",
      "source": [
        "train.info()"
      ],
      "metadata": {
        "colab": {
          "base_uri": "https://localhost:8080/"
        },
        "id": "HtkNgvTORMAL",
        "outputId": "cd3a0ba2-99ac-4786-d661-bf1f631218de"
      },
      "execution_count": null,
      "outputs": [
        {
          "output_type": "stream",
          "name": "stdout",
          "text": [
            "<class 'pandas.core.frame.DataFrame'>\n",
            "RangeIndex: 4701217 entries, 0 to 4701216\n",
            "Data columns (total 23 columns):\n",
            " #   Column                 Dtype  \n",
            "---  ------                 -----  \n",
            " 0   id                     object \n",
            " 1   base_date              int64  \n",
            " 2   day_of_week            object \n",
            " 3   base_hour              int64  \n",
            " 4   lane_count             int64  \n",
            " 5   road_rating            int64  \n",
            " 6   road_name              object \n",
            " 7   multi_linked           int64  \n",
            " 8   connect_code           int64  \n",
            " 9   maximum_speed_limit    float64\n",
            " 10  vehicle_restricted     float64\n",
            " 11  weight_restricted      float64\n",
            " 12  height_restricted      float64\n",
            " 13  road_type              int64  \n",
            " 14  start_node_name        object \n",
            " 15  start_latitude         float64\n",
            " 16  start_longitude        float64\n",
            " 17  start_turn_restricted  object \n",
            " 18  end_node_name          object \n",
            " 19  end_latitude           float64\n",
            " 20  end_longitude          float64\n",
            " 21  end_turn_restricted    object \n",
            " 22  target                 float64\n",
            "dtypes: float64(9), int64(7), object(7)\n",
            "memory usage: 825.0+ MB\n"
          ]
        }
      ]
    },
    {
      "cell_type": "markdown",
      "source": [
        "* id 아이디 \n",
        "* base_date 날짜\n",
        "* day_of_week 요일\n",
        "* base_hour 시간대\n",
        "* lane_count 차로수\n",
        "* road_rating 도로등급\n",
        "* road_name 도로명\n",
        "* multi_linked 중용구간 여부\n",
        "* connect_code 연결로 코드\n",
        "* maximum_speed_limit 최고속도제한\n",
        "* vehicle_restricted 통과제한차량\n",
        "* weight_restricted 통과제한하중\n",
        "* height_restricted 통과제한높이\n",
        "* road_type 도로유형\n",
        "* start_latitude 시작지점의 위도\n",
        "* start_longitude 시작지점의 경도\n",
        "* start_turn_restricted 시작 지점의 회전제한 유무\n",
        "* end_latitude 도착지점의 위도\n",
        "* end_longitude 도착지점의 경도\n",
        "* end_turn_restricted 도작지점의 회전제한 유무\n",
        "* target 평균속도(km)"
      ],
      "metadata": {
        "id": "85ovDAhiVS69"
      }
    },
    {
      "cell_type": "code",
      "source": [
        "print(train.shape)"
      ],
      "metadata": {
        "colab": {
          "base_uri": "https://localhost:8080/"
        },
        "id": "hTgExa7SROrG",
        "outputId": "90d491d1-0a78-4eaa-eb8f-6bbfcf7aa56b"
      },
      "execution_count": null,
      "outputs": [
        {
          "output_type": "stream",
          "name": "stdout",
          "text": [
            "(4701217, 23)\n"
          ]
        }
      ]
    },
    {
      "cell_type": "code",
      "source": [
        "train.head()"
      ],
      "metadata": {
        "colab": {
          "base_uri": "https://localhost:8080/",
          "height": 369
        },
        "id": "QmKM8SjVQ_fw",
        "outputId": "fcf943b5-b043-4c75-9e57-2718bc7474c6"
      },
      "execution_count": null,
      "outputs": [
        {
          "output_type": "execute_result",
          "data": {
            "text/plain": [
              "              id  base_date day_of_week  base_hour  lane_count  road_rating  \\\n",
              "0  TRAIN_0000000   20220623           목         17           1          106   \n",
              "1  TRAIN_0000001   20220728           목         21           2          103   \n",
              "2  TRAIN_0000002   20211010           일          7           2          103   \n",
              "3  TRAIN_0000003   20220311           금         13           2          107   \n",
              "4  TRAIN_0000004   20211005           화          8           2          103   \n",
              "\n",
              "   road_name  multi_linked  connect_code  maximum_speed_limit  ...  road_type  \\\n",
              "0  지방도1112호선             0             0                 60.0  ...          3   \n",
              "1   일반국도11호선             0             0                 60.0  ...          0   \n",
              "2   일반국도16호선             0             0                 80.0  ...          0   \n",
              "3        태평로             0             0                 50.0  ...          0   \n",
              "4   일반국도12호선             0             0                 80.0  ...          0   \n",
              "\n",
              "   start_node_name  start_latitude  start_longitude start_turn_restricted  \\\n",
              "0            제3교래교       33.427747       126.662612                    없음   \n",
              "1            광양사거리       33.500730       126.529107                    있음   \n",
              "2             창고천교       33.279145       126.368598                    없음   \n",
              "3            남양리조트       33.246081       126.567204                    없음   \n",
              "4             애월샷시       33.462214       126.326551                    없음   \n",
              "\n",
              "   end_node_name  end_latitude end_longitude end_turn_restricted  target  \n",
              "0          제3교래교     33.427749    126.662335                  없음    52.0  \n",
              "1         KAL사거리     33.504811    126.526240                  없음    30.0  \n",
              "2           상창육교     33.280072    126.362147                  없음    61.0  \n",
              "3           서현주택     33.245565    126.566228                  없음    20.0  \n",
              "4           애월입구     33.462677    126.330152                  없음    38.0  \n",
              "\n",
              "[5 rows x 23 columns]"
            ],
            "text/html": [
              "\n",
              "  <div id=\"df-b53db939-16af-491a-bc9b-1b865614ca1e\">\n",
              "    <div class=\"colab-df-container\">\n",
              "      <div>\n",
              "<style scoped>\n",
              "    .dataframe tbody tr th:only-of-type {\n",
              "        vertical-align: middle;\n",
              "    }\n",
              "\n",
              "    .dataframe tbody tr th {\n",
              "        vertical-align: top;\n",
              "    }\n",
              "\n",
              "    .dataframe thead th {\n",
              "        text-align: right;\n",
              "    }\n",
              "</style>\n",
              "<table border=\"1\" class=\"dataframe\">\n",
              "  <thead>\n",
              "    <tr style=\"text-align: right;\">\n",
              "      <th></th>\n",
              "      <th>id</th>\n",
              "      <th>base_date</th>\n",
              "      <th>day_of_week</th>\n",
              "      <th>base_hour</th>\n",
              "      <th>lane_count</th>\n",
              "      <th>road_rating</th>\n",
              "      <th>road_name</th>\n",
              "      <th>multi_linked</th>\n",
              "      <th>connect_code</th>\n",
              "      <th>maximum_speed_limit</th>\n",
              "      <th>...</th>\n",
              "      <th>road_type</th>\n",
              "      <th>start_node_name</th>\n",
              "      <th>start_latitude</th>\n",
              "      <th>start_longitude</th>\n",
              "      <th>start_turn_restricted</th>\n",
              "      <th>end_node_name</th>\n",
              "      <th>end_latitude</th>\n",
              "      <th>end_longitude</th>\n",
              "      <th>end_turn_restricted</th>\n",
              "      <th>target</th>\n",
              "    </tr>\n",
              "  </thead>\n",
              "  <tbody>\n",
              "    <tr>\n",
              "      <th>0</th>\n",
              "      <td>TRAIN_0000000</td>\n",
              "      <td>20220623</td>\n",
              "      <td>목</td>\n",
              "      <td>17</td>\n",
              "      <td>1</td>\n",
              "      <td>106</td>\n",
              "      <td>지방도1112호선</td>\n",
              "      <td>0</td>\n",
              "      <td>0</td>\n",
              "      <td>60.0</td>\n",
              "      <td>...</td>\n",
              "      <td>3</td>\n",
              "      <td>제3교래교</td>\n",
              "      <td>33.427747</td>\n",
              "      <td>126.662612</td>\n",
              "      <td>없음</td>\n",
              "      <td>제3교래교</td>\n",
              "      <td>33.427749</td>\n",
              "      <td>126.662335</td>\n",
              "      <td>없음</td>\n",
              "      <td>52.0</td>\n",
              "    </tr>\n",
              "    <tr>\n",
              "      <th>1</th>\n",
              "      <td>TRAIN_0000001</td>\n",
              "      <td>20220728</td>\n",
              "      <td>목</td>\n",
              "      <td>21</td>\n",
              "      <td>2</td>\n",
              "      <td>103</td>\n",
              "      <td>일반국도11호선</td>\n",
              "      <td>0</td>\n",
              "      <td>0</td>\n",
              "      <td>60.0</td>\n",
              "      <td>...</td>\n",
              "      <td>0</td>\n",
              "      <td>광양사거리</td>\n",
              "      <td>33.500730</td>\n",
              "      <td>126.529107</td>\n",
              "      <td>있음</td>\n",
              "      <td>KAL사거리</td>\n",
              "      <td>33.504811</td>\n",
              "      <td>126.526240</td>\n",
              "      <td>없음</td>\n",
              "      <td>30.0</td>\n",
              "    </tr>\n",
              "    <tr>\n",
              "      <th>2</th>\n",
              "      <td>TRAIN_0000002</td>\n",
              "      <td>20211010</td>\n",
              "      <td>일</td>\n",
              "      <td>7</td>\n",
              "      <td>2</td>\n",
              "      <td>103</td>\n",
              "      <td>일반국도16호선</td>\n",
              "      <td>0</td>\n",
              "      <td>0</td>\n",
              "      <td>80.0</td>\n",
              "      <td>...</td>\n",
              "      <td>0</td>\n",
              "      <td>창고천교</td>\n",
              "      <td>33.279145</td>\n",
              "      <td>126.368598</td>\n",
              "      <td>없음</td>\n",
              "      <td>상창육교</td>\n",
              "      <td>33.280072</td>\n",
              "      <td>126.362147</td>\n",
              "      <td>없음</td>\n",
              "      <td>61.0</td>\n",
              "    </tr>\n",
              "    <tr>\n",
              "      <th>3</th>\n",
              "      <td>TRAIN_0000003</td>\n",
              "      <td>20220311</td>\n",
              "      <td>금</td>\n",
              "      <td>13</td>\n",
              "      <td>2</td>\n",
              "      <td>107</td>\n",
              "      <td>태평로</td>\n",
              "      <td>0</td>\n",
              "      <td>0</td>\n",
              "      <td>50.0</td>\n",
              "      <td>...</td>\n",
              "      <td>0</td>\n",
              "      <td>남양리조트</td>\n",
              "      <td>33.246081</td>\n",
              "      <td>126.567204</td>\n",
              "      <td>없음</td>\n",
              "      <td>서현주택</td>\n",
              "      <td>33.245565</td>\n",
              "      <td>126.566228</td>\n",
              "      <td>없음</td>\n",
              "      <td>20.0</td>\n",
              "    </tr>\n",
              "    <tr>\n",
              "      <th>4</th>\n",
              "      <td>TRAIN_0000004</td>\n",
              "      <td>20211005</td>\n",
              "      <td>화</td>\n",
              "      <td>8</td>\n",
              "      <td>2</td>\n",
              "      <td>103</td>\n",
              "      <td>일반국도12호선</td>\n",
              "      <td>0</td>\n",
              "      <td>0</td>\n",
              "      <td>80.0</td>\n",
              "      <td>...</td>\n",
              "      <td>0</td>\n",
              "      <td>애월샷시</td>\n",
              "      <td>33.462214</td>\n",
              "      <td>126.326551</td>\n",
              "      <td>없음</td>\n",
              "      <td>애월입구</td>\n",
              "      <td>33.462677</td>\n",
              "      <td>126.330152</td>\n",
              "      <td>없음</td>\n",
              "      <td>38.0</td>\n",
              "    </tr>\n",
              "  </tbody>\n",
              "</table>\n",
              "<p>5 rows × 23 columns</p>\n",
              "</div>\n",
              "      <button class=\"colab-df-convert\" onclick=\"convertToInteractive('df-b53db939-16af-491a-bc9b-1b865614ca1e')\"\n",
              "              title=\"Convert this dataframe to an interactive table.\"\n",
              "              style=\"display:none;\">\n",
              "        \n",
              "  <svg xmlns=\"http://www.w3.org/2000/svg\" height=\"24px\"viewBox=\"0 0 24 24\"\n",
              "       width=\"24px\">\n",
              "    <path d=\"M0 0h24v24H0V0z\" fill=\"none\"/>\n",
              "    <path d=\"M18.56 5.44l.94 2.06.94-2.06 2.06-.94-2.06-.94-.94-2.06-.94 2.06-2.06.94zm-11 1L8.5 8.5l.94-2.06 2.06-.94-2.06-.94L8.5 2.5l-.94 2.06-2.06.94zm10 10l.94 2.06.94-2.06 2.06-.94-2.06-.94-.94-2.06-.94 2.06-2.06.94z\"/><path d=\"M17.41 7.96l-1.37-1.37c-.4-.4-.92-.59-1.43-.59-.52 0-1.04.2-1.43.59L10.3 9.45l-7.72 7.72c-.78.78-.78 2.05 0 2.83L4 21.41c.39.39.9.59 1.41.59.51 0 1.02-.2 1.41-.59l7.78-7.78 2.81-2.81c.8-.78.8-2.07 0-2.86zM5.41 20L4 18.59l7.72-7.72 1.47 1.35L5.41 20z\"/>\n",
              "  </svg>\n",
              "      </button>\n",
              "      \n",
              "  <style>\n",
              "    .colab-df-container {\n",
              "      display:flex;\n",
              "      flex-wrap:wrap;\n",
              "      gap: 12px;\n",
              "    }\n",
              "\n",
              "    .colab-df-convert {\n",
              "      background-color: #E8F0FE;\n",
              "      border: none;\n",
              "      border-radius: 50%;\n",
              "      cursor: pointer;\n",
              "      display: none;\n",
              "      fill: #1967D2;\n",
              "      height: 32px;\n",
              "      padding: 0 0 0 0;\n",
              "      width: 32px;\n",
              "    }\n",
              "\n",
              "    .colab-df-convert:hover {\n",
              "      background-color: #E2EBFA;\n",
              "      box-shadow: 0px 1px 2px rgba(60, 64, 67, 0.3), 0px 1px 3px 1px rgba(60, 64, 67, 0.15);\n",
              "      fill: #174EA6;\n",
              "    }\n",
              "\n",
              "    [theme=dark] .colab-df-convert {\n",
              "      background-color: #3B4455;\n",
              "      fill: #D2E3FC;\n",
              "    }\n",
              "\n",
              "    [theme=dark] .colab-df-convert:hover {\n",
              "      background-color: #434B5C;\n",
              "      box-shadow: 0px 1px 3px 1px rgba(0, 0, 0, 0.15);\n",
              "      filter: drop-shadow(0px 1px 2px rgba(0, 0, 0, 0.3));\n",
              "      fill: #FFFFFF;\n",
              "    }\n",
              "  </style>\n",
              "\n",
              "      <script>\n",
              "        const buttonEl =\n",
              "          document.querySelector('#df-b53db939-16af-491a-bc9b-1b865614ca1e button.colab-df-convert');\n",
              "        buttonEl.style.display =\n",
              "          google.colab.kernel.accessAllowed ? 'block' : 'none';\n",
              "\n",
              "        async function convertToInteractive(key) {\n",
              "          const element = document.querySelector('#df-b53db939-16af-491a-bc9b-1b865614ca1e');\n",
              "          const dataTable =\n",
              "            await google.colab.kernel.invokeFunction('convertToInteractive',\n",
              "                                                     [key], {});\n",
              "          if (!dataTable) return;\n",
              "\n",
              "          const docLinkHtml = 'Like what you see? Visit the ' +\n",
              "            '<a target=\"_blank\" href=https://colab.research.google.com/notebooks/data_table.ipynb>data table notebook</a>'\n",
              "            + ' to learn more about interactive tables.';\n",
              "          element.innerHTML = '';\n",
              "          dataTable['output_type'] = 'display_data';\n",
              "          await google.colab.output.renderOutput(dataTable, element);\n",
              "          const docLink = document.createElement('div');\n",
              "          docLink.innerHTML = docLinkHtml;\n",
              "          element.appendChild(docLink);\n",
              "        }\n",
              "      </script>\n",
              "    </div>\n",
              "  </div>\n",
              "  "
            ]
          },
          "metadata": {},
          "execution_count": 9
        }
      ]
    },
    {
      "cell_type": "code",
      "source": [
        "test.head()"
      ],
      "metadata": {
        "colab": {
          "base_uri": "https://localhost:8080/",
          "height": 351
        },
        "id": "vHyIgHshRIhJ",
        "outputId": "5fc46851-c4d5-4b9f-bf40-df425a393a27"
      },
      "execution_count": null,
      "outputs": [
        {
          "output_type": "execute_result",
          "data": {
            "text/plain": [
              "            id  base_date day_of_week  base_hour  lane_count  road_rating  \\\n",
              "0  TEST_000000   20220825           목         17           3          107   \n",
              "1  TEST_000001   20220809           화         12           2          103   \n",
              "2  TEST_000002   20220805           금          2           1          103   \n",
              "3  TEST_000003   20220818           목         23           3          103   \n",
              "4  TEST_000004   20220810           수         17           3          106   \n",
              "\n",
              "  road_name  multi_linked  connect_code  maximum_speed_limit  ...  \\\n",
              "0       연삼로             0             0                 70.0  ...   \n",
              "1  일반국도12호선             0             0                 70.0  ...   \n",
              "2  일반국도16호선             0             0                 60.0  ...   \n",
              "3  일반국도11호선             0             0                 70.0  ...   \n",
              "4       번영로             0             0                 70.0  ...   \n",
              "\n",
              "   height_restricted  road_type  start_node_name  start_latitude  \\\n",
              "0                0.0          0             산지2교       33.499427   \n",
              "1                0.0          3             중문입구       33.258507   \n",
              "2                0.0          0             도순3교       33.258960   \n",
              "3                0.0          0          아라주공아파트       33.473494   \n",
              "4                0.0          0          부록교 시종점       33.501477   \n",
              "\n",
              "  start_longitude  start_turn_restricted  end_node_name end_latitude  \\\n",
              "0      126.541298                     없음        제주은행사거리    33.500772   \n",
              "1      126.427003                     없음         관광단지입구    33.258119   \n",
              "2      126.476508                     없음           도순2교    33.259206   \n",
              "3      126.545647                     없음           인다마을    33.471061   \n",
              "4      126.569223                     없음        봉개교 시종점    33.496863   \n",
              "\n",
              "  end_longitude  end_turn_restricted  \n",
              "0    126.543837                   있음  \n",
              "1    126.415840                   없음  \n",
              "2    126.474687                   없음  \n",
              "3    126.545467                   없음  \n",
              "4    126.581230                   없음  \n",
              "\n",
              "[5 rows x 22 columns]"
            ],
            "text/html": [
              "\n",
              "  <div id=\"df-326e3840-f917-4bd9-a308-10dc6a5c50c7\">\n",
              "    <div class=\"colab-df-container\">\n",
              "      <div>\n",
              "<style scoped>\n",
              "    .dataframe tbody tr th:only-of-type {\n",
              "        vertical-align: middle;\n",
              "    }\n",
              "\n",
              "    .dataframe tbody tr th {\n",
              "        vertical-align: top;\n",
              "    }\n",
              "\n",
              "    .dataframe thead th {\n",
              "        text-align: right;\n",
              "    }\n",
              "</style>\n",
              "<table border=\"1\" class=\"dataframe\">\n",
              "  <thead>\n",
              "    <tr style=\"text-align: right;\">\n",
              "      <th></th>\n",
              "      <th>id</th>\n",
              "      <th>base_date</th>\n",
              "      <th>day_of_week</th>\n",
              "      <th>base_hour</th>\n",
              "      <th>lane_count</th>\n",
              "      <th>road_rating</th>\n",
              "      <th>road_name</th>\n",
              "      <th>multi_linked</th>\n",
              "      <th>connect_code</th>\n",
              "      <th>maximum_speed_limit</th>\n",
              "      <th>...</th>\n",
              "      <th>height_restricted</th>\n",
              "      <th>road_type</th>\n",
              "      <th>start_node_name</th>\n",
              "      <th>start_latitude</th>\n",
              "      <th>start_longitude</th>\n",
              "      <th>start_turn_restricted</th>\n",
              "      <th>end_node_name</th>\n",
              "      <th>end_latitude</th>\n",
              "      <th>end_longitude</th>\n",
              "      <th>end_turn_restricted</th>\n",
              "    </tr>\n",
              "  </thead>\n",
              "  <tbody>\n",
              "    <tr>\n",
              "      <th>0</th>\n",
              "      <td>TEST_000000</td>\n",
              "      <td>20220825</td>\n",
              "      <td>목</td>\n",
              "      <td>17</td>\n",
              "      <td>3</td>\n",
              "      <td>107</td>\n",
              "      <td>연삼로</td>\n",
              "      <td>0</td>\n",
              "      <td>0</td>\n",
              "      <td>70.0</td>\n",
              "      <td>...</td>\n",
              "      <td>0.0</td>\n",
              "      <td>0</td>\n",
              "      <td>산지2교</td>\n",
              "      <td>33.499427</td>\n",
              "      <td>126.541298</td>\n",
              "      <td>없음</td>\n",
              "      <td>제주은행사거리</td>\n",
              "      <td>33.500772</td>\n",
              "      <td>126.543837</td>\n",
              "      <td>있음</td>\n",
              "    </tr>\n",
              "    <tr>\n",
              "      <th>1</th>\n",
              "      <td>TEST_000001</td>\n",
              "      <td>20220809</td>\n",
              "      <td>화</td>\n",
              "      <td>12</td>\n",
              "      <td>2</td>\n",
              "      <td>103</td>\n",
              "      <td>일반국도12호선</td>\n",
              "      <td>0</td>\n",
              "      <td>0</td>\n",
              "      <td>70.0</td>\n",
              "      <td>...</td>\n",
              "      <td>0.0</td>\n",
              "      <td>3</td>\n",
              "      <td>중문입구</td>\n",
              "      <td>33.258507</td>\n",
              "      <td>126.427003</td>\n",
              "      <td>없음</td>\n",
              "      <td>관광단지입구</td>\n",
              "      <td>33.258119</td>\n",
              "      <td>126.415840</td>\n",
              "      <td>없음</td>\n",
              "    </tr>\n",
              "    <tr>\n",
              "      <th>2</th>\n",
              "      <td>TEST_000002</td>\n",
              "      <td>20220805</td>\n",
              "      <td>금</td>\n",
              "      <td>2</td>\n",
              "      <td>1</td>\n",
              "      <td>103</td>\n",
              "      <td>일반국도16호선</td>\n",
              "      <td>0</td>\n",
              "      <td>0</td>\n",
              "      <td>60.0</td>\n",
              "      <td>...</td>\n",
              "      <td>0.0</td>\n",
              "      <td>0</td>\n",
              "      <td>도순3교</td>\n",
              "      <td>33.258960</td>\n",
              "      <td>126.476508</td>\n",
              "      <td>없음</td>\n",
              "      <td>도순2교</td>\n",
              "      <td>33.259206</td>\n",
              "      <td>126.474687</td>\n",
              "      <td>없음</td>\n",
              "    </tr>\n",
              "    <tr>\n",
              "      <th>3</th>\n",
              "      <td>TEST_000003</td>\n",
              "      <td>20220818</td>\n",
              "      <td>목</td>\n",
              "      <td>23</td>\n",
              "      <td>3</td>\n",
              "      <td>103</td>\n",
              "      <td>일반국도11호선</td>\n",
              "      <td>0</td>\n",
              "      <td>0</td>\n",
              "      <td>70.0</td>\n",
              "      <td>...</td>\n",
              "      <td>0.0</td>\n",
              "      <td>0</td>\n",
              "      <td>아라주공아파트</td>\n",
              "      <td>33.473494</td>\n",
              "      <td>126.545647</td>\n",
              "      <td>없음</td>\n",
              "      <td>인다마을</td>\n",
              "      <td>33.471061</td>\n",
              "      <td>126.545467</td>\n",
              "      <td>없음</td>\n",
              "    </tr>\n",
              "    <tr>\n",
              "      <th>4</th>\n",
              "      <td>TEST_000004</td>\n",
              "      <td>20220810</td>\n",
              "      <td>수</td>\n",
              "      <td>17</td>\n",
              "      <td>3</td>\n",
              "      <td>106</td>\n",
              "      <td>번영로</td>\n",
              "      <td>0</td>\n",
              "      <td>0</td>\n",
              "      <td>70.0</td>\n",
              "      <td>...</td>\n",
              "      <td>0.0</td>\n",
              "      <td>0</td>\n",
              "      <td>부록교 시종점</td>\n",
              "      <td>33.501477</td>\n",
              "      <td>126.569223</td>\n",
              "      <td>없음</td>\n",
              "      <td>봉개교 시종점</td>\n",
              "      <td>33.496863</td>\n",
              "      <td>126.581230</td>\n",
              "      <td>없음</td>\n",
              "    </tr>\n",
              "  </tbody>\n",
              "</table>\n",
              "<p>5 rows × 22 columns</p>\n",
              "</div>\n",
              "      <button class=\"colab-df-convert\" onclick=\"convertToInteractive('df-326e3840-f917-4bd9-a308-10dc6a5c50c7')\"\n",
              "              title=\"Convert this dataframe to an interactive table.\"\n",
              "              style=\"display:none;\">\n",
              "        \n",
              "  <svg xmlns=\"http://www.w3.org/2000/svg\" height=\"24px\"viewBox=\"0 0 24 24\"\n",
              "       width=\"24px\">\n",
              "    <path d=\"M0 0h24v24H0V0z\" fill=\"none\"/>\n",
              "    <path d=\"M18.56 5.44l.94 2.06.94-2.06 2.06-.94-2.06-.94-.94-2.06-.94 2.06-2.06.94zm-11 1L8.5 8.5l.94-2.06 2.06-.94-2.06-.94L8.5 2.5l-.94 2.06-2.06.94zm10 10l.94 2.06.94-2.06 2.06-.94-2.06-.94-.94-2.06-.94 2.06-2.06.94z\"/><path d=\"M17.41 7.96l-1.37-1.37c-.4-.4-.92-.59-1.43-.59-.52 0-1.04.2-1.43.59L10.3 9.45l-7.72 7.72c-.78.78-.78 2.05 0 2.83L4 21.41c.39.39.9.59 1.41.59.51 0 1.02-.2 1.41-.59l7.78-7.78 2.81-2.81c.8-.78.8-2.07 0-2.86zM5.41 20L4 18.59l7.72-7.72 1.47 1.35L5.41 20z\"/>\n",
              "  </svg>\n",
              "      </button>\n",
              "      \n",
              "  <style>\n",
              "    .colab-df-container {\n",
              "      display:flex;\n",
              "      flex-wrap:wrap;\n",
              "      gap: 12px;\n",
              "    }\n",
              "\n",
              "    .colab-df-convert {\n",
              "      background-color: #E8F0FE;\n",
              "      border: none;\n",
              "      border-radius: 50%;\n",
              "      cursor: pointer;\n",
              "      display: none;\n",
              "      fill: #1967D2;\n",
              "      height: 32px;\n",
              "      padding: 0 0 0 0;\n",
              "      width: 32px;\n",
              "    }\n",
              "\n",
              "    .colab-df-convert:hover {\n",
              "      background-color: #E2EBFA;\n",
              "      box-shadow: 0px 1px 2px rgba(60, 64, 67, 0.3), 0px 1px 3px 1px rgba(60, 64, 67, 0.15);\n",
              "      fill: #174EA6;\n",
              "    }\n",
              "\n",
              "    [theme=dark] .colab-df-convert {\n",
              "      background-color: #3B4455;\n",
              "      fill: #D2E3FC;\n",
              "    }\n",
              "\n",
              "    [theme=dark] .colab-df-convert:hover {\n",
              "      background-color: #434B5C;\n",
              "      box-shadow: 0px 1px 3px 1px rgba(0, 0, 0, 0.15);\n",
              "      filter: drop-shadow(0px 1px 2px rgba(0, 0, 0, 0.3));\n",
              "      fill: #FFFFFF;\n",
              "    }\n",
              "  </style>\n",
              "\n",
              "      <script>\n",
              "        const buttonEl =\n",
              "          document.querySelector('#df-326e3840-f917-4bd9-a308-10dc6a5c50c7 button.colab-df-convert');\n",
              "        buttonEl.style.display =\n",
              "          google.colab.kernel.accessAllowed ? 'block' : 'none';\n",
              "\n",
              "        async function convertToInteractive(key) {\n",
              "          const element = document.querySelector('#df-326e3840-f917-4bd9-a308-10dc6a5c50c7');\n",
              "          const dataTable =\n",
              "            await google.colab.kernel.invokeFunction('convertToInteractive',\n",
              "                                                     [key], {});\n",
              "          if (!dataTable) return;\n",
              "\n",
              "          const docLinkHtml = 'Like what you see? Visit the ' +\n",
              "            '<a target=\"_blank\" href=https://colab.research.google.com/notebooks/data_table.ipynb>data table notebook</a>'\n",
              "            + ' to learn more about interactive tables.';\n",
              "          element.innerHTML = '';\n",
              "          dataTable['output_type'] = 'display_data';\n",
              "          await google.colab.output.renderOutput(dataTable, element);\n",
              "          const docLink = document.createElement('div');\n",
              "          docLink.innerHTML = docLinkHtml;\n",
              "          element.appendChild(docLink);\n",
              "        }\n",
              "      </script>\n",
              "    </div>\n",
              "  </div>\n",
              "  "
            ]
          },
          "metadata": {},
          "execution_count": 10
        }
      ]
    },
    {
      "cell_type": "code",
      "source": [
        "print(test.shape)"
      ],
      "metadata": {
        "colab": {
          "base_uri": "https://localhost:8080/"
        },
        "id": "KrZrng86V4T-",
        "outputId": "536d06f5-aa23-4458-9111-c1c783047f90"
      },
      "execution_count": null,
      "outputs": [
        {
          "output_type": "stream",
          "name": "stdout",
          "text": [
            "(291241, 22)\n"
          ]
        }
      ]
    },
    {
      "cell_type": "markdown",
      "source": [
        "# 1.데이터 EDA, visualization"
      ],
      "metadata": {
        "id": "vt3aXZLqVzrF"
      }
    },
    {
      "cell_type": "markdown",
      "source": [
        "## data cleansing"
      ],
      "metadata": {
        "id": "N_d925VYV7W5"
      }
    },
    {
      "cell_type": "code",
      "source": [
        "train.isnull().sum()"
      ],
      "metadata": {
        "colab": {
          "base_uri": "https://localhost:8080/"
        },
        "id": "2jth6CSORJdQ",
        "outputId": "5659a99f-b31b-4164-b133-327b51464234"
      },
      "execution_count": null,
      "outputs": [
        {
          "output_type": "execute_result",
          "data": {
            "text/plain": [
              "id                       0\n",
              "base_date                0\n",
              "day_of_week              0\n",
              "base_hour                0\n",
              "lane_count               0\n",
              "road_rating              0\n",
              "road_name                0\n",
              "multi_linked             0\n",
              "connect_code             0\n",
              "maximum_speed_limit      0\n",
              "vehicle_restricted       0\n",
              "weight_restricted        0\n",
              "height_restricted        0\n",
              "road_type                0\n",
              "start_node_name          0\n",
              "start_latitude           0\n",
              "start_longitude          0\n",
              "start_turn_restricted    0\n",
              "end_node_name            0\n",
              "end_latitude             0\n",
              "end_longitude            0\n",
              "end_turn_restricted      0\n",
              "target                   0\n",
              "dtype: int64"
            ]
          },
          "metadata": {},
          "execution_count": 14
        }
      ]
    },
    {
      "cell_type": "code",
      "source": [
        "test.isnull().sum()"
      ],
      "metadata": {
        "colab": {
          "base_uri": "https://localhost:8080/"
        },
        "id": "UUc_g65uV-O2",
        "outputId": "0b473ded-bd96-4036-97dd-5573440ca0e3"
      },
      "execution_count": null,
      "outputs": [
        {
          "output_type": "execute_result",
          "data": {
            "text/plain": [
              "id                       0\n",
              "base_date                0\n",
              "day_of_week              0\n",
              "base_hour                0\n",
              "lane_count               0\n",
              "road_rating              0\n",
              "road_name                0\n",
              "multi_linked             0\n",
              "connect_code             0\n",
              "maximum_speed_limit      0\n",
              "vehicle_restricted       0\n",
              "weight_restricted        0\n",
              "height_restricted        0\n",
              "road_type                0\n",
              "start_node_name          0\n",
              "start_latitude           0\n",
              "start_longitude          0\n",
              "start_turn_restricted    0\n",
              "end_node_name            0\n",
              "end_latitude             0\n",
              "end_longitude            0\n",
              "end_turn_restricted      0\n",
              "dtype: int64"
            ]
          },
          "metadata": {},
          "execution_count": 15
        }
      ]
    },
    {
      "cell_type": "markdown",
      "source": [
        "null값 없다"
      ],
      "metadata": {
        "id": "pKIgkGw6WCXf"
      }
    },
    {
      "cell_type": "code",
      "source": [
        "train['vehicle_restricted'].value_counts()"
      ],
      "metadata": {
        "colab": {
          "base_uri": "https://localhost:8080/"
        },
        "id": "wbsqepRmF9dU",
        "outputId": "9dabfb3f-5c7f-4359-b660-9095d40adee8"
      },
      "execution_count": null,
      "outputs": [
        {
          "output_type": "execute_result",
          "data": {
            "text/plain": [
              "0.0    4701217\n",
              "Name: vehicle_restricted, dtype: int64"
            ]
          },
          "metadata": {},
          "execution_count": 16
        }
      ]
    },
    {
      "cell_type": "code",
      "source": [
        "train['height_restricted'].value_counts()"
      ],
      "metadata": {
        "colab": {
          "base_uri": "https://localhost:8080/"
        },
        "id": "2sucysHeGB6t",
        "outputId": "599bb1e4-147a-4b5b-c3f2-8bb30ac7825c"
      },
      "execution_count": null,
      "outputs": [
        {
          "output_type": "execute_result",
          "data": {
            "text/plain": [
              "0.0    4701217\n",
              "Name: height_restricted, dtype: int64"
            ]
          },
          "metadata": {},
          "execution_count": 17
        }
      ]
    },
    {
      "cell_type": "code",
      "source": [
        "train.drop(['id','vehicle_restricted','height_restricted'],axis=1, inplace = True)"
      ],
      "metadata": {
        "id": "HaUPsruXGGnn"
      },
      "execution_count": null,
      "outputs": []
    },
    {
      "cell_type": "markdown",
      "source": [
        "## Data Visualization"
      ],
      "metadata": {
        "id": "svA9897rIL6d"
      }
    },
    {
      "cell_type": "code",
      "source": [
        "train['day_of_week'].value_counts().index"
      ],
      "metadata": {
        "colab": {
          "base_uri": "https://localhost:8080/"
        },
        "id": "_bYCOz5FQPwt",
        "outputId": "f1329dda-d1ae-4b42-e0c1-7b136cb37549"
      },
      "execution_count": null,
      "outputs": [
        {
          "output_type": "execute_result",
          "data": {
            "text/plain": [
              "Index(['금', '수', '목', '일', '토', '화', '월'], dtype='object')"
            ]
          },
          "metadata": {},
          "execution_count": 42
        }
      ]
    },
    {
      "cell_type": "code",
      "source": [
        "ax= sns.countplot(x='day_of_week',data=train)\n",
        "\n",
        "for p in ax.patches:\n",
        "  height = p.get_height()\n",
        "  ax.text(p.get_x() + p.get_width() / 2., height + 100, height, ha = 'center', size = 9)\n",
        "\n",
        "plt.title('요일별 count')\n",
        "plt.show()"
      ],
      "metadata": {
        "id": "EJ6zbqSPWA6Z",
        "colab": {
          "base_uri": "https://localhost:8080/",
          "height": 297
        },
        "outputId": "b3cb3770-a9ee-4875-8282-18c1ebc71a52"
      },
      "execution_count": null,
      "outputs": [
        {
          "output_type": "display_data",
          "data": {
            "text/plain": [
              "<Figure size 432x288 with 1 Axes>"
            ],
            "image/png": "[encoded data removed]"
          },
          "metadata": {
            "image/png": {
              "width": 406,
              "height": 280
            },
            "needs_background": "light"
          }
        }
      ]
    },
    {
      "cell_type": "code",
      "source": [
        "train['base_hour'].value_counts().to_frame().reset_index()"
      ],
      "metadata": {
        "colab": {
          "base_uri": "https://localhost:8080/",
          "height": 802
        },
        "id": "V102N0-PPlSq",
        "outputId": "14df68a3-4c33-476e-ecac-203fab84a78a"
      },
      "execution_count": null,
      "outputs": [
        {
          "output_type": "execute_result",
          "data": {
            "text/plain": [
              "    index  base_hour\n",
              "0      15     214541\n",
              "1      13     214297\n",
              "2      14     214182\n",
              "3      12     211833\n",
              "4      19     209870\n",
              "5      11     208515\n",
              "6      16     208420\n",
              "7      17     208377\n",
              "8      18     207500\n",
              "9      10     206316\n",
              "10      9     205327\n",
              "11     20     205059\n",
              "12     21     203585\n",
              "13      8     201875\n",
              "14     22     200629\n",
              "15      7     199061\n",
              "16      6     189418\n",
              "17     23     184229\n",
              "18      1     182353\n",
              "19      5     181128\n",
              "20      2     169322\n",
              "21      4     165284\n",
              "22      3     155938\n",
              "23      0     154158"
            ],
            "text/html": [
              "\n",
              "  <div id=\"df-7ce783ba-3ca7-4ca8-ac1b-d7606db6fc51\">\n",
              "    <div class=\"colab-df-container\">\n",
              "      <div>\n",
              "<style scoped>\n",
              "    .dataframe tbody tr th:only-of-type {\n",
              "        vertical-align: middle;\n",
              "    }\n",
              "\n",
              "    .dataframe tbody tr th {\n",
              "        vertical-align: top;\n",
              "    }\n",
              "\n",
              "    .dataframe thead th {\n",
              "        text-align: right;\n",
              "    }\n",
              "</style>\n",
              "<table border=\"1\" class=\"dataframe\">\n",
              "  <thead>\n",
              "    <tr style=\"text-align: right;\">\n",
              "      <th></th>\n",
              "      <th>index</th>\n",
              "      <th>base_hour</th>\n",
              "    </tr>\n",
              "  </thead>\n",
              "  <tbody>\n",
              "    <tr>\n",
              "      <th>0</th>\n",
              "      <td>15</td>\n",
              "      <td>214541</td>\n",
              "    </tr>\n",
              "    <tr>\n",
              "      <th>1</th>\n",
              "      <td>13</td>\n",
              "      <td>214297</td>\n",
              "    </tr>\n",
              "    <tr>\n",
              "      <th>2</th>\n",
              "      <td>14</td>\n",
              "      <td>214182</td>\n",
              "    </tr>\n",
              "    <tr>\n",
              "      <th>3</th>\n",
              "      <td>12</td>\n",
              "      <td>211833</td>\n",
              "    </tr>\n",
              "    <tr>\n",
              "      <th>4</th>\n",
              "      <td>19</td>\n",
              "      <td>209870</td>\n",
              "    </tr>\n",
              "    <tr>\n",
              "      <th>5</th>\n",
              "      <td>11</td>\n",
              "      <td>208515</td>\n",
              "    </tr>\n",
              "    <tr>\n",
              "      <th>6</th>\n",
              "      <td>16</td>\n",
              "      <td>208420</td>\n",
              "    </tr>\n",
              "    <tr>\n",
              "      <th>7</th>\n",
              "      <td>17</td>\n",
              "      <td>208377</td>\n",
              "    </tr>\n",
              "    <tr>\n",
              "      <th>8</th>\n",
              "      <td>18</td>\n",
              "      <td>207500</td>\n",
              "    </tr>\n",
              "    <tr>\n",
              "      <th>9</th>\n",
              "      <td>10</td>\n",
              "      <td>206316</td>\n",
              "    </tr>\n",
              "    <tr>\n",
              "      <th>10</th>\n",
              "      <td>9</td>\n",
              "      <td>205327</td>\n",
              "    </tr>\n",
              "    <tr>\n",
              "      <th>11</th>\n",
              "      <td>20</td>\n",
              "      <td>205059</td>\n",
              "    </tr>\n",
              "    <tr>\n",
              "      <th>12</th>\n",
              "      <td>21</td>\n",
              "      <td>203585</td>\n",
              "    </tr>\n",
              "    <tr>\n",
              "      <th>13</th>\n",
              "      <td>8</td>\n",
              "      <td>201875</td>\n",
              "    </tr>\n",
              "    <tr>\n",
              "      <th>14</th>\n",
              "      <td>22</td>\n",
              "      <td>200629</td>\n",
              "    </tr>\n",
              "    <tr>\n",
              "      <th>15</th>\n",
              "      <td>7</td>\n",
              "      <td>199061</td>\n",
              "    </tr>\n",
              "    <tr>\n",
              "      <th>16</th>\n",
              "      <td>6</td>\n",
              "      <td>189418</td>\n",
              "    </tr>\n",
              "    <tr>\n",
              "      <th>17</th>\n",
              "      <td>23</td>\n",
              "      <td>184229</td>\n",
              "    </tr>\n",
              "    <tr>\n",
              "      <th>18</th>\n",
              "      <td>1</td>\n",
              "      <td>182353</td>\n",
              "    </tr>\n",
              "    <tr>\n",
              "      <th>19</th>\n",
              "      <td>5</td>\n",
              "      <td>181128</td>\n",
              "    </tr>\n",
              "    <tr>\n",
              "      <th>20</th>\n",
              "      <td>2</td>\n",
              "      <td>169322</td>\n",
              "    </tr>\n",
              "    <tr>\n",
              "      <th>21</th>\n",
              "      <td>4</td>\n",
              "      <td>165284</td>\n",
              "    </tr>\n",
              "    <tr>\n",
              "      <th>22</th>\n",
              "      <td>3</td>\n",
              "      <td>155938</td>\n",
              "    </tr>\n",
              "    <tr>\n",
              "      <th>23</th>\n",
              "      <td>0</td>\n",
              "      <td>154158</td>\n",
              "    </tr>\n",
              "  </tbody>\n",
              "</table>\n",
              "</div>\n",
              "      <button class=\"colab-df-convert\" onclick=\"convertToInteractive('df-7ce783ba-3ca7-4ca8-ac1b-d7606db6fc51')\"\n",
              "              title=\"Convert this dataframe to an interactive table.\"\n",
              "              style=\"display:none;\">\n",
              "        \n",
              "  <svg xmlns=\"http://www.w3.org/2000/svg\" height=\"24px\"viewBox=\"0 0 24 24\"\n",
              "       width=\"24px\">\n",
              "    <path d=\"M0 0h24v24H0V0z\" fill=\"none\"/>\n",
              "    <path d=\"M18.56 5.44l.94 2.06.94-2.06 2.06-.94-2.06-.94-.94-2.06-.94 2.06-2.06.94zm-11 1L8.5 8.5l.94-2.06 2.06-.94-2.06-.94L8.5 2.5l-.94 2.06-2.06.94zm10 10l.94 2.06.94-2.06 2.06-.94-2.06-.94-.94-2.06-.94 2.06-2.06.94z\"/><path d=\"M17.41 7.96l-1.37-1.37c-.4-.4-.92-.59-1.43-.59-.52 0-1.04.2-1.43.59L10.3 9.45l-7.72 7.72c-.78.78-.78 2.05 0 2.83L4 21.41c.39.39.9.59 1.41.59.51 0 1.02-.2 1.41-.59l7.78-7.78 2.81-2.81c.8-.78.8-2.07 0-2.86zM5.41 20L4 18.59l7.72-7.72 1.47 1.35L5.41 20z\"/>\n",
              "  </svg>\n",
              "      </button>\n",
              "      \n",
              "  <style>\n",
              "    .colab-df-container {\n",
              "      display:flex;\n",
              "      flex-wrap:wrap;\n",
              "      gap: 12px;\n",
              "    }\n",
              "\n",
              "    .colab-df-convert {\n",
              "      background-color: #E8F0FE;\n",
              "      border: none;\n",
              "      border-radius: 50%;\n",
              "      cursor: pointer;\n",
              "      display: none;\n",
              "      fill: #1967D2;\n",
              "      height: 32px;\n",
              "      padding: 0 0 0 0;\n",
              "      width: 32px;\n",
              "    }\n",
              "\n",
              "    .colab-df-convert:hover {\n",
              "      background-color: #E2EBFA;\n",
              "      box-shadow: 0px 1px 2px rgba(60, 64, 67, 0.3), 0px 1px 3px 1px rgba(60, 64, 67, 0.15);\n",
              "      fill: #174EA6;\n",
              "    }\n",
              "\n",
              "    [theme=dark] .colab-df-convert {\n",
              "      background-color: #3B4455;\n",
              "      fill: #D2E3FC;\n",
              "    }\n",
              "\n",
              "    [theme=dark] .colab-df-convert:hover {\n",
              "      background-color: #434B5C;\n",
              "      box-shadow: 0px 1px 3px 1px rgba(0, 0, 0, 0.15);\n",
              "      filter: drop-shadow(0px 1px 2px rgba(0, 0, 0, 0.3));\n",
              "      fill: #FFFFFF;\n",
              "    }\n",
              "  </style>\n",
              "\n",
              "      <script>\n",
              "        const buttonEl =\n",
              "          document.querySelector('#df-7ce783ba-3ca7-4ca8-ac1b-d7606db6fc51 button.colab-df-convert');\n",
              "        buttonEl.style.display =\n",
              "          google.colab.kernel.accessAllowed ? 'block' : 'none';\n",
              "\n",
              "        async function convertToInteractive(key) {\n",
              "          const element = document.querySelector('#df-7ce783ba-3ca7-4ca8-ac1b-d7606db6fc51');\n",
              "          const dataTable =\n",
              "            await google.colab.kernel.invokeFunction('convertToInteractive',\n",
              "                                                     [key], {});\n",
              "          if (!dataTable) return;\n",
              "\n",
              "          const docLinkHtml = 'Like what you see? Visit the ' +\n",
              "            '<a target=\"_blank\" href=https://colab.research.google.com/notebooks/data_table.ipynb>data table notebook</a>'\n",
              "            + ' to learn more about interactive tables.';\n",
              "          element.innerHTML = '';\n",
              "          dataTable['output_type'] = 'display_data';\n",
              "          await google.colab.output.renderOutput(dataTable, element);\n",
              "          const docLink = document.createElement('div');\n",
              "          docLink.innerHTML = docLinkHtml;\n",
              "          element.appendChild(docLink);\n",
              "        }\n",
              "      </script>\n",
              "    </div>\n",
              "  </div>\n",
              "  "
            ]
          },
          "metadata": {},
          "execution_count": 19
        }
      ]
    },
    {
      "cell_type": "code",
      "source": [
        "plt.figure(figsize=(8,4))\n",
        "sns.lineplot(x='index', y='base_hour',data=train['base_hour'].value_counts().to_frame().reset_index())\n",
        "plt.ylim(0,230000)\n",
        "plt.title('시간별 count')\n",
        "plt.show()"
      ],
      "metadata": {
        "colab": {
          "base_uri": "https://localhost:8080/",
          "height": 297
        },
        "id": "QKoaiQNWJvbl",
        "outputId": "9a459d2e-2108-4bcb-97b8-ee3f66b45ebd"
      },
      "execution_count": null,
      "outputs": [
        {
          "output_type": "display_data",
          "data": {
            "text/plain": [
              "<Figure size 576x288 with 1 Axes>"
            ],
            "image/png": "[encoded data removed]"
          },
          "metadata": {
            "image/png": {
              "width": 517,
              "height": 280
            },
            "needs_background": "light"
          }
        }
      ]
    },
    {
      "cell_type": "code",
      "source": [
        "ax= sns.countplot(x='road_type',data=train)\n",
        "\n",
        "for p in ax.patches:\n",
        "  height = p.get_height()\n",
        "  ax.text(p.get_x() + p.get_width() / 2., height + 100, height, ha = 'center', size = 9)\n",
        "\n",
        "plt.title('도로유형 count')\n",
        "plt.show()"
      ],
      "metadata": {
        "colab": {
          "base_uri": "https://localhost:8080/",
          "height": 297
        },
        "id": "IVxlrx3B5MK8",
        "outputId": "87360ad4-cb6c-4f39-800c-90bdff06ca9f"
      },
      "execution_count": null,
      "outputs": [
        {
          "output_type": "display_data",
          "data": {
            "text/plain": [
              "<Figure size 432x288 with 1 Axes>"
            ],
            "image/png": "[encoded data removed]"
          },
          "metadata": {
            "image/png": {
              "width": 385,
              "height": 280
            },
            "needs_background": "light"
          }
        }
      ]
    },
    {
      "cell_type": "code",
      "source": [
        "ax= sns.countplot(x='maximum_speed_limit',data=train)\n",
        "\n",
        "for p in ax.patches:\n",
        "  height = p.get_height()\n",
        "  ax.text(p.get_x() + p.get_width() / 2., height + 100, height, ha = 'center', size = 9)\n",
        "\n",
        "plt.title('최고속도제한 count')\n",
        "plt.show()\n"
      ],
      "metadata": {
        "colab": {
          "base_uri": "https://localhost:8080/",
          "height": 297
        },
        "id": "sfEvQCQG6GfC",
        "outputId": "e25c248e-b68d-40b3-faf6-e9afb7175d22"
      },
      "execution_count": null,
      "outputs": [
        {
          "output_type": "display_data",
          "data": {
            "text/plain": [
              "<Figure size 432x288 with 1 Axes>"
            ],
            "image/png": "[encoded data removed]"
          },
          "metadata": {
            "image/png": {
              "width": 385,
              "height": 280
            },
            "needs_background": "light"
          }
        }
      ]
    },
    {
      "cell_type": "code",
      "source": [
        "ax= sns.countplot(x='lane_count',data=train)\n",
        "\n",
        "for p in ax.patches:\n",
        "  height = p.get_height()\n",
        "  ax.text(p.get_x() + p.get_width() / 2., height + 100, height, ha = 'center', size = 9)\n",
        "\n",
        "plt.title('차로수 count')\n",
        "plt.show()"
      ],
      "metadata": {
        "colab": {
          "base_uri": "https://localhost:8080/",
          "height": 297
        },
        "id": "luxtvGXx6T5b",
        "outputId": "ca20825b-6a62-4bef-ee15-f27726bf12e8"
      },
      "execution_count": null,
      "outputs": [
        {
          "output_type": "display_data",
          "data": {
            "text/plain": [
              "<Figure size 432x288 with 1 Axes>"
            ],
            "image/png": "[encoded data removed]"
          },
          "metadata": {
            "image/png": {
              "width": 385,
              "height": 280
            },
            "needs_background": "light"
          }
        }
      ]
    },
    {
      "cell_type": "code",
      "source": [
        "ax= sns.countplot(x='multi_linked',data=train)\n",
        "\n",
        "for p in ax.patches:\n",
        "  height = p.get_height()\n",
        "  ax.text(p.get_x() + p.get_width() / 2., height + 100, height, ha = 'center', size = 9)\n",
        "\n",
        "plt.title('중용구간 여부 count')\n",
        "plt.show()"
      ],
      "metadata": {
        "colab": {
          "base_uri": "https://localhost:8080/",
          "height": 297
        },
        "id": "7cIQSbv6DtX2",
        "outputId": "8e12cfc4-1875-45e4-d478-a077c8a87de5"
      },
      "execution_count": null,
      "outputs": [
        {
          "output_type": "display_data",
          "data": {
            "text/plain": [
              "<Figure size 432x288 with 1 Axes>"
            ],
            "image/png": "[encoded data removed]"
          },
          "metadata": {
            "image/png": {
              "width": 377,
              "height": 280
            },
            "needs_background": "light"
          }
        }
      ]
    },
    {
      "cell_type": "markdown",
      "source": [
        "대부분의 도로가 중용구간을 사용하지 않음"
      ],
      "metadata": {
        "id": "HvnqZwWxD9HW"
      }
    },
    {
      "cell_type": "code",
      "source": [
        "train['road_name'].value_counts()"
      ],
      "metadata": {
        "colab": {
          "base_uri": "https://localhost:8080/"
        },
        "id": "kX7If2RjFePd",
        "outputId": "e4c5db70-13b4-4fd1-aa3b-2645f135f691"
      },
      "execution_count": null,
      "outputs": [
        {
          "output_type": "execute_result",
          "data": {
            "text/plain": [
              "일반국도12호선    1046092\n",
              "-            569463\n",
              "일반국도16호선     554510\n",
              "일반국도95호선     248181\n",
              "일반국도11호선     215701\n",
              "             ...   \n",
              "애원로            7718\n",
              "아봉로            7342\n",
              "남조로            6813\n",
              "호서중앙로          2819\n",
              "호근로             587\n",
              "Name: road_name, Length: 61, dtype: int64"
            ]
          },
          "metadata": {},
          "execution_count": 38
        }
      ]
    },
    {
      "cell_type": "code",
      "source": [
        "train['start_turn_restricted'].value_counts()"
      ],
      "metadata": {
        "colab": {
          "base_uri": "https://localhost:8080/"
        },
        "id": "edEEtHhe4hAj",
        "outputId": "a926a6b7-4c4f-49a5-c3bf-bb25d926a549"
      },
      "execution_count": null,
      "outputs": [
        {
          "output_type": "execute_result",
          "data": {
            "text/plain": [
              "없음    4239701\n",
              "있음     461516\n",
              "Name: start_turn_restricted, dtype: int64"
            ]
          },
          "metadata": {},
          "execution_count": 25
        }
      ]
    },
    {
      "cell_type": "code",
      "source": [
        "train['end_turn_restricted'].value_counts()"
      ],
      "metadata": {
        "colab": {
          "base_uri": "https://localhost:8080/"
        },
        "id": "J8GpDTTHBTXg",
        "outputId": "c827bd8b-9ddb-4fb0-b00e-a671a2da0648"
      },
      "execution_count": null,
      "outputs": [
        {
          "output_type": "execute_result",
          "data": {
            "text/plain": [
              "없음    4239599\n",
              "있음     461618\n",
              "Name: end_turn_restricted, dtype: int64"
            ]
          },
          "metadata": {},
          "execution_count": 26
        }
      ]
    },
    {
      "cell_type": "code",
      "source": [
        "plt.figure()\n",
        "sns.histplot(train['target'], bins=100)\n",
        "plt.show()"
      ],
      "metadata": {
        "colab": {
          "base_uri": "https://localhost:8080/",
          "height": 281
        },
        "id": "FnBKVO7THo0w",
        "outputId": "8c49c68c-04f5-4455-cc4f-6d2ed9f7d7d2"
      },
      "execution_count": null,
      "outputs": [
        {
          "output_type": "display_data",
          "data": {
            "text/plain": [
              "<Figure size 432x288 with 1 Axes>"
            ],
            "image/png": "[encoded data removed]"
          },
          "metadata": {
            "image/png": {
              "width": 406,
              "height": 264
            },
            "needs_background": "light"
          }
        }
      ]
    },
    {
      "cell_type": "code",
      "source": [
        "# # date 타입으로 변경\n",
        "# train['base_date'] = train['base_date'].astype(object)\n",
        "# train['base_date'] = pd.to_datetime(train['base_date'],format='%Y%m%d')\n",
        "# train.head()"
      ],
      "metadata": {
        "colab": {
          "base_uri": "https://localhost:8080/",
          "height": 357
        },
        "id": "RSciwCAMCRQt",
        "outputId": "e6ddd5bb-3cdd-4e76-aa66-e223426eda4e"
      },
      "execution_count": null,
      "outputs": [
        {
          "output_type": "execute_result",
          "data": {
            "text/plain": [
              "   base_date day_of_week  base_hour  lane_count  road_rating  road_name  \\\n",
              "0 2022-06-23           목         17           1          106  지방도1112호선   \n",
              "1 2022-07-28           목         21           2          103   일반국도11호선   \n",
              "2 2021-10-10           일          7           2          103   일반국도16호선   \n",
              "3 2022-03-11           금         13           2          107        태평로   \n",
              "4 2021-10-05           화          8           2          103   일반국도12호선   \n",
              "\n",
              "   multi_linked  connect_code  maximum_speed_limit  weight_restricted  \\\n",
              "0             0             0                 60.0            32400.0   \n",
              "1             0             0                 60.0                0.0   \n",
              "2             0             0                 80.0                0.0   \n",
              "3             0             0                 50.0                0.0   \n",
              "4             0             0                 80.0                0.0   \n",
              "\n",
              "   road_type start_node_name  start_latitude  start_longitude  \\\n",
              "0          3           제3교래교       33.427747       126.662612   \n",
              "1          0           광양사거리       33.500730       126.529107   \n",
              "2          0            창고천교       33.279145       126.368598   \n",
              "3          0           남양리조트       33.246081       126.567204   \n",
              "4          0            애월샷시       33.462214       126.326551   \n",
              "\n",
              "  start_turn_restricted end_node_name  end_latitude  end_longitude  \\\n",
              "0                    없음         제3교래교     33.427749     126.662335   \n",
              "1                    있음        KAL사거리     33.504811     126.526240   \n",
              "2                    없음          상창육교     33.280072     126.362147   \n",
              "3                    없음          서현주택     33.245565     126.566228   \n",
              "4                    없음          애월입구     33.462677     126.330152   \n",
              "\n",
              "  end_turn_restricted  target  \n",
              "0                  없음    52.0  \n",
              "1                  없음    30.0  \n",
              "2                  없음    61.0  \n",
              "3                  없음    20.0  \n",
              "4                  없음    38.0  "
            ],
            "text/html": [
              "\n",
              "  <div id=\"df-a385c7d4-cb38-4006-ae47-634b8fa4ad81\">\n",
              "    <div class=\"colab-df-container\">\n",
              "      <div>\n",
              "<style scoped>\n",
              "    .dataframe tbody tr th:only-of-type {\n",
              "        vertical-align: middle;\n",
              "    }\n",
              "\n",
              "    .dataframe tbody tr th {\n",
              "        vertical-align: top;\n",
              "    }\n",
              "\n",
              "    .dataframe thead th {\n",
              "        text-align: right;\n",
              "    }\n",
              "</style>\n",
              "<table border=\"1\" class=\"dataframe\">\n",
              "  <thead>\n",
              "    <tr style=\"text-align: right;\">\n",
              "      <th></th>\n",
              "      <th>base_date</th>\n",
              "      <th>day_of_week</th>\n",
              "      <th>base_hour</th>\n",
              "      <th>lane_count</th>\n",
              "      <th>road_rating</th>\n",
              "      <th>road_name</th>\n",
              "      <th>multi_linked</th>\n",
              "      <th>connect_code</th>\n",
              "      <th>maximum_speed_limit</th>\n",
              "      <th>weight_restricted</th>\n",
              "      <th>road_type</th>\n",
              "      <th>start_node_name</th>\n",
              "      <th>start_latitude</th>\n",
              "      <th>start_longitude</th>\n",
              "      <th>start_turn_restricted</th>\n",
              "      <th>end_node_name</th>\n",
              "      <th>end_latitude</th>\n",
              "      <th>end_longitude</th>\n",
              "      <th>end_turn_restricted</th>\n",
              "      <th>target</th>\n",
              "    </tr>\n",
              "  </thead>\n",
              "  <tbody>\n",
              "    <tr>\n",
              "      <th>0</th>\n",
              "      <td>2022-06-23</td>\n",
              "      <td>목</td>\n",
              "      <td>17</td>\n",
              "      <td>1</td>\n",
              "      <td>106</td>\n",
              "      <td>지방도1112호선</td>\n",
              "      <td>0</td>\n",
              "      <td>0</td>\n",
              "      <td>60.0</td>\n",
              "      <td>32400.0</td>\n",
              "      <td>3</td>\n",
              "      <td>제3교래교</td>\n",
              "      <td>33.427747</td>\n",
              "      <td>126.662612</td>\n",
              "      <td>없음</td>\n",
              "      <td>제3교래교</td>\n",
              "      <td>33.427749</td>\n",
              "      <td>126.662335</td>\n",
              "      <td>없음</td>\n",
              "      <td>52.0</td>\n",
              "    </tr>\n",
              "    <tr>\n",
              "      <th>1</th>\n",
              "      <td>2022-07-28</td>\n",
              "      <td>목</td>\n",
              "      <td>21</td>\n",
              "      <td>2</td>\n",
              "      <td>103</td>\n",
              "      <td>일반국도11호선</td>\n",
              "      <td>0</td>\n",
              "      <td>0</td>\n",
              "      <td>60.0</td>\n",
              "      <td>0.0</td>\n",
              "      <td>0</td>\n",
              "      <td>광양사거리</td>\n",
              "      <td>33.500730</td>\n",
              "      <td>126.529107</td>\n",
              "      <td>있음</td>\n",
              "      <td>KAL사거리</td>\n",
              "      <td>33.504811</td>\n",
              "      <td>126.526240</td>\n",
              "      <td>없음</td>\n",
              "      <td>30.0</td>\n",
              "    </tr>\n",
              "    <tr>\n",
              "      <th>2</th>\n",
              "      <td>2021-10-10</td>\n",
              "      <td>일</td>\n",
              "      <td>7</td>\n",
              "      <td>2</td>\n",
              "      <td>103</td>\n",
              "      <td>일반국도16호선</td>\n",
              "      <td>0</td>\n",
              "      <td>0</td>\n",
              "      <td>80.0</td>\n",
              "      <td>0.0</td>\n",
              "      <td>0</td>\n",
              "      <td>창고천교</td>\n",
              "      <td>33.279145</td>\n",
              "      <td>126.368598</td>\n",
              "      <td>없음</td>\n",
              "      <td>상창육교</td>\n",
              "      <td>33.280072</td>\n",
              "      <td>126.362147</td>\n",
              "      <td>없음</td>\n",
              "      <td>61.0</td>\n",
              "    </tr>\n",
              "    <tr>\n",
              "      <th>3</th>\n",
              "      <td>2022-03-11</td>\n",
              "      <td>금</td>\n",
              "      <td>13</td>\n",
              "      <td>2</td>\n",
              "      <td>107</td>\n",
              "      <td>태평로</td>\n",
              "      <td>0</td>\n",
              "      <td>0</td>\n",
              "      <td>50.0</td>\n",
              "      <td>0.0</td>\n",
              "      <td>0</td>\n",
              "      <td>남양리조트</td>\n",
              "      <td>33.246081</td>\n",
              "      <td>126.567204</td>\n",
              "      <td>없음</td>\n",
              "      <td>서현주택</td>\n",
              "      <td>33.245565</td>\n",
              "      <td>126.566228</td>\n",
              "      <td>없음</td>\n",
              "      <td>20.0</td>\n",
              "    </tr>\n",
              "    <tr>\n",
              "      <th>4</th>\n",
              "      <td>2021-10-05</td>\n",
              "      <td>화</td>\n",
              "      <td>8</td>\n",
              "      <td>2</td>\n",
              "      <td>103</td>\n",
              "      <td>일반국도12호선</td>\n",
              "      <td>0</td>\n",
              "      <td>0</td>\n",
              "      <td>80.0</td>\n",
              "      <td>0.0</td>\n",
              "      <td>0</td>\n",
              "      <td>애월샷시</td>\n",
              "      <td>33.462214</td>\n",
              "      <td>126.326551</td>\n",
              "      <td>없음</td>\n",
              "      <td>애월입구</td>\n",
              "      <td>33.462677</td>\n",
              "      <td>126.330152</td>\n",
              "      <td>없음</td>\n",
              "      <td>38.0</td>\n",
              "    </tr>\n",
              "  </tbody>\n",
              "</table>\n",
              "</div>\n",
              "      <button class=\"colab-df-convert\" onclick=\"convertToInteractive('df-a385c7d4-cb38-4006-ae47-634b8fa4ad81')\"\n",
              "              title=\"Convert this dataframe to an interactive table.\"\n",
              "              style=\"display:none;\">\n",
              "        \n",
              "  <svg xmlns=\"http://www.w3.org/2000/svg\" height=\"24px\"viewBox=\"0 0 24 24\"\n",
              "       width=\"24px\">\n",
              "    <path d=\"M0 0h24v24H0V0z\" fill=\"none\"/>\n",
              "    <path d=\"M18.56 5.44l.94 2.06.94-2.06 2.06-.94-2.06-.94-.94-2.06-.94 2.06-2.06.94zm-11 1L8.5 8.5l.94-2.06 2.06-.94-2.06-.94L8.5 2.5l-.94 2.06-2.06.94zm10 10l.94 2.06.94-2.06 2.06-.94-2.06-.94-.94-2.06-.94 2.06-2.06.94z\"/><path d=\"M17.41 7.96l-1.37-1.37c-.4-.4-.92-.59-1.43-.59-.52 0-1.04.2-1.43.59L10.3 9.45l-7.72 7.72c-.78.78-.78 2.05 0 2.83L4 21.41c.39.39.9.59 1.41.59.51 0 1.02-.2 1.41-.59l7.78-7.78 2.81-2.81c.8-.78.8-2.07 0-2.86zM5.41 20L4 18.59l7.72-7.72 1.47 1.35L5.41 20z\"/>\n",
              "  </svg>\n",
              "      </button>\n",
              "      \n",
              "  <style>\n",
              "    .colab-df-container {\n",
              "      display:flex;\n",
              "      flex-wrap:wrap;\n",
              "      gap: 12px;\n",
              "    }\n",
              "\n",
              "    .colab-df-convert {\n",
              "      background-color: #E8F0FE;\n",
              "      border: none;\n",
              "      border-radius: 50%;\n",
              "      cursor: pointer;\n",
              "      display: none;\n",
              "      fill: #1967D2;\n",
              "      height: 32px;\n",
              "      padding: 0 0 0 0;\n",
              "      width: 32px;\n",
              "    }\n",
              "\n",
              "    .colab-df-convert:hover {\n",
              "      background-color: #E2EBFA;\n",
              "      box-shadow: 0px 1px 2px rgba(60, 64, 67, 0.3), 0px 1px 3px 1px rgba(60, 64, 67, 0.15);\n",
              "      fill: #174EA6;\n",
              "    }\n",
              "\n",
              "    [theme=dark] .colab-df-convert {\n",
              "      background-color: #3B4455;\n",
              "      fill: #D2E3FC;\n",
              "    }\n",
              "\n",
              "    [theme=dark] .colab-df-convert:hover {\n",
              "      background-color: #434B5C;\n",
              "      box-shadow: 0px 1px 3px 1px rgba(0, 0, 0, 0.15);\n",
              "      filter: drop-shadow(0px 1px 2px rgba(0, 0, 0, 0.3));\n",
              "      fill: #FFFFFF;\n",
              "    }\n",
              "  </style>\n",
              "\n",
              "      <script>\n",
              "        const buttonEl =\n",
              "          document.querySelector('#df-a385c7d4-cb38-4006-ae47-634b8fa4ad81 button.colab-df-convert');\n",
              "        buttonEl.style.display =\n",
              "          google.colab.kernel.accessAllowed ? 'block' : 'none';\n",
              "\n",
              "        async function convertToInteractive(key) {\n",
              "          const element = document.querySelector('#df-a385c7d4-cb38-4006-ae47-634b8fa4ad81');\n",
              "          const dataTable =\n",
              "            await google.colab.kernel.invokeFunction('convertToInteractive',\n",
              "                                                     [key], {});\n",
              "          if (!dataTable) return;\n",
              "\n",
              "          const docLinkHtml = 'Like what you see? Visit the ' +\n",
              "            '<a target=\"_blank\" href=https://colab.research.google.com/notebooks/data_table.ipynb>data table notebook</a>'\n",
              "            + ' to learn more about interactive tables.';\n",
              "          element.innerHTML = '';\n",
              "          dataTable['output_type'] = 'display_data';\n",
              "          await google.colab.output.renderOutput(dataTable, element);\n",
              "          const docLink = document.createElement('div');\n",
              "          docLink.innerHTML = docLinkHtml;\n",
              "          element.appendChild(docLink);\n",
              "        }\n",
              "      </script>\n",
              "    </div>\n",
              "  </div>\n",
              "  "
            ]
          },
          "metadata": {},
          "execution_count": 24
        }
      ]
    },
    {
      "cell_type": "code",
      "source": [
        "plt.figure(figsize=(10,5))\n",
        "sns.lineplot(x='index', y='base_date',data=train['base_date'].value_counts().to_frame().reset_index())\n",
        "plt.ylim(0,21000)\n",
        "plt.title('날짜별 count')\n",
        "plt.show()"
      ],
      "metadata": {
        "colab": {
          "base_uri": "https://localhost:8080/",
          "height": 351
        },
        "id": "dyuy0eyca5tU",
        "outputId": "5a9820de-46c3-4e0b-c05d-ae8d4d764aec"
      },
      "execution_count": null,
      "outputs": [
        {
          "output_type": "display_data",
          "data": {
            "text/plain": [
              "<Figure size 720x360 with 1 Axes>"
            ],
            "image/png": "[encoded data removed]"
          },
          "metadata": {
            "image/png": {
              "width": 623,
              "height": 334
            },
            "needs_background": "light"
          }
        }
      ]
    },
    {
      "cell_type": "markdown",
      "source": [
        "# 2.데이터 전처리"
      ],
      "metadata": {
        "id": "rHBuaoyYDi3e"
      }
    },
    {
      "cell_type": "markdown",
      "source": [
        "## start_node_name과 end_node_name을 key값으로 라벨인코딩"
      ],
      "metadata": {
        "id": "eCa5aqUb03wv"
      }
    },
    {
      "cell_type": "code",
      "source": [
        "from sklearn.preprocessing import LabelEncoder\n",
        "encoder = LabelEncoder()"
      ],
      "metadata": {
        "id": "EiUIAa6lFGjp"
      },
      "execution_count": null,
      "outputs": []
    },
    {
      "cell_type": "code",
      "source": [
        "train['node_combination'] = train['start_node_name'] + '_' + train['end_node_name']\n",
        "test['node_combination'] = test['start_node_name'] + '_' + test['end_node_name']"
      ],
      "metadata": {
        "id": "EyYZl6yi06CT"
      },
      "execution_count": null,
      "outputs": []
    },
    {
      "cell_type": "code",
      "source": [
        "train['node_combination'] = encoder.fit_transform(train['node_combination'])"
      ],
      "metadata": {
        "id": "YzM26l9m1CxV"
      },
      "execution_count": null,
      "outputs": []
    },
    {
      "cell_type": "code",
      "source": [
        "# train 셋에서 만든 라벨이 test셋에 없을 경우\n",
        "for category in np.unique(test['node_combination']) :\n",
        "    if category not in encoder.classes_ :\n",
        "        encoder.classes_ = np.append(encoder.classes_, label)\n",
        "test['node_combination'] = encoder.transform(test['node_combination'])"
      ],
      "metadata": {
        "id": "eE92vaEJNUYq"
      },
      "execution_count": null,
      "outputs": []
    },
    {
      "cell_type": "markdown",
      "source": [
        "## 요일 라벨인코딩"
      ],
      "metadata": {
        "id": "7oKXizgnVYnP"
      }
    },
    {
      "cell_type": "code",
      "source": [
        "train['day_of_week'] = encoder.fit_transform(train['day_of_week'])"
      ],
      "metadata": {
        "id": "42eyDf6DVbE_"
      },
      "execution_count": null,
      "outputs": []
    },
    {
      "cell_type": "code",
      "source": [
        "for category in np.unique(test['day_of_week']) :\n",
        "    if category not in encoder.classes_ :\n",
        "        encoder.classes_ = np.append(encoder.classes_, label)\n",
        "test['day_of_week'] = encoder.transform(test['day_of_week'])"
      ],
      "metadata": {
        "id": "5weJHxJ0Vgnk"
      },
      "execution_count": null,
      "outputs": []
    },
    {
      "cell_type": "markdown",
      "source": [
        "## 위경도 좌표로 clustering(Kmeans)"
      ],
      "metadata": {
        "id": "bEyYni2ROSly"
      }
    },
    {
      "cell_type": "code",
      "source": [
        "from sklearn.cluster import KMeans\n",
        "kmeans = KMeans(n_clusters =6, max_iter = 1000, random_state =42, n_init=15)"
      ],
      "metadata": {
        "id": "xviq5OXXORgy"
      },
      "execution_count": null,
      "outputs": []
    },
    {
      "cell_type": "code",
      "source": [
        "train['gps_cls'] = kmeans.fit_predict(train[['start_latitude', 'start_longitude', 'end_latitude', 'end_longitude']])\n",
        "test['gps_cls'] = kmeans.predict(test[['start_latitude', 'start_longitude', 'end_latitude', 'end_longitude']])"
      ],
      "metadata": {
        "id": "BGM5OCc3Okpg"
      },
      "execution_count": null,
      "outputs": []
    },
    {
      "cell_type": "markdown",
      "source": [
        "## 공휴일 기간\n",
        "* 공휴일 기준 1-2일 추가해 binary 화"
      ],
      "metadata": {
        "id": "ZtNoEKa9PE_g"
      }
    },
    {
      "cell_type": "code",
      "source": [
        "train['base_date'] = train['base_date'].astype(str)\n",
        "test['base_date'] = test['base_date'].astype(str)"
      ],
      "metadata": {
        "id": "dOPo_J3MPQN7"
      },
      "execution_count": null,
      "outputs": []
    },
    {
      "cell_type": "code",
      "source": [
        "train['date'] = train['base_date'].str[4:]\n",
        "test['date'] = test['base_date'].str[4:]"
      ],
      "metadata": {
        "id": "yn_l5C7BQPfC"
      },
      "execution_count": null,
      "outputs": []
    },
    {
      "cell_type": "code",
      "source": [
        "h_days = ['1231', '0101', '0102', '0129', '0130', '0131', '0201', '0202', '0228', '0229', '0230', '0301', '0302', \n",
        "          '0505', '0506', '0507', '0508', '0605', '0607', '0606', '0814', '0815', '0816', '0920', '0921', '0504',\n",
        "          '0922', '1002', '1003', '1004', '1008', '1009', '1010', '1224', '1225', '1226']"
      ],
      "metadata": {
        "id": "yN1LnvYUQQZR"
      },
      "execution_count": null,
      "outputs": []
    },
    {
      "cell_type": "code",
      "source": [
        "train['in_h_days'] = train['date'].isin(h_days)\n",
        "test['in_h_days'] = test['date'].isin(h_days)"
      ],
      "metadata": {
        "id": "4u1iSR3EQTCk"
      },
      "execution_count": null,
      "outputs": []
    },
    {
      "cell_type": "markdown",
      "source": [
        "## 날짜에서 연도, 월 추출"
      ],
      "metadata": {
        "id": "2pV0Qh4KQxx-"
      }
    },
    {
      "cell_type": "code",
      "source": [
        "train['base_date'] = pd.to_datetime(train['base_date'])\n",
        "test['base_date'] = pd.to_datetime(test['base_date'])"
      ],
      "metadata": {
        "id": "2ZUt765aQ0C1"
      },
      "execution_count": null,
      "outputs": []
    },
    {
      "cell_type": "code",
      "source": [
        "train['year'] = train['base_date'].dt.year\n",
        "test['year'] = test['base_date'].dt.year"
      ],
      "metadata": {
        "id": "AS4W5Z5iQ38m"
      },
      "execution_count": null,
      "outputs": []
    },
    {
      "cell_type": "code",
      "source": [
        "train['month'] = train['base_date'].dt.month\n",
        "test['month'] = test['base_date'].dt.month"
      ],
      "metadata": {
        "id": "TY3WqUS_Q5dy"
      },
      "execution_count": null,
      "outputs": []
    },
    {
      "cell_type": "markdown",
      "source": [
        "## 계절 변수 생성"
      ],
      "metadata": {
        "id": "6rGloBbXUoBN"
      }
    },
    {
      "cell_type": "code",
      "source": [
        "def get_season(x) :\n",
        "    \n",
        "    if x in [9, 10, 11] :\n",
        "        return 3\n",
        "    elif x in [12, 1, 2] :\n",
        "        return 2\n",
        "    elif x in [3, 4, 5, 6] :\n",
        "        return 1\n",
        "    else :\n",
        "        return 0"
      ],
      "metadata": {
        "id": "893ocJA_Uqla"
      },
      "execution_count": null,
      "outputs": []
    },
    {
      "cell_type": "code",
      "source": [
        "train['season'] = train['month'].apply(get_season)\n",
        "test['season'] = test['month'].apply(get_season)"
      ],
      "metadata": {
        "id": "oaI-a_NGUsW5"
      },
      "execution_count": null,
      "outputs": []
    },
    {
      "cell_type": "markdown",
      "source": [
        "## 도로명 라벨인코딩"
      ],
      "metadata": {
        "id": "aZURt0Z7Y0b8"
      }
    },
    {
      "cell_type": "code",
      "source": [
        "train['road_name'] = encoder.fit_transform(train['road_name'])"
      ],
      "metadata": {
        "id": "iuDVCd1iY2rE"
      },
      "execution_count": null,
      "outputs": []
    },
    {
      "cell_type": "code",
      "source": [
        "for category in np.unique(test['road_name']) :\n",
        "    if category not in encoder.classes_ :\n",
        "        encoder.classes_ = np.append(encoder.classes_, label)\n",
        "test['road_name'] = encoder.transform(test['road_name'])"
      ],
      "metadata": {
        "id": "V048eoAgY54t"
      },
      "execution_count": null,
      "outputs": []
    },
    {
      "cell_type": "markdown",
      "source": [
        "## 시작노드 == 종료 노드 관련 피처 생성"
      ],
      "metadata": {
        "id": "KcmN1S-HZJo-"
      }
    },
    {
      "cell_type": "code",
      "source": [
        "train['node_same'] = train['start_node_name'] == train['end_node_name']\n",
        "test['node_same'] = test['start_node_name'] == test['end_node_name']"
      ],
      "metadata": {
        "id": "qECNG4c4ZIjx"
      },
      "execution_count": null,
      "outputs": []
    },
    {
      "cell_type": "markdown",
      "source": [
        "## 기타 칼럼 라벨인코딩"
      ],
      "metadata": {
        "id": "b2n1LCo-ZRem"
      }
    },
    {
      "cell_type": "code",
      "source": [
        "# start_turn_restricted 라벨인코딩\n",
        "train['start_turn_restricted'] = encoder.fit_transform(train['start_turn_restricted'])"
      ],
      "metadata": {
        "id": "00csLeAYZYtl"
      },
      "execution_count": null,
      "outputs": []
    },
    {
      "cell_type": "code",
      "source": [
        "for category in np.unique(test['start_turn_restricted']) :\n",
        "    if category not in encoder.classes_ :\n",
        "        encoder.classes_ = np.append(encoder.classes_, label)\n",
        "test['start_turn_restricted'] = encoder.transform(test['start_turn_restricted'])"
      ],
      "metadata": {
        "id": "ntP0evunZchY"
      },
      "execution_count": null,
      "outputs": []
    },
    {
      "cell_type": "code",
      "source": [
        "# end_turn_restricted 라벨인코딩\n",
        "train['end_turn_restricted'] = encoder.fit_transform(train['end_turn_restricted'])"
      ],
      "metadata": {
        "id": "Jmhhrf44ZkHO"
      },
      "execution_count": null,
      "outputs": []
    },
    {
      "cell_type": "code",
      "source": [
        "for category in np.unique(test['end_turn_restricted']) :\n",
        "    if category not in encoder.classes_ :\n",
        "        encoder.classes_ = np.append(encoder.classes_, label)\n",
        "test['end_turn_restricted'] = encoder.transform(test['end_turn_restricted'])"
      ],
      "metadata": {
        "id": "IIWDF82WZl5A"
      },
      "execution_count": null,
      "outputs": []
    },
    {
      "cell_type": "markdown",
      "source": [
        "# 3.모델 생성 및 학습"
      ],
      "metadata": {
        "id": "reoqduJsDleg"
      }
    },
    {
      "cell_type": "code",
      "source": [
        "from sklearn.model_selection import StratifiedKFold\n",
        "from sklearn.metrics import mean_absolute_error, mean_squared_error\n",
        "from lightgbm import LGBMRegressor\n",
        "from xgboost import XGBRegressor"
      ],
      "metadata": {
        "id": "rMwoxlAOeNdd"
      },
      "execution_count": null,
      "outputs": []
    },
    {
      "cell_type": "code",
      "source": [
        "train.drop(['start_node_name', 'end_node_name', 'date', 'base_date'], axis = 1, inplace = True)\n",
        "test.drop(['start_node_name', 'end_node_name', 'date', 'base_date'], axis = 1, inplace = True)"
      ],
      "metadata": {
        "id": "p9eFhbJAaTOw"
      },
      "execution_count": null,
      "outputs": []
    },
    {
      "cell_type": "code",
      "source": [
        "X = train.drop(['target'],axis=1)\n",
        "y =train.target"
      ],
      "metadata": {
        "id": "K9Rn5yefaUwg"
      },
      "execution_count": null,
      "outputs": []
    },
    {
      "cell_type": "code",
      "source": [
        "from sklearn.model_selection import train_test_split\n",
        "train_x, val_x, train_y, val_y = train_test_split(X,y, test_size=.20, random_state=42)"
      ],
      "metadata": {
        "id": "dc5cN4ufeB8B"
      },
      "execution_count": null,
      "outputs": []
    },
    {
      "cell_type": "code",
      "source": [
        "target = test[X.columns]"
      ],
      "metadata": {
        "id": "y6TN1L9Gzxfg"
      },
      "execution_count": null,
      "outputs": []
    },
    {
      "cell_type": "markdown",
      "source": [
        "## Stratified KFold\n",
        "\n",
        "* 10 Stratified KFold 진행"
      ],
      "metadata": {
        "id": "iBNDqx60dwFn"
      }
    },
    {
      "cell_type": "code",
      "source": [
        "skf = StratifiedKFold(n_splits = 10, random_state = 42, shuffle = True)"
      ],
      "metadata": {
        "id": "QHgxi3mocUeI"
      },
      "execution_count": null,
      "outputs": []
    },
    {
      "cell_type": "code",
      "source": [
        "standard= X['day_of_week']"
      ],
      "metadata": {
        "id": "GMI2-KD617vc"
      },
      "execution_count": null,
      "outputs": []
    },
    {
      "cell_type": "markdown",
      "source": [
        "## CatBoost"
      ],
      "metadata": {
        "id": "MwJCLys-5bTn"
      }
    },
    {
      "cell_type": "code",
      "source": [
        "!pip install catboost"
      ],
      "metadata": {
        "colab": {
          "base_uri": "https://localhost:8080/"
        },
        "id": "gS-Txozk5ddq",
        "outputId": "7f958c02-adfd-49f1-b8e5-6460013bd2ea"
      },
      "execution_count": null,
      "outputs": [
        {
          "output_type": "stream",
          "name": "stdout",
          "text": [
            "Looking in indexes: https://pypi.org/simple, https://us-python.pkg.dev/colab-wheels/public/simple/\n",
            "Collecting catboost\n",
            "  Downloading catboost-1.1.1-cp38-none-manylinux1_x86_64.whl (76.6 MB)\n",
            "\u001b[2K     \u001b[90m━━━━━━━━━━━━━━━━━━━━━━━━━━━━━━━━━━━━━━━━\u001b[0m \u001b[32m76.6/76.6 MB\u001b[0m \u001b[31m14.7 MB/s\u001b[0m eta \u001b[36m0:00:00\u001b[0m\n",
            "\u001b[?25hRequirement already satisfied: numpy>=1.16.0 in /usr/local/lib/python3.8/dist-packages (from catboost) (1.21.6)\n",
            "Requirement already satisfied: pandas>=0.24.0 in /usr/local/lib/python3.8/dist-packages (from catboost) (1.3.5)\n",
            "Requirement already satisfied: scipy in /usr/local/lib/python3.8/dist-packages (from catboost) (1.7.3)\n",
            "Requirement already satisfied: plotly in /usr/local/lib/python3.8/dist-packages (from catboost) (5.5.0)\n",
            "Requirement already satisfied: graphviz in /usr/local/lib/python3.8/dist-packages (from catboost) (0.10.1)\n",
            "Requirement already satisfied: matplotlib in /usr/local/lib/python3.8/dist-packages (from catboost) (3.2.2)\n",
            "Requirement already satisfied: six in /usr/local/lib/python3.8/dist-packages (from catboost) (1.15.0)\n",
            "Requirement already satisfied: pytz>=2017.3 in /usr/local/lib/python3.8/dist-packages (from pandas>=0.24.0->catboost) (2022.7.1)\n",
            "Requirement already satisfied: python-dateutil>=2.7.3 in /usr/local/lib/python3.8/dist-packages (from pandas>=0.24.0->catboost) (2.8.2)\n",
            "Requirement already satisfied: pyparsing!=2.0.4,!=2.1.2,!=2.1.6,>=2.0.1 in /usr/local/lib/python3.8/dist-packages (from matplotlib->catboost) (3.0.9)\n",
            "Requirement already satisfied: cycler>=0.10 in /usr/local/lib/python3.8/dist-packages (from matplotlib->catboost) (0.11.0)\n",
            "Requirement already satisfied: kiwisolver>=1.0.1 in /usr/local/lib/python3.8/dist-packages (from matplotlib->catboost) (1.4.4)\n",
            "Requirement already satisfied: tenacity>=6.2.0 in /usr/local/lib/python3.8/dist-packages (from plotly->catboost) (8.1.0)\n",
            "Installing collected packages: catboost\n",
            "Successfully installed catboost-1.1.1\n"
          ]
        }
      ]
    },
    {
      "cell_type": "code",
      "source": [
        "# 모델링 라이브러리\n",
        "import catboost as cat\n",
        "from catboost import CatBoostRegressor\n",
        "from sklearn.metrics import mean_absolute_error"
      ],
      "metadata": {
        "id": "Cxy9lMa_5fzN"
      },
      "execution_count": null,
      "outputs": []
    },
    {
      "cell_type": "code",
      "source": [
        "cat_pred = np.zeros(target.shape[0])\n",
        "i = 0\n",
        "cat_mae = []\n",
        "\n",
        "for tr_idx, val_idx in skf.split(X, standard):\n",
        "    \n",
        "    tr_x, tr_y = X.iloc[tr_idx], y.iloc[tr_idx]\n",
        "    val_x, val_y = X.iloc[val_idx], y.iloc[val_idx]\n",
        "\n",
        "    cat = CatBoostRegressor(max_depth = 8, learning_rate = 0.033, use_best_model = True, iterations = 100, eval_metric = 'MAE')\n",
        "\n",
        "    cat.fit(tr_x, tr_y, eval_set = [(tr_x, tr_y), (val_x, val_y)], early_stopping_rounds = 5, verbose = 2500)\n",
        "\n",
        "    val_pred = cat.predict(val_x).astype(int)\n",
        "    fold_mae = mean_absolute_error(val_y, val_pred)\n",
        "    cat_mae.append(fold_mae)\n",
        "    print(f\"{i + 1} Fold MAE = {fold_mae}\")\n",
        "\n",
        "    i += 1\n",
        "\n",
        "    fold_pred = cat.predict(target) / skf.n_splits\n",
        "    cat_pred += fold_pred\n",
        "\n",
        "print(f\"\\nAVG of MAE = {np.mean(cat_mae)}\")"
      ],
      "metadata": {
        "colab": {
          "base_uri": "https://localhost:8080/"
        },
        "id": "q0S9u9w65kpj",
        "outputId": "886b62ad-f2cc-461d-c2ab-bfc497e60a14"
      },
      "execution_count": null,
      "outputs": [
        {
          "output_type": "stream",
          "name": "stdout",
          "text": [
            "0:\tlearn: 12.9530103\ttest: 12.9530103\ttest1: 12.9417618\tbest: 12.9417618 (0)\ttotal: 1.28s\tremaining: 2m 6s\n",
            "99:\tlearn: 6.3472373\ttest: 6.3472373\ttest1: 6.3514706\tbest: 6.3514706 (99)\ttotal: 1m 32s\tremaining: 0us\n",
            "\n",
            "bestTest = 6.351470629\n",
            "bestIteration = 99\n",
            "\n",
            "1 Fold MAE = 6.394601826759862\n",
            "0:\tlearn: 12.9497923\ttest: 12.9497923\ttest1: 12.9626104\tbest: 12.9626104 (0)\ttotal: 789ms\tremaining: 1m 18s\n",
            "99:\tlearn: 6.3284491\ttest: 6.3284491\ttest1: 6.3393925\tbest: 6.3393925 (99)\ttotal: 1m 28s\tremaining: 0us\n",
            "\n",
            "bestTest = 6.339392532\n",
            "bestIteration = 99\n",
            "\n",
            "2 Fold MAE = 6.377221231935541\n",
            "0:\tlearn: 12.9463385\ttest: 12.9463385\ttest1: 12.9679530\tbest: 12.9679530 (0)\ttotal: 819ms\tremaining: 1m 21s\n",
            "99:\tlearn: 6.3588213\ttest: 6.3588213\ttest1: 6.3691712\tbest: 6.3691712 (99)\ttotal: 1m 28s\tremaining: 0us\n",
            "\n",
            "bestTest = 6.36917125\n",
            "bestIteration = 99\n",
            "\n",
            "3 Fold MAE = 6.406024393668027\n",
            "0:\tlearn: 12.9530976\ttest: 12.9530976\ttest1: 12.9414932\tbest: 12.9414932 (0)\ttotal: 786ms\tremaining: 1m 17s\n",
            "99:\tlearn: 6.3570848\ttest: 6.3570848\ttest1: 6.3493769\tbest: 6.3493769 (99)\ttotal: 1m 30s\tremaining: 0us\n",
            "\n",
            "bestTest = 6.349376889\n",
            "bestIteration = 99\n",
            "\n",
            "4 Fold MAE = 6.377718975074555\n",
            "0:\tlearn: 12.9536282\ttest: 12.9536282\ttest1: 12.9365887\tbest: 12.9365887 (0)\ttotal: 901ms\tremaining: 1m 29s\n",
            "99:\tlearn: 6.3414387\ttest: 6.3414387\ttest1: 6.3321061\tbest: 6.3321061 (99)\ttotal: 1m 30s\tremaining: 0us\n",
            "\n",
            "bestTest = 6.332106098\n",
            "bestIteration = 99\n",
            "\n",
            "5 Fold MAE = 6.3731031519477925\n",
            "0:\tlearn: 12.9508379\ttest: 12.9508379\ttest1: 12.9562361\tbest: 12.9562361 (0)\ttotal: 1.16s\tremaining: 1m 54s\n",
            "99:\tlearn: 6.3585210\ttest: 6.3585210\ttest1: 6.3590613\tbest: 6.3590613 (99)\ttotal: 1m 28s\tremaining: 0us\n",
            "\n",
            "bestTest = 6.359061302\n",
            "bestIteration = 99\n",
            "\n",
            "6 Fold MAE = 6.393831813869591\n",
            "0:\tlearn: 12.9484325\ttest: 12.9484325\ttest1: 12.9296483\tbest: 12.9296483 (0)\ttotal: 1.17s\tremaining: 1m 56s\n",
            "99:\tlearn: 6.3193219\ttest: 6.3193219\ttest1: 6.3201290\tbest: 6.3201290 (99)\ttotal: 1m 30s\tremaining: 0us\n",
            "\n",
            "bestTest = 6.320129\n",
            "bestIteration = 99\n",
            "\n",
            "7 Fold MAE = 6.3544760721685005\n",
            "0:\tlearn: 12.9557986\ttest: 12.9557986\ttest1: 12.9789861\tbest: 12.9789861 (0)\ttotal: 936ms\tremaining: 1m 32s\n",
            "99:\tlearn: 6.3409460\ttest: 6.3409460\ttest1: 6.3449732\tbest: 6.3449732 (99)\ttotal: 1m 29s\tremaining: 0us\n",
            "\n",
            "bestTest = 6.344973228\n",
            "bestIteration = 99\n",
            "\n",
            "8 Fold MAE = 6.387259875649035\n",
            "0:\tlearn: 12.9560424\ttest: 12.9560424\ttest1: 12.9577511\tbest: 12.9577511 (0)\ttotal: 808ms\tremaining: 1m 19s\n",
            "99:\tlearn: 6.3262123\ttest: 6.3262123\ttest1: 6.3111093\tbest: 6.3111093 (99)\ttotal: 1m 28s\tremaining: 0us\n",
            "\n",
            "bestTest = 6.311109287\n",
            "bestIteration = 99\n",
            "\n",
            "9 Fold MAE = 6.346827731583996\n",
            "0:\tlearn: 12.9579301\ttest: 12.9579301\ttest1: 12.9521471\tbest: 12.9521471 (0)\ttotal: 806ms\tremaining: 1m 19s\n",
            "99:\tlearn: 6.3302305\ttest: 6.3302305\ttest1: 6.3349659\tbest: 6.3349659 (99)\ttotal: 1m 29s\tremaining: 0us\n",
            "\n",
            "bestTest = 6.334965898\n",
            "bestIteration = 99\n",
            "\n",
            "10 Fold MAE = 6.37429300116353\n",
            "\n",
            "AVG of MAE = 6.378535807382042\n"
          ]
        }
      ]
    },
    {
      "cell_type": "code",
      "source": [
        "np.save('./cat_pred', cat_pred)"
      ],
      "metadata": {
        "id": "bbvuPSaIEEv0"
      },
      "execution_count": null,
      "outputs": []
    },
    {
      "cell_type": "markdown",
      "source": [
        "## XGBoost"
      ],
      "metadata": {
        "id": "Mw06lnlZE9IW"
      }
    },
    {
      "cell_type": "code",
      "source": [
        "!pip install optuna"
      ],
      "metadata": {
        "colab": {
          "base_uri": "https://localhost:8080/"
        },
        "id": "CgLdpbf22RB3",
        "outputId": "5bab95a3-aec2-465f-c25b-bc543d35f3b5"
      },
      "execution_count": null,
      "outputs": [
        {
          "output_type": "stream",
          "name": "stdout",
          "text": [
            "Looking in indexes: https://pypi.org/simple, https://us-python.pkg.dev/colab-wheels/public/simple/\n",
            "Collecting optuna\n",
            "  Downloading optuna-3.1.0-py3-none-any.whl (365 kB)\n",
            "\u001b[2K     \u001b[90m━━━━━━━━━━━━━━━━━━━━━━━━━━━━━━━━━━━━━━\u001b[0m \u001b[32m365.3/365.3 KB\u001b[0m \u001b[31m20.1 MB/s\u001b[0m eta \u001b[36m0:00:00\u001b[0m\n",
            "\u001b[?25hCollecting alembic>=1.5.0\n",
            "  Downloading alembic-1.9.3-py3-none-any.whl (210 kB)\n",
            "\u001b[2K     \u001b[90m━━━━━━━━━━━━━━━━━━━━━━━━━━━━━━━━━━━━━━━\u001b[0m \u001b[32m210.6/210.6 KB\u001b[0m \u001b[31m2.8 MB/s\u001b[0m eta \u001b[36m0:00:00\u001b[0m\n",
            "\u001b[?25hRequirement already satisfied: sqlalchemy>=1.3.0 in /usr/local/lib/python3.8/dist-packages (from optuna) (1.4.46)\n",
            "Requirement already satisfied: tqdm in /usr/local/lib/python3.8/dist-packages (from optuna) (4.64.1)\n",
            "Requirement already satisfied: PyYAML in /usr/local/lib/python3.8/dist-packages (from optuna) (6.0)\n",
            "Requirement already satisfied: numpy in /usr/local/lib/python3.8/dist-packages (from optuna) (1.21.6)\n",
            "Requirement already satisfied: packaging>=20.0 in /usr/local/lib/python3.8/dist-packages (from optuna) (23.0)\n",
            "Collecting cmaes>=0.9.1\n",
            "  Downloading cmaes-0.9.1-py3-none-any.whl (21 kB)\n",
            "Collecting colorlog\n",
            "  Downloading colorlog-6.7.0-py2.py3-none-any.whl (11 kB)\n",
            "Requirement already satisfied: importlib-resources in /usr/local/lib/python3.8/dist-packages (from alembic>=1.5.0->optuna) (5.10.2)\n",
            "Requirement already satisfied: importlib-metadata in /usr/local/lib/python3.8/dist-packages (from alembic>=1.5.0->optuna) (6.0.0)\n",
            "Collecting Mako\n",
            "  Downloading Mako-1.2.4-py3-none-any.whl (78 kB)\n",
            "\u001b[2K     \u001b[90m━━━━━━━━━━━━━━━━━━━━━━━━━━━━━━━━━━━━━━━━\u001b[0m \u001b[32m78.7/78.7 KB\u001b[0m \u001b[31m9.4 MB/s\u001b[0m eta \u001b[36m0:00:00\u001b[0m\n",
            "\u001b[?25hRequirement already satisfied: greenlet!=0.4.17 in /usr/local/lib/python3.8/dist-packages (from sqlalchemy>=1.3.0->optuna) (2.0.2)\n",
            "Requirement already satisfied: zipp>=0.5 in /usr/local/lib/python3.8/dist-packages (from importlib-metadata->alembic>=1.5.0->optuna) (3.12.0)\n",
            "Requirement already satisfied: MarkupSafe>=0.9.2 in /usr/local/lib/python3.8/dist-packages (from Mako->alembic>=1.5.0->optuna) (2.0.1)\n",
            "Installing collected packages: Mako, colorlog, cmaes, alembic, optuna\n",
            "Successfully installed Mako-1.2.4 alembic-1.9.3 cmaes-0.9.1 colorlog-6.7.0 optuna-3.1.0\n"
          ]
        }
      ]
    },
    {
      "cell_type": "code",
      "source": [
        "# Optuna Libraries\n",
        "import optuna\n",
        "from optuna import Trial, visualization\n",
        "from optuna.samplers import TPESampler"
      ],
      "metadata": {
        "id": "IscPe6Kg2SsM"
      },
      "execution_count": null,
      "outputs": []
    },
    {
      "cell_type": "code",
      "source": [
        "# random sampler\n",
        "sampler = TPESampler(seed=10)\n",
        "\n",
        "# define function\n",
        "def objective(trial):\n",
        "\n",
        "    param = {\n",
        "        'objective': 'reg:squarederror',\n",
        "        'verbose': -1,\n",
        "        'tree_method':'gpu_hist',\n",
        "        'predictor':'gpu_predictor',\n",
        "        'metric': 'mae', \n",
        "        'colsample_bytree': trial.suggest_uniform('colsample_bytree', 0.7, 1.0),\n",
        "        'reg_alpha': trial.suggest_uniform('reg_alpha', 0.0, 1.0),\n",
        "        'reg_lambda': trial.suggest_uniform('reg_lambda', 0.0, 3.0),\n",
        "        'max_depth': trial.suggest_int('max_depth',3, 15),\n",
        "        'learning_rate': trial.suggest_loguniform(\"learning_rate\", 0.0001, 0.99),\n",
        "        'n_estimators': trial.suggest_int('n_estimators', 300, 1000),\n",
        "        'min_child_weight': trial.suggest_int('min_child_weight', 2, 10),\n",
        "        'subsample': trial.suggest_loguniform('subsample', 0.4, 1),\n",
        "    }\n",
        "\n",
        "    # Generate model\n",
        "    model_xgb = XGBRegressor(**param)\n",
        "    model_xgb = model_xgb.fit(train_x, train_y, eval_set=[(val_x, val_y)], \n",
        "                           verbose=0, early_stopping_rounds=25)\n",
        "                           \n",
        "    # * 평가 지표\n",
        "    # 원하는 평가 지표에 따라 사용하기                        \n",
        "    MAE = mean_absolute_error(val_y, model_xgb.predict(val_x))\n",
        "    return MAE\n",
        "\n",
        "optuna_xgb = optuna.create_study(direction='minimize', sampler=sampler)\n",
        "\n",
        "# * n_trials의 경우 optuna를 몇번 실행하여 hyper parameter를 찾을 것인지를 정한다.\n",
        "optuna_xgb.optimize(objective, n_trials=10)"
      ],
      "metadata": {
        "colab": {
          "base_uri": "https://localhost:8080/"
        },
        "id": "cmdH79_P2UfU",
        "outputId": "5e0840e3-c0e0-432a-9bfa-879c558f1002"
      },
      "execution_count": null,
      "outputs": [
        {
          "output_type": "stream",
          "name": "stderr",
          "text": [
            "\u001b[32m[I 2023-02-05 12:43:39,511]\u001b[0m A new study created in memory with name: no-name-f0e0ed1d-5f96-4e7a-9f44-8bb6a92098e9\u001b[0m\n",
            "\u001b[32m[I 2023-02-05 12:45:29,229]\u001b[0m Trial 0 finished with value: 3.5171266169167494 and parameters: {'colsample_bytree': 0.9313961929800239, 'reg_alpha': 0.0207519493594015, 'reg_lambda': 1.9009447047788264, 'max_depth': 12, 'learning_rate': 0.009814138060034883, 'n_estimators': 457, 'min_child_weight': 3, 'subsample': 0.8029815922829752}. Best is trial 0 with value: 3.5171266169167494.\u001b[0m\n",
            "\u001b[32m[I 2023-02-05 12:48:01,813]\u001b[0m Trial 1 finished with value: 39.50374599824821 and parameters: {'colsample_bytree': 0.7507332509687606, 'reg_alpha': 0.08833981417401027, 'reg_lambda': 2.056079455103392, 'max_depth': 15, 'learning_rate': 0.00010369930169788347, 'n_estimators': 659, 'min_child_weight': 9, 'subsample': 0.7011462565718398}. Best is trial 0 with value: 3.5171266169167494.\u001b[0m\n",
            "\u001b[32m[I 2023-02-05 12:49:38,805]\u001b[0m Trial 2 finished with value: 3.359110244675721 and parameters: {'colsample_bytree': 0.9165265952295398, 'reg_alpha': 0.29187606817063316, 'reg_lambda': 2.7533223675388303, 'max_depth': 12, 'learning_rate': 0.014716663896881062, 'n_estimators': 399, 'min_child_weight': 5, 'subsample': 0.7418647364337652}. Best is trial 2 with value: 3.359110244675721.\u001b[0m\n",
            "\u001b[32m[I 2023-02-05 12:50:46,450]\u001b[0m Trial 3 finished with value: 3.283842751712625 and parameters: {'colsample_bytree': 0.8325499523268988, 'reg_alpha': 0.4340139933332937, 'reg_lambda': 1.8533009354079515, 'max_depth': 9, 'learning_rate': 0.03969628551462024, 'n_estimators': 721, 'min_child_weight': 9, 'subsample': 0.6451255817003931}. Best is trial 3 with value: 3.283842751712625.\u001b[0m\n",
            "\u001b[32m[I 2023-02-05 12:51:49,314]\u001b[0m Trial 4 finished with value: 32.958998592727596 and parameters: {'colsample_bytree': 0.9725946642426004, 'reg_alpha': 0.3192360889885453, 'reg_lambda': 0.2713780478127221, 'max_depth': 6, 'learning_rate': 0.00028539077307365154, 'n_estimators': 880, 'min_child_weight': 2, 'subsample': 0.7100430887666348}. Best is trial 3 with value: 3.283842751712625.\u001b[0m\n",
            "\u001b[32m[I 2023-02-05 12:57:31,666]\u001b[0m Trial 5 finished with value: 6.173662451036033 and parameters: {'colsample_bytree': 0.8642758467757731, 'reg_alpha': 0.8192869956700687, 'reg_lambda': 0.5968426190364369, 'max_depth': 14, 'learning_rate': 0.0025414154300576705, 'n_estimators': 829, 'min_child_weight': 4, 'subsample': 0.8991117674120654}. Best is trial 3 with value: 3.283842751712625.\u001b[0m\n",
            "\u001b[32m[I 2023-02-05 12:57:57,460]\u001b[0m Trial 6 finished with value: 4.05929336617188 and parameters: {'colsample_bytree': 0.7976534913496746, 'reg_alpha': 0.16501589771914849, 'reg_lambda': 1.1775877318397618, 'max_depth': 4, 'learning_rate': 0.19091439033147106, 'n_estimators': 405, 'min_child_weight': 5, 'subsample': 0.9502089295012875}. Best is trial 3 with value: 3.283842751712625.\u001b[0m\n",
            "\u001b[32m[I 2023-02-05 12:58:54,145]\u001b[0m Trial 7 finished with value: 4.018178189530234 and parameters: {'colsample_bytree': 0.9962876424705617, 'reg_alpha': 0.4563045470947841, 'reg_lambda': 2.4783685315282193, 'max_depth': 6, 'learning_rate': 0.024371327286040727, 'n_estimators': 932, 'min_child_weight': 6, 'subsample': 0.6869493656576533}. Best is trial 3 with value: 3.283842751712625.\u001b[0m\n",
            "\u001b[32m[I 2023-02-05 12:59:54,187]\u001b[0m Trial 8 finished with value: 9.40863231400926 and parameters: {'colsample_bytree': 0.7117845301676161, 'reg_alpha': 0.3571817586345363, 'reg_lambda': 0.23883927046789255, 'max_depth': 6, 'learning_rate': 0.0020962048548772948, 'n_estimators': 842, 'min_child_weight': 2, 'subsample': 0.5928872521372353}. Best is trial 3 with value: 3.283842751712625.\u001b[0m\n",
            "\u001b[32m[I 2023-02-05 13:00:32,715]\u001b[0m Trial 9 finished with value: 3.966151341083704 and parameters: {'colsample_bytree': 0.7944780615528064, 'reg_alpha': 0.6364911430675446, 'reg_lambda': 1.039041450240099, 'max_depth': 3, 'learning_rate': 0.3279593670470955, 'n_estimators': 835, 'min_child_weight': 9, 'subsample': 0.5864129921339165}. Best is trial 3 with value: 3.283842751712625.\u001b[0m\n"
          ]
        }
      ]
    },
    {
      "cell_type": "code",
      "source": [
        "xgb_trial = optuna_xgb.best_trial\n",
        "xgb_trial_params = xgb_trial.params\n",
        "print('Best Trial: score {},\\nparams {}'.format(xgb_trial.value, xgb_trial_params))"
      ],
      "metadata": {
        "colab": {
          "base_uri": "https://localhost:8080/"
        },
        "id": "aIS92er32XhN",
        "outputId": "d4afda9f-9abd-4ec8-ad9f-855d8f1b6ffc"
      },
      "execution_count": null,
      "outputs": [
        {
          "output_type": "stream",
          "name": "stdout",
          "text": [
            "Best Trial: score 3.283842751712625,\n",
            "params {'colsample_bytree': 0.8325499523268988, 'reg_alpha': 0.4340139933332937, 'reg_lambda': 1.8533009354079515, 'max_depth': 9, 'learning_rate': 0.03969628551462024, 'n_estimators': 721, 'min_child_weight': 9, 'subsample': 0.6451255817003931}\n"
          ]
        }
      ]
    },
    {
      "cell_type": "markdown",
      "source": [
        "Best Trial: score 3.283842751712625,\n",
        "\n",
        "params {'colsample_bytree': 0.8325499523268988, 'reg_alpha': 0.4340139933332937, 'reg_lambda': 1.8533009354079515, 'max_depth': 9, 'learning_rate': 0.03969628551462024, 'n_estimators': 721, 'min_child_weight': 9, 'subsample': 0.6451255817003931}"
      ],
      "metadata": {
        "id": "peCh3kvPz7yE"
      }
    },
    {
      "cell_type": "code",
      "source": [
        "# optuna로 얻은 best parameters\n",
        "xgb_trial_params = {'objective': 'reg:squarederror',\n",
        "                    'metric': 'mae', \n",
        "                    'colsample_bytree': 0.8325499523268988, \n",
        "                    'reg_alpha': 0.4340139933332937, \n",
        "                    'reg_lambda': 1.8533009354079515, \n",
        "                    'max_depth': 9, \n",
        "                    'learning_rate': 0.03969628551462024, \n",
        "                    'n_estimators': 721, \n",
        "                    'min_child_weight': 9, \n",
        "                    'subsample': 0.6451255817003931,\n",
        "                    'tree_method':'gpu_hist',\n",
        "                    'predictor':'gpu_predictor'}"
      ],
      "metadata": {
        "id": "ubn93QDsgr5K"
      },
      "execution_count": null,
      "outputs": []
    },
    {
      "cell_type": "code",
      "source": [
        "xgb_pred = np.zeros(target.shape[0])\n",
        "i = 0\n",
        "xgb_mae = []\n",
        "\n",
        "for tr_idx, val_idx in skf.split(X,standard):\n",
        "    \n",
        "    tr_x, tr_y = X.iloc[tr_idx], y.iloc[tr_idx]\n",
        "    val_x, val_y = X.iloc[val_idx], y.iloc[val_idx]\n",
        "\n",
        "    xgb = XGBRegressor(**xgb_trial_params)\n",
        "    xgb.fit(tr_x, tr_y, eval_set = [(tr_x, tr_y), (val_x, val_y)], early_stopping_rounds = 8, verbose = 1000, eval_metric = 'mae')\n",
        "\n",
        "    val_pred = xgb.predict(val_x).astype(int)\n",
        "    fold_mae = mean_absolute_error(val_y, val_pred)\n",
        "    xgb_mae.append(fold_mae)\n",
        "    print(f\"{i + 1} Fold MAE = {fold_mae}\")\n",
        "\n",
        "    i += 1\n",
        "\n",
        "    fold_pred = xgb.predict(target) / skf.n_splits\n",
        "    xgb_pred += fold_pred\n",
        "\n",
        "print(f\"\\nAVG of MAE = {np.mean(xgb_mae)}\")"
      ],
      "metadata": {
        "colab": {
          "base_uri": "https://localhost:8080/"
        },
        "id": "cVcfzPH9FG6s",
        "outputId": "f407120d-c1b7-45c4-e5c6-69e8760362b8"
      },
      "execution_count": null,
      "outputs": [
        {
          "output_type": "stream",
          "name": "stdout",
          "text": [
            "[0]\tvalidation_0-mae:40.6196\tvalidation_1-mae:40.5697\n",
            "Multiple eval metrics have been passed: 'validation_1-mae' will be used for early stopping.\n",
            "\n",
            "Will train until validation_1-mae hasn't improved in 8 rounds.\n",
            "[720]\tvalidation_0-mae:3.28076\tvalidation_1-mae:3.30613\n",
            "1 Fold MAE = 3.3610722323141653\n",
            "[0]\tvalidation_0-mae:40.6128\tvalidation_1-mae:40.631\n",
            "Multiple eval metrics have been passed: 'validation_1-mae' will be used for early stopping.\n",
            "\n",
            "Will train until validation_1-mae hasn't improved in 8 rounds.\n",
            "[720]\tvalidation_0-mae:3.26243\tvalidation_1-mae:3.29245\n",
            "2 Fold MAE = 3.3464100807875403\n",
            "[0]\tvalidation_0-mae:40.6188\tvalidation_1-mae:40.5768\n",
            "Multiple eval metrics have been passed: 'validation_1-mae' will be used for early stopping.\n",
            "\n",
            "Will train until validation_1-mae hasn't improved in 8 rounds.\n",
            "[720]\tvalidation_0-mae:3.24894\tvalidation_1-mae:3.27191\n",
            "3 Fold MAE = 3.326861963490328\n",
            "[0]\tvalidation_0-mae:40.6099\tvalidation_1-mae:40.6587\n",
            "Multiple eval metrics have been passed: 'validation_1-mae' will be used for early stopping.\n",
            "\n",
            "Will train until validation_1-mae hasn't improved in 8 rounds.\n",
            "[720]\tvalidation_0-mae:3.28677\tvalidation_1-mae:3.30658\n",
            "4 Fold MAE = 3.3608765384304498\n",
            "[0]\tvalidation_0-mae:40.6137\tvalidation_1-mae:40.6224\n",
            "Multiple eval metrics have been passed: 'validation_1-mae' will be used for early stopping.\n",
            "\n",
            "Will train until validation_1-mae hasn't improved in 8 rounds.\n",
            "[720]\tvalidation_0-mae:3.28064\tvalidation_1-mae:3.30605\n",
            "5 Fold MAE = 3.3603894308285933\n",
            "[0]\tvalidation_0-mae:40.6106\tvalidation_1-mae:40.6498\n",
            "Multiple eval metrics have been passed: 'validation_1-mae' will be used for early stopping.\n",
            "\n",
            "Will train until validation_1-mae hasn't improved in 8 rounds.\n",
            "[720]\tvalidation_0-mae:3.2662\tvalidation_1-mae:3.28266\n",
            "6 Fold MAE = 3.337810185441226\n",
            "[0]\tvalidation_0-mae:40.6176\tvalidation_1-mae:40.585\n",
            "Multiple eval metrics have been passed: 'validation_1-mae' will be used for early stopping.\n",
            "\n",
            "Will train until validation_1-mae hasn't improved in 8 rounds.\n",
            "[720]\tvalidation_0-mae:3.26539\tvalidation_1-mae:3.28789\n",
            "7 Fold MAE = 3.3430747763346536\n",
            "[0]\tvalidation_0-mae:40.6164\tvalidation_1-mae:40.5979\n",
            "Multiple eval metrics have been passed: 'validation_1-mae' will be used for early stopping.\n",
            "\n",
            "Will train until validation_1-mae hasn't improved in 8 rounds.\n",
            "[720]\tvalidation_0-mae:3.26423\tvalidation_1-mae:3.29591\n",
            "8 Fold MAE = 3.351107480840039\n",
            "[0]\tvalidation_0-mae:40.6137\tvalidation_1-mae:40.6248\n",
            "Multiple eval metrics have been passed: 'validation_1-mae' will be used for early stopping.\n",
            "\n",
            "Will train until validation_1-mae hasn't improved in 8 rounds.\n",
            "[720]\tvalidation_0-mae:3.24658\tvalidation_1-mae:3.26553\n",
            "9 Fold MAE = 3.3202494676902328\n",
            "[0]\tvalidation_0-mae:40.6128\tvalidation_1-mae:40.6301\n",
            "Multiple eval metrics have been passed: 'validation_1-mae' will be used for early stopping.\n",
            "\n",
            "Will train until validation_1-mae hasn't improved in 8 rounds.\n",
            "[720]\tvalidation_0-mae:3.27448\tvalidation_1-mae:3.2988\n",
            "10 Fold MAE = 3.353275007923492\n",
            "\n",
            "AVG of MAE = 3.346112716408072\n"
          ]
        }
      ]
    },
    {
      "cell_type": "code",
      "source": [
        "np.save('./xgb_pred', xgb_pred)"
      ],
      "metadata": {
        "id": "KTTAe_xjGSvM"
      },
      "execution_count": null,
      "outputs": []
    },
    {
      "cell_type": "markdown",
      "source": [
        "# 4.제출"
      ],
      "metadata": {
        "id": "2GL_M0x0Dqk8"
      }
    },
    {
      "cell_type": "code",
      "source": [
        "submission = pd.read_csv('sample_submission.csv')"
      ],
      "metadata": {
        "id": "GXoEZAk6DdBx"
      },
      "execution_count": null,
      "outputs": []
    },
    {
      "cell_type": "code",
      "source": [
        "### CatBoost\n",
        "cat_pred = np.load('./cat_pred.npy')\n",
        "\n",
        "### XGBoost\n",
        "xgb_pred = np.load('./xgb_pred.npy')"
      ],
      "metadata": {
        "id": "O45swJE3erMl"
      },
      "execution_count": null,
      "outputs": []
    },
    {
      "cell_type": "code",
      "source": [
        "submission.loc[target.index, 'target'] = xgb_pred * 0.8 + cat_pred * 0.2"
      ],
      "metadata": {
        "id": "LwemXWpNevRR"
      },
      "execution_count": null,
      "outputs": []
    },
    {
      "cell_type": "code",
      "source": [
        "submission['target'] = round(submission['target'], 0)\n",
        "submission.to_csv('cat_xgb.csv', index = False)"
      ],
      "metadata": {
        "id": "Ekg6OvW0e0SB"
      },
      "execution_count": null,
      "outputs": []
    },
    {
      "cell_type": "markdown",
      "source": [
        "# 5. 결론\n",
        "스코어 기준: MAE\n",
        "1. 23.02.09 제출 스코어:3.68979\n",
        "* 사용모델: XGBoostRegressor + CatBoostRegressor\n",
        "* 전처리: feature engineering(label encoding, clustering 등)\n",
        "* 하이퍼파라미터튜닝: optuna\n",
        "* validation: StratifiedKFold 10"
      ],
      "metadata": {
        "id": "xSOVB6Q1WWYk"
      }
    },
    {
      "cell_type": "markdown",
      "source": [
        "## 한계점 및 발전방안\n",
        "* Data leakage 발생하지 않도록 전처리, 모델링 구성해야 함.\n",
        "* 제주도 외부데이터를 사용 시 성능 향상 기대된다."
      ],
      "metadata": {
        "id": "f1BylJDCZGBy"
      }
    },
    {
      "cell_type": "code",
      "source": [],
      "metadata": {
        "id": "WWghk5FAZFgP"
      },
      "execution_count": null,
      "outputs": []
    }
  ]
}