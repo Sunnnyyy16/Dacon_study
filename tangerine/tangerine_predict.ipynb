{
  "nbformat": 4,
  "nbformat_minor": 0,
  "metadata": {
    "colab": {
      "provenance": [],
      "gpuType": "A100",
      "mount_file_id": "1eMbuGjc3RRE2EqyUvprTXpfCBNymzlm9",
      "authorship_tag": "ABX9TyMH+zJvGcjLGd5suqX6Sy01",
      "include_colab_link": true
    },
    "kernelspec": {
      "name": "python3",
      "display_name": "Python 3"
    },
    "language_info": {
      "name": "python"
    },
    "accelerator": "GPU",
    "gpuClass": "standard"
  },
  "cells": [
    {
      "cell_type": "markdown",
      "metadata": {
        "id": "view-in-github",
        "colab_type": "text"
      },
      "source": [
        "<a href=\"https://colab.research.google.com/github/Sunnnyyy16/Dacon_study/blob/main/tangerine/tangerine_predict.ipynb\" target=\"_parent\"><img src=\"https://colab.research.google.com/assets/colab-badge.svg\" alt=\"Open In Colab\"/></a>"
      ]
    },
    {
      "cell_type": "markdown",
      "source": [
        "# 감귤 착과량 예측 AI 경진대회\n",
        "대회사이트: https://dacon.io/competitions/official/236038/overview/description\n",
        "\n",
        "감귤 착과량 예측 AI 모델 개발\n",
        "# 목차\n",
        "0. 데이터로드\n",
        "1. 데이터 EDA, visualization\n",
        "2. 데이터 전처리\n",
        "3. 모델 생성 및 학습\n",
        "4. 제출\n",
        "5. 결론\n",
        "\n",
        "* 참고\n",
        "\n",
        "https://dacon.io/competitions/official/236038/codeshare/7304?page=1&dtype=recent"
      ],
      "metadata": {
        "id": "-G7o9Bc0AVSI"
      }
    },
    {
      "cell_type": "code",
      "source": [
        "# 한글 폰트 설치\n",
        "!sudo apt-get install -y fonts-nanum\n",
        "!sudo fc-cache -fv\n",
        "!rm ~/.cache/matplotlib -rf"
      ],
      "metadata": {
        "colab": {
          "base_uri": "https://localhost:8080/"
        },
        "id": "kjHKunJJk2E6",
        "outputId": "fd746fcc-a70a-473b-b704-b0a14735ffd0"
      },
      "execution_count": 1,
      "outputs": [
        {
          "output_type": "stream",
          "name": "stdout",
          "text": [
            "Reading package lists... Done\n",
            "Building dependency tree       \n",
            "Reading state information... Done\n",
            "The following NEW packages will be installed:\n",
            "  fonts-nanum\n",
            "0 upgraded, 1 newly installed, 0 to remove and 24 not upgraded.\n",
            "Need to get 9,599 kB of archives.\n",
            "After this operation, 29.6 MB of additional disk space will be used.\n",
            "Get:1 http://archive.ubuntu.com/ubuntu focal/universe amd64 fonts-nanum all 20180306-3 [9,599 kB]\n",
            "Fetched 9,599 kB in 1s (8,268 kB/s)\n",
            "debconf: unable to initialize frontend: Dialog\n",
            "debconf: (No usable dialog-like program is installed, so the dialog based frontend cannot be used. at /usr/share/perl5/Debconf/FrontEnd/Dialog.pm line 76, <> line 1.)\n",
            "debconf: falling back to frontend: Readline\n",
            "debconf: unable to initialize frontend: Readline\n",
            "debconf: (This frontend requires a controlling tty.)\n",
            "debconf: falling back to frontend: Teletype\n",
            "dpkg-preconfigure: unable to re-open stdin: \n",
            "Selecting previously unselected package fonts-nanum.\n",
            "(Reading database ... 122349 files and directories currently installed.)\n",
            "Preparing to unpack .../fonts-nanum_20180306-3_all.deb ...\n",
            "Unpacking fonts-nanum (20180306-3) ...\n",
            "Setting up fonts-nanum (20180306-3) ...\n",
            "Processing triggers for fontconfig (2.13.1-2ubuntu3) ...\n",
            "/usr/share/fonts: caching, new cache contents: 0 fonts, 1 dirs\n",
            "/usr/share/fonts/truetype: caching, new cache contents: 0 fonts, 3 dirs\n",
            "/usr/share/fonts/truetype/humor-sans: caching, new cache contents: 1 fonts, 0 dirs\n",
            "/usr/share/fonts/truetype/liberation: caching, new cache contents: 16 fonts, 0 dirs\n",
            "/usr/share/fonts/truetype/nanum: caching, new cache contents: 10 fonts, 0 dirs\n",
            "/usr/local/share/fonts: caching, new cache contents: 0 fonts, 0 dirs\n",
            "/root/.local/share/fonts: skipping, no such directory\n",
            "/root/.fonts: skipping, no such directory\n",
            "/usr/share/fonts/truetype: skipping, looped directory detected\n",
            "/usr/share/fonts/truetype/humor-sans: skipping, looped directory detected\n",
            "/usr/share/fonts/truetype/liberation: skipping, looped directory detected\n",
            "/usr/share/fonts/truetype/nanum: skipping, looped directory detected\n",
            "/var/cache/fontconfig: cleaning cache directory\n",
            "/root/.cache/fontconfig: not cleaning non-existent cache directory\n",
            "/root/.fontconfig: not cleaning non-existent cache directory\n",
            "fc-cache: succeeded\n"
          ]
        }
      ]
    },
    {
      "cell_type": "code",
      "source": [
        "#visualization\n",
        "import matplotlib as mpl\n",
        "import matplotlib.pylab as plb\n",
        "import matplotlib.pyplot as plt\n",
        "\n",
        "# 브라우저에서 바로 그려지도록 \n",
        "%matplotlib inline\n",
        "\n",
        "# 그래프에 retina display 적용\n",
        "%config InlineBackend.figure_format = 'retina'\n",
        "\n",
        "# Colab 의 한글 폰트 설정\n",
        "plt.rc('font', family='NanumBarunGothic') \n",
        "\n",
        "# 유니코드에서  음수 부호설정\n",
        "mpl.rc('axes', unicode_minus=False)"
      ],
      "metadata": {
        "id": "0KGpDL5Mk50w"
      },
      "execution_count": 2,
      "outputs": []
    },
    {
      "cell_type": "markdown",
      "source": [
        "# 데이터로드"
      ],
      "metadata": {
        "id": "RpxOgL2UBQQn"
      }
    },
    {
      "cell_type": "code",
      "source": [
        "import pandas as pd\n",
        "import numpy as np\n",
        "import os\n",
        "\n",
        "%matplotlib inline\n",
        "import matplotlib.pyplot as plt\n",
        "import seaborn as sns\n",
        "\n",
        "# 경고 메시지 숨기기\n",
        "import warnings\n",
        "warnings.filterwarnings(action='ignore')"
      ],
      "metadata": {
        "id": "lcgi9s_mEwtn"
      },
      "execution_count": 1,
      "outputs": []
    },
    {
      "cell_type": "code",
      "execution_count": 2,
      "metadata": {
        "colab": {
          "base_uri": "https://localhost:8080/"
        },
        "id": "TRRfDHBt_B9B",
        "outputId": "2f1ac40f-2217-496f-c1a9-2ab74c8fc426"
      },
      "outputs": [
        {
          "output_type": "stream",
          "name": "stdout",
          "text": [
            "Mounted at /gdrive\n"
          ]
        }
      ],
      "source": [
        "from google.colab import drive\n",
        "drive.mount('/gdrive')"
      ]
    },
    {
      "cell_type": "code",
      "source": [
        "!cp /gdrive/MyDrive/Dacon_study/tangerine/train.csv ./\n",
        "!cp /gdrive/MyDrive/Dacon_study/tangerine/test.csv ./\n",
        "!cp /gdrive/MyDrive/Dacon_study/tangerine/sample_submission.csv ./"
      ],
      "metadata": {
        "id": "TKHGdLUkDbEo"
      },
      "execution_count": 3,
      "outputs": []
    },
    {
      "cell_type": "code",
      "source": [
        "train = pd.read_csv('train.csv')\n",
        "test = pd.read_csv('test.csv')"
      ],
      "metadata": {
        "id": "g3pQ0d9ZEv2B"
      },
      "execution_count": 4,
      "outputs": []
    },
    {
      "cell_type": "code",
      "source": [
        "train.head()"
      ],
      "metadata": {
        "colab": {
          "base_uri": "https://localhost:8080/",
          "height": 334
        },
        "id": "rdKS8PJAE9UU",
        "outputId": "9c72671f-b925-4a6e-f8d6-9eb323343e05"
      },
      "execution_count": 5,
      "outputs": [
        {
          "output_type": "execute_result",
          "data": {
            "text/plain": [
              "           ID  착과량(int)  수고(m)  수관폭1(min)  수관폭2(max)  수관폭평균  2022-09-01 새순  \\\n",
              "0  TRAIN_0000       692  275.0      287.0      292.0  289.5            2.8   \n",
              "1  TRAIN_0001       534  293.0      284.0      336.0  310.0            3.3   \n",
              "2  TRAIN_0002       634  300.0      392.0      450.0  421.0            3.0   \n",
              "3  TRAIN_0003       639  289.0      368.0      379.0  373.5            3.1   \n",
              "4  TRAIN_0004       496  306.0      353.0      358.0  355.5            3.7   \n",
              "\n",
              "   2022-09-02 새순  2022-09-03 새순  2022-09-04 새순  ...  2022-11-19 엽록소  \\\n",
              "0            2.8            2.7            2.7  ...       70.978249   \n",
              "1            3.3            3.3            3.2  ...       71.535483   \n",
              "2            2.9            2.9            2.9  ...       71.279804   \n",
              "3            3.0            3.0            3.0  ...       69.934615   \n",
              "4            3.6            3.6            3.6  ...       68.313016   \n",
              "\n",
              "   2022-11-20 엽록소  2022-11-21 엽록소  2022-11-22 엽록소  2022-11-23 엽록소  \\\n",
              "0       70.876794       70.705253       70.559603       70.427356   \n",
              "1       71.382303       71.253604       71.092665       70.955608   \n",
              "2       71.199570       71.144020       71.026740       70.920038   \n",
              "3       69.884124       69.845683       69.794682       69.779813   \n",
              "4       68.285364       68.209860       68.209458       68.040083   \n",
              "\n",
              "   2022-11-24 엽록소  2022-11-25 엽록소  2022-11-26 엽록소  2022-11-27 엽록소  \\\n",
              "0       70.340491       70.293830       70.262422       70.169841   \n",
              "1       70.796630       70.597550       70.565088       70.560502   \n",
              "2       70.876723       70.710129       70.595971       70.418203   \n",
              "3       69.614644       69.455404       69.281590       69.238689   \n",
              "4       67.859963       67.775556       67.701456       67.504244   \n",
              "\n",
              "   2022-11-28 엽록소  \n",
              "0       70.043251  \n",
              "1       70.427600  \n",
              "2       70.399578  \n",
              "3       69.133970  \n",
              "4       67.410093  \n",
              "\n",
              "[5 rows x 184 columns]"
            ],
            "text/html": [
              "\n",
              "  <div id=\"df-36b1f045-6947-459b-9187-eed69d16dabf\">\n",
              "    <div class=\"colab-df-container\">\n",
              "      <div>\n",
              "<style scoped>\n",
              "    .dataframe tbody tr th:only-of-type {\n",
              "        vertical-align: middle;\n",
              "    }\n",
              "\n",
              "    .dataframe tbody tr th {\n",
              "        vertical-align: top;\n",
              "    }\n",
              "\n",
              "    .dataframe thead th {\n",
              "        text-align: right;\n",
              "    }\n",
              "</style>\n",
              "<table border=\"1\" class=\"dataframe\">\n",
              "  <thead>\n",
              "    <tr style=\"text-align: right;\">\n",
              "      <th></th>\n",
              "      <th>ID</th>\n",
              "      <th>착과량(int)</th>\n",
              "      <th>수고(m)</th>\n",
              "      <th>수관폭1(min)</th>\n",
              "      <th>수관폭2(max)</th>\n",
              "      <th>수관폭평균</th>\n",
              "      <th>2022-09-01 새순</th>\n",
              "      <th>2022-09-02 새순</th>\n",
              "      <th>2022-09-03 새순</th>\n",
              "      <th>2022-09-04 새순</th>\n",
              "      <th>...</th>\n",
              "      <th>2022-11-19 엽록소</th>\n",
              "      <th>2022-11-20 엽록소</th>\n",
              "      <th>2022-11-21 엽록소</th>\n",
              "      <th>2022-11-22 엽록소</th>\n",
              "      <th>2022-11-23 엽록소</th>\n",
              "      <th>2022-11-24 엽록소</th>\n",
              "      <th>2022-11-25 엽록소</th>\n",
              "      <th>2022-11-26 엽록소</th>\n",
              "      <th>2022-11-27 엽록소</th>\n",
              "      <th>2022-11-28 엽록소</th>\n",
              "    </tr>\n",
              "  </thead>\n",
              "  <tbody>\n",
              "    <tr>\n",
              "      <th>0</th>\n",
              "      <td>TRAIN_0000</td>\n",
              "      <td>692</td>\n",
              "      <td>275.0</td>\n",
              "      <td>287.0</td>\n",
              "      <td>292.0</td>\n",
              "      <td>289.5</td>\n",
              "      <td>2.8</td>\n",
              "      <td>2.8</td>\n",
              "      <td>2.7</td>\n",
              "      <td>2.7</td>\n",
              "      <td>...</td>\n",
              "      <td>70.978249</td>\n",
              "      <td>70.876794</td>\n",
              "      <td>70.705253</td>\n",
              "      <td>70.559603</td>\n",
              "      <td>70.427356</td>\n",
              "      <td>70.340491</td>\n",
              "      <td>70.293830</td>\n",
              "      <td>70.262422</td>\n",
              "      <td>70.169841</td>\n",
              "      <td>70.043251</td>\n",
              "    </tr>\n",
              "    <tr>\n",
              "      <th>1</th>\n",
              "      <td>TRAIN_0001</td>\n",
              "      <td>534</td>\n",
              "      <td>293.0</td>\n",
              "      <td>284.0</td>\n",
              "      <td>336.0</td>\n",
              "      <td>310.0</td>\n",
              "      <td>3.3</td>\n",
              "      <td>3.3</td>\n",
              "      <td>3.3</td>\n",
              "      <td>3.2</td>\n",
              "      <td>...</td>\n",
              "      <td>71.535483</td>\n",
              "      <td>71.382303</td>\n",
              "      <td>71.253604</td>\n",
              "      <td>71.092665</td>\n",
              "      <td>70.955608</td>\n",
              "      <td>70.796630</td>\n",
              "      <td>70.597550</td>\n",
              "      <td>70.565088</td>\n",
              "      <td>70.560502</td>\n",
              "      <td>70.427600</td>\n",
              "    </tr>\n",
              "    <tr>\n",
              "      <th>2</th>\n",
              "      <td>TRAIN_0002</td>\n",
              "      <td>634</td>\n",
              "      <td>300.0</td>\n",
              "      <td>392.0</td>\n",
              "      <td>450.0</td>\n",
              "      <td>421.0</td>\n",
              "      <td>3.0</td>\n",
              "      <td>2.9</td>\n",
              "      <td>2.9</td>\n",
              "      <td>2.9</td>\n",
              "      <td>...</td>\n",
              "      <td>71.279804</td>\n",
              "      <td>71.199570</td>\n",
              "      <td>71.144020</td>\n",
              "      <td>71.026740</td>\n",
              "      <td>70.920038</td>\n",
              "      <td>70.876723</td>\n",
              "      <td>70.710129</td>\n",
              "      <td>70.595971</td>\n",
              "      <td>70.418203</td>\n",
              "      <td>70.399578</td>\n",
              "    </tr>\n",
              "    <tr>\n",
              "      <th>3</th>\n",
              "      <td>TRAIN_0003</td>\n",
              "      <td>639</td>\n",
              "      <td>289.0</td>\n",
              "      <td>368.0</td>\n",
              "      <td>379.0</td>\n",
              "      <td>373.5</td>\n",
              "      <td>3.1</td>\n",
              "      <td>3.0</td>\n",
              "      <td>3.0</td>\n",
              "      <td>3.0</td>\n",
              "      <td>...</td>\n",
              "      <td>69.934615</td>\n",
              "      <td>69.884124</td>\n",
              "      <td>69.845683</td>\n",
              "      <td>69.794682</td>\n",
              "      <td>69.779813</td>\n",
              "      <td>69.614644</td>\n",
              "      <td>69.455404</td>\n",
              "      <td>69.281590</td>\n",
              "      <td>69.238689</td>\n",
              "      <td>69.133970</td>\n",
              "    </tr>\n",
              "    <tr>\n",
              "      <th>4</th>\n",
              "      <td>TRAIN_0004</td>\n",
              "      <td>496</td>\n",
              "      <td>306.0</td>\n",
              "      <td>353.0</td>\n",
              "      <td>358.0</td>\n",
              "      <td>355.5</td>\n",
              "      <td>3.7</td>\n",
              "      <td>3.6</td>\n",
              "      <td>3.6</td>\n",
              "      <td>3.6</td>\n",
              "      <td>...</td>\n",
              "      <td>68.313016</td>\n",
              "      <td>68.285364</td>\n",
              "      <td>68.209860</td>\n",
              "      <td>68.209458</td>\n",
              "      <td>68.040083</td>\n",
              "      <td>67.859963</td>\n",
              "      <td>67.775556</td>\n",
              "      <td>67.701456</td>\n",
              "      <td>67.504244</td>\n",
              "      <td>67.410093</td>\n",
              "    </tr>\n",
              "  </tbody>\n",
              "</table>\n",
              "<p>5 rows × 184 columns</p>\n",
              "</div>\n",
              "      <button class=\"colab-df-convert\" onclick=\"convertToInteractive('df-36b1f045-6947-459b-9187-eed69d16dabf')\"\n",
              "              title=\"Convert this dataframe to an interactive table.\"\n",
              "              style=\"display:none;\">\n",
              "        \n",
              "  <svg xmlns=\"http://www.w3.org/2000/svg\" height=\"24px\"viewBox=\"0 0 24 24\"\n",
              "       width=\"24px\">\n",
              "    <path d=\"M0 0h24v24H0V0z\" fill=\"none\"/>\n",
              "    <path d=\"M18.56 5.44l.94 2.06.94-2.06 2.06-.94-2.06-.94-.94-2.06-.94 2.06-2.06.94zm-11 1L8.5 8.5l.94-2.06 2.06-.94-2.06-.94L8.5 2.5l-.94 2.06-2.06.94zm10 10l.94 2.06.94-2.06 2.06-.94-2.06-.94-.94-2.06-.94 2.06-2.06.94z\"/><path d=\"M17.41 7.96l-1.37-1.37c-.4-.4-.92-.59-1.43-.59-.52 0-1.04.2-1.43.59L10.3 9.45l-7.72 7.72c-.78.78-.78 2.05 0 2.83L4 21.41c.39.39.9.59 1.41.59.51 0 1.02-.2 1.41-.59l7.78-7.78 2.81-2.81c.8-.78.8-2.07 0-2.86zM5.41 20L4 18.59l7.72-7.72 1.47 1.35L5.41 20z\"/>\n",
              "  </svg>\n",
              "      </button>\n",
              "      \n",
              "  <style>\n",
              "    .colab-df-container {\n",
              "      display:flex;\n",
              "      flex-wrap:wrap;\n",
              "      gap: 12px;\n",
              "    }\n",
              "\n",
              "    .colab-df-convert {\n",
              "      background-color: #E8F0FE;\n",
              "      border: none;\n",
              "      border-radius: 50%;\n",
              "      cursor: pointer;\n",
              "      display: none;\n",
              "      fill: #1967D2;\n",
              "      height: 32px;\n",
              "      padding: 0 0 0 0;\n",
              "      width: 32px;\n",
              "    }\n",
              "\n",
              "    .colab-df-convert:hover {\n",
              "      background-color: #E2EBFA;\n",
              "      box-shadow: 0px 1px 2px rgba(60, 64, 67, 0.3), 0px 1px 3px 1px rgba(60, 64, 67, 0.15);\n",
              "      fill: #174EA6;\n",
              "    }\n",
              "\n",
              "    [theme=dark] .colab-df-convert {\n",
              "      background-color: #3B4455;\n",
              "      fill: #D2E3FC;\n",
              "    }\n",
              "\n",
              "    [theme=dark] .colab-df-convert:hover {\n",
              "      background-color: #434B5C;\n",
              "      box-shadow: 0px 1px 3px 1px rgba(0, 0, 0, 0.15);\n",
              "      filter: drop-shadow(0px 1px 2px rgba(0, 0, 0, 0.3));\n",
              "      fill: #FFFFFF;\n",
              "    }\n",
              "  </style>\n",
              "\n",
              "      <script>\n",
              "        const buttonEl =\n",
              "          document.querySelector('#df-36b1f045-6947-459b-9187-eed69d16dabf button.colab-df-convert');\n",
              "        buttonEl.style.display =\n",
              "          google.colab.kernel.accessAllowed ? 'block' : 'none';\n",
              "\n",
              "        async function convertToInteractive(key) {\n",
              "          const element = document.querySelector('#df-36b1f045-6947-459b-9187-eed69d16dabf');\n",
              "          const dataTable =\n",
              "            await google.colab.kernel.invokeFunction('convertToInteractive',\n",
              "                                                     [key], {});\n",
              "          if (!dataTable) return;\n",
              "\n",
              "          const docLinkHtml = 'Like what you see? Visit the ' +\n",
              "            '<a target=\"_blank\" href=https://colab.research.google.com/notebooks/data_table.ipynb>data table notebook</a>'\n",
              "            + ' to learn more about interactive tables.';\n",
              "          element.innerHTML = '';\n",
              "          dataTable['output_type'] = 'display_data';\n",
              "          await google.colab.output.renderOutput(dataTable, element);\n",
              "          const docLink = document.createElement('div');\n",
              "          docLink.innerHTML = docLinkHtml;\n",
              "          element.appendChild(docLink);\n",
              "        }\n",
              "      </script>\n",
              "    </div>\n",
              "  </div>\n",
              "  "
            ]
          },
          "metadata": {},
          "execution_count": 5
        }
      ]
    },
    {
      "cell_type": "code",
      "source": [
        "train.isnull().sum()"
      ],
      "metadata": {
        "colab": {
          "base_uri": "https://localhost:8080/"
        },
        "id": "Gf4uefh4l2nJ",
        "outputId": "0deba3b6-e3d0-4123-f850-1aea4dbaf1ed"
      },
      "execution_count": 6,
      "outputs": [
        {
          "output_type": "execute_result",
          "data": {
            "text/plain": [
              "ID                0\n",
              "착과량(int)          0\n",
              "수고(m)             0\n",
              "수관폭1(min)         0\n",
              "수관폭2(max)         0\n",
              "                 ..\n",
              "2022-11-24 엽록소    0\n",
              "2022-11-25 엽록소    0\n",
              "2022-11-26 엽록소    0\n",
              "2022-11-27 엽록소    0\n",
              "2022-11-28 엽록소    0\n",
              "Length: 184, dtype: int64"
            ]
          },
          "metadata": {},
          "execution_count": 6
        }
      ]
    },
    {
      "cell_type": "code",
      "source": [
        "test.head()"
      ],
      "metadata": {
        "colab": {
          "base_uri": "https://localhost:8080/",
          "height": 334
        },
        "id": "JlMhajuCWP8n",
        "outputId": "b7f0f5c4-62d7-4ce5-a620-b6c44e206c84"
      },
      "execution_count": 7,
      "outputs": [
        {
          "output_type": "execute_result",
          "data": {
            "text/plain": [
              "          ID  수고(m)  수관폭1(min)  수관폭2(max)  수관폭평균  2022-09-01 새순  \\\n",
              "0  TEST_0000  231.0      219.0      302.0  260.5            4.3   \n",
              "1  TEST_0001  206.0      324.0      346.0  335.0            2.5   \n",
              "2  TEST_0002  282.0      373.0      404.0  388.5            4.7   \n",
              "3  TEST_0003  234.0      337.0      357.0  347.0            3.6   \n",
              "4  TEST_0004  222.0      329.0      347.0  338.0            2.7   \n",
              "\n",
              "   2022-09-02 새순  2022-09-03 새순  2022-09-04 새순  2022-09-05 새순  ...  \\\n",
              "0            4.2            4.2            4.1            4.1  ...   \n",
              "1            2.5            2.5            2.5            2.5  ...   \n",
              "2            4.7            4.6            4.6            4.5  ...   \n",
              "3            3.6            3.6            3.6            3.5  ...   \n",
              "4            2.7            2.7            2.7            2.6  ...   \n",
              "\n",
              "   2022-11-19 엽록소  2022-11-20 엽록소  2022-11-21 엽록소  2022-11-22 엽록소  \\\n",
              "0       72.091497       71.906176       71.886799       71.858720   \n",
              "1       68.423776       68.353200       68.346777       68.188159   \n",
              "2       74.435783       74.247468       74.142664       74.070401   \n",
              "3       73.570735       73.420243       73.313538       73.149298   \n",
              "4       72.216758       72.163153       72.052952       71.905982   \n",
              "\n",
              "   2022-11-23 엽록소  2022-11-24 엽록소  2022-11-25 엽록소  2022-11-26 엽록소  \\\n",
              "0       71.725540       71.531618       71.476935       71.321237   \n",
              "1       67.995233       67.879958       67.744820       67.673522   \n",
              "2       73.892408       73.796143       73.615838       73.440136   \n",
              "3       73.109599       72.924511       72.847411       72.838263   \n",
              "4       71.766141       71.746813       71.668847       71.501043   \n",
              "\n",
              "   2022-11-27 엽록소  2022-11-28 엽록소  \n",
              "0       71.184295       71.000223  \n",
              "1       67.539973       67.447849  \n",
              "2       73.387051       73.228319  \n",
              "3       72.672156       72.538171  \n",
              "4       71.419715       71.328224  \n",
              "\n",
              "[5 rows x 183 columns]"
            ],
            "text/html": [
              "\n",
              "  <div id=\"df-83600ae5-c97d-4ea9-ae2e-d047f82c1351\">\n",
              "    <div class=\"colab-df-container\">\n",
              "      <div>\n",
              "<style scoped>\n",
              "    .dataframe tbody tr th:only-of-type {\n",
              "        vertical-align: middle;\n",
              "    }\n",
              "\n",
              "    .dataframe tbody tr th {\n",
              "        vertical-align: top;\n",
              "    }\n",
              "\n",
              "    .dataframe thead th {\n",
              "        text-align: right;\n",
              "    }\n",
              "</style>\n",
              "<table border=\"1\" class=\"dataframe\">\n",
              "  <thead>\n",
              "    <tr style=\"text-align: right;\">\n",
              "      <th></th>\n",
              "      <th>ID</th>\n",
              "      <th>수고(m)</th>\n",
              "      <th>수관폭1(min)</th>\n",
              "      <th>수관폭2(max)</th>\n",
              "      <th>수관폭평균</th>\n",
              "      <th>2022-09-01 새순</th>\n",
              "      <th>2022-09-02 새순</th>\n",
              "      <th>2022-09-03 새순</th>\n",
              "      <th>2022-09-04 새순</th>\n",
              "      <th>2022-09-05 새순</th>\n",
              "      <th>...</th>\n",
              "      <th>2022-11-19 엽록소</th>\n",
              "      <th>2022-11-20 엽록소</th>\n",
              "      <th>2022-11-21 엽록소</th>\n",
              "      <th>2022-11-22 엽록소</th>\n",
              "      <th>2022-11-23 엽록소</th>\n",
              "      <th>2022-11-24 엽록소</th>\n",
              "      <th>2022-11-25 엽록소</th>\n",
              "      <th>2022-11-26 엽록소</th>\n",
              "      <th>2022-11-27 엽록소</th>\n",
              "      <th>2022-11-28 엽록소</th>\n",
              "    </tr>\n",
              "  </thead>\n",
              "  <tbody>\n",
              "    <tr>\n",
              "      <th>0</th>\n",
              "      <td>TEST_0000</td>\n",
              "      <td>231.0</td>\n",
              "      <td>219.0</td>\n",
              "      <td>302.0</td>\n",
              "      <td>260.5</td>\n",
              "      <td>4.3</td>\n",
              "      <td>4.2</td>\n",
              "      <td>4.2</td>\n",
              "      <td>4.1</td>\n",
              "      <td>4.1</td>\n",
              "      <td>...</td>\n",
              "      <td>72.091497</td>\n",
              "      <td>71.906176</td>\n",
              "      <td>71.886799</td>\n",
              "      <td>71.858720</td>\n",
              "      <td>71.725540</td>\n",
              "      <td>71.531618</td>\n",
              "      <td>71.476935</td>\n",
              "      <td>71.321237</td>\n",
              "      <td>71.184295</td>\n",
              "      <td>71.000223</td>\n",
              "    </tr>\n",
              "    <tr>\n",
              "      <th>1</th>\n",
              "      <td>TEST_0001</td>\n",
              "      <td>206.0</td>\n",
              "      <td>324.0</td>\n",
              "      <td>346.0</td>\n",
              "      <td>335.0</td>\n",
              "      <td>2.5</td>\n",
              "      <td>2.5</td>\n",
              "      <td>2.5</td>\n",
              "      <td>2.5</td>\n",
              "      <td>2.5</td>\n",
              "      <td>...</td>\n",
              "      <td>68.423776</td>\n",
              "      <td>68.353200</td>\n",
              "      <td>68.346777</td>\n",
              "      <td>68.188159</td>\n",
              "      <td>67.995233</td>\n",
              "      <td>67.879958</td>\n",
              "      <td>67.744820</td>\n",
              "      <td>67.673522</td>\n",
              "      <td>67.539973</td>\n",
              "      <td>67.447849</td>\n",
              "    </tr>\n",
              "    <tr>\n",
              "      <th>2</th>\n",
              "      <td>TEST_0002</td>\n",
              "      <td>282.0</td>\n",
              "      <td>373.0</td>\n",
              "      <td>404.0</td>\n",
              "      <td>388.5</td>\n",
              "      <td>4.7</td>\n",
              "      <td>4.7</td>\n",
              "      <td>4.6</td>\n",
              "      <td>4.6</td>\n",
              "      <td>4.5</td>\n",
              "      <td>...</td>\n",
              "      <td>74.435783</td>\n",
              "      <td>74.247468</td>\n",
              "      <td>74.142664</td>\n",
              "      <td>74.070401</td>\n",
              "      <td>73.892408</td>\n",
              "      <td>73.796143</td>\n",
              "      <td>73.615838</td>\n",
              "      <td>73.440136</td>\n",
              "      <td>73.387051</td>\n",
              "      <td>73.228319</td>\n",
              "    </tr>\n",
              "    <tr>\n",
              "      <th>3</th>\n",
              "      <td>TEST_0003</td>\n",
              "      <td>234.0</td>\n",
              "      <td>337.0</td>\n",
              "      <td>357.0</td>\n",
              "      <td>347.0</td>\n",
              "      <td>3.6</td>\n",
              "      <td>3.6</td>\n",
              "      <td>3.6</td>\n",
              "      <td>3.6</td>\n",
              "      <td>3.5</td>\n",
              "      <td>...</td>\n",
              "      <td>73.570735</td>\n",
              "      <td>73.420243</td>\n",
              "      <td>73.313538</td>\n",
              "      <td>73.149298</td>\n",
              "      <td>73.109599</td>\n",
              "      <td>72.924511</td>\n",
              "      <td>72.847411</td>\n",
              "      <td>72.838263</td>\n",
              "      <td>72.672156</td>\n",
              "      <td>72.538171</td>\n",
              "    </tr>\n",
              "    <tr>\n",
              "      <th>4</th>\n",
              "      <td>TEST_0004</td>\n",
              "      <td>222.0</td>\n",
              "      <td>329.0</td>\n",
              "      <td>347.0</td>\n",
              "      <td>338.0</td>\n",
              "      <td>2.7</td>\n",
              "      <td>2.7</td>\n",
              "      <td>2.7</td>\n",
              "      <td>2.7</td>\n",
              "      <td>2.6</td>\n",
              "      <td>...</td>\n",
              "      <td>72.216758</td>\n",
              "      <td>72.163153</td>\n",
              "      <td>72.052952</td>\n",
              "      <td>71.905982</td>\n",
              "      <td>71.766141</td>\n",
              "      <td>71.746813</td>\n",
              "      <td>71.668847</td>\n",
              "      <td>71.501043</td>\n",
              "      <td>71.419715</td>\n",
              "      <td>71.328224</td>\n",
              "    </tr>\n",
              "  </tbody>\n",
              "</table>\n",
              "<p>5 rows × 183 columns</p>\n",
              "</div>\n",
              "      <button class=\"colab-df-convert\" onclick=\"convertToInteractive('df-83600ae5-c97d-4ea9-ae2e-d047f82c1351')\"\n",
              "              title=\"Convert this dataframe to an interactive table.\"\n",
              "              style=\"display:none;\">\n",
              "        \n",
              "  <svg xmlns=\"http://www.w3.org/2000/svg\" height=\"24px\"viewBox=\"0 0 24 24\"\n",
              "       width=\"24px\">\n",
              "    <path d=\"M0 0h24v24H0V0z\" fill=\"none\"/>\n",
              "    <path d=\"M18.56 5.44l.94 2.06.94-2.06 2.06-.94-2.06-.94-.94-2.06-.94 2.06-2.06.94zm-11 1L8.5 8.5l.94-2.06 2.06-.94-2.06-.94L8.5 2.5l-.94 2.06-2.06.94zm10 10l.94 2.06.94-2.06 2.06-.94-2.06-.94-.94-2.06-.94 2.06-2.06.94z\"/><path d=\"M17.41 7.96l-1.37-1.37c-.4-.4-.92-.59-1.43-.59-.52 0-1.04.2-1.43.59L10.3 9.45l-7.72 7.72c-.78.78-.78 2.05 0 2.83L4 21.41c.39.39.9.59 1.41.59.51 0 1.02-.2 1.41-.59l7.78-7.78 2.81-2.81c.8-.78.8-2.07 0-2.86zM5.41 20L4 18.59l7.72-7.72 1.47 1.35L5.41 20z\"/>\n",
              "  </svg>\n",
              "      </button>\n",
              "      \n",
              "  <style>\n",
              "    .colab-df-container {\n",
              "      display:flex;\n",
              "      flex-wrap:wrap;\n",
              "      gap: 12px;\n",
              "    }\n",
              "\n",
              "    .colab-df-convert {\n",
              "      background-color: #E8F0FE;\n",
              "      border: none;\n",
              "      border-radius: 50%;\n",
              "      cursor: pointer;\n",
              "      display: none;\n",
              "      fill: #1967D2;\n",
              "      height: 32px;\n",
              "      padding: 0 0 0 0;\n",
              "      width: 32px;\n",
              "    }\n",
              "\n",
              "    .colab-df-convert:hover {\n",
              "      background-color: #E2EBFA;\n",
              "      box-shadow: 0px 1px 2px rgba(60, 64, 67, 0.3), 0px 1px 3px 1px rgba(60, 64, 67, 0.15);\n",
              "      fill: #174EA6;\n",
              "    }\n",
              "\n",
              "    [theme=dark] .colab-df-convert {\n",
              "      background-color: #3B4455;\n",
              "      fill: #D2E3FC;\n",
              "    }\n",
              "\n",
              "    [theme=dark] .colab-df-convert:hover {\n",
              "      background-color: #434B5C;\n",
              "      box-shadow: 0px 1px 3px 1px rgba(0, 0, 0, 0.15);\n",
              "      filter: drop-shadow(0px 1px 2px rgba(0, 0, 0, 0.3));\n",
              "      fill: #FFFFFF;\n",
              "    }\n",
              "  </style>\n",
              "\n",
              "      <script>\n",
              "        const buttonEl =\n",
              "          document.querySelector('#df-83600ae5-c97d-4ea9-ae2e-d047f82c1351 button.colab-df-convert');\n",
              "        buttonEl.style.display =\n",
              "          google.colab.kernel.accessAllowed ? 'block' : 'none';\n",
              "\n",
              "        async function convertToInteractive(key) {\n",
              "          const element = document.querySelector('#df-83600ae5-c97d-4ea9-ae2e-d047f82c1351');\n",
              "          const dataTable =\n",
              "            await google.colab.kernel.invokeFunction('convertToInteractive',\n",
              "                                                     [key], {});\n",
              "          if (!dataTable) return;\n",
              "\n",
              "          const docLinkHtml = 'Like what you see? Visit the ' +\n",
              "            '<a target=\"_blank\" href=https://colab.research.google.com/notebooks/data_table.ipynb>data table notebook</a>'\n",
              "            + ' to learn more about interactive tables.';\n",
              "          element.innerHTML = '';\n",
              "          dataTable['output_type'] = 'display_data';\n",
              "          await google.colab.output.renderOutput(dataTable, element);\n",
              "          const docLink = document.createElement('div');\n",
              "          docLink.innerHTML = docLinkHtml;\n",
              "          element.appendChild(docLink);\n",
              "        }\n",
              "      </script>\n",
              "    </div>\n",
              "  </div>\n",
              "  "
            ]
          },
          "metadata": {},
          "execution_count": 7
        }
      ]
    },
    {
      "cell_type": "markdown",
      "source": [
        "# 데이터 EDA, Visualization"
      ],
      "metadata": {
        "id": "wFpw2auIfU2H"
      }
    },
    {
      "cell_type": "code",
      "source": [
        "train.describe()"
      ],
      "metadata": {
        "colab": {
          "base_uri": "https://localhost:8080/",
          "height": 411
        },
        "id": "VXenwdjJlx96",
        "outputId": "527bd0fd-6c9b-4c55-93e9-e80f240f46d7"
      },
      "execution_count": 8,
      "outputs": [
        {
          "output_type": "execute_result",
          "data": {
            "text/plain": [
              "          착과량(int)       수고(m)    수관폭1(min)    수관폭2(max)        수관폭평균  \\\n",
              "count  2207.000000  2207.00000  2207.000000  2207.000000  2207.000000   \n",
              "mean    406.222474   243.72995   315.186226   358.824196   337.005211   \n",
              "std     218.978302    35.88914    66.327994    68.862898    64.859684   \n",
              "min       1.000000    95.00000    95.000000   123.000000   109.000000   \n",
              "25%     221.000000   223.00000   271.500000   313.500000   294.000000   \n",
              "50%     404.000000   243.00000   316.000000   364.000000   340.500000   \n",
              "75%     593.500000   267.00000   361.000000   402.000000   380.000000   \n",
              "max     799.000000   381.00000   559.000000   584.000000   571.500000   \n",
              "\n",
              "       2022-09-01 새순  2022-09-02 새순  2022-09-03 새순  2022-09-04 새순  \\\n",
              "count    2207.000000    2207.000000    2207.000000    2207.000000   \n",
              "mean        3.774807       3.736928       3.701495       3.663435   \n",
              "std         0.774181       0.764067       0.754751       0.745394   \n",
              "min         2.300000       2.200000       2.200000       2.200000   \n",
              "25%         3.100000       3.100000       3.050000       3.000000   \n",
              "50%         3.800000       3.700000       3.700000       3.700000   \n",
              "75%         4.400000       4.400000       4.300000       4.300000   \n",
              "max         5.300000       5.300000       5.200000       5.200000   \n",
              "\n",
              "       2022-09-05 새순  ...  2022-11-19 엽록소  2022-11-20 엽록소  2022-11-21 엽록소  \\\n",
              "count    2207.000000  ...     2207.000000     2207.000000     2207.000000   \n",
              "mean        3.627503  ...       68.992036       68.890661       68.791536   \n",
              "std         0.733896  ...        4.124586        4.124429        4.125817   \n",
              "min         2.200000  ...       54.246243       54.154888       54.143798   \n",
              "25%         3.000000  ...       66.195524       66.075372       65.995234   \n",
              "50%         3.600000  ...       69.048956       68.920295       68.841060   \n",
              "75%         4.300000  ...       71.740281       71.615746       71.504264   \n",
              "max         5.100000  ...       83.363883       83.227379       83.036103   \n",
              "\n",
              "       2022-11-22 엽록소  2022-11-23 엽록소  2022-11-24 엽록소  2022-11-25 엽록소  \\\n",
              "count     2207.000000     2207.000000     2207.000000     2207.000000   \n",
              "mean        68.692934       68.593709       68.493569       68.393050   \n",
              "std          4.128586        4.130005        4.130072        4.131859   \n",
              "min         54.028089       53.884892       53.695860       53.649032   \n",
              "25%         65.906703       65.765257       65.691065       65.609606   \n",
              "50%         68.731164       68.647716       68.514740       68.392436   \n",
              "75%         71.390195       71.311027       71.227033       71.152030   \n",
              "max         82.978876       82.842139       82.722266       82.575149   \n",
              "\n",
              "       2022-11-26 엽록소  2022-11-27 엽록소  2022-11-28 엽록소  \n",
              "count     2207.000000     2207.000000     2207.000000  \n",
              "mean        68.291350       68.192009       68.093096  \n",
              "std          4.134976        4.135591        4.136995  \n",
              "min         53.644994       53.450069       53.379849  \n",
              "25%         65.487863       65.374528       65.278624  \n",
              "50%         68.292889       68.207648       68.102235  \n",
              "75%         71.038257       70.947707       70.850934  \n",
              "max         82.491041       82.371832       82.321938  \n",
              "\n",
              "[8 rows x 183 columns]"
            ],
            "text/html": [
              "\n",
              "  <div id=\"df-24ef09ba-9489-4221-bc17-fa2bb10ba57f\">\n",
              "    <div class=\"colab-df-container\">\n",
              "      <div>\n",
              "<style scoped>\n",
              "    .dataframe tbody tr th:only-of-type {\n",
              "        vertical-align: middle;\n",
              "    }\n",
              "\n",
              "    .dataframe tbody tr th {\n",
              "        vertical-align: top;\n",
              "    }\n",
              "\n",
              "    .dataframe thead th {\n",
              "        text-align: right;\n",
              "    }\n",
              "</style>\n",
              "<table border=\"1\" class=\"dataframe\">\n",
              "  <thead>\n",
              "    <tr style=\"text-align: right;\">\n",
              "      <th></th>\n",
              "      <th>착과량(int)</th>\n",
              "      <th>수고(m)</th>\n",
              "      <th>수관폭1(min)</th>\n",
              "      <th>수관폭2(max)</th>\n",
              "      <th>수관폭평균</th>\n",
              "      <th>2022-09-01 새순</th>\n",
              "      <th>2022-09-02 새순</th>\n",
              "      <th>2022-09-03 새순</th>\n",
              "      <th>2022-09-04 새순</th>\n",
              "      <th>2022-09-05 새순</th>\n",
              "      <th>...</th>\n",
              "      <th>2022-11-19 엽록소</th>\n",
              "      <th>2022-11-20 엽록소</th>\n",
              "      <th>2022-11-21 엽록소</th>\n",
              "      <th>2022-11-22 엽록소</th>\n",
              "      <th>2022-11-23 엽록소</th>\n",
              "      <th>2022-11-24 엽록소</th>\n",
              "      <th>2022-11-25 엽록소</th>\n",
              "      <th>2022-11-26 엽록소</th>\n",
              "      <th>2022-11-27 엽록소</th>\n",
              "      <th>2022-11-28 엽록소</th>\n",
              "    </tr>\n",
              "  </thead>\n",
              "  <tbody>\n",
              "    <tr>\n",
              "      <th>count</th>\n",
              "      <td>2207.000000</td>\n",
              "      <td>2207.00000</td>\n",
              "      <td>2207.000000</td>\n",
              "      <td>2207.000000</td>\n",
              "      <td>2207.000000</td>\n",
              "      <td>2207.000000</td>\n",
              "      <td>2207.000000</td>\n",
              "      <td>2207.000000</td>\n",
              "      <td>2207.000000</td>\n",
              "      <td>2207.000000</td>\n",
              "      <td>...</td>\n",
              "      <td>2207.000000</td>\n",
              "      <td>2207.000000</td>\n",
              "      <td>2207.000000</td>\n",
              "      <td>2207.000000</td>\n",
              "      <td>2207.000000</td>\n",
              "      <td>2207.000000</td>\n",
              "      <td>2207.000000</td>\n",
              "      <td>2207.000000</td>\n",
              "      <td>2207.000000</td>\n",
              "      <td>2207.000000</td>\n",
              "    </tr>\n",
              "    <tr>\n",
              "      <th>mean</th>\n",
              "      <td>406.222474</td>\n",
              "      <td>243.72995</td>\n",
              "      <td>315.186226</td>\n",
              "      <td>358.824196</td>\n",
              "      <td>337.005211</td>\n",
              "      <td>3.774807</td>\n",
              "      <td>3.736928</td>\n",
              "      <td>3.701495</td>\n",
              "      <td>3.663435</td>\n",
              "      <td>3.627503</td>\n",
              "      <td>...</td>\n",
              "      <td>68.992036</td>\n",
              "      <td>68.890661</td>\n",
              "      <td>68.791536</td>\n",
              "      <td>68.692934</td>\n",
              "      <td>68.593709</td>\n",
              "      <td>68.493569</td>\n",
              "      <td>68.393050</td>\n",
              "      <td>68.291350</td>\n",
              "      <td>68.192009</td>\n",
              "      <td>68.093096</td>\n",
              "    </tr>\n",
              "    <tr>\n",
              "      <th>std</th>\n",
              "      <td>218.978302</td>\n",
              "      <td>35.88914</td>\n",
              "      <td>66.327994</td>\n",
              "      <td>68.862898</td>\n",
              "      <td>64.859684</td>\n",
              "      <td>0.774181</td>\n",
              "      <td>0.764067</td>\n",
              "      <td>0.754751</td>\n",
              "      <td>0.745394</td>\n",
              "      <td>0.733896</td>\n",
              "      <td>...</td>\n",
              "      <td>4.124586</td>\n",
              "      <td>4.124429</td>\n",
              "      <td>4.125817</td>\n",
              "      <td>4.128586</td>\n",
              "      <td>4.130005</td>\n",
              "      <td>4.130072</td>\n",
              "      <td>4.131859</td>\n",
              "      <td>4.134976</td>\n",
              "      <td>4.135591</td>\n",
              "      <td>4.136995</td>\n",
              "    </tr>\n",
              "    <tr>\n",
              "      <th>min</th>\n",
              "      <td>1.000000</td>\n",
              "      <td>95.00000</td>\n",
              "      <td>95.000000</td>\n",
              "      <td>123.000000</td>\n",
              "      <td>109.000000</td>\n",
              "      <td>2.300000</td>\n",
              "      <td>2.200000</td>\n",
              "      <td>2.200000</td>\n",
              "      <td>2.200000</td>\n",
              "      <td>2.200000</td>\n",
              "      <td>...</td>\n",
              "      <td>54.246243</td>\n",
              "      <td>54.154888</td>\n",
              "      <td>54.143798</td>\n",
              "      <td>54.028089</td>\n",
              "      <td>53.884892</td>\n",
              "      <td>53.695860</td>\n",
              "      <td>53.649032</td>\n",
              "      <td>53.644994</td>\n",
              "      <td>53.450069</td>\n",
              "      <td>53.379849</td>\n",
              "    </tr>\n",
              "    <tr>\n",
              "      <th>25%</th>\n",
              "      <td>221.000000</td>\n",
              "      <td>223.00000</td>\n",
              "      <td>271.500000</td>\n",
              "      <td>313.500000</td>\n",
              "      <td>294.000000</td>\n",
              "      <td>3.100000</td>\n",
              "      <td>3.100000</td>\n",
              "      <td>3.050000</td>\n",
              "      <td>3.000000</td>\n",
              "      <td>3.000000</td>\n",
              "      <td>...</td>\n",
              "      <td>66.195524</td>\n",
              "      <td>66.075372</td>\n",
              "      <td>65.995234</td>\n",
              "      <td>65.906703</td>\n",
              "      <td>65.765257</td>\n",
              "      <td>65.691065</td>\n",
              "      <td>65.609606</td>\n",
              "      <td>65.487863</td>\n",
              "      <td>65.374528</td>\n",
              "      <td>65.278624</td>\n",
              "    </tr>\n",
              "    <tr>\n",
              "      <th>50%</th>\n",
              "      <td>404.000000</td>\n",
              "      <td>243.00000</td>\n",
              "      <td>316.000000</td>\n",
              "      <td>364.000000</td>\n",
              "      <td>340.500000</td>\n",
              "      <td>3.800000</td>\n",
              "      <td>3.700000</td>\n",
              "      <td>3.700000</td>\n",
              "      <td>3.700000</td>\n",
              "      <td>3.600000</td>\n",
              "      <td>...</td>\n",
              "      <td>69.048956</td>\n",
              "      <td>68.920295</td>\n",
              "      <td>68.841060</td>\n",
              "      <td>68.731164</td>\n",
              "      <td>68.647716</td>\n",
              "      <td>68.514740</td>\n",
              "      <td>68.392436</td>\n",
              "      <td>68.292889</td>\n",
              "      <td>68.207648</td>\n",
              "      <td>68.102235</td>\n",
              "    </tr>\n",
              "    <tr>\n",
              "      <th>75%</th>\n",
              "      <td>593.500000</td>\n",
              "      <td>267.00000</td>\n",
              "      <td>361.000000</td>\n",
              "      <td>402.000000</td>\n",
              "      <td>380.000000</td>\n",
              "      <td>4.400000</td>\n",
              "      <td>4.400000</td>\n",
              "      <td>4.300000</td>\n",
              "      <td>4.300000</td>\n",
              "      <td>4.300000</td>\n",
              "      <td>...</td>\n",
              "      <td>71.740281</td>\n",
              "      <td>71.615746</td>\n",
              "      <td>71.504264</td>\n",
              "      <td>71.390195</td>\n",
              "      <td>71.311027</td>\n",
              "      <td>71.227033</td>\n",
              "      <td>71.152030</td>\n",
              "      <td>71.038257</td>\n",
              "      <td>70.947707</td>\n",
              "      <td>70.850934</td>\n",
              "    </tr>\n",
              "    <tr>\n",
              "      <th>max</th>\n",
              "      <td>799.000000</td>\n",
              "      <td>381.00000</td>\n",
              "      <td>559.000000</td>\n",
              "      <td>584.000000</td>\n",
              "      <td>571.500000</td>\n",
              "      <td>5.300000</td>\n",
              "      <td>5.300000</td>\n",
              "      <td>5.200000</td>\n",
              "      <td>5.200000</td>\n",
              "      <td>5.100000</td>\n",
              "      <td>...</td>\n",
              "      <td>83.363883</td>\n",
              "      <td>83.227379</td>\n",
              "      <td>83.036103</td>\n",
              "      <td>82.978876</td>\n",
              "      <td>82.842139</td>\n",
              "      <td>82.722266</td>\n",
              "      <td>82.575149</td>\n",
              "      <td>82.491041</td>\n",
              "      <td>82.371832</td>\n",
              "      <td>82.321938</td>\n",
              "    </tr>\n",
              "  </tbody>\n",
              "</table>\n",
              "<p>8 rows × 183 columns</p>\n",
              "</div>\n",
              "      <button class=\"colab-df-convert\" onclick=\"convertToInteractive('df-24ef09ba-9489-4221-bc17-fa2bb10ba57f')\"\n",
              "              title=\"Convert this dataframe to an interactive table.\"\n",
              "              style=\"display:none;\">\n",
              "        \n",
              "  <svg xmlns=\"http://www.w3.org/2000/svg\" height=\"24px\"viewBox=\"0 0 24 24\"\n",
              "       width=\"24px\">\n",
              "    <path d=\"M0 0h24v24H0V0z\" fill=\"none\"/>\n",
              "    <path d=\"M18.56 5.44l.94 2.06.94-2.06 2.06-.94-2.06-.94-.94-2.06-.94 2.06-2.06.94zm-11 1L8.5 8.5l.94-2.06 2.06-.94-2.06-.94L8.5 2.5l-.94 2.06-2.06.94zm10 10l.94 2.06.94-2.06 2.06-.94-2.06-.94-.94-2.06-.94 2.06-2.06.94z\"/><path d=\"M17.41 7.96l-1.37-1.37c-.4-.4-.92-.59-1.43-.59-.52 0-1.04.2-1.43.59L10.3 9.45l-7.72 7.72c-.78.78-.78 2.05 0 2.83L4 21.41c.39.39.9.59 1.41.59.51 0 1.02-.2 1.41-.59l7.78-7.78 2.81-2.81c.8-.78.8-2.07 0-2.86zM5.41 20L4 18.59l7.72-7.72 1.47 1.35L5.41 20z\"/>\n",
              "  </svg>\n",
              "      </button>\n",
              "      \n",
              "  <style>\n",
              "    .colab-df-container {\n",
              "      display:flex;\n",
              "      flex-wrap:wrap;\n",
              "      gap: 12px;\n",
              "    }\n",
              "\n",
              "    .colab-df-convert {\n",
              "      background-color: #E8F0FE;\n",
              "      border: none;\n",
              "      border-radius: 50%;\n",
              "      cursor: pointer;\n",
              "      display: none;\n",
              "      fill: #1967D2;\n",
              "      height: 32px;\n",
              "      padding: 0 0 0 0;\n",
              "      width: 32px;\n",
              "    }\n",
              "\n",
              "    .colab-df-convert:hover {\n",
              "      background-color: #E2EBFA;\n",
              "      box-shadow: 0px 1px 2px rgba(60, 64, 67, 0.3), 0px 1px 3px 1px rgba(60, 64, 67, 0.15);\n",
              "      fill: #174EA6;\n",
              "    }\n",
              "\n",
              "    [theme=dark] .colab-df-convert {\n",
              "      background-color: #3B4455;\n",
              "      fill: #D2E3FC;\n",
              "    }\n",
              "\n",
              "    [theme=dark] .colab-df-convert:hover {\n",
              "      background-color: #434B5C;\n",
              "      box-shadow: 0px 1px 3px 1px rgba(0, 0, 0, 0.15);\n",
              "      filter: drop-shadow(0px 1px 2px rgba(0, 0, 0, 0.3));\n",
              "      fill: #FFFFFF;\n",
              "    }\n",
              "  </style>\n",
              "\n",
              "      <script>\n",
              "        const buttonEl =\n",
              "          document.querySelector('#df-24ef09ba-9489-4221-bc17-fa2bb10ba57f button.colab-df-convert');\n",
              "        buttonEl.style.display =\n",
              "          google.colab.kernel.accessAllowed ? 'block' : 'none';\n",
              "\n",
              "        async function convertToInteractive(key) {\n",
              "          const element = document.querySelector('#df-24ef09ba-9489-4221-bc17-fa2bb10ba57f');\n",
              "          const dataTable =\n",
              "            await google.colab.kernel.invokeFunction('convertToInteractive',\n",
              "                                                     [key], {});\n",
              "          if (!dataTable) return;\n",
              "\n",
              "          const docLinkHtml = 'Like what you see? Visit the ' +\n",
              "            '<a target=\"_blank\" href=https://colab.research.google.com/notebooks/data_table.ipynb>data table notebook</a>'\n",
              "            + ' to learn more about interactive tables.';\n",
              "          element.innerHTML = '';\n",
              "          dataTable['output_type'] = 'display_data';\n",
              "          await google.colab.output.renderOutput(dataTable, element);\n",
              "          const docLink = document.createElement('div');\n",
              "          docLink.innerHTML = docLinkHtml;\n",
              "          element.appendChild(docLink);\n",
              "        }\n",
              "      </script>\n",
              "    </div>\n",
              "  </div>\n",
              "  "
            ]
          },
          "metadata": {},
          "execution_count": 8
        }
      ]
    },
    {
      "cell_type": "code",
      "source": [
        "plt.figure()\n",
        "sns.histplot(x='착과량(int)', data=train)\n",
        "plt.show()"
      ],
      "metadata": {
        "id": "KhZLj47FE-mN",
        "colab": {
          "base_uri": "https://localhost:8080/",
          "height": 449
        },
        "outputId": "5085c305-fc2a-4cd1-df01-ddf13a055e40"
      },
      "execution_count": 9,
      "outputs": [
        {
          "output_type": "display_data",
          "data": {
            "text/plain": [
              "<Figure size 640x480 with 1 Axes>"
            ],
            "image/png": "[encoded data removed]"
          },
          "metadata": {}
        }
      ]
    },
    {
      "cell_type": "code",
      "source": [
        "plt.figure()\n",
        "sns.histplot(x='수고(m)', data=train)\n",
        "plt.show()"
      ],
      "metadata": {
        "colab": {
          "base_uri": "https://localhost:8080/",
          "height": 449
        },
        "id": "QN6h6JW-ne5x",
        "outputId": "b5bbe3f2-2120-4854-93e7-6adc8d701ba3"
      },
      "execution_count": 10,
      "outputs": [
        {
          "output_type": "display_data",
          "data": {
            "text/plain": [
              "<Figure size 640x480 with 1 Axes>"
            ],
            "image/png": "[encoded data removed]"
          },
          "metadata": {}
        }
      ]
    },
    {
      "cell_type": "code",
      "source": [
        "plt.figure()\n",
        "sns.histplot(x='수관폭1(min)', data=train)\n",
        "plt.show()"
      ],
      "metadata": {
        "colab": {
          "base_uri": "https://localhost:8080/",
          "height": 450
        },
        "id": "NBnOOJ0apOUX",
        "outputId": "f44d91d6-b50b-4668-f27b-c0eb1536b0ea"
      },
      "execution_count": 11,
      "outputs": [
        {
          "output_type": "display_data",
          "data": {
            "text/plain": [
              "<Figure size 640x480 with 1 Axes>"
            ],
            "image/png": "[encoded data removed]"
          },
          "metadata": {}
        }
      ]
    },
    {
      "cell_type": "code",
      "source": [
        "plt.figure()\n",
        "sns.histplot(x='수관폭2(max)', data=train)\n",
        "plt.show()"
      ],
      "metadata": {
        "id": "dxx53MNnpRNQ",
        "colab": {
          "base_uri": "https://localhost:8080/",
          "height": 449
        },
        "outputId": "27550487-3bd0-4796-abb3-9eb42926c7e7"
      },
      "execution_count": 12,
      "outputs": [
        {
          "output_type": "display_data",
          "data": {
            "text/plain": [
              "<Figure size 640x480 with 1 Axes>"
            ],
            "image/png": "[encoded data removed]"
          },
          "metadata": {}
        }
      ]
    },
    {
      "cell_type": "markdown",
      "source": [
        "# 데이터 전처리"
      ],
      "metadata": {
        "id": "BJWS5D4icWer"
      }
    },
    {
      "cell_type": "code",
      "source": [
        "from sklearn.preprocessing import MinMaxScaler\n",
        "from sklearn.model_selection import train_test_split\n",
        "from sklearn.ensemble import RandomForestRegressor"
      ],
      "metadata": {
        "id": "eDBCOhWscWEb"
      },
      "execution_count": 13,
      "outputs": []
    },
    {
      "cell_type": "code",
      "source": [
        "# 유형별 변수 정리\n",
        "y_var = ['착과량(int)']\n",
        "id_var = list(train.columns[2:6])\n",
        "saesoon = list(train.columns[6:95]) # 시계열성\n",
        "yuprokso = list(train.columns[95:]) # 시계열성"
      ],
      "metadata": {
        "id": "ijcIOvqeftPJ"
      },
      "execution_count": 14,
      "outputs": []
    },
    {
      "cell_type": "markdown",
      "source": [
        "## 시계열 데이터 처리를 위한 멜팅 작업"
      ],
      "metadata": {
        "id": "Nm208RAogzmv"
      }
    },
    {
      "cell_type": "code",
      "source": [
        "train_melt = train.melt(id_vars=['ID']+y_var+id_var, value_vars=saesoon+yuprokso)\n",
        "test_melt = test.melt(id_vars=['ID']+id_var, value_vars=saesoon+yuprokso)\n",
        "\n",
        "train_melt['date'] = train_melt['variable'].apply(lambda x: x.split(' ')[0])\n",
        "train_melt['type'] = train_melt['variable'].apply(lambda x: x.split(' ')[1])\n",
        "\n",
        "test_melt['date'] = test_melt['variable'].apply(lambda x: x.split(' ')[0])\n",
        "test_melt['type'] = test_melt['variable'].apply(lambda x: x.split(' ')[1])"
      ],
      "metadata": {
        "id": "_7JrfaY_gwJ0"
      },
      "execution_count": 15,
      "outputs": []
    },
    {
      "cell_type": "code",
      "source": [
        "train_melt_preproc = train_melt[['ID']+y_var+id_var+['date']].drop_duplicates().reset_index(drop=True).merge(\n",
        "    train_melt[train_melt['type']=='새순'][['ID', 'date', 'value']].rename(columns={'value':'새순'}),\n",
        "    how='left'\n",
        ").merge(\n",
        "    train_melt[(train_melt['type']=='새순')&(train_melt['date']=='2022-09-01')][['ID', 'value']].rename(columns={'value':'새순0'}),\n",
        "    how='left'\n",
        ").merge(\n",
        "    train_melt[(train_melt['type']=='새순')&(train_melt['date']=='2022-10-15')][['ID', 'value']].rename(columns={'value':'새순1'}),\n",
        "    how='left'\n",
        ").merge(\n",
        "    train_melt[train_melt['type']=='엽록소'][['ID', 'date', 'value']].rename(columns={'value':'엽록소'}),\n",
        "    how='left'\n",
        ")\n",
        "train_melt_preproc['새순diff0'] = train_melt_preproc['새순']-train_melt_preproc['새순0']\n",
        "train_melt_preproc['새순diff1'] = train_melt_preproc['새순']-train_melt_preproc['새순1']\n",
        "train_melt_preproc['엽록소_새순'] = train_melt_preproc['엽록소']/(train_melt_preproc['새순']+0.1)  # 분모 0 방지"
      ],
      "metadata": {
        "id": "P-jlC-Yrg5ix"
      },
      "execution_count": 16,
      "outputs": []
    },
    {
      "cell_type": "code",
      "source": [
        "test_melt_preproc = test_melt[['ID']+id_var+['date']].drop_duplicates().reset_index(drop=True).merge(\n",
        "    test_melt[test_melt['type']=='새순'][['ID', 'date', 'value']].rename(columns={'value':'새순'}),\n",
        "    how='left'\n",
        ").merge(\n",
        "    test_melt[(test_melt['type']=='새순')&(test_melt['date']=='2022-09-01')][['ID', 'value']].rename(columns={'value':'새순0'}),\n",
        "    how='left'\n",
        ").merge(\n",
        "    test_melt[(test_melt['type']=='새순')&(test_melt['date']=='2022-10-15')][['ID', 'value']].rename(columns={'value':'새순1'}),\n",
        "    how='left'\n",
        ").merge(\n",
        "    test_melt[test_melt['type']=='엽록소'][['ID', 'date', 'value']].rename(columns={'value':'엽록소'}),\n",
        "    how='left'\n",
        ")\n",
        "\n",
        "\n",
        "test_melt_preproc['새순diff0'] = test_melt_preproc['새순']-test_melt_preproc['새순0']\n",
        "test_melt_preproc['새순diff1'] = test_melt_preproc['새순']-test_melt_preproc['새순1']\n",
        "test_melt_preproc['엽록소_새순'] = test_melt_preproc['엽록소']/(test_melt_preproc['새순']+0.1) # 분모 0 방지\n",
        "test_melt_preproc.head()"
      ],
      "metadata": {
        "id": "8bTBD-jgg5fA",
        "colab": {
          "base_uri": "https://localhost:8080/",
          "height": 391
        },
        "outputId": "234338b2-22ee-4578-9901-c5907e92daab"
      },
      "execution_count": 17,
      "outputs": [
        {
          "output_type": "execute_result",
          "data": {
            "text/plain": [
              "          ID  수고(m)  수관폭1(min)  수관폭2(max)  수관폭평균        date   새순  새순0  새순1  \\\n",
              "0  TEST_0000  231.0      219.0      302.0  260.5  2022-09-01  4.3  4.3  2.3   \n",
              "1  TEST_0001  206.0      324.0      346.0  335.0  2022-09-01  2.5  2.5  1.6   \n",
              "2  TEST_0002  282.0      373.0      404.0  388.5  2022-09-01  4.7  4.7  2.6   \n",
              "3  TEST_0003  234.0      337.0      357.0  347.0  2022-09-01  3.6  3.6  2.1   \n",
              "4  TEST_0004  222.0      329.0      347.0  338.0  2022-09-01  2.7  2.7  1.7   \n",
              "\n",
              "         엽록소  새순diff0  새순diff1     엽록소_새순  \n",
              "0  80.299924      0.0      2.0  18.249983  \n",
              "1  75.389791      0.0      0.9  28.996074  \n",
              "2  82.042248      0.0      2.1  17.092135  \n",
              "3  81.213424      0.0      1.5  21.949574  \n",
              "4  80.665529      0.0      1.0  28.809118  "
            ],
            "text/html": [
              "\n",
              "  <div id=\"df-67724cc6-3c5e-414a-9ba2-b2cc85cce09c\">\n",
              "    <div class=\"colab-df-container\">\n",
              "      <div>\n",
              "<style scoped>\n",
              "    .dataframe tbody tr th:only-of-type {\n",
              "        vertical-align: middle;\n",
              "    }\n",
              "\n",
              "    .dataframe tbody tr th {\n",
              "        vertical-align: top;\n",
              "    }\n",
              "\n",
              "    .dataframe thead th {\n",
              "        text-align: right;\n",
              "    }\n",
              "</style>\n",
              "<table border=\"1\" class=\"dataframe\">\n",
              "  <thead>\n",
              "    <tr style=\"text-align: right;\">\n",
              "      <th></th>\n",
              "      <th>ID</th>\n",
              "      <th>수고(m)</th>\n",
              "      <th>수관폭1(min)</th>\n",
              "      <th>수관폭2(max)</th>\n",
              "      <th>수관폭평균</th>\n",
              "      <th>date</th>\n",
              "      <th>새순</th>\n",
              "      <th>새순0</th>\n",
              "      <th>새순1</th>\n",
              "      <th>엽록소</th>\n",
              "      <th>새순diff0</th>\n",
              "      <th>새순diff1</th>\n",
              "      <th>엽록소_새순</th>\n",
              "    </tr>\n",
              "  </thead>\n",
              "  <tbody>\n",
              "    <tr>\n",
              "      <th>0</th>\n",
              "      <td>TEST_0000</td>\n",
              "      <td>231.0</td>\n",
              "      <td>219.0</td>\n",
              "      <td>302.0</td>\n",
              "      <td>260.5</td>\n",
              "      <td>2022-09-01</td>\n",
              "      <td>4.3</td>\n",
              "      <td>4.3</td>\n",
              "      <td>2.3</td>\n",
              "      <td>80.299924</td>\n",
              "      <td>0.0</td>\n",
              "      <td>2.0</td>\n",
              "      <td>18.249983</td>\n",
              "    </tr>\n",
              "    <tr>\n",
              "      <th>1</th>\n",
              "      <td>TEST_0001</td>\n",
              "      <td>206.0</td>\n",
              "      <td>324.0</td>\n",
              "      <td>346.0</td>\n",
              "      <td>335.0</td>\n",
              "      <td>2022-09-01</td>\n",
              "      <td>2.5</td>\n",
              "      <td>2.5</td>\n",
              "      <td>1.6</td>\n",
              "      <td>75.389791</td>\n",
              "      <td>0.0</td>\n",
              "      <td>0.9</td>\n",
              "      <td>28.996074</td>\n",
              "    </tr>\n",
              "    <tr>\n",
              "      <th>2</th>\n",
              "      <td>TEST_0002</td>\n",
              "      <td>282.0</td>\n",
              "      <td>373.0</td>\n",
              "      <td>404.0</td>\n",
              "      <td>388.5</td>\n",
              "      <td>2022-09-01</td>\n",
              "      <td>4.7</td>\n",
              "      <td>4.7</td>\n",
              "      <td>2.6</td>\n",
              "      <td>82.042248</td>\n",
              "      <td>0.0</td>\n",
              "      <td>2.1</td>\n",
              "      <td>17.092135</td>\n",
              "    </tr>\n",
              "    <tr>\n",
              "      <th>3</th>\n",
              "      <td>TEST_0003</td>\n",
              "      <td>234.0</td>\n",
              "      <td>337.0</td>\n",
              "      <td>357.0</td>\n",
              "      <td>347.0</td>\n",
              "      <td>2022-09-01</td>\n",
              "      <td>3.6</td>\n",
              "      <td>3.6</td>\n",
              "      <td>2.1</td>\n",
              "      <td>81.213424</td>\n",
              "      <td>0.0</td>\n",
              "      <td>1.5</td>\n",
              "      <td>21.949574</td>\n",
              "    </tr>\n",
              "    <tr>\n",
              "      <th>4</th>\n",
              "      <td>TEST_0004</td>\n",
              "      <td>222.0</td>\n",
              "      <td>329.0</td>\n",
              "      <td>347.0</td>\n",
              "      <td>338.0</td>\n",
              "      <td>2022-09-01</td>\n",
              "      <td>2.7</td>\n",
              "      <td>2.7</td>\n",
              "      <td>1.7</td>\n",
              "      <td>80.665529</td>\n",
              "      <td>0.0</td>\n",
              "      <td>1.0</td>\n",
              "      <td>28.809118</td>\n",
              "    </tr>\n",
              "  </tbody>\n",
              "</table>\n",
              "</div>\n",
              "      <button class=\"colab-df-convert\" onclick=\"convertToInteractive('df-67724cc6-3c5e-414a-9ba2-b2cc85cce09c')\"\n",
              "              title=\"Convert this dataframe to an interactive table.\"\n",
              "              style=\"display:none;\">\n",
              "        \n",
              "  <svg xmlns=\"http://www.w3.org/2000/svg\" height=\"24px\"viewBox=\"0 0 24 24\"\n",
              "       width=\"24px\">\n",
              "    <path d=\"M0 0h24v24H0V0z\" fill=\"none\"/>\n",
              "    <path d=\"M18.56 5.44l.94 2.06.94-2.06 2.06-.94-2.06-.94-.94-2.06-.94 2.06-2.06.94zm-11 1L8.5 8.5l.94-2.06 2.06-.94-2.06-.94L8.5 2.5l-.94 2.06-2.06.94zm10 10l.94 2.06.94-2.06 2.06-.94-2.06-.94-.94-2.06-.94 2.06-2.06.94z\"/><path d=\"M17.41 7.96l-1.37-1.37c-.4-.4-.92-.59-1.43-.59-.52 0-1.04.2-1.43.59L10.3 9.45l-7.72 7.72c-.78.78-.78 2.05 0 2.83L4 21.41c.39.39.9.59 1.41.59.51 0 1.02-.2 1.41-.59l7.78-7.78 2.81-2.81c.8-.78.8-2.07 0-2.86zM5.41 20L4 18.59l7.72-7.72 1.47 1.35L5.41 20z\"/>\n",
              "  </svg>\n",
              "      </button>\n",
              "      \n",
              "  <style>\n",
              "    .colab-df-container {\n",
              "      display:flex;\n",
              "      flex-wrap:wrap;\n",
              "      gap: 12px;\n",
              "    }\n",
              "\n",
              "    .colab-df-convert {\n",
              "      background-color: #E8F0FE;\n",
              "      border: none;\n",
              "      border-radius: 50%;\n",
              "      cursor: pointer;\n",
              "      display: none;\n",
              "      fill: #1967D2;\n",
              "      height: 32px;\n",
              "      padding: 0 0 0 0;\n",
              "      width: 32px;\n",
              "    }\n",
              "\n",
              "    .colab-df-convert:hover {\n",
              "      background-color: #E2EBFA;\n",
              "      box-shadow: 0px 1px 2px rgba(60, 64, 67, 0.3), 0px 1px 3px 1px rgba(60, 64, 67, 0.15);\n",
              "      fill: #174EA6;\n",
              "    }\n",
              "\n",
              "    [theme=dark] .colab-df-convert {\n",
              "      background-color: #3B4455;\n",
              "      fill: #D2E3FC;\n",
              "    }\n",
              "\n",
              "    [theme=dark] .colab-df-convert:hover {\n",
              "      background-color: #434B5C;\n",
              "      box-shadow: 0px 1px 3px 1px rgba(0, 0, 0, 0.15);\n",
              "      filter: drop-shadow(0px 1px 2px rgba(0, 0, 0, 0.3));\n",
              "      fill: #FFFFFF;\n",
              "    }\n",
              "  </style>\n",
              "\n",
              "      <script>\n",
              "        const buttonEl =\n",
              "          document.querySelector('#df-67724cc6-3c5e-414a-9ba2-b2cc85cce09c button.colab-df-convert');\n",
              "        buttonEl.style.display =\n",
              "          google.colab.kernel.accessAllowed ? 'block' : 'none';\n",
              "\n",
              "        async function convertToInteractive(key) {\n",
              "          const element = document.querySelector('#df-67724cc6-3c5e-414a-9ba2-b2cc85cce09c');\n",
              "          const dataTable =\n",
              "            await google.colab.kernel.invokeFunction('convertToInteractive',\n",
              "                                                     [key], {});\n",
              "          if (!dataTable) return;\n",
              "\n",
              "          const docLinkHtml = 'Like what you see? Visit the ' +\n",
              "            '<a target=\"_blank\" href=https://colab.research.google.com/notebooks/data_table.ipynb>data table notebook</a>'\n",
              "            + ' to learn more about interactive tables.';\n",
              "          element.innerHTML = '';\n",
              "          dataTable['output_type'] = 'display_data';\n",
              "          await google.colab.output.renderOutput(dataTable, element);\n",
              "          const docLink = document.createElement('div');\n",
              "          docLink.innerHTML = docLinkHtml;\n",
              "          element.appendChild(docLink);\n",
              "        }\n",
              "      </script>\n",
              "    </div>\n",
              "  </div>\n",
              "  "
            ]
          },
          "metadata": {},
          "execution_count": 17
        }
      ]
    },
    {
      "cell_type": "code",
      "source": [
        "train_df = train_melt_preproc.pivot(index=['ID']+y_var+id_var, columns=['date'], values=['새순diff0','새순diff1','새순', '엽록소_새순']).reset_index()\n",
        "test_df = test_melt_preproc.pivot(index=['ID']+id_var, columns=['date'], values=['새순diff0','새순diff1', '새순', '엽록소_새순']).reset_index()"
      ],
      "metadata": {
        "id": "a-ikTJzbhBFA"
      },
      "execution_count": 18,
      "outputs": []
    },
    {
      "cell_type": "code",
      "source": [
        "vars = []\n",
        "for x in train_df.columns:\n",
        "    if x[1]=='':\n",
        "        vars.append(x[0])\n",
        "    else:\n",
        "        vars.append(x[0]+ ' ' + x[1])\n",
        "\n",
        "train_df.columns = vars\n",
        "test_df.columns  = ['ID']+ vars[2:]"
      ],
      "metadata": {
        "id": "LPzNScvdhDhR"
      },
      "execution_count": 19,
      "outputs": []
    },
    {
      "cell_type": "markdown",
      "source": [
        "# 데이터 모델링 : XGBoost"
      ],
      "metadata": {
        "id": "itkDpADThE-g"
      }
    },
    {
      "cell_type": "markdown",
      "source": [
        "## train, valid 데이터 split"
      ],
      "metadata": {
        "id": "guHlSdjehSCp"
      }
    },
    {
      "cell_type": "code",
      "source": [
        "train_x, val_x, train_y, val_y = train_test_split(train_df.iloc[:,2:] , train_df[y_var], test_size=0.4, random_state=1740)"
      ],
      "metadata": {
        "id": "sbp39phphDeT"
      },
      "execution_count": 20,
      "outputs": []
    },
    {
      "cell_type": "markdown",
      "source": [
        "## 모델 학습"
      ],
      "metadata": {
        "id": "rKlFtIQ_lutH"
      }
    },
    {
      "cell_type": "code",
      "source": [
        "# 모델링 라이브러리\n",
        "# 모델링 관련 라이브러리\n",
        "from sklearn.metrics import mean_squared_error, mean_absolute_error\n",
        "import xgboost as xgb\n",
        "from xgboost import XGBRegressor"
      ],
      "metadata": {
        "id": "6-XXOHJ5lw_9"
      },
      "execution_count": 21,
      "outputs": []
    },
    {
      "cell_type": "code",
      "source": [
        "xgb_reg = XGBRegressor(objective='reg:squarederror',n_estimators=200, random_state=42, eval_set=[val_x,val_y])\n",
        "\n",
        "print(len(train_x), len(val_x))\n",
        "xgb_reg.fit(train_x, train_y)\n",
        "pred = xgb_reg.predict(val_x)\n",
        "mse= mean_squared_error(val_y,pred)\n",
        "rmse= mse**(1/2)\n",
        "\n",
        "print(\"RMSE : \", rmse)"
      ],
      "metadata": {
        "id": "djZgeVAQlzrY",
        "colab": {
          "base_uri": "https://localhost:8080/"
        },
        "outputId": "c9a902d6-fc06-4b95-c711-84d0f0f77df7"
      },
      "execution_count": 22,
      "outputs": [
        {
          "output_type": "stream",
          "name": "stdout",
          "text": [
            "1324 883\n",
            "[00:39:03] WARNING: ../src/learner.cc:767: \n",
            "Parameters: { \"eval_set\" } are not used.\n",
            "\n",
            "RMSE :  40.38300842942184\n"
          ]
        }
      ]
    },
    {
      "cell_type": "code",
      "source": [],
      "metadata": {
        "id": "031QtVfLlzfw"
      },
      "execution_count": 22,
      "outputs": []
    },
    {
      "cell_type": "markdown",
      "source": [
        "## 하이퍼파라미터 튜닝 : optuna"
      ],
      "metadata": {
        "id": "x0rkVS66h-R5"
      }
    },
    {
      "cell_type": "code",
      "source": [
        "! pip install optuna"
      ],
      "metadata": {
        "colab": {
          "base_uri": "https://localhost:8080/"
        },
        "id": "cty145gzlDKp",
        "outputId": "fd8b0a7e-27c8-466e-a9ca-c93965b9a978"
      },
      "execution_count": 23,
      "outputs": [
        {
          "output_type": "stream",
          "name": "stdout",
          "text": [
            "Looking in indexes: https://pypi.org/simple, https://us-python.pkg.dev/colab-wheels/public/simple/\n",
            "Collecting optuna\n",
            "  Downloading optuna-3.1.1-py3-none-any.whl (365 kB)\n",
            "\u001b[2K     \u001b[90m━━━━━━━━━━━━━━━━━━━━━━━━━━━━━━━━━━━━━━━\u001b[0m \u001b[32m365.7/365.7 kB\u001b[0m \u001b[31m4.9 MB/s\u001b[0m eta \u001b[36m0:00:00\u001b[0m\n",
            "\u001b[?25hRequirement already satisfied: sqlalchemy>=1.3.0 in /usr/local/lib/python3.9/dist-packages (from optuna) (2.0.9)\n",
            "Collecting colorlog\n",
            "  Downloading colorlog-6.7.0-py2.py3-none-any.whl (11 kB)\n",
            "Collecting cmaes>=0.9.1\n",
            "  Downloading cmaes-0.9.1-py3-none-any.whl (21 kB)\n",
            "Requirement already satisfied: tqdm in /usr/local/lib/python3.9/dist-packages (from optuna) (4.65.0)\n",
            "Requirement already satisfied: packaging>=20.0 in /usr/local/lib/python3.9/dist-packages (from optuna) (23.0)\n",
            "Collecting alembic>=1.5.0\n",
            "  Downloading alembic-1.10.3-py3-none-any.whl (212 kB)\n",
            "\u001b[2K     \u001b[90m━━━━━━━━━━━━━━━━━━━━━━━━━━━━━━━━━━━━━━\u001b[0m \u001b[32m212.3/212.3 kB\u001b[0m \u001b[31m25.7 MB/s\u001b[0m eta \u001b[36m0:00:00\u001b[0m\n",
            "\u001b[?25hRequirement already satisfied: numpy in /usr/local/lib/python3.9/dist-packages (from optuna) (1.22.4)\n",
            "Requirement already satisfied: PyYAML in /usr/local/lib/python3.9/dist-packages (from optuna) (6.0)\n",
            "Requirement already satisfied: typing-extensions>=4 in /usr/local/lib/python3.9/dist-packages (from alembic>=1.5.0->optuna) (4.5.0)\n",
            "Collecting Mako\n",
            "  Downloading Mako-1.2.4-py3-none-any.whl (78 kB)\n",
            "\u001b[2K     \u001b[90m━━━━━━━━━━━━━━━━━━━━━━━━━━━━━━━━━━━━━━━━\u001b[0m \u001b[32m78.7/78.7 kB\u001b[0m \u001b[31m11.4 MB/s\u001b[0m eta \u001b[36m0:00:00\u001b[0m\n",
            "\u001b[?25hRequirement already satisfied: greenlet!=0.4.17 in /usr/local/lib/python3.9/dist-packages (from sqlalchemy>=1.3.0->optuna) (2.0.2)\n",
            "Requirement already satisfied: MarkupSafe>=0.9.2 in /usr/local/lib/python3.9/dist-packages (from Mako->alembic>=1.5.0->optuna) (2.1.2)\n",
            "Installing collected packages: Mako, colorlog, cmaes, alembic, optuna\n",
            "Successfully installed Mako-1.2.4 alembic-1.10.3 cmaes-0.9.1 colorlog-6.7.0 optuna-3.1.1\n"
          ]
        }
      ]
    },
    {
      "cell_type": "code",
      "source": [
        "# Optuna Libraries\n",
        "import optuna\n",
        "from optuna import Trial, visualization\n",
        "from optuna.samplers import TPESampler"
      ],
      "metadata": {
        "id": "cfqiB5NOh9Eg"
      },
      "execution_count": 24,
      "outputs": []
    },
    {
      "cell_type": "code",
      "source": [
        "# random sampler\n",
        "sampler = TPESampler(seed=10)\n",
        "\n",
        "# define function\n",
        "def objective(trial):\n",
        "\n",
        "    param = {\n",
        "        'objective': 'reg:squarederror',\n",
        "        'tree_method': 'gpu_hist', \n",
        "        'predictor' : 'gpu_predictor',\n",
        "        'colsample_bytree': trial.suggest_uniform('colsample_bytree', 0.7, 1.0),\n",
        "        'reg_alpha': trial.suggest_uniform('reg_alpha', 0.0, 1.0),\n",
        "        'reg_lambda': trial.suggest_uniform('reg_lambda', 0.0, 10.0),\n",
        "        'max_depth': trial.suggest_int('max_depth',3, 15),\n",
        "        'learning_rate': trial.suggest_loguniform(\"learning_rate\", 0.0001, 0.99),\n",
        "        'n_estimators': trial.suggest_int('n_estimators', 100, 3000),\n",
        "        'min_child_weight': trial.suggest_int('min_child_weight', 2, 15),\n",
        "        'subsample': trial.suggest_loguniform('subsample', 0.4, 1),\n",
        "    }\n",
        "\n",
        "    # Generate model\n",
        "    model_xgb = XGBRegressor(**param)\n",
        "    model_xgb = model_xgb.fit(train_x, train_y, eval_set=[(val_x, val_y)], \n",
        "                           verbose=0, early_stopping_rounds=25)\n",
        "                           \n",
        "    # * 평가 지표\n",
        "    # 원하는 평가 지표에 따라 사용하기                        \n",
        "    MSE = mean_squared_error(val_y, model_xgb.predict(val_x))\n",
        "    return MSE\n",
        "\n",
        "optuna_xgb = optuna.create_study(direction='minimize', sampler=sampler)\n",
        "\n",
        "# * n_trials의 경우 optuna를 몇번 실행하여 hyper parameter를 찾을 것인지를 정한다.\n",
        "# 50으로 설정해도 유의미한 값이 나온다.\n",
        "optuna_xgb.optimize(objective, n_trials=30)"
      ],
      "metadata": {
        "id": "7AJByi7Rl6Lz",
        "colab": {
          "base_uri": "https://localhost:8080/"
        },
        "outputId": "e31fb990-8998-4119-88ce-b1edc759d690"
      },
      "execution_count": 25,
      "outputs": [
        {
          "output_type": "stream",
          "name": "stderr",
          "text": [
            "\u001b[32m[I 2023-04-15 00:39:11,608]\u001b[0m A new study created in memory with name: no-name-1a207fea-66d0-47f3-89fa-7418524949f8\u001b[0m\n",
            "\u001b[32m[I 2023-04-15 00:39:18,948]\u001b[0m Trial 0 finished with value: 1434.0709854758636 and parameters: {'colsample_bytree': 0.9313961929800239, 'reg_alpha': 0.0207519493594015, 'reg_lambda': 6.336482349262754, 'max_depth': 12, 'learning_rate': 0.009814138060034883, 'n_estimators': 752, 'min_child_weight': 4, 'subsample': 0.8029815922829752}. Best is trial 0 with value: 1434.0709854758636.\u001b[0m\n",
            "\u001b[32m[I 2023-04-15 00:39:30,549]\u001b[0m Trial 1 finished with value: 154560.6845690611 and parameters: {'colsample_bytree': 0.7507332509687606, 'reg_alpha': 0.08833981417401027, 'reg_lambda': 6.853598183677972, 'max_depth': 15, 'learning_rate': 0.00010369930169788347, 'n_estimators': 1585, 'min_child_weight': 13, 'subsample': 0.7011462565718398}. Best is trial 0 with value: 1434.0709854758636.\u001b[0m\n",
            "\u001b[32m[I 2023-04-15 00:39:34,557]\u001b[0m Trial 2 finished with value: 1408.76621608124 and parameters: {'colsample_bytree': 0.9165265952295398, 'reg_alpha': 0.29187606817063316, 'reg_lambda': 9.177741225129434, 'max_depth': 12, 'learning_rate': 0.014716663896881062, 'n_estimators': 512, 'min_child_weight': 7, 'subsample': 0.7418647364337652}. Best is trial 2 with value: 1408.76621608124.\u001b[0m\n",
            "\u001b[32m[I 2023-04-15 00:39:36,316]\u001b[0m Trial 3 finished with value: 1389.6818728658839 and parameters: {'colsample_bytree': 0.8325499523268988, 'reg_alpha': 0.4340139933332937, 'reg_lambda': 6.177669784693172, 'max_depth': 9, 'learning_rate': 0.03969628551462024, 'n_estimators': 1843, 'min_child_weight': 13, 'subsample': 0.6451255817003931}. Best is trial 3 with value: 1389.6818728658839.\u001b[0m\n",
            "\u001b[32m[I 2023-04-15 00:39:55,586]\u001b[0m Trial 4 finished with value: 52084.71151990633 and parameters: {'colsample_bytree': 0.9725946642426004, 'reg_alpha': 0.3192360889885453, 'reg_lambda': 0.9045934927090737, 'max_depth': 6, 'learning_rate': 0.00028539077307365154, 'n_estimators': 2504, 'min_child_weight': 2, 'subsample': 0.7100430887666348}. Best is trial 3 with value: 1389.6818728658839.\u001b[0m\n",
            "\u001b[32m[I 2023-04-15 00:40:18,547]\u001b[0m Trial 5 finished with value: 1456.2813468481158 and parameters: {'colsample_bytree': 0.8642758467757731, 'reg_alpha': 0.8192869956700687, 'reg_lambda': 1.989475396788123, 'max_depth': 14, 'learning_rate': 0.0025414154300576705, 'n_estimators': 2289, 'min_child_weight': 6, 'subsample': 0.8991117674120654}. Best is trial 3 with value: 1389.6818728658839.\u001b[0m\n",
            "\u001b[32m[I 2023-04-15 00:40:19,018]\u001b[0m Trial 6 finished with value: 1353.848064659203 and parameters: {'colsample_bytree': 0.7976534913496746, 'reg_alpha': 0.16501589771914849, 'reg_lambda': 3.925292439465873, 'max_depth': 4, 'learning_rate': 0.19091439033147106, 'n_estimators': 538, 'min_child_weight': 7, 'subsample': 0.9502089295012875}. Best is trial 6 with value: 1353.848064659203.\u001b[0m\n",
            "\u001b[32m[I 2023-04-15 00:40:21,321]\u001b[0m Trial 7 finished with value: 1387.3559496071862 and parameters: {'colsample_bytree': 0.9962876424705617, 'reg_alpha': 0.4563045470947841, 'reg_lambda': 8.261228438427398, 'max_depth': 6, 'learning_rate': 0.024371327286040727, 'n_estimators': 2719, 'min_child_weight': 9, 'subsample': 0.6869493656576533}. Best is trial 6 with value: 1353.848064659203.\u001b[0m\n",
            "\u001b[32m[I 2023-04-15 00:40:40,710]\u001b[0m Trial 8 finished with value: 1395.4908923545186 and parameters: {'colsample_bytree': 0.7117845301676161, 'reg_alpha': 0.3571817586345363, 'reg_lambda': 0.7961309015596418, 'max_depth': 6, 'learning_rate': 0.0020962048548772948, 'n_estimators': 2344, 'min_child_weight': 2, 'subsample': 0.5928872521372353}. Best is trial 6 with value: 1353.848064659203.\u001b[0m\n",
            "\u001b[32m[I 2023-04-15 00:40:41,087]\u001b[0m Trial 9 finished with value: 1420.3393375580881 and parameters: {'colsample_bytree': 0.7944780615528064, 'reg_alpha': 0.6364911430675446, 'reg_lambda': 3.4634715008003303, 'max_depth': 3, 'learning_rate': 0.3279593670470955, 'n_estimators': 2314, 'min_child_weight': 14, 'subsample': 0.5864129921339165}. Best is trial 6 with value: 1353.848064659203.\u001b[0m\n",
            "\u001b[32m[I 2023-04-15 00:40:41,449]\u001b[0m Trial 10 finished with value: 1558.6984492429592 and parameters: {'colsample_bytree': 0.77855938629705, 'reg_alpha': 0.9770922524005171, 'reg_lambda': 3.859258861139859, 'max_depth': 3, 'learning_rate': 0.5230066888539727, 'n_estimators': 116, 'min_child_weight': 10, 'subsample': 0.4584012816893184}. Best is trial 6 with value: 1353.848064659203.\u001b[0m\n",
            "\u001b[32m[I 2023-04-15 00:40:42,028]\u001b[0m Trial 11 finished with value: 1428.8559216894248 and parameters: {'colsample_bytree': 0.993826396503484, 'reg_alpha': 0.614824355400375, 'reg_lambda': 9.041085920368845, 'max_depth': 6, 'learning_rate': 0.15159236857965444, 'n_estimators': 1083, 'min_child_weight': 10, 'subsample': 0.9419873617538663}. Best is trial 6 with value: 1353.848064659203.\u001b[0m\n",
            "\u001b[32m[I 2023-04-15 00:40:42,750]\u001b[0m Trial 12 finished with value: 1433.6255787490634 and parameters: {'colsample_bytree': 0.8486624063162489, 'reg_alpha': 0.1944547047667903, 'reg_lambda': 5.0432852258542695, 'max_depth': 8, 'learning_rate': 0.12981886175666404, 'n_estimators': 2864, 'min_child_weight': 9, 'subsample': 0.9728378600747883}. Best is trial 6 with value: 1353.848064659203.\u001b[0m\n",
            "\u001b[32m[I 2023-04-15 00:40:43,132]\u001b[0m Trial 13 finished with value: 1700.3501885773135 and parameters: {'colsample_bytree': 0.8909476052138375, 'reg_alpha': 0.21346726101479374, 'reg_lambda': 7.805007842260591, 'max_depth': 5, 'learning_rate': 0.8443320916577048, 'n_estimators': 1197, 'min_child_weight': 7, 'subsample': 0.8362822692583611}. Best is trial 6 with value: 1353.848064659203.\u001b[0m\n",
            "\u001b[32m[I 2023-04-15 00:40:44,086]\u001b[0m Trial 14 finished with value: 1355.2980337262138 and parameters: {'colsample_bytree': 0.9360315634993989, 'reg_alpha': 0.5030170754701175, 'reg_lambda': 9.996192257487888, 'max_depth': 4, 'learning_rate': 0.06894813126514412, 'n_estimators': 2967, 'min_child_weight': 11, 'subsample': 0.9976280122258806}. Best is trial 6 with value: 1353.848064659203.\u001b[0m\n",
            "\u001b[32m[I 2023-04-15 00:40:44,844]\u001b[0m Trial 15 finished with value: 1360.0560999085506 and parameters: {'colsample_bytree': 0.8171291356757658, 'reg_alpha': 0.5376930441929616, 'reg_lambda': 9.583947826349354, 'max_depth': 4, 'learning_rate': 0.08940979496502735, 'n_estimators': 1882, 'min_child_weight': 11, 'subsample': 0.9980997804107357}. Best is trial 6 with value: 1353.848064659203.\u001b[0m\n",
            "\u001b[32m[I 2023-04-15 00:40:45,386]\u001b[0m Trial 16 finished with value: 1492.2735741294848 and parameters: {'colsample_bytree': 0.8742138173583089, 'reg_alpha': 0.16485896844218906, 'reg_lambda': 4.846378137553795, 'max_depth': 8, 'learning_rate': 0.22450737790706596, 'n_estimators': 436, 'min_child_weight': 5, 'subsample': 0.8550772234081533}. Best is trial 6 with value: 1353.848064659203.\u001b[0m\n",
            "\u001b[32m[I 2023-04-15 00:40:46,642]\u001b[0m Trial 17 finished with value: 1351.9017477248065 and parameters: {'colsample_bytree': 0.9310598205889387, 'reg_alpha': 0.004606160163968864, 'reg_lambda': 9.665241267407477, 'max_depth': 4, 'learning_rate': 0.042513949113390945, 'n_estimators': 1100, 'min_child_weight': 12, 'subsample': 0.9927272982059232}. Best is trial 17 with value: 1351.9017477248065.\u001b[0m\n",
            "\u001b[32m[I 2023-04-15 00:40:47,126]\u001b[0m Trial 18 finished with value: 1495.7088539548165 and parameters: {'colsample_bytree': 0.8916722905438234, 'reg_alpha': 0.017697848354768286, 'reg_lambda': 7.011728455554757, 'max_depth': 10, 'learning_rate': 0.40873810188782483, 'n_estimators': 1055, 'min_child_weight': 15, 'subsample': 0.8844767484371815}. Best is trial 17 with value: 1351.9017477248065.\u001b[0m\n",
            "\u001b[32m[I 2023-04-15 00:40:47,525]\u001b[0m Trial 19 finished with value: 1614.6203321000394 and parameters: {'colsample_bytree': 0.8197579491820256, 'reg_alpha': 0.09668162094326516, 'reg_lambda': 8.31257688297042, 'max_depth': 8, 'learning_rate': 0.83835709556371, 'n_estimators': 828, 'min_child_weight': 12, 'subsample': 0.8104319750753062}. Best is trial 17 with value: 1351.9017477248065.\u001b[0m\n",
            "\u001b[32m[I 2023-04-15 00:40:49,047]\u001b[0m Trial 20 finished with value: 1348.9362852290112 and parameters: {'colsample_bytree': 0.8530225217727859, 'reg_alpha': 0.008631286132013027, 'reg_lambda': 2.607399698658311, 'max_depth': 4, 'learning_rate': 0.03345198689439188, 'n_estimators': 1385, 'min_child_weight': 8, 'subsample': 0.9074259506163448}. Best is trial 20 with value: 1348.9362852290112.\u001b[0m\n",
            "\u001b[32m[I 2023-04-15 00:40:50,280]\u001b[0m Trial 21 finished with value: 1351.7714294450063 and parameters: {'colsample_bytree': 0.8449798959790847, 'reg_alpha': 0.010335306196511905, 'reg_lambda': 2.38338976208194, 'max_depth': 4, 'learning_rate': 0.05533093700257343, 'n_estimators': 1383, 'min_child_weight': 8, 'subsample': 0.9184035428221856}. Best is trial 20 with value: 1348.9362852290112.\u001b[0m\n",
            "\u001b[32m[I 2023-04-15 00:40:51,668]\u001b[0m Trial 22 finished with value: 1366.9271179243028 and parameters: {'colsample_bytree': 0.8577495881020023, 'reg_alpha': 0.020346253905991214, 'reg_lambda': 2.394848238660247, 'max_depth': 5, 'learning_rate': 0.04073702899294925, 'n_estimators': 1427, 'min_child_weight': 8, 'subsample': 0.9004447680341345}. Best is trial 20 with value: 1348.9362852290112.\u001b[0m\n",
            "\u001b[32m[I 2023-04-15 00:40:52,612]\u001b[0m Trial 23 finished with value: 1336.7746790191948 and parameters: {'colsample_bytree': 0.9056451074729925, 'reg_alpha': 0.09462595521805504, 'reg_lambda': 2.61407621440866, 'max_depth': 3, 'learning_rate': 0.05550399337277418, 'n_estimators': 1473, 'min_child_weight': 8, 'subsample': 0.7817610699696438}. Best is trial 23 with value: 1336.7746790191948.\u001b[0m\n",
            "\u001b[32m[I 2023-04-15 00:40:53,356]\u001b[0m Trial 24 finished with value: 1325.4145722237456 and parameters: {'colsample_bytree': 0.8471256985179492, 'reg_alpha': 0.10812384913024156, 'reg_lambda': 2.0866655703308377, 'max_depth': 3, 'learning_rate': 0.08010081118829551, 'n_estimators': 1584, 'min_child_weight': 5, 'subsample': 0.7794082382719132}. Best is trial 24 with value: 1325.4145722237456.\u001b[0m\n",
            "\u001b[32m[I 2023-04-15 00:40:54,080]\u001b[0m Trial 25 finished with value: 1322.7145418119833 and parameters: {'colsample_bytree': 0.8844608920477589, 'reg_alpha': 0.24636345102982055, 'reg_lambda': 0.3133698444106381, 'max_depth': 3, 'learning_rate': 0.10819549027444043, 'n_estimators': 1824, 'min_child_weight': 4, 'subsample': 0.7893338411916513}. Best is trial 25 with value: 1322.7145418119833.\u001b[0m\n",
            "\u001b[32m[I 2023-04-15 00:40:54,720]\u001b[0m Trial 26 finished with value: 1319.0727675535427 and parameters: {'colsample_bytree': 0.8895140339081692, 'reg_alpha': 0.25483829308389405, 'reg_lambda': 0.014567300698837715, 'max_depth': 3, 'learning_rate': 0.1021123431312312, 'n_estimators': 1673, 'min_child_weight': 4, 'subsample': 0.7645245579925755}. Best is trial 26 with value: 1319.0727675535427.\u001b[0m\n",
            "\u001b[32m[I 2023-04-15 00:40:55,403]\u001b[0m Trial 27 finished with value: 1444.4349288971596 and parameters: {'colsample_bytree': 0.8759363273736479, 'reg_alpha': 0.26067219702046357, 'reg_lambda': 0.2165088814082517, 'max_depth': 5, 'learning_rate': 0.11338361023028351, 'n_estimators': 1967, 'min_child_weight': 4, 'subsample': 0.7620883412062852}. Best is trial 26 with value: 1319.0727675535427.\u001b[0m\n",
            "\u001b[32m[I 2023-04-15 00:40:55,978]\u001b[0m Trial 28 finished with value: 1569.5290930755925 and parameters: {'colsample_bytree': 0.8883035879836302, 'reg_alpha': 0.36486562011229284, 'reg_lambda': 0.032568633453545145, 'max_depth': 7, 'learning_rate': 0.2094537984078414, 'n_estimators': 1743, 'min_child_weight': 3, 'subsample': 0.8236302533233465}. Best is trial 26 with value: 1319.0727675535427.\u001b[0m\n",
            "\u001b[32m[I 2023-04-15 00:40:59,209]\u001b[0m Trial 29 finished with value: 1453.5019361137145 and parameters: {'colsample_bytree': 0.9143902614685684, 'reg_alpha': 0.240609611708516, 'reg_lambda': 1.5057973019253228, 'max_depth': 11, 'learning_rate': 0.021862408396196745, 'n_estimators': 2101, 'min_child_weight': 4, 'subsample': 0.7720685958592631}. Best is trial 26 with value: 1319.0727675535427.\u001b[0m\n"
          ]
        }
      ]
    },
    {
      "cell_type": "code",
      "source": [
        "xgb_trial = optuna_xgb.best_trial\n",
        "xgb_trial_params = xgb_trial.params\n",
        "print('Best Trial: score {},\\nparams {}'.format(xgb_trial.value, xgb_trial_params))"
      ],
      "metadata": {
        "id": "df3umS3cl6Id",
        "colab": {
          "base_uri": "https://localhost:8080/"
        },
        "outputId": "91622901-dd9f-44fe-87bf-c7ce8c8f2790"
      },
      "execution_count": 26,
      "outputs": [
        {
          "output_type": "stream",
          "name": "stdout",
          "text": [
            "Best Trial: score 1319.0727675535427,\n",
            "params {'colsample_bytree': 0.8895140339081692, 'reg_alpha': 0.25483829308389405, 'reg_lambda': 0.014567300698837715, 'max_depth': 3, 'learning_rate': 0.1021123431312312, 'n_estimators': 1673, 'min_child_weight': 4, 'subsample': 0.7645245579925755}\n"
          ]
        }
      ]
    },
    {
      "cell_type": "code",
      "source": [
        "# Modeling fit\n",
        "xgb_regop = XGBRegressor(**xgb_trial_params)\n",
        "xgb_study = xgb_regop.fit(train_x, train_y)\n",
        "\n",
        "xgb_pred_op = xgb_regop.predict(val_x)\n",
        "mse= mean_squared_error(val_y,xgb_pred_op)\n",
        "rmse= mse**(1/2)\n",
        "\n",
        "print(\"RMSE : \", rmse)"
      ],
      "metadata": {
        "id": "TctJPBxvmDWU",
        "colab": {
          "base_uri": "https://localhost:8080/"
        },
        "outputId": "cbef87db-7ac9-4116-ad52-2f9e3248a704"
      },
      "execution_count": 27,
      "outputs": [
        {
          "output_type": "stream",
          "name": "stdout",
          "text": [
            "RMSE :  40.10372734425023\n"
          ]
        }
      ]
    },
    {
      "cell_type": "code",
      "source": [
        "# # Training\n",
        "# regr = RandomForestRegressor(max_depth=5, random_state=1740, n_estimators=200)\n",
        "# regr.fit(pd.concat([train_x, valid_x], axis=0).iloc[:,4:], pd.concat([train_y, valid_y], axis=0).to_numpy().reshape(-1))\n"
      ],
      "metadata": {
        "id": "crdD-Fctr9AI"
      },
      "execution_count": 28,
      "outputs": []
    },
    {
      "cell_type": "code",
      "source": [
        "regr = XGBRegressor(**xgb_trial_params)\n",
        "regr.fit(pd.concat([train_x, val_x], axis=0).iloc[:,4:], pd.concat([train_y, val_y], axis=0).to_numpy().reshape(-1))"
      ],
      "metadata": {
        "colab": {
          "base_uri": "https://localhost:8080/",
          "height": 248
        },
        "id": "NsAHJmpZyQWQ",
        "outputId": "e1c71a5c-454b-44c3-cb31-75496fe8a414"
      },
      "execution_count": 29,
      "outputs": [
        {
          "output_type": "execute_result",
          "data": {
            "text/plain": [
              "XGBRegressor(base_score=None, booster=None, callbacks=None,\n",
              "             colsample_bylevel=None, colsample_bynode=None,\n",
              "             colsample_bytree=0.8895140339081692, early_stopping_rounds=None,\n",
              "             enable_categorical=False, eval_metric=None, feature_types=None,\n",
              "             gamma=None, gpu_id=None, grow_policy=None, importance_type=None,\n",
              "             interaction_constraints=None, learning_rate=0.1021123431312312,\n",
              "             max_bin=None, max_cat_threshold=None, max_cat_to_onehot=None,\n",
              "             max_delta_step=None, max_depth=3, max_leaves=None,\n",
              "             min_child_weight=4, missing=nan, monotone_constraints=None,\n",
              "             n_estimators=1673, n_jobs=None, num_parallel_tree=None,\n",
              "             predictor=None, random_state=None, ...)"
            ],
            "text/html": [
              "<style>#sk-container-id-1 {color: black;background-color: white;}#sk-container-id-1 pre{padding: 0;}#sk-container-id-1 div.sk-toggleable {background-color: white;}#sk-container-id-1 label.sk-toggleable__label {cursor: pointer;display: block;width: 100%;margin-bottom: 0;padding: 0.3em;box-sizing: border-box;text-align: center;}#sk-container-id-1 label.sk-toggleable__label-arrow:before {content: \"▸\";float: left;margin-right: 0.25em;color: #696969;}#sk-container-id-1 label.sk-toggleable__label-arrow:hover:before {color: black;}#sk-container-id-1 div.sk-estimator:hover label.sk-toggleable__label-arrow:before {color: black;}#sk-container-id-1 div.sk-toggleable__content {max-height: 0;max-width: 0;overflow: hidden;text-align: left;background-color: #f0f8ff;}#sk-container-id-1 div.sk-toggleable__content pre {margin: 0.2em;color: black;border-radius: 0.25em;background-color: #f0f8ff;}#sk-container-id-1 input.sk-toggleable__control:checked~div.sk-toggleable__content {max-height: 200px;max-width: 100%;overflow: auto;}#sk-container-id-1 input.sk-toggleable__control:checked~label.sk-toggleable__label-arrow:before {content: \"▾\";}#sk-container-id-1 div.sk-estimator input.sk-toggleable__control:checked~label.sk-toggleable__label {background-color: #d4ebff;}#sk-container-id-1 div.sk-label input.sk-toggleable__control:checked~label.sk-toggleable__label {background-color: #d4ebff;}#sk-container-id-1 input.sk-hidden--visually {border: 0;clip: rect(1px 1px 1px 1px);clip: rect(1px, 1px, 1px, 1px);height: 1px;margin: -1px;overflow: hidden;padding: 0;position: absolute;width: 1px;}#sk-container-id-1 div.sk-estimator {font-family: monospace;background-color: #f0f8ff;border: 1px dotted black;border-radius: 0.25em;box-sizing: border-box;margin-bottom: 0.5em;}#sk-container-id-1 div.sk-estimator:hover {background-color: #d4ebff;}#sk-container-id-1 div.sk-parallel-item::after {content: \"\";width: 100%;border-bottom: 1px solid gray;flex-grow: 1;}#sk-container-id-1 div.sk-label:hover label.sk-toggleable__label {background-color: #d4ebff;}#sk-container-id-1 div.sk-serial::before {content: \"\";position: absolute;border-left: 1px solid gray;box-sizing: border-box;top: 0;bottom: 0;left: 50%;z-index: 0;}#sk-container-id-1 div.sk-serial {display: flex;flex-direction: column;align-items: center;background-color: white;padding-right: 0.2em;padding-left: 0.2em;position: relative;}#sk-container-id-1 div.sk-item {position: relative;z-index: 1;}#sk-container-id-1 div.sk-parallel {display: flex;align-items: stretch;justify-content: center;background-color: white;position: relative;}#sk-container-id-1 div.sk-item::before, #sk-container-id-1 div.sk-parallel-item::before {content: \"\";position: absolute;border-left: 1px solid gray;box-sizing: border-box;top: 0;bottom: 0;left: 50%;z-index: -1;}#sk-container-id-1 div.sk-parallel-item {display: flex;flex-direction: column;z-index: 1;position: relative;background-color: white;}#sk-container-id-1 div.sk-parallel-item:first-child::after {align-self: flex-end;width: 50%;}#sk-container-id-1 div.sk-parallel-item:last-child::after {align-self: flex-start;width: 50%;}#sk-container-id-1 div.sk-parallel-item:only-child::after {width: 0;}#sk-container-id-1 div.sk-dashed-wrapped {border: 1px dashed gray;margin: 0 0.4em 0.5em 0.4em;box-sizing: border-box;padding-bottom: 0.4em;background-color: white;}#sk-container-id-1 div.sk-label label {font-family: monospace;font-weight: bold;display: inline-block;line-height: 1.2em;}#sk-container-id-1 div.sk-label-container {text-align: center;}#sk-container-id-1 div.sk-container {/* jupyter's `normalize.less` sets `[hidden] { display: none; }` but bootstrap.min.css set `[hidden] { display: none !important; }` so we also need the `!important` here to be able to override the default hidden behavior on the sphinx rendered scikit-learn.org. See: https://github.com/scikit-learn/scikit-learn/issues/21755 */display: inline-block !important;position: relative;}#sk-container-id-1 div.sk-text-repr-fallback {display: none;}</style><div id=\"sk-container-id-1\" class=\"sk-top-container\"><div class=\"sk-text-repr-fallback\"><pre>XGBRegressor(base_score=None, booster=None, callbacks=None,\n",
              "             colsample_bylevel=None, colsample_bynode=None,\n",
              "             colsample_bytree=0.8895140339081692, early_stopping_rounds=None,\n",
              "             enable_categorical=False, eval_metric=None, feature_types=None,\n",
              "             gamma=None, gpu_id=None, grow_policy=None, importance_type=None,\n",
              "             interaction_constraints=None, learning_rate=0.1021123431312312,\n",
              "             max_bin=None, max_cat_threshold=None, max_cat_to_onehot=None,\n",
              "             max_delta_step=None, max_depth=3, max_leaves=None,\n",
              "             min_child_weight=4, missing=nan, monotone_constraints=None,\n",
              "             n_estimators=1673, n_jobs=None, num_parallel_tree=None,\n",
              "             predictor=None, random_state=None, ...)</pre><b>In a Jupyter environment, please rerun this cell to show the HTML representation or trust the notebook. <br />On GitHub, the HTML representation is unable to render, please try loading this page with nbviewer.org.</b></div><div class=\"sk-container\" hidden><div class=\"sk-item\"><div class=\"sk-estimator sk-toggleable\"><input class=\"sk-toggleable__control sk-hidden--visually\" id=\"sk-estimator-id-1\" type=\"checkbox\" checked><label for=\"sk-estimator-id-1\" class=\"sk-toggleable__label sk-toggleable__label-arrow\">XGBRegressor</label><div class=\"sk-toggleable__content\"><pre>XGBRegressor(base_score=None, booster=None, callbacks=None,\n",
              "             colsample_bylevel=None, colsample_bynode=None,\n",
              "             colsample_bytree=0.8895140339081692, early_stopping_rounds=None,\n",
              "             enable_categorical=False, eval_metric=None, feature_types=None,\n",
              "             gamma=None, gpu_id=None, grow_policy=None, importance_type=None,\n",
              "             interaction_constraints=None, learning_rate=0.1021123431312312,\n",
              "             max_bin=None, max_cat_threshold=None, max_cat_to_onehot=None,\n",
              "             max_delta_step=None, max_depth=3, max_leaves=None,\n",
              "             min_child_weight=4, missing=nan, monotone_constraints=None,\n",
              "             n_estimators=1673, n_jobs=None, num_parallel_tree=None,\n",
              "             predictor=None, random_state=None, ...)</pre></div></div></div></div></div>"
            ]
          },
          "metadata": {},
          "execution_count": 29
        }
      ]
    },
    {
      "cell_type": "markdown",
      "source": [
        "## KFold"
      ],
      "metadata": {
        "id": "GRkwTtygmeAC"
      }
    },
    {
      "cell_type": "code",
      "source": [],
      "metadata": {
        "id": "eHGht-YcmDMR"
      },
      "execution_count": 29,
      "outputs": []
    },
    {
      "cell_type": "markdown",
      "source": [
        "# 제출"
      ],
      "metadata": {
        "id": "gBnh5fP_ryz5"
      }
    },
    {
      "cell_type": "code",
      "source": [
        "# Inference\n",
        "sample =pd.DataFrame({\n",
        "    'ID':test_df['ID'],\n",
        "    '착과량(int)':np.array(np.round(regr.predict(test_df.iloc[:,5:]), 0), dtype='int')\n",
        "})\n",
        "sample.to_csv('submit_reproduce2.csv', index=False, encoding='utf-8-sig')\n",
        "\n",
        "sample.head()"
      ],
      "metadata": {
        "id": "_tWRRl2JhJVW",
        "colab": {
          "base_uri": "https://localhost:8080/",
          "height": 206
        },
        "outputId": "852738ff-325e-426a-88cf-0e52bcf5445b"
      },
      "execution_count": 35,
      "outputs": [
        {
          "output_type": "execute_result",
          "data": {
            "text/plain": [
              "          ID  착과량(int)\n",
              "0  TEST_0000       264\n",
              "1  TEST_0001       775\n",
              "2  TEST_0002       160\n",
              "3  TEST_0003       452\n",
              "4  TEST_0004       675"
            ],
            "text/html": [
              "\n",
              "  <div id=\"df-4f3bec7a-3ee1-44cb-8f22-1cb2cd321eee\">\n",
              "    <div class=\"colab-df-container\">\n",
              "      <div>\n",
              "<style scoped>\n",
              "    .dataframe tbody tr th:only-of-type {\n",
              "        vertical-align: middle;\n",
              "    }\n",
              "\n",
              "    .dataframe tbody tr th {\n",
              "        vertical-align: top;\n",
              "    }\n",
              "\n",
              "    .dataframe thead th {\n",
              "        text-align: right;\n",
              "    }\n",
              "</style>\n",
              "<table border=\"1\" class=\"dataframe\">\n",
              "  <thead>\n",
              "    <tr style=\"text-align: right;\">\n",
              "      <th></th>\n",
              "      <th>ID</th>\n",
              "      <th>착과량(int)</th>\n",
              "    </tr>\n",
              "  </thead>\n",
              "  <tbody>\n",
              "    <tr>\n",
              "      <th>0</th>\n",
              "      <td>TEST_0000</td>\n",
              "      <td>264</td>\n",
              "    </tr>\n",
              "    <tr>\n",
              "      <th>1</th>\n",
              "      <td>TEST_0001</td>\n",
              "      <td>775</td>\n",
              "    </tr>\n",
              "    <tr>\n",
              "      <th>2</th>\n",
              "      <td>TEST_0002</td>\n",
              "      <td>160</td>\n",
              "    </tr>\n",
              "    <tr>\n",
              "      <th>3</th>\n",
              "      <td>TEST_0003</td>\n",
              "      <td>452</td>\n",
              "    </tr>\n",
              "    <tr>\n",
              "      <th>4</th>\n",
              "      <td>TEST_0004</td>\n",
              "      <td>675</td>\n",
              "    </tr>\n",
              "  </tbody>\n",
              "</table>\n",
              "</div>\n",
              "      <button class=\"colab-df-convert\" onclick=\"convertToInteractive('df-4f3bec7a-3ee1-44cb-8f22-1cb2cd321eee')\"\n",
              "              title=\"Convert this dataframe to an interactive table.\"\n",
              "              style=\"display:none;\">\n",
              "        \n",
              "  <svg xmlns=\"http://www.w3.org/2000/svg\" height=\"24px\"viewBox=\"0 0 24 24\"\n",
              "       width=\"24px\">\n",
              "    <path d=\"M0 0h24v24H0V0z\" fill=\"none\"/>\n",
              "    <path d=\"M18.56 5.44l.94 2.06.94-2.06 2.06-.94-2.06-.94-.94-2.06-.94 2.06-2.06.94zm-11 1L8.5 8.5l.94-2.06 2.06-.94-2.06-.94L8.5 2.5l-.94 2.06-2.06.94zm10 10l.94 2.06.94-2.06 2.06-.94-2.06-.94-.94-2.06-.94 2.06-2.06.94z\"/><path d=\"M17.41 7.96l-1.37-1.37c-.4-.4-.92-.59-1.43-.59-.52 0-1.04.2-1.43.59L10.3 9.45l-7.72 7.72c-.78.78-.78 2.05 0 2.83L4 21.41c.39.39.9.59 1.41.59.51 0 1.02-.2 1.41-.59l7.78-7.78 2.81-2.81c.8-.78.8-2.07 0-2.86zM5.41 20L4 18.59l7.72-7.72 1.47 1.35L5.41 20z\"/>\n",
              "  </svg>\n",
              "      </button>\n",
              "      \n",
              "  <style>\n",
              "    .colab-df-container {\n",
              "      display:flex;\n",
              "      flex-wrap:wrap;\n",
              "      gap: 12px;\n",
              "    }\n",
              "\n",
              "    .colab-df-convert {\n",
              "      background-color: #E8F0FE;\n",
              "      border: none;\n",
              "      border-radius: 50%;\n",
              "      cursor: pointer;\n",
              "      display: none;\n",
              "      fill: #1967D2;\n",
              "      height: 32px;\n",
              "      padding: 0 0 0 0;\n",
              "      width: 32px;\n",
              "    }\n",
              "\n",
              "    .colab-df-convert:hover {\n",
              "      background-color: #E2EBFA;\n",
              "      box-shadow: 0px 1px 2px rgba(60, 64, 67, 0.3), 0px 1px 3px 1px rgba(60, 64, 67, 0.15);\n",
              "      fill: #174EA6;\n",
              "    }\n",
              "\n",
              "    [theme=dark] .colab-df-convert {\n",
              "      background-color: #3B4455;\n",
              "      fill: #D2E3FC;\n",
              "    }\n",
              "\n",
              "    [theme=dark] .colab-df-convert:hover {\n",
              "      background-color: #434B5C;\n",
              "      box-shadow: 0px 1px 3px 1px rgba(0, 0, 0, 0.15);\n",
              "      filter: drop-shadow(0px 1px 2px rgba(0, 0, 0, 0.3));\n",
              "      fill: #FFFFFF;\n",
              "    }\n",
              "  </style>\n",
              "\n",
              "      <script>\n",
              "        const buttonEl =\n",
              "          document.querySelector('#df-4f3bec7a-3ee1-44cb-8f22-1cb2cd321eee button.colab-df-convert');\n",
              "        buttonEl.style.display =\n",
              "          google.colab.kernel.accessAllowed ? 'block' : 'none';\n",
              "\n",
              "        async function convertToInteractive(key) {\n",
              "          const element = document.querySelector('#df-4f3bec7a-3ee1-44cb-8f22-1cb2cd321eee');\n",
              "          const dataTable =\n",
              "            await google.colab.kernel.invokeFunction('convertToInteractive',\n",
              "                                                     [key], {});\n",
              "          if (!dataTable) return;\n",
              "\n",
              "          const docLinkHtml = 'Like what you see? Visit the ' +\n",
              "            '<a target=\"_blank\" href=https://colab.research.google.com/notebooks/data_table.ipynb>data table notebook</a>'\n",
              "            + ' to learn more about interactive tables.';\n",
              "          element.innerHTML = '';\n",
              "          dataTable['output_type'] = 'display_data';\n",
              "          await google.colab.output.renderOutput(dataTable, element);\n",
              "          const docLink = document.createElement('div');\n",
              "          docLink.innerHTML = docLinkHtml;\n",
              "          element.appendChild(docLink);\n",
              "        }\n",
              "      </script>\n",
              "    </div>\n",
              "  </div>\n",
              "  "
            ]
          },
          "metadata": {},
          "execution_count": 35
        }
      ]
    },
    {
      "cell_type": "code",
      "source": [
        "# sample.shape"
      ],
      "metadata": {
        "id": "grCcC1qrsi0D"
      },
      "execution_count": 31,
      "outputs": []
    },
    {
      "cell_type": "code",
      "source": [
        "# sample_submission = pd.read_csv('sample_submission.csv')\n",
        "# sample_submission.head()"
      ],
      "metadata": {
        "id": "cSoUsyq7wf6T"
      },
      "execution_count": 32,
      "outputs": []
    },
    {
      "cell_type": "code",
      "source": [],
      "metadata": {
        "id": "2MILEAdoskcl"
      },
      "execution_count": 32,
      "outputs": []
    },
    {
      "cell_type": "code",
      "source": [
        "# sample_submission['착과량(int)'] = xgb_pred_op\n",
        "# sample_submission.to_csv('submit.csv', index=False)"
      ],
      "metadata": {
        "id": "EypkEH4uhJP5"
      },
      "execution_count": 33,
      "outputs": []
    },
    {
      "cell_type": "markdown",
      "source": [
        "# 결론"
      ],
      "metadata": {
        "id": "wovuVEu-r18h"
      }
    },
    {
      "cell_type": "markdown",
      "source": [
        "스코어 기준: NAME\n",
        "1. 23.04.15 제출 스코어 : 0.08274\n",
        "* 사용모델 : XGBoostRegressor\n",
        "* 전처리 : 시계열데이터 melting\n",
        "* 하이퍼파라미터 튜닝 : optuna"
      ],
      "metadata": {
        "id": "r_fgHmoKr3ko"
      }
    },
    {
      "cell_type": "markdown",
      "source": [
        "## 한계점 및 발전방안\n",
        "* 시계열 데이터 melting 시 data shape 잘 맞도록 주의해서 해야 함\n",
        "* 다양한 모델을 사용해서 그 결괏값을 결합한다면 성능 향상 기대된다."
      ],
      "metadata": {
        "id": "8mN5HieCX6mi"
      }
    },
    {
      "cell_type": "code",
      "source": [],
      "metadata": {
        "id": "LRllPWIFr20j"
      },
      "execution_count": 33,
      "outputs": []
    }
  ]
}