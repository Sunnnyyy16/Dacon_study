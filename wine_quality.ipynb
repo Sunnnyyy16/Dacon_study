{
  "nbformat": 4,
  "nbformat_minor": 0,
  "metadata": {
    "colab": {
      "provenance": [],
      "collapsed_sections": [],
      "authorship_tag": "ABX9TyMi8AqTiy2lDAG5LVKERLBQ",
      "include_colab_link": true
    },
    "kernelspec": {
      "name": "python3",
      "display_name": "Python 3"
    },
    "language_info": {
      "name": "python"
    }
  },
  "cells": [
    {
      "cell_type": "markdown",
      "metadata": {
        "id": "view-in-github",
        "colab_type": "text"
      },
      "source": [
        "<a href=\"https://colab.research.google.com/github/Sunnnyyy16/Dacon_study/blob/main/wine_quality.ipynb\" target=\"_parent\"><img src=\"https://colab.research.google.com/assets/colab-badge.svg\" alt=\"Open In Colab\"/></a>"
      ]
    },
    {
      "cell_type": "markdown",
      "source": [
        "# 데이터 로드"
      ],
      "metadata": {
        "id": "hUesj4cxUdSS"
      }
    },
    {
      "cell_type": "code",
      "execution_count": null,
      "metadata": {
        "colab": {
          "base_uri": "https://localhost:8080/"
        },
        "id": "v_hIFyaKUQsO",
        "outputId": "415a5b32-5c6e-4a63-b156-1ab587202f31"
      },
      "outputs": [
        {
          "output_type": "stream",
          "name": "stdout",
          "text": [
            "Mounted at /gdrive\n"
          ]
        }
      ],
      "source": [
        "from google.colab import drive\n",
        "drive.mount('/gdrive')"
      ]
    },
    {
      "cell_type": "code",
      "source": [
        "import pandas as pd\n",
        "import numpy as np\n",
        "%matplotlib inline\n",
        "import matplotlib.pyplot as plt\n",
        "import seaborn as sns\n",
        "\n",
        "#경고 메시지 숨기기\n",
        "import warnings\n",
        "warnings.filterwarnings(action='ignore')"
      ],
      "metadata": {
        "id": "d4IcnJLzUZUU"
      },
      "execution_count": null,
      "outputs": []
    },
    {
      "cell_type": "code",
      "source": [
        "!cp /gdrive/MyDrive/Dacon_study/Wine/sample_submission.csv ./\n",
        "!cp /gdrive/MyDrive/Dacon_study/Wine/test.csv ./\n",
        "!cp /gdrive/MyDrive/Dacon_study/Wine/train.csv ./"
      ],
      "metadata": {
        "id": "3kRXkO6XUhjy"
      },
      "execution_count": null,
      "outputs": []
    },
    {
      "cell_type": "code",
      "source": [
        "test=pd.read_csv('test.csv')\n",
        "train=pd.read_csv('train.csv')"
      ],
      "metadata": {
        "id": "a5c4rS58U4Mn"
      },
      "execution_count": null,
      "outputs": []
    },
    {
      "cell_type": "markdown",
      "source": [
        "## null값 확인"
      ],
      "metadata": {
        "id": "SjHFrAOhWsIS"
      }
    },
    {
      "cell_type": "code",
      "source": [
        "train.isnull().sum()"
      ],
      "metadata": {
        "colab": {
          "base_uri": "https://localhost:8080/"
        },
        "id": "GHV2c-c4VSnk",
        "outputId": "5016aa0a-7dce-40a8-d090-8e6a91000ee3"
      },
      "execution_count": null,
      "outputs": [
        {
          "output_type": "execute_result",
          "data": {
            "text/plain": [
              "index                   0\n",
              "quality                 0\n",
              "fixed acidity           0\n",
              "volatile acidity        0\n",
              "citric acid             0\n",
              "residual sugar          0\n",
              "chlorides               0\n",
              "free sulfur dioxide     0\n",
              "total sulfur dioxide    0\n",
              "density                 0\n",
              "pH                      0\n",
              "sulphates               0\n",
              "alcohol                 0\n",
              "type                    0\n",
              "dtype: int64"
            ]
          },
          "metadata": {},
          "execution_count": 5
        }
      ]
    },
    {
      "cell_type": "code",
      "source": [
        "test.isnull().sum()"
      ],
      "metadata": {
        "colab": {
          "base_uri": "https://localhost:8080/"
        },
        "id": "mJ6bfzXeWotM",
        "outputId": "ba6ff5f0-9dd1-4bcf-cb11-5fb5a56eeda0"
      },
      "execution_count": null,
      "outputs": [
        {
          "output_type": "execute_result",
          "data": {
            "text/plain": [
              "index                   0\n",
              "fixed acidity           0\n",
              "volatile acidity        0\n",
              "citric acid             0\n",
              "residual sugar          0\n",
              "chlorides               0\n",
              "free sulfur dioxide     0\n",
              "total sulfur dioxide    0\n",
              "density                 0\n",
              "pH                      0\n",
              "sulphates               0\n",
              "alcohol                 0\n",
              "type                    0\n",
              "dtype: int64"
            ]
          },
          "metadata": {},
          "execution_count": 6
        }
      ]
    },
    {
      "cell_type": "markdown",
      "source": [
        "# 데이터 살펴보기"
      ],
      "metadata": {
        "id": "1XaVtkndWv3q"
      }
    },
    {
      "cell_type": "code",
      "source": [
        "print(train['quality'].value_counts())\n",
        "plt.figure()\n",
        "sns.countplot(x=train['quality'])\n",
        "plt.show()"
      ],
      "metadata": {
        "colab": {
          "base_uri": "https://localhost:8080/",
          "height": 426
        },
        "id": "MuCvbidjfeTF",
        "outputId": "da524ae4-73cb-441d-94bd-83ef8b80e04a"
      },
      "execution_count": null,
      "outputs": [
        {
          "output_type": "stream",
          "name": "stdout",
          "text": [
            "6    2416\n",
            "5    1788\n",
            "7     924\n",
            "4     186\n",
            "8     152\n",
            "3      26\n",
            "9       5\n",
            "Name: quality, dtype: int64\n"
          ]
        },
        {
          "output_type": "display_data",
          "data": {
            "text/plain": [
              "<Figure size 432x288 with 1 Axes>"
            ],
            "image/png": "[encoded data removed]"
          },
          "metadata": {
            "needs_background": "light"
          }
        }
      ]
    },
    {
      "cell_type": "markdown",
      "source": [
        "6이 제일 많다."
      ],
      "metadata": {
        "id": "vteimCO0gyvf"
      }
    },
    {
      "cell_type": "markdown",
      "source": [
        "## 상관계수"
      ],
      "metadata": {
        "id": "VKApfk-NXAy7"
      }
    },
    {
      "cell_type": "code",
      "source": [
        "train_corr=train.drop(['index'], axis=1)\n",
        "train_corr.corr()"
      ],
      "metadata": {
        "colab": {
          "base_uri": "https://localhost:8080/",
          "height": 426
        },
        "id": "qPn6p_gOVWnv",
        "outputId": "a6b25717-f8b9-49a1-a33c-206e955e8895"
      },
      "execution_count": null,
      "outputs": [
        {
          "output_type": "execute_result",
          "data": {
            "text/plain": [
              "                       quality  fixed acidity  volatile acidity  citric acid  \\\n",
              "quality               1.000000      -0.076506         -0.261557     0.079157   \n",
              "fixed acidity        -0.076506       1.000000          0.210180     0.326992   \n",
              "volatile acidity     -0.261557       0.210180          1.000000    -0.377986   \n",
              "citric acid           0.079157       0.326992         -0.377986     1.000000   \n",
              "residual sugar       -0.032848      -0.112544         -0.192677     0.135160   \n",
              "chlorides            -0.198148       0.303307          0.385431     0.029121   \n",
              "free sulfur dioxide   0.055574      -0.277079         -0.352572     0.129496   \n",
              "total sulfur dioxide -0.039732      -0.323845         -0.418535     0.190955   \n",
              "density              -0.299831       0.452161          0.266759     0.088400   \n",
              "pH                    0.017931      -0.250462          0.264130    -0.322100   \n",
              "sulphates             0.042068       0.300979          0.225174     0.049013   \n",
              "alcohol               0.439615      -0.096274         -0.032897    -0.005376   \n",
              "\n",
              "                      residual sugar  chlorides  free sulfur dioxide  \\\n",
              "quality                    -0.032848  -0.198148             0.055574   \n",
              "fixed acidity              -0.112544   0.303307            -0.277079   \n",
              "volatile acidity           -0.192677   0.385431            -0.352572   \n",
              "citric acid                 0.135160   0.029121             0.129496   \n",
              "residual sugar              1.000000  -0.130339             0.396018   \n",
              "chlorides                  -0.130339   1.000000            -0.193143   \n",
              "free sulfur dioxide         0.396018  -0.193143             1.000000   \n",
              "total sulfur dioxide        0.494788  -0.281654             0.716829   \n",
              "density                     0.557183   0.364200             0.027270   \n",
              "pH                         -0.259673   0.046937            -0.145586   \n",
              "sulphates                  -0.182275   0.400354            -0.189390   \n",
              "alcohol                    -0.361457  -0.259774            -0.182321   \n",
              "\n",
              "                      total sulfur dioxide   density        pH  sulphates  \\\n",
              "quality                          -0.039732 -0.299831  0.017931   0.042068   \n",
              "fixed acidity                    -0.323845  0.452161 -0.250462   0.300979   \n",
              "volatile acidity                 -0.418535  0.266759  0.264130   0.225174   \n",
              "citric acid                       0.190955  0.088400 -0.322100   0.049013   \n",
              "residual sugar                    0.494788  0.557183 -0.259673  -0.182275   \n",
              "chlorides                        -0.281654  0.364200  0.046937   0.400354   \n",
              "free sulfur dioxide               0.716829  0.027270 -0.145586  -0.189390   \n",
              "total sulfur dioxide              1.000000  0.039707 -0.234412  -0.272236   \n",
              "density                           0.039707  1.000000  0.020047   0.261879   \n",
              "pH                               -0.234412  0.020047  1.000000   0.187392   \n",
              "sulphates                        -0.272236  0.261879  0.187392   1.000000   \n",
              "alcohol                          -0.271566 -0.688053  0.114959  -0.008713   \n",
              "\n",
              "                       alcohol  \n",
              "quality               0.439615  \n",
              "fixed acidity        -0.096274  \n",
              "volatile acidity     -0.032897  \n",
              "citric acid          -0.005376  \n",
              "residual sugar       -0.361457  \n",
              "chlorides            -0.259774  \n",
              "free sulfur dioxide  -0.182321  \n",
              "total sulfur dioxide -0.271566  \n",
              "density              -0.688053  \n",
              "pH                    0.114959  \n",
              "sulphates            -0.008713  \n",
              "alcohol               1.000000  "
            ],
            "text/html": [
              "\n",
              "  <div id=\"df-a9a4badf-2fdf-4953-8646-89db46fb4ed5\">\n",
              "    <div class=\"colab-df-container\">\n",
              "      <div>\n",
              "<style scoped>\n",
              "    .dataframe tbody tr th:only-of-type {\n",
              "        vertical-align: middle;\n",
              "    }\n",
              "\n",
              "    .dataframe tbody tr th {\n",
              "        vertical-align: top;\n",
              "    }\n",
              "\n",
              "    .dataframe thead th {\n",
              "        text-align: right;\n",
              "    }\n",
              "</style>\n",
              "<table border=\"1\" class=\"dataframe\">\n",
              "  <thead>\n",
              "    <tr style=\"text-align: right;\">\n",
              "      <th></th>\n",
              "      <th>quality</th>\n",
              "      <th>fixed acidity</th>\n",
              "      <th>volatile acidity</th>\n",
              "      <th>citric acid</th>\n",
              "      <th>residual sugar</th>\n",
              "      <th>chlorides</th>\n",
              "      <th>free sulfur dioxide</th>\n",
              "      <th>total sulfur dioxide</th>\n",
              "      <th>density</th>\n",
              "      <th>pH</th>\n",
              "      <th>sulphates</th>\n",
              "      <th>alcohol</th>\n",
              "    </tr>\n",
              "  </thead>\n",
              "  <tbody>\n",
              "    <tr>\n",
              "      <th>quality</th>\n",
              "      <td>1.000000</td>\n",
              "      <td>-0.076506</td>\n",
              "      <td>-0.261557</td>\n",
              "      <td>0.079157</td>\n",
              "      <td>-0.032848</td>\n",
              "      <td>-0.198148</td>\n",
              "      <td>0.055574</td>\n",
              "      <td>-0.039732</td>\n",
              "      <td>-0.299831</td>\n",
              "      <td>0.017931</td>\n",
              "      <td>0.042068</td>\n",
              "      <td>0.439615</td>\n",
              "    </tr>\n",
              "    <tr>\n",
              "      <th>fixed acidity</th>\n",
              "      <td>-0.076506</td>\n",
              "      <td>1.000000</td>\n",
              "      <td>0.210180</td>\n",
              "      <td>0.326992</td>\n",
              "      <td>-0.112544</td>\n",
              "      <td>0.303307</td>\n",
              "      <td>-0.277079</td>\n",
              "      <td>-0.323845</td>\n",
              "      <td>0.452161</td>\n",
              "      <td>-0.250462</td>\n",
              "      <td>0.300979</td>\n",
              "      <td>-0.096274</td>\n",
              "    </tr>\n",
              "    <tr>\n",
              "      <th>volatile acidity</th>\n",
              "      <td>-0.261557</td>\n",
              "      <td>0.210180</td>\n",
              "      <td>1.000000</td>\n",
              "      <td>-0.377986</td>\n",
              "      <td>-0.192677</td>\n",
              "      <td>0.385431</td>\n",
              "      <td>-0.352572</td>\n",
              "      <td>-0.418535</td>\n",
              "      <td>0.266759</td>\n",
              "      <td>0.264130</td>\n",
              "      <td>0.225174</td>\n",
              "      <td>-0.032897</td>\n",
              "    </tr>\n",
              "    <tr>\n",
              "      <th>citric acid</th>\n",
              "      <td>0.079157</td>\n",
              "      <td>0.326992</td>\n",
              "      <td>-0.377986</td>\n",
              "      <td>1.000000</td>\n",
              "      <td>0.135160</td>\n",
              "      <td>0.029121</td>\n",
              "      <td>0.129496</td>\n",
              "      <td>0.190955</td>\n",
              "      <td>0.088400</td>\n",
              "      <td>-0.322100</td>\n",
              "      <td>0.049013</td>\n",
              "      <td>-0.005376</td>\n",
              "    </tr>\n",
              "    <tr>\n",
              "      <th>residual sugar</th>\n",
              "      <td>-0.032848</td>\n",
              "      <td>-0.112544</td>\n",
              "      <td>-0.192677</td>\n",
              "      <td>0.135160</td>\n",
              "      <td>1.000000</td>\n",
              "      <td>-0.130339</td>\n",
              "      <td>0.396018</td>\n",
              "      <td>0.494788</td>\n",
              "      <td>0.557183</td>\n",
              "      <td>-0.259673</td>\n",
              "      <td>-0.182275</td>\n",
              "      <td>-0.361457</td>\n",
              "    </tr>\n",
              "    <tr>\n",
              "      <th>chlorides</th>\n",
              "      <td>-0.198148</td>\n",
              "      <td>0.303307</td>\n",
              "      <td>0.385431</td>\n",
              "      <td>0.029121</td>\n",
              "      <td>-0.130339</td>\n",
              "      <td>1.000000</td>\n",
              "      <td>-0.193143</td>\n",
              "      <td>-0.281654</td>\n",
              "      <td>0.364200</td>\n",
              "      <td>0.046937</td>\n",
              "      <td>0.400354</td>\n",
              "      <td>-0.259774</td>\n",
              "    </tr>\n",
              "    <tr>\n",
              "      <th>free sulfur dioxide</th>\n",
              "      <td>0.055574</td>\n",
              "      <td>-0.277079</td>\n",
              "      <td>-0.352572</td>\n",
              "      <td>0.129496</td>\n",
              "      <td>0.396018</td>\n",
              "      <td>-0.193143</td>\n",
              "      <td>1.000000</td>\n",
              "      <td>0.716829</td>\n",
              "      <td>0.027270</td>\n",
              "      <td>-0.145586</td>\n",
              "      <td>-0.189390</td>\n",
              "      <td>-0.182321</td>\n",
              "    </tr>\n",
              "    <tr>\n",
              "      <th>total sulfur dioxide</th>\n",
              "      <td>-0.039732</td>\n",
              "      <td>-0.323845</td>\n",
              "      <td>-0.418535</td>\n",
              "      <td>0.190955</td>\n",
              "      <td>0.494788</td>\n",
              "      <td>-0.281654</td>\n",
              "      <td>0.716829</td>\n",
              "      <td>1.000000</td>\n",
              "      <td>0.039707</td>\n",
              "      <td>-0.234412</td>\n",
              "      <td>-0.272236</td>\n",
              "      <td>-0.271566</td>\n",
              "    </tr>\n",
              "    <tr>\n",
              "      <th>density</th>\n",
              "      <td>-0.299831</td>\n",
              "      <td>0.452161</td>\n",
              "      <td>0.266759</td>\n",
              "      <td>0.088400</td>\n",
              "      <td>0.557183</td>\n",
              "      <td>0.364200</td>\n",
              "      <td>0.027270</td>\n",
              "      <td>0.039707</td>\n",
              "      <td>1.000000</td>\n",
              "      <td>0.020047</td>\n",
              "      <td>0.261879</td>\n",
              "      <td>-0.688053</td>\n",
              "    </tr>\n",
              "    <tr>\n",
              "      <th>pH</th>\n",
              "      <td>0.017931</td>\n",
              "      <td>-0.250462</td>\n",
              "      <td>0.264130</td>\n",
              "      <td>-0.322100</td>\n",
              "      <td>-0.259673</td>\n",
              "      <td>0.046937</td>\n",
              "      <td>-0.145586</td>\n",
              "      <td>-0.234412</td>\n",
              "      <td>0.020047</td>\n",
              "      <td>1.000000</td>\n",
              "      <td>0.187392</td>\n",
              "      <td>0.114959</td>\n",
              "    </tr>\n",
              "    <tr>\n",
              "      <th>sulphates</th>\n",
              "      <td>0.042068</td>\n",
              "      <td>0.300979</td>\n",
              "      <td>0.225174</td>\n",
              "      <td>0.049013</td>\n",
              "      <td>-0.182275</td>\n",
              "      <td>0.400354</td>\n",
              "      <td>-0.189390</td>\n",
              "      <td>-0.272236</td>\n",
              "      <td>0.261879</td>\n",
              "      <td>0.187392</td>\n",
              "      <td>1.000000</td>\n",
              "      <td>-0.008713</td>\n",
              "    </tr>\n",
              "    <tr>\n",
              "      <th>alcohol</th>\n",
              "      <td>0.439615</td>\n",
              "      <td>-0.096274</td>\n",
              "      <td>-0.032897</td>\n",
              "      <td>-0.005376</td>\n",
              "      <td>-0.361457</td>\n",
              "      <td>-0.259774</td>\n",
              "      <td>-0.182321</td>\n",
              "      <td>-0.271566</td>\n",
              "      <td>-0.688053</td>\n",
              "      <td>0.114959</td>\n",
              "      <td>-0.008713</td>\n",
              "      <td>1.000000</td>\n",
              "    </tr>\n",
              "  </tbody>\n",
              "</table>\n",
              "</div>\n",
              "      <button class=\"colab-df-convert\" onclick=\"convertToInteractive('df-a9a4badf-2fdf-4953-8646-89db46fb4ed5')\"\n",
              "              title=\"Convert this dataframe to an interactive table.\"\n",
              "              style=\"display:none;\">\n",
              "        \n",
              "  <svg xmlns=\"http://www.w3.org/2000/svg\" height=\"24px\"viewBox=\"0 0 24 24\"\n",
              "       width=\"24px\">\n",
              "    <path d=\"M0 0h24v24H0V0z\" fill=\"none\"/>\n",
              "    <path d=\"M18.56 5.44l.94 2.06.94-2.06 2.06-.94-2.06-.94-.94-2.06-.94 2.06-2.06.94zm-11 1L8.5 8.5l.94-2.06 2.06-.94-2.06-.94L8.5 2.5l-.94 2.06-2.06.94zm10 10l.94 2.06.94-2.06 2.06-.94-2.06-.94-.94-2.06-.94 2.06-2.06.94z\"/><path d=\"M17.41 7.96l-1.37-1.37c-.4-.4-.92-.59-1.43-.59-.52 0-1.04.2-1.43.59L10.3 9.45l-7.72 7.72c-.78.78-.78 2.05 0 2.83L4 21.41c.39.39.9.59 1.41.59.51 0 1.02-.2 1.41-.59l7.78-7.78 2.81-2.81c.8-.78.8-2.07 0-2.86zM5.41 20L4 18.59l7.72-7.72 1.47 1.35L5.41 20z\"/>\n",
              "  </svg>\n",
              "      </button>\n",
              "      \n",
              "  <style>\n",
              "    .colab-df-container {\n",
              "      display:flex;\n",
              "      flex-wrap:wrap;\n",
              "      gap: 12px;\n",
              "    }\n",
              "\n",
              "    .colab-df-convert {\n",
              "      background-color: #E8F0FE;\n",
              "      border: none;\n",
              "      border-radius: 50%;\n",
              "      cursor: pointer;\n",
              "      display: none;\n",
              "      fill: #1967D2;\n",
              "      height: 32px;\n",
              "      padding: 0 0 0 0;\n",
              "      width: 32px;\n",
              "    }\n",
              "\n",
              "    .colab-df-convert:hover {\n",
              "      background-color: #E2EBFA;\n",
              "      box-shadow: 0px 1px 2px rgba(60, 64, 67, 0.3), 0px 1px 3px 1px rgba(60, 64, 67, 0.15);\n",
              "      fill: #174EA6;\n",
              "    }\n",
              "\n",
              "    [theme=dark] .colab-df-convert {\n",
              "      background-color: #3B4455;\n",
              "      fill: #D2E3FC;\n",
              "    }\n",
              "\n",
              "    [theme=dark] .colab-df-convert:hover {\n",
              "      background-color: #434B5C;\n",
              "      box-shadow: 0px 1px 3px 1px rgba(0, 0, 0, 0.15);\n",
              "      filter: drop-shadow(0px 1px 2px rgba(0, 0, 0, 0.3));\n",
              "      fill: #FFFFFF;\n",
              "    }\n",
              "  </style>\n",
              "\n",
              "      <script>\n",
              "        const buttonEl =\n",
              "          document.querySelector('#df-a9a4badf-2fdf-4953-8646-89db46fb4ed5 button.colab-df-convert');\n",
              "        buttonEl.style.display =\n",
              "          google.colab.kernel.accessAllowed ? 'block' : 'none';\n",
              "\n",
              "        async function convertToInteractive(key) {\n",
              "          const element = document.querySelector('#df-a9a4badf-2fdf-4953-8646-89db46fb4ed5');\n",
              "          const dataTable =\n",
              "            await google.colab.kernel.invokeFunction('convertToInteractive',\n",
              "                                                     [key], {});\n",
              "          if (!dataTable) return;\n",
              "\n",
              "          const docLinkHtml = 'Like what you see? Visit the ' +\n",
              "            '<a target=\"_blank\" href=https://colab.research.google.com/notebooks/data_table.ipynb>data table notebook</a>'\n",
              "            + ' to learn more about interactive tables.';\n",
              "          element.innerHTML = '';\n",
              "          dataTable['output_type'] = 'display_data';\n",
              "          await google.colab.output.renderOutput(dataTable, element);\n",
              "          const docLink = document.createElement('div');\n",
              "          docLink.innerHTML = docLinkHtml;\n",
              "          element.appendChild(docLink);\n",
              "        }\n",
              "      </script>\n",
              "    </div>\n",
              "  </div>\n",
              "  "
            ]
          },
          "metadata": {},
          "execution_count": 8
        }
      ]
    },
    {
      "cell_type": "code",
      "source": [
        "plt.figure(figsize=(10,10))\n",
        "sns.heatmap(data = train_corr.corr(), annot=True, fmt = '.2f', linewidths=.5)"
      ],
      "metadata": {
        "colab": {
          "base_uri": "https://localhost:8080/",
          "height": 697
        },
        "id": "uR6609qRV_sr",
        "outputId": "cb62a2ae-e91c-4e97-b366-1f1161896c76"
      },
      "execution_count": null,
      "outputs": [
        {
          "output_type": "execute_result",
          "data": {
            "text/plain": [
              "<matplotlib.axes._subplots.AxesSubplot at 0x7f8510b7ca90>"
            ]
          },
          "metadata": {},
          "execution_count": 9
        },
        {
          "output_type": "display_data",
          "data": {
            "text/plain": [
              "<Figure size 720x720 with 2 Axes>"
            ],
            "image/png": "[encoded data removed]"
          },
          "metadata": {
            "needs_background": "light"
          }
        }
      ]
    },
    {
      "cell_type": "markdown",
      "source": [
        "# 데이터 전처리"
      ],
      "metadata": {
        "id": "KIhFezbIhERc"
      }
    },
    {
      "cell_type": "code",
      "source": [
        "#Library\n",
        "from sklearn.preprocessing import LabelEncoder, StandardScaler\n",
        "from sklearn.model_selection import train_test_split, GridSearchCV\n",
        "from sklearn.linear_model import LogisticRegression, Ridge\n",
        "from sklearn.metrics import plot_roc_curve,accuracy_score, confusion_matrix, plot_confusion_matrix"
      ],
      "metadata": {
        "id": "mMLfz5AphaYO"
      },
      "execution_count": null,
      "outputs": []
    },
    {
      "cell_type": "markdown",
      "source": [
        "## 라벨인코딩"
      ],
      "metadata": {
        "id": "lTJRsqgch8lr"
      }
    },
    {
      "cell_type": "code",
      "source": [
        "from sklearn.preprocessing import LabelEncoder\n",
        "\n",
        "encoder = LabelEncoder()\n",
        "encoder.fit(train['type'])\n",
        "train['type'] = encoder.transform(train['type'])\n",
        "test['type'] = encoder.transform(test['type'])"
      ],
      "metadata": {
        "id": "9u_CcAkaXMn_"
      },
      "execution_count": null,
      "outputs": []
    },
    {
      "cell_type": "markdown",
      "source": [
        "## 스케일 조정"
      ],
      "metadata": {
        "id": "y9qqb50Jh8Bh"
      }
    },
    {
      "cell_type": "code",
      "source": [
        "X = train.drop(['quality'],axis=1)\n",
        "y = train['quality']"
      ],
      "metadata": {
        "id": "m_HBxzzKhRkM"
      },
      "execution_count": null,
      "outputs": []
    },
    {
      "cell_type": "code",
      "source": [
        "#Standardscaler\n",
        "scaler= StandardScaler()\n",
        "scaler.fit(X)\n",
        "X_scaled = scaler.transform(X)\n",
        "X_df= pd.DataFrame(data=X_scaled, columns=X.columns)"
      ],
      "metadata": {
        "id": "wujUqfJih65n"
      },
      "execution_count": null,
      "outputs": []
    },
    {
      "cell_type": "markdown",
      "source": [
        "## train, val 데이터 split"
      ],
      "metadata": {
        "id": "xKGTpqyOiXcL"
      }
    },
    {
      "cell_type": "code",
      "source": [
        "train_x, val_x, train_y, val_y = train_test_split(X_df,y,test_size=.2, random_state=42)"
      ],
      "metadata": {
        "id": "pwGM9LYrhYOx"
      },
      "execution_count": null,
      "outputs": []
    },
    {
      "cell_type": "code",
      "source": [
        "print(np.shape(train_x))\n",
        "print(np.shape(train_y))"
      ],
      "metadata": {
        "colab": {
          "base_uri": "https://localhost:8080/"
        },
        "id": "_A9NG9FOIJUl",
        "outputId": "3a6dd38a-fcc0-42af-919a-d8d48134797d"
      },
      "execution_count": null,
      "outputs": [
        {
          "output_type": "stream",
          "name": "stdout",
          "text": [
            "(4397, 13)\n",
            "(4397,)\n"
          ]
        }
      ]
    },
    {
      "cell_type": "code",
      "source": [
        "print(train_y[:10])"
      ],
      "metadata": {
        "colab": {
          "base_uri": "https://localhost:8080/"
        },
        "id": "_44QkvRGJQ5z",
        "outputId": "4215b3f6-437a-4db4-c179-a87d31ea7adc"
      },
      "execution_count": null,
      "outputs": [
        {
          "output_type": "stream",
          "name": "stdout",
          "text": [
            "2845    6\n",
            "957     6\n",
            "2569    6\n",
            "4449    7\n",
            "5449    6\n",
            "1379    5\n",
            "5360    5\n",
            "4043    7\n",
            "2589    6\n",
            "1514    6\n",
            "Name: quality, dtype: int64\n"
          ]
        }
      ]
    },
    {
      "cell_type": "markdown",
      "source": [
        "# 모델링"
      ],
      "metadata": {
        "id": "_W3KJ1cNhq-u"
      }
    },
    {
      "cell_type": "code",
      "source": [
        "# 모델링 관련 라이브러리\n",
        "from sklearn.model_selection import GridSearchCV\n",
        "from sklearn.metrics import mean_squared_error, mean_absolute_error, roc_auc_score\n",
        "import xgboost as xgb"
      ],
      "metadata": {
        "id": "i2FXyxZ56aAl"
      },
      "execution_count": null,
      "outputs": []
    },
    {
      "cell_type": "code",
      "source": [
        "def Model(model):\n",
        "    model.fit(train_x,train_y)\n",
        "    score = model.score(val_x,val_y)\n",
        "    model_train_score= model.score(train_x,train_y)\n",
        "    model_test_score=model.score(val_x,val_y)\n",
        "    prediction = model.predict(val_x)\n",
        "    cm = confusion_matrix(val_y, prediction)\n",
        "    print(\"Testing Score\\n\", score)\n",
        "    plot_confusion_matrix(model,val_x,val_y,cmap='OrRd')"
      ],
      "metadata": {
        "id": "LCDLkR1Fv-eW"
      },
      "execution_count": null,
      "outputs": []
    },
    {
      "cell_type": "code",
      "source": [
        "xgb_clf = xgb.XGBClassifier(n_estimators=500, random_state=42)\n",
        "\n",
        "print(len(train_x), len(val_x))\n",
        "xgb_clf.fit(train_x, train_y)\n",
        "Model(xgb_clf)"
      ],
      "metadata": {
        "colab": {
          "base_uri": "https://localhost:8080/",
          "height": 334
        },
        "id": "_2b45jMV6asy",
        "outputId": "c6fde010-e941-4dc9-d978-52ce7bf46107"
      },
      "execution_count": null,
      "outputs": [
        {
          "output_type": "stream",
          "name": "stdout",
          "text": [
            "4397 1100\n",
            "Testing Score\n",
            " 0.5854545454545454\n"
          ]
        },
        {
          "output_type": "display_data",
          "data": {
            "text/plain": [
              "<Figure size 432x288 with 2 Axes>"
            ],
            "image/png": "[encoded data removed]"
          },
          "metadata": {
            "needs_background": "light"
          }
        }
      ]
    },
    {
      "cell_type": "markdown",
      "source": [
        "precision score: 0.585\n",
        "\n",
        "--> 정확도가 안 좋아서 데이터 전처리가 더 필요할 거 같음 "
      ],
      "metadata": {
        "id": "7YJeB8I9KADU"
      }
    },
    {
      "cell_type": "code",
      "source": [
        "xgb.plot_importance(xgb_clf)"
      ],
      "metadata": {
        "colab": {
          "base_uri": "https://localhost:8080/",
          "height": 313
        },
        "id": "qHncEDAty8xF",
        "outputId": "c9d4f5b6-740c-4cf2-d703-077ef4837aee"
      },
      "execution_count": null,
      "outputs": [
        {
          "output_type": "execute_result",
          "data": {
            "text/plain": [
              "<matplotlib.axes._subplots.AxesSubplot at 0x7f84eafa8ed0>"
            ]
          },
          "metadata": {},
          "execution_count": 18
        },
        {
          "output_type": "display_data",
          "data": {
            "text/plain": [
              "<Figure size 432x288 with 1 Axes>"
            ],
            "image/png": "[encoded data removed]"
          },
          "metadata": {
            "needs_background": "light"
          }
        }
      ]
    },
    {
      "cell_type": "markdown",
      "source": [
        "feature importance를 보면 wine type은 등급 분류에 크게 작용하지 않음. "
      ],
      "metadata": {
        "id": "mEW8ZKGzG_Ol"
      }
    },
    {
      "cell_type": "markdown",
      "source": [
        "## 하이퍼 파라미터 튜닝"
      ],
      "metadata": {
        "id": "VvAy1_H1GdR-"
      }
    },
    {
      "cell_type": "code",
      "source": [
        "params = {'max_depth':[5,7], 'min_child_weight':[1,3], 'colsample_bytree':[0.5, 0.75]}\n",
        "gridcv = GridSearchCV(xgb_clf, param_grid=params, cv=3)\n",
        "gridcv.fit(train_x, train_y, early_stopping_rounds=30, eval_metric=\"auc\",eval_set=[(train_x, train_y), (val_x, val_y)])\n",
        "\n",
        "print(gridcv.best_params_)"
      ],
      "metadata": {
        "id": "o1sl1drW8KuM",
        "colab": {
          "base_uri": "https://localhost:8080/",
          "height": 616
        },
        "outputId": "afa0e6e7-e515-440b-b48d-80986c3beaa7"
      },
      "execution_count": null,
      "outputs": [
        {
          "output_type": "error",
          "ename": "XGBoostError",
          "evalue": "ignored",
          "traceback": [
            "\u001b[0;31m---------------------------------------------------------------------------\u001b[0m",
            "\u001b[0;31mXGBoostError\u001b[0m                              Traceback (most recent call last)",
            "\u001b[0;32m<ipython-input-23-79e8c0024915>\u001b[0m in \u001b[0;36m<module>\u001b[0;34m\u001b[0m\n\u001b[1;32m      1\u001b[0m \u001b[0mparams\u001b[0m \u001b[0;34m=\u001b[0m \u001b[0;34m{\u001b[0m\u001b[0;34m'max_depth'\u001b[0m\u001b[0;34m:\u001b[0m\u001b[0;34m[\u001b[0m\u001b[0;36m5\u001b[0m\u001b[0;34m,\u001b[0m\u001b[0;36m7\u001b[0m\u001b[0;34m]\u001b[0m\u001b[0;34m,\u001b[0m \u001b[0;34m'min_child_weight'\u001b[0m\u001b[0;34m:\u001b[0m\u001b[0;34m[\u001b[0m\u001b[0;36m1\u001b[0m\u001b[0;34m,\u001b[0m\u001b[0;36m3\u001b[0m\u001b[0;34m]\u001b[0m\u001b[0;34m,\u001b[0m \u001b[0;34m'colsample_bytree'\u001b[0m\u001b[0;34m:\u001b[0m\u001b[0;34m[\u001b[0m\u001b[0;36m0.5\u001b[0m\u001b[0;34m,\u001b[0m \u001b[0;36m0.75\u001b[0m\u001b[0;34m]\u001b[0m\u001b[0;34m}\u001b[0m\u001b[0;34m\u001b[0m\u001b[0;34m\u001b[0m\u001b[0m\n\u001b[1;32m      2\u001b[0m \u001b[0mgridcv\u001b[0m \u001b[0;34m=\u001b[0m \u001b[0mGridSearchCV\u001b[0m\u001b[0;34m(\u001b[0m\u001b[0mxgb_clf\u001b[0m\u001b[0;34m,\u001b[0m \u001b[0mparam_grid\u001b[0m\u001b[0;34m=\u001b[0m\u001b[0mparams\u001b[0m\u001b[0;34m,\u001b[0m \u001b[0mcv\u001b[0m\u001b[0;34m=\u001b[0m\u001b[0;36m3\u001b[0m\u001b[0;34m)\u001b[0m\u001b[0;34m\u001b[0m\u001b[0;34m\u001b[0m\u001b[0m\n\u001b[0;32m----> 3\u001b[0;31m \u001b[0mgridcv\u001b[0m\u001b[0;34m.\u001b[0m\u001b[0mfit\u001b[0m\u001b[0;34m(\u001b[0m\u001b[0mtrain_x\u001b[0m\u001b[0;34m,\u001b[0m \u001b[0mtrain_y\u001b[0m\u001b[0;34m,\u001b[0m \u001b[0mearly_stopping_rounds\u001b[0m\u001b[0;34m=\u001b[0m\u001b[0;36m30\u001b[0m\u001b[0;34m,\u001b[0m \u001b[0meval_metric\u001b[0m\u001b[0;34m=\u001b[0m\u001b[0;34m\"auc\"\u001b[0m\u001b[0;34m,\u001b[0m\u001b[0meval_set\u001b[0m\u001b[0;34m=\u001b[0m\u001b[0;34m[\u001b[0m\u001b[0;34m(\u001b[0m\u001b[0mtrain_x\u001b[0m\u001b[0;34m,\u001b[0m \u001b[0mtrain_y\u001b[0m\u001b[0;34m)\u001b[0m\u001b[0;34m,\u001b[0m \u001b[0;34m(\u001b[0m\u001b[0mval_x\u001b[0m\u001b[0;34m,\u001b[0m \u001b[0mval_y\u001b[0m\u001b[0;34m)\u001b[0m\u001b[0;34m]\u001b[0m\u001b[0;34m)\u001b[0m\u001b[0;34m\u001b[0m\u001b[0;34m\u001b[0m\u001b[0m\n\u001b[0m\u001b[1;32m      4\u001b[0m \u001b[0;34m\u001b[0m\u001b[0m\n\u001b[1;32m      5\u001b[0m \u001b[0mprint\u001b[0m\u001b[0;34m(\u001b[0m\u001b[0mgridcv\u001b[0m\u001b[0;34m.\u001b[0m\u001b[0mbest_params_\u001b[0m\u001b[0;34m)\u001b[0m\u001b[0;34m\u001b[0m\u001b[0;34m\u001b[0m\u001b[0m\n",
            "\u001b[0;32m/usr/local/lib/python3.7/dist-packages/sklearn/model_selection/_search.py\u001b[0m in \u001b[0;36mfit\u001b[0;34m(self, X, y, groups, **fit_params)\u001b[0m\n\u001b[1;32m    924\u001b[0m             \u001b[0mrefit_start_time\u001b[0m \u001b[0;34m=\u001b[0m \u001b[0mtime\u001b[0m\u001b[0;34m.\u001b[0m\u001b[0mtime\u001b[0m\u001b[0;34m(\u001b[0m\u001b[0;34m)\u001b[0m\u001b[0;34m\u001b[0m\u001b[0;34m\u001b[0m\u001b[0m\n\u001b[1;32m    925\u001b[0m             \u001b[0;32mif\u001b[0m \u001b[0my\u001b[0m \u001b[0;32mis\u001b[0m \u001b[0;32mnot\u001b[0m \u001b[0;32mNone\u001b[0m\u001b[0;34m:\u001b[0m\u001b[0;34m\u001b[0m\u001b[0;34m\u001b[0m\u001b[0m\n\u001b[0;32m--> 926\u001b[0;31m                 \u001b[0mself\u001b[0m\u001b[0;34m.\u001b[0m\u001b[0mbest_estimator_\u001b[0m\u001b[0;34m.\u001b[0m\u001b[0mfit\u001b[0m\u001b[0;34m(\u001b[0m\u001b[0mX\u001b[0m\u001b[0;34m,\u001b[0m \u001b[0my\u001b[0m\u001b[0;34m,\u001b[0m \u001b[0;34m**\u001b[0m\u001b[0mfit_params\u001b[0m\u001b[0;34m)\u001b[0m\u001b[0;34m\u001b[0m\u001b[0;34m\u001b[0m\u001b[0m\n\u001b[0m\u001b[1;32m    927\u001b[0m             \u001b[0;32melse\u001b[0m\u001b[0;34m:\u001b[0m\u001b[0;34m\u001b[0m\u001b[0;34m\u001b[0m\u001b[0m\n\u001b[1;32m    928\u001b[0m                 \u001b[0mself\u001b[0m\u001b[0;34m.\u001b[0m\u001b[0mbest_estimator_\u001b[0m\u001b[0;34m.\u001b[0m\u001b[0mfit\u001b[0m\u001b[0;34m(\u001b[0m\u001b[0mX\u001b[0m\u001b[0;34m,\u001b[0m \u001b[0;34m**\u001b[0m\u001b[0mfit_params\u001b[0m\u001b[0;34m)\u001b[0m\u001b[0;34m\u001b[0m\u001b[0;34m\u001b[0m\u001b[0m\n",
            "\u001b[0;32m/usr/local/lib/python3.7/dist-packages/xgboost/sklearn.py\u001b[0m in \u001b[0;36mfit\u001b[0;34m(self, X, y, sample_weight, eval_set, eval_metric, early_stopping_rounds, verbose, xgb_model, sample_weight_eval_set, callbacks)\u001b[0m\n\u001b[1;32m    730\u001b[0m                               \u001b[0mevals_result\u001b[0m\u001b[0;34m=\u001b[0m\u001b[0mevals_result\u001b[0m\u001b[0;34m,\u001b[0m \u001b[0mobj\u001b[0m\u001b[0;34m=\u001b[0m\u001b[0mobj\u001b[0m\u001b[0;34m,\u001b[0m \u001b[0mfeval\u001b[0m\u001b[0;34m=\u001b[0m\u001b[0mfeval\u001b[0m\u001b[0;34m,\u001b[0m\u001b[0;34m\u001b[0m\u001b[0;34m\u001b[0m\u001b[0m\n\u001b[1;32m    731\u001b[0m                               \u001b[0mverbose_eval\u001b[0m\u001b[0;34m=\u001b[0m\u001b[0mverbose\u001b[0m\u001b[0;34m,\u001b[0m \u001b[0mxgb_model\u001b[0m\u001b[0;34m=\u001b[0m\u001b[0mxgb_model\u001b[0m\u001b[0;34m,\u001b[0m\u001b[0;34m\u001b[0m\u001b[0;34m\u001b[0m\u001b[0m\n\u001b[0;32m--> 732\u001b[0;31m                               callbacks=callbacks)\n\u001b[0m\u001b[1;32m    733\u001b[0m \u001b[0;34m\u001b[0m\u001b[0m\n\u001b[1;32m    734\u001b[0m         \u001b[0mself\u001b[0m\u001b[0;34m.\u001b[0m\u001b[0mobjective\u001b[0m \u001b[0;34m=\u001b[0m \u001b[0mxgb_options\u001b[0m\u001b[0;34m[\u001b[0m\u001b[0;34m\"objective\"\u001b[0m\u001b[0;34m]\u001b[0m\u001b[0;34m\u001b[0m\u001b[0;34m\u001b[0m\u001b[0m\n",
            "\u001b[0;32m/usr/local/lib/python3.7/dist-packages/xgboost/training.py\u001b[0m in \u001b[0;36mtrain\u001b[0;34m(params, dtrain, num_boost_round, evals, obj, feval, maximize, early_stopping_rounds, evals_result, verbose_eval, xgb_model, callbacks, learning_rates)\u001b[0m\n\u001b[1;32m    214\u001b[0m                            \u001b[0mevals\u001b[0m\u001b[0;34m=\u001b[0m\u001b[0mevals\u001b[0m\u001b[0;34m,\u001b[0m\u001b[0;34m\u001b[0m\u001b[0;34m\u001b[0m\u001b[0m\n\u001b[1;32m    215\u001b[0m                            \u001b[0mobj\u001b[0m\u001b[0;34m=\u001b[0m\u001b[0mobj\u001b[0m\u001b[0;34m,\u001b[0m \u001b[0mfeval\u001b[0m\u001b[0;34m=\u001b[0m\u001b[0mfeval\u001b[0m\u001b[0;34m,\u001b[0m\u001b[0;34m\u001b[0m\u001b[0;34m\u001b[0m\u001b[0m\n\u001b[0;32m--> 216\u001b[0;31m                            xgb_model=xgb_model, callbacks=callbacks)\n\u001b[0m\u001b[1;32m    217\u001b[0m \u001b[0;34m\u001b[0m\u001b[0m\n\u001b[1;32m    218\u001b[0m \u001b[0;34m\u001b[0m\u001b[0m\n",
            "\u001b[0;32m/usr/local/lib/python3.7/dist-packages/xgboost/training.py\u001b[0m in \u001b[0;36m_train_internal\u001b[0;34m(params, dtrain, num_boost_round, evals, obj, feval, xgb_model, callbacks)\u001b[0m\n\u001b[1;32m     82\u001b[0m         \u001b[0;31m# check evaluation result.\u001b[0m\u001b[0;34m\u001b[0m\u001b[0;34m\u001b[0m\u001b[0;34m\u001b[0m\u001b[0m\n\u001b[1;32m     83\u001b[0m         \u001b[0;32mif\u001b[0m \u001b[0mevals\u001b[0m\u001b[0;34m:\u001b[0m\u001b[0;34m\u001b[0m\u001b[0;34m\u001b[0m\u001b[0m\n\u001b[0;32m---> 84\u001b[0;31m             \u001b[0mbst_eval_set\u001b[0m \u001b[0;34m=\u001b[0m \u001b[0mbst\u001b[0m\u001b[0;34m.\u001b[0m\u001b[0meval_set\u001b[0m\u001b[0;34m(\u001b[0m\u001b[0mevals\u001b[0m\u001b[0;34m,\u001b[0m \u001b[0mi\u001b[0m\u001b[0;34m,\u001b[0m \u001b[0mfeval\u001b[0m\u001b[0;34m)\u001b[0m\u001b[0;34m\u001b[0m\u001b[0;34m\u001b[0m\u001b[0m\n\u001b[0m\u001b[1;32m     85\u001b[0m             \u001b[0;32mif\u001b[0m \u001b[0misinstance\u001b[0m\u001b[0;34m(\u001b[0m\u001b[0mbst_eval_set\u001b[0m\u001b[0;34m,\u001b[0m \u001b[0mSTRING_TYPES\u001b[0m\u001b[0;34m)\u001b[0m\u001b[0;34m:\u001b[0m\u001b[0;34m\u001b[0m\u001b[0;34m\u001b[0m\u001b[0m\n\u001b[1;32m     86\u001b[0m                 \u001b[0mmsg\u001b[0m \u001b[0;34m=\u001b[0m \u001b[0mbst_eval_set\u001b[0m\u001b[0;34m\u001b[0m\u001b[0;34m\u001b[0m\u001b[0m\n",
            "\u001b[0;32m/usr/local/lib/python3.7/dist-packages/xgboost/core.py\u001b[0m in \u001b[0;36meval_set\u001b[0;34m(self, evals, iteration, feval)\u001b[0m\n\u001b[1;32m   1170\u001b[0m                                               \u001b[0mdmats\u001b[0m\u001b[0;34m,\u001b[0m \u001b[0mevnames\u001b[0m\u001b[0;34m,\u001b[0m\u001b[0;34m\u001b[0m\u001b[0;34m\u001b[0m\u001b[0m\n\u001b[1;32m   1171\u001b[0m                                               \u001b[0mc_bst_ulong\u001b[0m\u001b[0;34m(\u001b[0m\u001b[0mlen\u001b[0m\u001b[0;34m(\u001b[0m\u001b[0mevals\u001b[0m\u001b[0;34m)\u001b[0m\u001b[0;34m)\u001b[0m\u001b[0;34m,\u001b[0m\u001b[0;34m\u001b[0m\u001b[0;34m\u001b[0m\u001b[0m\n\u001b[0;32m-> 1172\u001b[0;31m                                               ctypes.byref(msg)))\n\u001b[0m\u001b[1;32m   1173\u001b[0m         \u001b[0mres\u001b[0m \u001b[0;34m=\u001b[0m \u001b[0mmsg\u001b[0m\u001b[0;34m.\u001b[0m\u001b[0mvalue\u001b[0m\u001b[0;34m.\u001b[0m\u001b[0mdecode\u001b[0m\u001b[0;34m(\u001b[0m\u001b[0;34m)\u001b[0m\u001b[0;34m\u001b[0m\u001b[0;34m\u001b[0m\u001b[0m\n\u001b[1;32m   1174\u001b[0m         \u001b[0;32mif\u001b[0m \u001b[0mfeval\u001b[0m \u001b[0;32mis\u001b[0m \u001b[0;32mnot\u001b[0m \u001b[0;32mNone\u001b[0m\u001b[0;34m:\u001b[0m\u001b[0;34m\u001b[0m\u001b[0;34m\u001b[0m\u001b[0m\n",
            "\u001b[0;32m/usr/local/lib/python3.7/dist-packages/xgboost/core.py\u001b[0m in \u001b[0;36m_check_call\u001b[0;34m(ret)\u001b[0m\n\u001b[1;32m    174\u001b[0m     \"\"\"\n\u001b[1;32m    175\u001b[0m     \u001b[0;32mif\u001b[0m \u001b[0mret\u001b[0m \u001b[0;34m!=\u001b[0m \u001b[0;36m0\u001b[0m\u001b[0;34m:\u001b[0m\u001b[0;34m\u001b[0m\u001b[0;34m\u001b[0m\u001b[0m\n\u001b[0;32m--> 176\u001b[0;31m         \u001b[0;32mraise\u001b[0m \u001b[0mXGBoostError\u001b[0m\u001b[0;34m(\u001b[0m\u001b[0mpy_str\u001b[0m\u001b[0;34m(\u001b[0m\u001b[0m_LIB\u001b[0m\u001b[0;34m.\u001b[0m\u001b[0mXGBGetLastError\u001b[0m\u001b[0;34m(\u001b[0m\u001b[0;34m)\u001b[0m\u001b[0;34m)\u001b[0m\u001b[0;34m)\u001b[0m\u001b[0;34m\u001b[0m\u001b[0;34m\u001b[0m\u001b[0m\n\u001b[0m\u001b[1;32m    177\u001b[0m \u001b[0;34m\u001b[0m\u001b[0m\n\u001b[1;32m    178\u001b[0m \u001b[0;34m\u001b[0m\u001b[0m\n",
            "\u001b[0;31mXGBoostError\u001b[0m: [07:22:39] /workspace/src/metric/rank_metric.cc:150: Check failed: preds.Size() == info.labels_.Size() (30779 vs. 4397) : label size predict size not match\nStack trace:\n  [bt] (0) /usr/local/lib/python3.7/dist-packages/xgboost/./lib/libxgboost.so(dmlc::LogMessageFatal::~LogMessageFatal()+0x24) [0x7f84eb44ccb4]\n  [bt] (1) /usr/local/lib/python3.7/dist-packages/xgboost/./lib/libxgboost.so(+0x1be51d) [0x7f84eb50a51d]\n  [bt] (2) /usr/local/lib/python3.7/dist-packages/xgboost/./lib/libxgboost.so(xgboost::LearnerImpl::EvalOneIter(int, std::vector<xgboost::DMatrix*, std::allocator<xgboost::DMatrix*> > const&, std::vector<std::string, std::allocator<std::string> > const&)+0x3c9) [0x7f84eb4e6d99]\n  [bt] (3) /usr/local/lib/python3.7/dist-packages/xgboost/./lib/libxgboost.so(XGBoosterEvalOneIter+0x371) [0x7f84eb449651]\n  [bt] (4) /usr/lib/x86_64-linux-gnu/libffi.so.6(ffi_call_unix64+0x4c) [0x7f85206a7dae]\n  [bt] (5) /usr/lib/x86_64-linux-gnu/libffi.so.6(ffi_call+0x22f) [0x7f85206a771f]\n  [bt] (6) /usr/lib/python3.7/lib-dynload/_ctypes.cpython-37m-x86_64-linux-gnu.so(+0xd849) [0x7f85208b7849]\n  [bt] (7) /usr/lib/python3.7/lib-dynload/_ctypes.cpython-37m-x86_64-linux-gnu.so(+0xdeaf) [0x7f85208b7eaf]\n  [bt] (8) /usr/bin/python3(_PyObject_FastCallKeywords+0x575) [0x590055]\n\n"
          ]
        }
      ]
    },
    {
      "cell_type": "code",
      "source": [],
      "metadata": {
        "id": "9OBdnA8jyl9t"
      },
      "execution_count": null,
      "outputs": []
    }
  ]
}