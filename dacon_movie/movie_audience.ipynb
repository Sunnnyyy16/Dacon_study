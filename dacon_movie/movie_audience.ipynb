{
  "nbformat": 4,
  "nbformat_minor": 0,
  "metadata": {
    "colab": {
      "provenance": [],
      "authorship_tag": "ABX9TyMmFKmrcGCN0VrI1NUCN7n3",
      "include_colab_link": true
    },
    "kernelspec": {
      "name": "python3",
      "display_name": "Python 3"
    },
    "language_info": {
      "name": "python"
    }
  },
  "cells": [
    {
      "cell_type": "markdown",
      "metadata": {
        "id": "view-in-github",
        "colab_type": "text"
      },
      "source": [
        "<a href=\"https://colab.research.google.com/github/Sunnnyyy16/Dacon_study/blob/main/dacon_movie/movie_audience.ipynb\" target=\"_parent\"><img src=\"https://colab.research.google.com/assets/colab-badge.svg\" alt=\"Open In Colab\"/></a>"
      ]
    },
    {
      "cell_type": "markdown",
      "source": [
        "# DACON 영화 관객수 예측 경진대회\n",
        "\n",
        "사이트: https://dacon.io/competitions/open/235536/overview/description\n",
        "\n",
        "# 목차\n",
        "0. 데이터 로드\n",
        "1. 데이터 EDA\n",
        "2. 데이터 전처리\n",
        "3. 모델 생성 및 학습\n",
        "4. 결론\n",
        "\n",
        "* 참고"
      ],
      "metadata": {
        "id": "o3vx8NonU1kp"
      }
    },
    {
      "cell_type": "markdown",
      "source": [
        "# 0.데이터로드"
      ],
      "metadata": {
        "id": "4m0iB_zYVmzq"
      }
    },
    {
      "cell_type": "code",
      "execution_count": null,
      "metadata": {
        "colab": {
          "base_uri": "https://localhost:8080/"
        },
        "id": "OCRfXeaBU0RI",
        "outputId": "a8c0727e-b17f-4ff9-8555-85dcd8299e00"
      },
      "outputs": [
        {
          "output_type": "stream",
          "name": "stdout",
          "text": [
            "Mounted at /gdrive\n"
          ]
        }
      ],
      "source": [
        "from google.colab import drive\n",
        "drive.mount('/gdrive')"
      ]
    },
    {
      "cell_type": "code",
      "source": [
        "import pandas as pd\n",
        "import numpy as np\n",
        "\n",
        "%matplotlib inline\n",
        "import matplotlib.pyplot as plt\n",
        "import seaborn as sns\n",
        "\n",
        "# 경고 메시지 숨기기\n",
        "import warnings\n",
        "warnings.filterwarnings(action='ignore')"
      ],
      "metadata": {
        "id": "wwSjiVpDVuRV"
      },
      "execution_count": null,
      "outputs": []
    },
    {
      "cell_type": "code",
      "source": [
        "!cp /gdrive/MyDrive/Dacon_study/movie/movies_test.csv ./\n",
        "!cp /gdrive/MyDrive/Dacon_study/movie/movies_train.csv ./\n",
        "!cp /gdrive/MyDrive/Dacon_study/movie/submission.csv ./"
      ],
      "metadata": {
        "id": "LOCw3prtXNCD"
      },
      "execution_count": null,
      "outputs": []
    },
    {
      "cell_type": "code",
      "source": [
        "train = pd.read_csv('movies_train.csv')\n",
        "test = pd.read_csv('movies_test.csv')"
      ],
      "metadata": {
        "id": "t1Rjz8LNY59s"
      },
      "execution_count": null,
      "outputs": []
    },
    {
      "cell_type": "code",
      "source": [
        "train.info()"
      ],
      "metadata": {
        "colab": {
          "base_uri": "https://localhost:8080/"
        },
        "id": "NdjYgiiRY-BY",
        "outputId": "c7a3364d-f240-4468-af23-393b7197dadb"
      },
      "execution_count": null,
      "outputs": [
        {
          "output_type": "stream",
          "name": "stdout",
          "text": [
            "<class 'pandas.core.frame.DataFrame'>\n",
            "RangeIndex: 600 entries, 0 to 599\n",
            "Data columns (total 12 columns):\n",
            " #   Column          Non-Null Count  Dtype  \n",
            "---  ------          --------------  -----  \n",
            " 0   title           600 non-null    object \n",
            " 1   distributor     600 non-null    object \n",
            " 2   genre           600 non-null    object \n",
            " 3   release_time    600 non-null    object \n",
            " 4   time            600 non-null    int64  \n",
            " 5   screening_rat   600 non-null    object \n",
            " 6   director        600 non-null    object \n",
            " 7   dir_prev_bfnum  270 non-null    float64\n",
            " 8   dir_prev_num    600 non-null    int64  \n",
            " 9   num_staff       600 non-null    int64  \n",
            " 10  num_actor       600 non-null    int64  \n",
            " 11  box_off_num     600 non-null    int64  \n",
            "dtypes: float64(1), int64(5), object(6)\n",
            "memory usage: 56.4+ KB\n"
          ]
        }
      ]
    },
    {
      "cell_type": "markdown",
      "source": [
        "* title: 영화 제목\n",
        "* distributor: 배급사\n",
        "* genre : 장르\n",
        "* release_time: 개봉일\n",
        "* time: 상영시간(분)\n",
        "* screening_rat : 상영등급\n",
        "* director: 감독이름\n",
        "* dir_prev_bfnum : 해당감독이 이 영화를 만들기 전 제작에 참여한 영화에서의 평균 관객수(단 관객수가 알려지지 않은 영화 제외)\n",
        "* dif_prev_num : 해당감독이 이 영화를 만들기 전 제작에 참여한 영화의 개수(단, 관객수가 알려지지 않은 영화 제외)\n",
        "* num_staff : 스텝수\n",
        "* num_actor: 주연배우수\n",
        "* box_off_num: 관객수"
      ],
      "metadata": {
        "id": "ZafXfJF0ZHx5"
      }
    },
    {
      "cell_type": "code",
      "source": [
        "train.head()"
      ],
      "metadata": {
        "colab": {
          "base_uri": "https://localhost:8080/",
          "height": 444
        },
        "id": "xHDv84nwZG4H",
        "outputId": "0f472fed-ba44-4b42-dc80-fec5e535efe7"
      },
      "execution_count": null,
      "outputs": [
        {
          "output_type": "execute_result",
          "data": {
            "text/plain": [
              "       title   distributor genre release_time  time screening_rat director  \\\n",
              "0     개들의 전쟁      롯데엔터테인먼트    액션   2012-11-22    96      청소년 관람불가      조병옥   \n",
              "1       내부자들        (주)쇼박스   느와르   2015-11-19   130      청소년 관람불가      우민호   \n",
              "2  은밀하게 위대하게        (주)쇼박스    액션   2013-06-05   123       15세 관람가      장철수   \n",
              "3   나는 공무원이다        (주)NEW   코미디   2012-07-12   101        전체 관람가      구자홍   \n",
              "4       불량남녀  쇼박스(주)미디어플렉스   코미디   2010-11-04   108       15세 관람가      신근호   \n",
              "\n",
              "   dir_prev_bfnum  dir_prev_num  num_staff  num_actor  box_off_num  \n",
              "0             NaN             0         91          2        23398  \n",
              "1      1161602.50             2        387          3      7072501  \n",
              "2       220775.25             4        343          4      6959083  \n",
              "3        23894.00             2         20          6       217866  \n",
              "4            1.00             1        251          2       483387  "
            ],
            "text/html": [
              "\n",
              "  <div id=\"df-abd9f41e-0028-4290-a02b-fccc51bc4cfa\">\n",
              "    <div class=\"colab-df-container\">\n",
              "      <div>\n",
              "<style scoped>\n",
              "    .dataframe tbody tr th:only-of-type {\n",
              "        vertical-align: middle;\n",
              "    }\n",
              "\n",
              "    .dataframe tbody tr th {\n",
              "        vertical-align: top;\n",
              "    }\n",
              "\n",
              "    .dataframe thead th {\n",
              "        text-align: right;\n",
              "    }\n",
              "</style>\n",
              "<table border=\"1\" class=\"dataframe\">\n",
              "  <thead>\n",
              "    <tr style=\"text-align: right;\">\n",
              "      <th></th>\n",
              "      <th>title</th>\n",
              "      <th>distributor</th>\n",
              "      <th>genre</th>\n",
              "      <th>release_time</th>\n",
              "      <th>time</th>\n",
              "      <th>screening_rat</th>\n",
              "      <th>director</th>\n",
              "      <th>dir_prev_bfnum</th>\n",
              "      <th>dir_prev_num</th>\n",
              "      <th>num_staff</th>\n",
              "      <th>num_actor</th>\n",
              "      <th>box_off_num</th>\n",
              "    </tr>\n",
              "  </thead>\n",
              "  <tbody>\n",
              "    <tr>\n",
              "      <th>0</th>\n",
              "      <td>개들의 전쟁</td>\n",
              "      <td>롯데엔터테인먼트</td>\n",
              "      <td>액션</td>\n",
              "      <td>2012-11-22</td>\n",
              "      <td>96</td>\n",
              "      <td>청소년 관람불가</td>\n",
              "      <td>조병옥</td>\n",
              "      <td>NaN</td>\n",
              "      <td>0</td>\n",
              "      <td>91</td>\n",
              "      <td>2</td>\n",
              "      <td>23398</td>\n",
              "    </tr>\n",
              "    <tr>\n",
              "      <th>1</th>\n",
              "      <td>내부자들</td>\n",
              "      <td>(주)쇼박스</td>\n",
              "      <td>느와르</td>\n",
              "      <td>2015-11-19</td>\n",
              "      <td>130</td>\n",
              "      <td>청소년 관람불가</td>\n",
              "      <td>우민호</td>\n",
              "      <td>1161602.50</td>\n",
              "      <td>2</td>\n",
              "      <td>387</td>\n",
              "      <td>3</td>\n",
              "      <td>7072501</td>\n",
              "    </tr>\n",
              "    <tr>\n",
              "      <th>2</th>\n",
              "      <td>은밀하게 위대하게</td>\n",
              "      <td>(주)쇼박스</td>\n",
              "      <td>액션</td>\n",
              "      <td>2013-06-05</td>\n",
              "      <td>123</td>\n",
              "      <td>15세 관람가</td>\n",
              "      <td>장철수</td>\n",
              "      <td>220775.25</td>\n",
              "      <td>4</td>\n",
              "      <td>343</td>\n",
              "      <td>4</td>\n",
              "      <td>6959083</td>\n",
              "    </tr>\n",
              "    <tr>\n",
              "      <th>3</th>\n",
              "      <td>나는 공무원이다</td>\n",
              "      <td>(주)NEW</td>\n",
              "      <td>코미디</td>\n",
              "      <td>2012-07-12</td>\n",
              "      <td>101</td>\n",
              "      <td>전체 관람가</td>\n",
              "      <td>구자홍</td>\n",
              "      <td>23894.00</td>\n",
              "      <td>2</td>\n",
              "      <td>20</td>\n",
              "      <td>6</td>\n",
              "      <td>217866</td>\n",
              "    </tr>\n",
              "    <tr>\n",
              "      <th>4</th>\n",
              "      <td>불량남녀</td>\n",
              "      <td>쇼박스(주)미디어플렉스</td>\n",
              "      <td>코미디</td>\n",
              "      <td>2010-11-04</td>\n",
              "      <td>108</td>\n",
              "      <td>15세 관람가</td>\n",
              "      <td>신근호</td>\n",
              "      <td>1.00</td>\n",
              "      <td>1</td>\n",
              "      <td>251</td>\n",
              "      <td>2</td>\n",
              "      <td>483387</td>\n",
              "    </tr>\n",
              "  </tbody>\n",
              "</table>\n",
              "</div>\n",
              "      <button class=\"colab-df-convert\" onclick=\"convertToInteractive('df-abd9f41e-0028-4290-a02b-fccc51bc4cfa')\"\n",
              "              title=\"Convert this dataframe to an interactive table.\"\n",
              "              style=\"display:none;\">\n",
              "        \n",
              "  <svg xmlns=\"http://www.w3.org/2000/svg\" height=\"24px\"viewBox=\"0 0 24 24\"\n",
              "       width=\"24px\">\n",
              "    <path d=\"M0 0h24v24H0V0z\" fill=\"none\"/>\n",
              "    <path d=\"M18.56 5.44l.94 2.06.94-2.06 2.06-.94-2.06-.94-.94-2.06-.94 2.06-2.06.94zm-11 1L8.5 8.5l.94-2.06 2.06-.94-2.06-.94L8.5 2.5l-.94 2.06-2.06.94zm10 10l.94 2.06.94-2.06 2.06-.94-2.06-.94-.94-2.06-.94 2.06-2.06.94z\"/><path d=\"M17.41 7.96l-1.37-1.37c-.4-.4-.92-.59-1.43-.59-.52 0-1.04.2-1.43.59L10.3 9.45l-7.72 7.72c-.78.78-.78 2.05 0 2.83L4 21.41c.39.39.9.59 1.41.59.51 0 1.02-.2 1.41-.59l7.78-7.78 2.81-2.81c.8-.78.8-2.07 0-2.86zM5.41 20L4 18.59l7.72-7.72 1.47 1.35L5.41 20z\"/>\n",
              "  </svg>\n",
              "      </button>\n",
              "      \n",
              "  <style>\n",
              "    .colab-df-container {\n",
              "      display:flex;\n",
              "      flex-wrap:wrap;\n",
              "      gap: 12px;\n",
              "    }\n",
              "\n",
              "    .colab-df-convert {\n",
              "      background-color: #E8F0FE;\n",
              "      border: none;\n",
              "      border-radius: 50%;\n",
              "      cursor: pointer;\n",
              "      display: none;\n",
              "      fill: #1967D2;\n",
              "      height: 32px;\n",
              "      padding: 0 0 0 0;\n",
              "      width: 32px;\n",
              "    }\n",
              "\n",
              "    .colab-df-convert:hover {\n",
              "      background-color: #E2EBFA;\n",
              "      box-shadow: 0px 1px 2px rgba(60, 64, 67, 0.3), 0px 1px 3px 1px rgba(60, 64, 67, 0.15);\n",
              "      fill: #174EA6;\n",
              "    }\n",
              "\n",
              "    [theme=dark] .colab-df-convert {\n",
              "      background-color: #3B4455;\n",
              "      fill: #D2E3FC;\n",
              "    }\n",
              "\n",
              "    [theme=dark] .colab-df-convert:hover {\n",
              "      background-color: #434B5C;\n",
              "      box-shadow: 0px 1px 3px 1px rgba(0, 0, 0, 0.15);\n",
              "      filter: drop-shadow(0px 1px 2px rgba(0, 0, 0, 0.3));\n",
              "      fill: #FFFFFF;\n",
              "    }\n",
              "  </style>\n",
              "\n",
              "      <script>\n",
              "        const buttonEl =\n",
              "          document.querySelector('#df-abd9f41e-0028-4290-a02b-fccc51bc4cfa button.colab-df-convert');\n",
              "        buttonEl.style.display =\n",
              "          google.colab.kernel.accessAllowed ? 'block' : 'none';\n",
              "\n",
              "        async function convertToInteractive(key) {\n",
              "          const element = document.querySelector('#df-abd9f41e-0028-4290-a02b-fccc51bc4cfa');\n",
              "          const dataTable =\n",
              "            await google.colab.kernel.invokeFunction('convertToInteractive',\n",
              "                                                     [key], {});\n",
              "          if (!dataTable) return;\n",
              "\n",
              "          const docLinkHtml = 'Like what you see? Visit the ' +\n",
              "            '<a target=\"_blank\" href=https://colab.research.google.com/notebooks/data_table.ipynb>data table notebook</a>'\n",
              "            + ' to learn more about interactive tables.';\n",
              "          element.innerHTML = '';\n",
              "          dataTable['output_type'] = 'display_data';\n",
              "          await google.colab.output.renderOutput(dataTable, element);\n",
              "          const docLink = document.createElement('div');\n",
              "          docLink.innerHTML = docLinkHtml;\n",
              "          element.appendChild(docLink);\n",
              "        }\n",
              "      </script>\n",
              "    </div>\n",
              "  </div>\n",
              "  "
            ]
          },
          "metadata": {},
          "execution_count": 8
        }
      ]
    },
    {
      "cell_type": "code",
      "source": [
        "print(train.shape)\n",
        "print(test.shape)"
      ],
      "metadata": {
        "colab": {
          "base_uri": "https://localhost:8080/"
        },
        "id": "UxbJ3e6XZ7SS",
        "outputId": "6121005f-ca69-43aa-f1b3-291ac2107d70"
      },
      "execution_count": null,
      "outputs": [
        {
          "output_type": "stream",
          "name": "stdout",
          "text": [
            "(600, 12)\n",
            "(243, 11)\n"
          ]
        }
      ]
    },
    {
      "cell_type": "code",
      "source": [
        "train.isnull().sum()"
      ],
      "metadata": {
        "colab": {
          "base_uri": "https://localhost:8080/"
        },
        "id": "xwZch7-dZ1VR",
        "outputId": "8e619778-94a9-419a-cb9b-24918706c78f"
      },
      "execution_count": null,
      "outputs": [
        {
          "output_type": "execute_result",
          "data": {
            "text/plain": [
              "title               0\n",
              "distributor         0\n",
              "genre               0\n",
              "release_time        0\n",
              "time                0\n",
              "screening_rat       0\n",
              "director            0\n",
              "dir_prev_bfnum    330\n",
              "dir_prev_num        0\n",
              "num_staff           0\n",
              "num_actor           0\n",
              "box_off_num         0\n",
              "dtype: int64"
            ]
          },
          "metadata": {},
          "execution_count": 9
        }
      ]
    },
    {
      "cell_type": "code",
      "source": [
        "test.isnull().sum()"
      ],
      "metadata": {
        "colab": {
          "base_uri": "https://localhost:8080/"
        },
        "id": "VQk0lRowZ5DO",
        "outputId": "038077f5-3389-4a15-c9d0-e7c2f4d52b2a"
      },
      "execution_count": null,
      "outputs": [
        {
          "output_type": "execute_result",
          "data": {
            "text/plain": [
              "title               0\n",
              "distributor         0\n",
              "genre               0\n",
              "release_time        0\n",
              "time                0\n",
              "screening_rat       0\n",
              "director            0\n",
              "dir_prev_bfnum    136\n",
              "dir_prev_num        0\n",
              "num_staff           0\n",
              "num_actor           0\n",
              "dtype: int64"
            ]
          },
          "metadata": {},
          "execution_count": 12
        }
      ]
    },
    {
      "cell_type": "markdown",
      "source": [
        "dir_prev_bfnum의 null값이 데이터의 절반이상 차지"
      ],
      "metadata": {
        "id": "jQrzNhP4abpK"
      }
    },
    {
      "cell_type": "markdown",
      "source": [
        "# 1.데이터 EDA"
      ],
      "metadata": {
        "id": "D8S72rSdayUX"
      }
    },
    {
      "cell_type": "markdown",
      "source": [
        "# 2.데이터 전처리"
      ],
      "metadata": {
        "id": "GK4OVBX2IBlY"
      }
    },
    {
      "cell_type": "markdown",
      "source": [
        "# 3.모델 생성 및 학습"
      ],
      "metadata": {
        "id": "3M_0CbGYIDvQ"
      }
    },
    {
      "cell_type": "markdown",
      "source": [
        "# 4.결론"
      ],
      "metadata": {
        "id": "ATjOMOrSIG5Y"
      }
    },
    {
      "cell_type": "code",
      "source": [],
      "metadata": {
        "id": "ksYbOlIHaA7u"
      },
      "execution_count": null,
      "outputs": []
    }
  ]
}